{
 "cells": [
  {
   "cell_type": "code",
   "execution_count": 1,
   "id": "9bb59be3-4104-4432-b7b2-79eeac1ea318",
   "metadata": {},
   "outputs": [
    {
     "name": "stderr",
     "output_type": "stream",
     "text": [
      "/home/ben.patterson/.conda/envs/igwn_eccentric/lib/python3.10/site-packages/pycbc/types/array.py:36: UserWarning: Wswiglal-redir-stdio:\n",
      "\n",
      "SWIGLAL standard output/error redirection is enabled in IPython.\n",
      "This may lead to performance penalties. To disable locally, use:\n",
      "\n",
      "with lal.no_swig_redirect_standard_output_error():\n",
      "    ...\n",
      "\n",
      "To disable globally, use:\n",
      "\n",
      "lal.swig_redirect_standard_output_error(False)\n",
      "\n",
      "Note however that this will likely lead to error messages from\n",
      "LAL functions being either misdirected or lost when called from\n",
      "Jupyter notebooks.\n",
      "\n",
      "To suppress this warning, use:\n",
      "\n",
      "import warnings\n",
      "warnings.filterwarnings(\"ignore\", \"Wswiglal-redir-stdio\")\n",
      "import lal\n",
      "\n",
      "  import lal as _lal\n"
     ]
    },
    {
     "name": "stdout",
     "output_type": "stream",
     "text": [
      "lal.MSUN_SI != Msun\n",
      "__name__ = gwsurrogate.new.spline_evaluation\n",
      "__package__= gwsurrogate.new\n"
     ]
    }
   ],
   "source": [
    "import os\n",
    "import pickle\n",
    "import numpy as np\n",
    "import matplotlib.pyplot as plt\n",
    "from interpolating_match import *\n",
    "from calcwf import *"
   ]
  },
  {
   "cell_type": "markdown",
   "id": "0b4a622b-0d3a-4210-a91c-8038e9526852",
   "metadata": {},
   "source": [
    "Taking a uniform distribution in SNR (ratio) and mapping to samples of eccentricity we find the following distribution:"
   ]
  },
  {
   "cell_type": "code",
   "execution_count": 2,
   "id": "e8c749a6-8e17-441e-8d20-3f8283e82eb6",
   "metadata": {},
   "outputs": [],
   "source": [
    "# Load grid data\n",
    "with open(os.path.join('grid_data', 'dataslot_48', 'all_matches'), 'rb') as fp:\n",
    "        grid_data = pickle.load(fp)\n",
    "    \n",
    "# Find min and max\n",
    "for chirp in grid_data.keys():\n",
    "    for key in list(grid_data[chirp].keys()):\n",
    "        if key not in ['fid_params', 'e_vals', 'ovlps', 'ovlps_perp'] and 'phase' not in key:\n",
    "            grid_data[chirp][f'{key}_max'] = np.nanmax(np.array(grid_data[chirp][key]), axis=1)\n",
    "            grid_data[chirp][f'{key}_min'] = np.nanmin(np.array(grid_data[chirp][key]), axis=1)\n",
    "\n",
    "# Compute interpolation objects\n",
    "interp_dict = {}\n",
    "for key in ['h1_h0', 'h1_h-1_h0', 'h1_h-1_h2_h0', 'h1_h-1_h0_pc']:\n",
    "    interp_dict[key] = create_min_max_interp(grid_data, list(grid_data.keys())[1], key)"
   ]
  },
  {
   "cell_type": "code",
   "execution_count": 3,
   "id": "c352e359-76e3-4a1b-a46f-3f261fb03da7",
   "metadata": {},
   "outputs": [
    {
     "name": "stderr",
     "output_type": "stream",
     "text": [
      "/home/ben.patterson/projects/EccentricBinaries/notebooks/interpolating_match.py:280: ComplexWarning: Casting complex values to real discards the imaginary part\n",
      "  ecc_arr[0][ecc_arr[0]==5] = max_interp(matches[ecc_arr[0]==5])\n",
      "/home/ben.patterson/projects/EccentricBinaries/notebooks/interpolating_match.py:281: ComplexWarning: Casting complex values to real discards the imaginary part\n",
      "  ecc_arr[1][ecc_arr[1]==5] = min_interp(matches[ecc_arr[1]==5])\n"
     ]
    },
    {
     "data": {
      "text/plain": [
       "Text(0.5, 0, '$e_{10}$')"
      ]
     },
     "execution_count": 3,
     "metadata": {},
     "output_type": "execute_result"
    },
    {
     "data": {
      "image/png": "[encoded data removed]",
      "text/plain": [
       "<Figure size 640x480 with 1 Axes>"
      ]
     },
     "metadata": {},
     "output_type": "display_data"
    }
   ],
   "source": [
    "match_key = 'h1_h-1_h0_pc'\n",
    "interps = interp_dict[match_key]\n",
    "match_samples = np.linspace(0, 0.4, 10**6)\n",
    "ecc_samples = SNR2ecc(match_samples, list(grid_data.keys())[1], interps, max_ecc=0.4, scaling_norms=[10, 0.035], upper_lenience=0.05)\n",
    "plt.hist(ecc_samples, histtype='step', bins=50, density=True)\n",
    "plt.xlim(0, 0.4)\n",
    "plt.xlabel('$e_{10}$')"
   ]
  },
  {
   "cell_type": "markdown",
   "id": "39d54347-16ef-4c08-bcb8-0389c48433e2",
   "metadata": {},
   "source": [
    "In order to enforce a flat eccentricity prior we must find a prior on the SNR samples that gives a flat distribution above. We can do this by mapping a flat eccentricity distribution 'in reverse' back to an SNR distribution. This can then be combined with the SNR distribution found by rejection sampling the ncx2 distrbution to find the overall SNR distribution which we can map through to get the final eccentricity distribution. This will remove the bimodal features we often see and will therefore hopefully end up with a much smoother gaussian-like structure."
   ]
  },
  {
   "cell_type": "markdown",
   "id": "f3056365-8db2-4aaf-a019-516189384906",
   "metadata": {},
   "source": [
    "First step is to reverse the mapping such that we can map samples on eccentricity to samples on SNR. Forward mapping works by drawing ecc value uniformly between min and max lines, so this reverse mapping should reflect this as well.\n",
    "\n",
    "Will first go over all possible SNR values and find width of min/max lines at each point. Can then use inverse of these widths as weights for rejection sampling samples chosen uniformly between min and max lines at a given ecc value."
   ]
  },
  {
   "cell_type": "code",
   "execution_count": 151,
   "id": "125d8668-ca20-4b3e-acec-c5de5fe6a711",
   "metadata": {},
   "outputs": [],
   "source": [
    "def ecc2SNR(eccs, chirp, interps, max_ecc=0.4, scaling_norms=[10, 0.035]):\n",
    "\n",
    "    # Build 'inverse widths' for each SNR trial value\n",
    "    SNR_trials = np.linspace(0, 1, 10**4)\n",
    "    ecc_bounds = find_ecc_range_samples(SNR_trials, chirp, interps, max_ecc=max_ecc, scaling_norms=scaling_norms)\n",
    "    iwidth_arr = 1/(ecc_bounds[1]-ecc_bounds[0])\n",
    "    iwidth_interp = interp1d(SNR_trials, iwidth_arr)\n",
    "\n",
    "    # Find max inverse width for each eccentricity\n",
    "    upper_SNR = np.real(interps[0](eccs))\n",
    "    lower_SNR = np.real(interps[1](eccs))\n",
    "    upper_SNR[eccs>max_ecc] = 1\n",
    "    lower_SNR[eccs>max_ecc] = np.real(interps[1](max_ecc))\n",
    "    max_iwidths = []\n",
    "    total_iwidths = []\n",
    "    for i in range(len(eccs)):\n",
    "        inds = np.asarray(np.logical_and(SNR_trials >= lower_SNR[i], SNR_trials <= upper_SNR[i])).nonzero()\n",
    "        max_iwidths.append(np.max(iwidth_arr[inds]))\n",
    "    max_iwidths = np.array(max_iwidths)\n",
    "    \n",
    "    # Draw SNR samples for each eccentricity using rejection sampling\n",
    "    need_sample = np.full(len(eccs), True)\n",
    "    SNR_samples = []\n",
    "    count=0\n",
    "    while True in need_sample:\n",
    "        SNR_proposals = np.random.uniform(size=np.sum(need_sample))*(upper_SNR[need_sample]-lower_SNR[need_sample])+lower_SNR[need_sample]\n",
    "        accepts = np.random.uniform(size=np.sum(need_sample))\n",
    "        weights = iwidth_interp(SNR_proposals)/max_iwidths[need_sample]\n",
    "        SNR_samples += list(SNR_proposals[weights>=accepts])\n",
    "        need_sample[need_sample] = weights<accepts\n",
    "        count+=1\n",
    "        if count%1000==0:\n",
    "            print(np.sum(need_sample))\n",
    "    print(f'{count} loops')\n",
    "\n",
    "    # upper_SNR = np.real(interps[0](eccs))\n",
    "    # lower_SNR = np.real(interps[1](eccs))\n",
    "    # upper_SNR[eccs>max_ecc] = 1\n",
    "    # lower_SNR[eccs>max_ecc] = np.real(interps[1](max_ecc))\n",
    "    # SNR_samples = np.random.uniform(size=len(eccs))*(upper_SNR-lower_SNR)+lower_SNR\n",
    "        \n",
    "    return SNR_samples"
   ]
  },
  {
   "cell_type": "code",
   "execution_count": 154,
   "id": "ea58ae53-0914-4b51-b2c3-f551c31c2aa6",
   "metadata": {},
   "outputs": [
    {
     "name": "stdout",
     "output_type": "stream",
     "text": [
      "129 loops\n"
     ]
    }
   ],
   "source": [
    "ecc_samples = np.linspace(0, 0.6, 10**6)\n",
    "match_samples = ecc2SNR(ecc_samples, list(grid_data.keys())[1], interps, max_ecc=0.4, scaling_norms=[10, 0.035])"
   ]
  },
  {
   "cell_type": "code",
   "execution_count": 155,
   "id": "8c5b96a6-667b-45f4-b152-6c055874c07f",
   "metadata": {},
   "outputs": [
    {
     "data": {
      "text/plain": [
       "(0.0, 0.4)"
      ]
     },
     "execution_count": 155,
     "metadata": {},
     "output_type": "execute_result"
    },
    {
     "data": {
      "image/png": "[encoded data removed]",
      "text/plain": [
       "<Figure size 640x480 with 1 Axes>"
      ]
     },
     "metadata": {},
     "output_type": "display_data"
    }
   ],
   "source": [
    "ecc_samples2 = SNR2ecc(match_samples, list(grid_data.keys())[1], interps, max_ecc=0.4, scaling_norms=[10, 0.035], upper_lenience=0.05)\n",
    "plt.hist(ecc_samples[ecc_samples<=0.4], histtype='step', bins=50, density=True)\n",
    "plt.hist(ecc_samples2[ecc_samples2<=0.4], histtype='step', bins=50, density=True)\n",
    "plt.xlim(0,0.4)"
   ]
  },
  {
   "cell_type": "code",
   "execution_count": null,
   "id": "58dc0f6c-73b2-4062-8847-f331e4d0af8d",
   "metadata": {},
   "outputs": [],
   "source": []
  }
 ],
 "metadata": {
  "kernelspec": {
   "display_name": "igwn_eccentric",
   "language": "python",
   "name": "igwn_eccentric"
  },
  "language_info": {
   "codemirror_mode": {
    "name": "ipython",
    "version": 3
   },
   "file_extension": ".py",
   "mimetype": "text/x-python",
   "name": "python",
   "nbconvert_exporter": "python",
   "pygments_lexer": "ipython3",
   "version": "3.10.14"
  }
 },
 "nbformat": 4,
 "nbformat_minor": 5
}
