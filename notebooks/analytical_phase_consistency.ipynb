{
 "cells": [
  {
   "cell_type": "code",
   "execution_count": 1,
   "id": "a48ff463-9c5d-43c0-83f7-ba5c06d55f83",
   "metadata": {},
   "outputs": [
    {
     "name": "stderr",
     "output_type": "stream",
     "text": [
      "/home/ben.patterson/.conda/envs/igwn_eccentric/lib/python3.10/site-packages/pycbc/types/array.py:36: UserWarning: Wswiglal-redir-stdio:\n",
      "\n",
      "SWIGLAL standard output/error redirection is enabled in IPython.\n",
      "This may lead to performance penalties. To disable locally, use:\n",
      "\n",
      "with lal.no_swig_redirect_standard_output_error():\n",
      "    ...\n",
      "\n",
      "To disable globally, use:\n",
      "\n",
      "lal.swig_redirect_standard_output_error(False)\n",
      "\n",
      "Note however that this will likely lead to error messages from\n",
      "LAL functions being either misdirected or lost when called from\n",
      "Jupyter notebooks.\n",
      "\n",
      "To suppress this warning, use:\n",
      "\n",
      "import warnings\n",
      "warnings.filterwarnings(\"ignore\", \"Wswiglal-redir-stdio\")\n",
      "import lal\n",
      "\n",
      "  import lal as _lal\n"
     ]
    },
    {
     "name": "stdout",
     "output_type": "stream",
     "text": [
      "lal.MSUN_SI != Msun\n",
      "__name__ = gwsurrogate.new.spline_evaluation\n",
      "__package__= gwsurrogate.new\n"
     ]
    }
   ],
   "source": [
    "import time\n",
    "import numpy as np\n",
    "import matplotlib.pyplot as plt\n",
    "from interpolating_match import *"
   ]
  },
  {
   "cell_type": "code",
   "execution_count": 2,
   "id": "26e8834b-b22b-4c4a-b356-58600e3cb666",
   "metadata": {},
   "outputs": [],
   "source": [
    "def analytic_phase_consistent(abs_SNRs, ang_SNRs):\n",
    "\n",
    "    angle_arg = 2*ang_SNRs[0]-ang_SNRs[1]-ang_SNRs[2]\n",
    "    condition = np.abs(angle_arg - np.round(angle_arg/(2*np.pi),0)*2*np.pi) <= np.pi/2\n",
    "\n",
    "    if condition:\n",
    "        cross_term_sqrd = abs_SNRs[1]**4 + 2*abs_SNRs[1]**2*abs_SNRs[-1]**2*np.cos(2*angle_arg) + abs_SNRs[-1]**4\n",
    "        log_L = 0.25*(abs_SNRs[1]**2+abs_SNRs[-1]**2+np.sqrt(cross_term_sqrd))\n",
    "    else:\n",
    "        print('fail')\n",
    "        log_L = 0.5*np.max([abs_SNRs[1]**2, abs_SNRs[-1]**2])\n",
    "    higher_SNR = np.sqrt(2*log_L)\n",
    "    \n",
    "    return higher_SNR/abs_SNRs[0]  "
   ]
  },
  {
   "cell_type": "code",
   "execution_count": 3,
   "id": "c97aba9e-decc-46e8-9f24-3cf43a549745",
   "metadata": {},
   "outputs": [
    {
     "name": "stdout",
     "output_type": "stream",
     "text": [
      "-1.5707963267948966\n",
      "0.10101525445522108\n",
      "0.07179447841095439\n",
      "0.07142857142857142\n"
     ]
    }
   ],
   "source": [
    "mags = [7,0.5,0.5]\n",
    "angs = [0,np.pi/2,0]\n",
    "print(2*angs[0]-angs[1]-angs[2])\n",
    "print(np.sqrt(mags[1]**2+mags[2]**2)/mags[0])\n",
    "print(comb_harm_consistent(mags, angs))\n",
    "print(analytic_phase_consistent(mags, angs))"
   ]
  },
  {
   "cell_type": "code",
   "execution_count": 4,
   "id": "c0665975-73b6-44a6-8b82-705735b0b38d",
   "metadata": {},
   "outputs": [
    {
     "name": "stdout",
     "output_type": "stream",
     "text": [
      "-1.5707963267948966\n",
      "0.10101525445522108\n",
      "0.07142858161693205\n",
      "0.07142857142857142\n"
     ]
    }
   ],
   "source": [
    "mags = [7,0.5,0.5]\n",
    "angs = [0,np.pi/2+np.pi/2,-np.pi/2]\n",
    "print(2*angs[0]-angs[1]-angs[2])\n",
    "print(np.sqrt(mags[1]**2+mags[2]**2)/mags[0])\n",
    "print(comb_harm_consistent(mags, angs))\n",
    "print(analytic_phase_consistent(mags, angs))"
   ]
  },
  {
   "cell_type": "code",
   "execution_count": 6,
   "id": "0bf7333d-786b-4719-961f-8c7ad51a99ba",
   "metadata": {},
   "outputs": [
    {
     "name": "stdout",
     "output_type": "stream",
     "text": [
      "Numerical: 473.4251008636165 samples per second.\n",
      "Analytical: 104335.58299438335 samples per second.\n",
      "Analytical approach is 220.3845609454497 times quicker.\n"
     ]
    }
   ],
   "source": [
    "# Time numerical approach\n",
    "n_n = 1000\n",
    "start = time.time()\n",
    "for i in range(n_n):\n",
    "    comb_harm_consistent(mags, angs)\n",
    "end = time.time()\n",
    "time_n = end-start\n",
    "print(f'Numerical: {n_n/time_n} samples per second.')\n",
    "\n",
    "# Time analytical approach\n",
    "start = time.time()\n",
    "n_a = 100000\n",
    "for i in range(n_a):\n",
    "    analytic_phase_consistent(mags, angs)\n",
    "end = time.time()\n",
    "time_a = end-start\n",
    "print(f'Analytical: {n_a/time_a} samples per second.')\n",
    "\n",
    "speed_factor = (n_a*time_n)/(n_n*time_a)\n",
    "print(f'Analytical approach is {speed_factor} times quicker.')"
   ]
  },
  {
   "cell_type": "code",
   "execution_count": 144,
   "id": "305784b7-9f5a-4ef7-abe5-b660fd9024c0",
   "metadata": {},
   "outputs": [],
   "source": [
    "def comb_log_L(params, A_primes, phi_primes, harms):\n",
    "    \"\"\"\n",
    "    Calculate log likelihood of a set of harmonics in a phase consistent way.\n",
    "\n",
    "    Parameters:\n",
    "        params: Free parameters describing estimated amplitudes and phases of matches.\n",
    "        A_primes: Magnitudes of matches with each harmonic.\n",
    "        phi_primes: Phases of matches with each harmonic.\n",
    "        harms: Which harmonics are included.\n",
    "\n",
    "    Returns:\n",
    "        tot: Total SNR squared.\n",
    "    \"\"\"\n",
    "\n",
    "    tot = 0\n",
    "    As = params[:-2]\n",
    "    alpha, beta = params[-2:]\n",
    "\n",
    "    # Add each harmonic in turn\n",
    "    for i in range(len(harms)):\n",
    "        tot += A_primes[i]*As[i]*np.cos(alpha+harms[i]*beta-phi_primes[i]) - 0.5*As[i]**2\n",
    "\n",
    "    return tot\n",
    "\n",
    "def comb_harm_consistent(A_primes, phi_primes, harms=[0,1,-1], return_denom=False):\n",
    "    \"\"\"\n",
    "    Combine match of higher harmonics in phase consistent way for \n",
    "    a single point.\n",
    "\n",
    "    Parameters:\n",
    "        A_primes: Magnitudes of matches with each harmonic.\n",
    "        phi_primes: Phases of matches with each harmonic.\n",
    "        harms: Which harmonics to include.\n",
    "        return_denom: Whether to return the denominator of the fraction.\n",
    "\n",
    "    Returns:\n",
    "        frac: Combined match relative to h0.\n",
    "    \"\"\"\n",
    "\n",
    "    # Add fundamental to harmonic list\n",
    "    if 0 not in harms:\n",
    "        harms.insert(0,0)\n",
    "\n",
    "    # Maximise total SNR\n",
    "    bounds = [(0, None)]*len(harms) + [(-np.pi, np.pi), (-np.pi, np.pi)]\n",
    "    init_guess = list(A_primes) + [phi_primes[np.argmax(A_primes)], phi_primes[np.argsort(A_primes)[-2]]-phi_primes[np.argmax(A_primes)]]\n",
    "    init_guess[-1] = (init_guess[-1]+np.pi)%(2*np.pi) - np.pi\n",
    "    best_fit = minimize(lambda x: -comb_log_L(x, A_primes, phi_primes, harms), init_guess, bounds=bounds)\n",
    "    print(best_fit)\n",
    "\n",
    "    # Compute combined SNR of higher harmonics\n",
    "    As = best_fit['x'][:-2]\n",
    "    print(As)\n",
    "    alpha, beta = best_fit['x'][-2:]\n",
    "    num_sqrd = 0\n",
    "    for i in range(len(harms)):\n",
    "        if harms[i] == 0:\n",
    "            denom_sqrd = As[i]**2\n",
    "            continue\n",
    "        num_sqrd += As[i]**2\n",
    "    frac = np.sqrt(num_sqrd/denom_sqrd)\n",
    "\n",
    "    # Returns denominator if requested\n",
    "    if return_denom:\n",
    "        return frac, np.sqrt(denom_sqrd)\n",
    "    else:\n",
    "        return frac"
   ]
  },
  {
   "cell_type": "code",
   "execution_count": 146,
   "id": "b5caa06d-59db-41d4-a372-05ceddf38f7c",
   "metadata": {},
   "outputs": [],
   "source": [
    "def comb_log_L_2(params, A_primes, phi_primes, harms):\n",
    "\n",
    "    tot = 0\n",
    "    alpha, beta = params\n",
    "\n",
    "    phis = alpha+harms*beta\n",
    "    As = A_primes*np.cos(phis-phi_primes)\n",
    "\n",
    "    if np.sum(As<0) > 0:\n",
    "        return 0\n",
    "    \n",
    "    # Add each harmonic in turn\n",
    "    for i in range(len(harms)):\n",
    "        tot += A_primes[i]*As[i]*np.cos(alpha+harms[i]*beta-phi_primes[i]) - 0.5*As[i]**2\n",
    "    \n",
    "    return tot\n",
    "\n",
    "def comb_harm_consistent_2(A_primes, phi_primes, harms=[0,1,-1], return_denom=False):\n",
    "\n",
    "    # Add fundamental to harmonic list\n",
    "    if 0 not in harms:\n",
    "        harms.insert(0,0)\n",
    "\n",
    "    # Convert to numpy arrays\n",
    "    A_primes = np.array(A_primes)\n",
    "    phi_primes = np.array(phi_primes)\n",
    "    harms = np.array(harms)\n",
    "\n",
    "    # Maximise total SNR\n",
    "    bounds = [(-np.pi, np.pi), (-np.pi, np.pi)]\n",
    "    init_guess = [phi_primes[list(harms).index(0)], phi_primes[list(harms).index(1)]-phi_primes[list(harms).index(0)]]\n",
    "    init_guess[-1] = (init_guess[-1]+np.pi)%(2*np.pi) - np.pi\n",
    "    best_fit = minimize(lambda x: -comb_log_L_2(x, A_primes, phi_primes, harms), init_guess, bounds=bounds)\n",
    "    print(best_fit)\n",
    "\n",
    "    # Compute combined SNR of higher harmonics\n",
    "    alpha, beta = best_fit['x']\n",
    "    phis = alpha+harms*beta\n",
    "    As = A_primes*np.cos(phis-phi_primes)\n",
    "    num_sqrd = 0\n",
    "    for i in range(len(harms)):\n",
    "        if harms[i] == 0:\n",
    "            denom_sqrd = As[i]**2\n",
    "            continue\n",
    "        num_sqrd += As[i]**2\n",
    "    frac = np.sqrt(num_sqrd/denom_sqrd)\n",
    "    print(As)\n",
    "\n",
    "    # Returns denominator if requested\n",
    "    if return_denom:\n",
    "        return frac, np.sqrt(denom_sqrd)\n",
    "    else:\n",
    "        return frac"
   ]
  },
  {
   "cell_type": "code",
   "execution_count": 155,
   "id": "4fd55e8e-9e0e-4095-869b-c9ed0c1d1193",
   "metadata": {},
   "outputs": [
    {
     "name": "stdout",
     "output_type": "stream",
     "text": [
      "1.1157499537009505\n",
      "      fun: -42.49999999859012\n",
      " hess_inv: <5x5 LbfgsInvHessProduct with dtype=float64>\n",
      "      jac: array([ 0.00000000e+00,  7.10542740e-07,  4.99999970e+00, -1.04449782e-04,\n",
      "        1.91846540e-04])\n",
      "  message: 'CONVERGENCE: REL_REDUCTION_OF_F_<=_FACTR*EPSMCH'\n",
      "     nfev: 36\n",
      "      nit: 4\n",
      "     njev: 6\n",
      "   status: 0\n",
      "  success: True\n",
      "        x: array([ 6.99999999e+00,  6.00000000e+00,  0.00000000e+00, -6.06293055e-06,\n",
      "        1.57080771e+00])\n",
      "[6.99999999 6.         0.        ]\n",
      "0.8571428579790054\n",
      "      fun: 0\n",
      " hess_inv: <2x2 LbfgsInvHessProduct with dtype=float64>\n",
      "      jac: array([0., 0.])\n",
      "  message: 'CONVERGENCE: NORM_OF_PROJECTED_GRADIENT_<=_PGTOL'\n",
      "     nfev: 3\n",
      "      nit: 0\n",
      "     njev: 1\n",
      "   status: 0\n",
      "  success: True\n",
      "        x: array([0.        , 1.57079633])\n",
      "[ 7.  6. -5.]\n",
      "1.1157499537009508\n",
      "fail\n",
      "0.8571428571428571\n"
     ]
    }
   ],
   "source": [
    "mags = [7,6,5]\n",
    "angs = [0,np.pi/2,np.pi/2]\n",
    "print(np.sqrt(mags[1]**2+mags[2]**2)/mags[0])\n",
    "print(comb_harm_consistent(mags, angs))\n",
    "print(comb_harm_consistent_2(mags, angs))\n",
    "print(analytic_phase_consistent(mags, angs))"
   ]
  },
  {
   "cell_type": "code",
   "execution_count": 156,
   "id": "e8a4785f-a1cc-4b5f-a321-386a7f66f88d",
   "metadata": {},
   "outputs": [
    {
     "data": {
      "text/plain": [
       "<matplotlib.lines.Line2D at 0x7f89386ded40>"
      ]
     },
     "execution_count": 156,
     "metadata": {},
     "output_type": "execute_result"
    },
    {
     "data": {
      "image/png": "[encoded data removed]",
      "text/plain": [
       "<Figure size 640x480 with 1 Axes>"
      ]
     },
     "metadata": {},
     "output_type": "display_data"
    }
   ],
   "source": [
    "phi_0s = np.linspace(-np.pi, np.pi, 501)\n",
    "trig_1 = np.cos(phi_0s+angs[0]-angs[1])\n",
    "trig_n1 = np.cos(-phi_0s+angs[0]-angs[2])\n",
    "plt.plot(phi_0s, trig_1)\n",
    "plt.plot(phi_0s, trig_n1)\n",
    "plt.axhline(0, c='k', ls='dashed')"
   ]
  },
  {
   "cell_type": "code",
   "execution_count": 157,
   "id": "c506f477-3d27-46b3-8aca-451a8aa27a92",
   "metadata": {},
   "outputs": [
    {
     "name": "stdout",
     "output_type": "stream",
     "text": [
      "0.0\n"
     ]
    },
    {
     "data": {
      "image/png": "[encoded data removed]",
      "text/plain": [
       "<Figure size 640x480 with 1 Axes>"
      ]
     },
     "metadata": {},
     "output_type": "display_data"
    }
   ],
   "source": [
    "log_L_1 = (mags[1]**2/4)*(1+np.cos(2*phi_0s)*np.cos(2*(angs[0]-angs[1]))-np.sin(2*phi_0s)*np.sin(2*(angs[0]-angs[1])))\n",
    "log_L_2 = (mags[2]**2/4)*(1+np.cos(2*phi_0s)*np.cos(2*(angs[0]-angs[2]))+np.sin(2*phi_0s)*np.sin(2*(angs[0]-angs[2])))\n",
    "log_L = log_L_1 + log_L_2\n",
    "plt.plot(phi_0s, log_L)\n",
    "plt.plot(phi_0s[(trig_1>=0)*(trig_n1>=0)], log_L[(trig_1>=0)*(trig_n1>=0)])\n",
    "print(np.max(log_L[(trig_1>=0)*(trig_n1>=0)]))"
   ]
  },
  {
   "cell_type": "code",
   "execution_count": null,
   "id": "f1adc36b-6cb5-484a-a338-9468de6d0446",
   "metadata": {},
   "outputs": [],
   "source": []
  }
 ],
 "metadata": {
  "kernelspec": {
   "display_name": "igwn_eccentric",
   "language": "python",
   "name": "igwn_eccentric"
  },
  "language_info": {
   "codemirror_mode": {
    "name": "ipython",
    "version": 3
   },
   "file_extension": ".py",
   "mimetype": "text/x-python",
   "name": "python",
   "nbconvert_exporter": "python",
   "pygments_lexer": "ipython3",
   "version": "3.10.14"
  }
 },
 "nbformat": 4,
 "nbformat_minor": 5
}
