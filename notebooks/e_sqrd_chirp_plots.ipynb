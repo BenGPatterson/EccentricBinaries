{
 "cells": [
  {
   "cell_type": "code",
   "execution_count": null,
   "id": "6de17f55-90b7-4090-9716-9013a8db5f34",
   "metadata": {},
   "outputs": [],
   "source": [
    "import numpy as np\n",
    "import matplotlib.pyplot as plt\n",
    "import time\n",
    "import pickle\n",
    "import os\n",
    "from pycbc.types import timeseries\n",
    "from calcwf import gen_wf, chirp2total, total2chirp, match_h1_h2, get_h, match_s_f_max, match_true_anomaly"
   ]
  },
  {
   "cell_type": "code",
   "execution_count": null,
   "id": "0ea8272b-47a3-4b6c-896d-6dfbaf7fedc6",
   "metadata": {},
   "outputs": [],
   "source": [
    "sample_rate = 4096"
   ]
  },
  {
   "cell_type": "code",
   "execution_count": null,
   "id": "a94c11b2-f9ce-418d-a497-27cf3ee758e2",
   "metadata": {},
   "outputs": [],
   "source": [
    "def const_eff_chirp(given_e, given_chirp, e_vals):\n",
    "    \"\"\"\n",
    "    Converts array of eccentricity values to chirp mass along a line of constant \n",
    "    effective chirp mass, as given by equation 1.1 in Fawata et al. \n",
    "    https://arxiv.org/pdf/2108.05861.pdf.\n",
    "\n",
    "    Parameters:\n",
    "        given_e: Value of eccentricity for given point on line of constant effective chirp mass.\n",
    "        given_chirp: Value of chirp mass for given point on line of constant effective chirp mass.\n",
    "        e_vals: Frequency values to be converted.\n",
    "\n",
    "    Returns:\n",
    "        Converted chirp mass values.\n",
    "    \"\"\"\n",
    "\n",
    "    # Find effective chirp mass of given point\n",
    "    eff_chirp = given_chirp/(1-157*given_e**2/24)**(3/5)\n",
    "\n",
    "    # Convert to chirp mass values\n",
    "    chirp_vals = eff_chirp*(1-157*e_vals**2/24)**(3/5)\n",
    "\n",
    "    return chirp_vals"
   ]
  },
  {
   "cell_type": "markdown",
   "id": "41f7981f-f6b3-421a-9d85-0026a394b0d1",
   "metadata": {},
   "source": [
    "# e^2 against chirp mass plot functions"
   ]
  },
  {
   "cell_type": "code",
   "execution_count": null,
   "id": "4ee0ad83-77bf-43f3-8af4-a73e0c3fa40c",
   "metadata": {},
   "outputs": [],
   "source": [
    "# Calculates matches to a fiducial h1, h2 waveform over a grid of eccentricity against chirp mass\n",
    "def ecc_chirp_match(e_vals, chirp_vals, fiducials, f_low, approximant='TEOBResumS', max_method=None):\n",
    "\n",
    "    # Setup match dict and calculate conversion from chirp to total mass\n",
    "    matches = {'h1':[], 'h1_phase':[], 'h2':[], 'h2_phase':[], 'diff_phase':[], 'quad':[]}\n",
    "    q_factor = (fiducials[2]/(1+fiducials[2])**2)**(-3/5)\n",
    "\n",
    "    # Generate fiducial waveform\n",
    "    _, h1, h2, _, _ = get_h([1,1], f_low, fiducials[0], q_factor*fiducials[1], fiducials[2], sample_rate, approximant=approximant)\n",
    "\n",
    "    # Progress bar setup\n",
    "    progress = 0\n",
    "    gridsize = len(e_vals)*len(chirp_vals)\n",
    "\n",
    "    # Loop over eccentricity values\n",
    "    for e in e_vals:\n",
    "        matches['h1'].append([])\n",
    "        matches['h1_phase'].append([])\n",
    "        matches['h2'].append([])\n",
    "        matches['h2_phase'].append([])\n",
    "        matches['diff_phase'].append([])\n",
    "        matches['quad'].append([])\n",
    "\n",
    "        # Loop over chirp mass values\n",
    "        for chirp in chirp_vals:\n",
    "\n",
    "            # Calculate h1, h2 matches\n",
    "            if max_method == None:\n",
    "                s = gen_wf(f_low, e, q_factor*chirp, fiducials[2], sample_rate, approximant=approximant)\n",
    "                match_h1, match_h2 = match_h1_h2(h1, h2, s, f_low)\n",
    "            else:\n",
    "                match_h1, match_h2 = match_s_f_max(h1, h2, f_low, e, q_factor*chirp, fiducials[2], sample_rate, approximant, max_method=max_method)\n",
    "\n",
    "            # Save matches\n",
    "            matches['h1'][-1].append(abs(match_h1))\n",
    "            matches['h1_phase'][-1].append(np.angle(match_h1))\n",
    "            matches['h2'][-1].append(abs(match_h2))\n",
    "            matches['h2_phase'][-1].append(np.angle(match_h2))\n",
    "            matches['diff_phase'][-1].append(np.angle(match_h1) - np.angle(match_h2))\n",
    "            match_quad = np.sqrt(abs(match_h1)**2+abs(match_h2**2))\n",
    "            matches['quad'][-1].append(match_quad)\n",
    "\n",
    "            # Progress bar\n",
    "            progress += 1\n",
    "            print('\\r' + f'{progress} done out of {gridsize}', end='')\n",
    "\n",
    "    return matches"
   ]
  },
  {
   "cell_type": "code",
   "execution_count": null,
   "id": "04708d80-805d-4498-a40c-c6dcba92ac66",
   "metadata": {},
   "outputs": [],
   "source": [
    "# Plots match contours on eccentricity/chirp mass plot\n",
    "def ecc_chirp_plot(e_vals, chirp_vals, fiducials, matches, vmins=[0.7,0.7,0.7,0.7], vmaxs=[1,1,1,1]):\n",
    "    \n",
    "    # Convert to eccentricity squared\n",
    "    e2_vals = e_vals**2\n",
    "\n",
    "    # Make contour plot for  each match\n",
    "    for i, key in enumerate(['h1', 'h2', 'quad']):\n",
    "\n",
    "        # Which direction colorbar extends\n",
    "        if [vmins[i], vmaxs[i]] == [0,1]:\n",
    "            extend = 'neither'\n",
    "        elif vmins[i] == 0:\n",
    "            extend = 'max'\n",
    "        elif vmaxs[i] == 1:\n",
    "            extend = 'min'\n",
    "        else:\n",
    "            extend = 'both'\n",
    "\n",
    "        # Plotting amplitude contours\n",
    "        plt.contourf(chirp_vals, e2_vals, matches[key], np.linspace(vmins[i], vmaxs[i], 15), vmin=vmins[i], vmax=vmaxs[i], extend=extend)\n",
    "        plt.colorbar(label='match')\n",
    "        if key == 'h2':\n",
    "            plt.contour(chirp_vals, e2_vals, matches['h1'], [0.97], colors=['C1'])\n",
    "        else:\n",
    "            plt.contour(chirp_vals, e2_vals, matches[key], [0.97], colors=['C1'])\n",
    "        plt.scatter(fiducials[1], fiducials[0]**2, c='r', zorder=5)\n",
    "        #plt.plot(const_eff_chirp(fiducials[0], fiducials[1], e2_vals**0.5), e2_vals, c='k', ls='dashed', alpha=0.7)\n",
    "        plt.xlabel('$\\mathcal{M}~/~M_\\odot$')\n",
    "        plt.ylabel('$e^2$')\n",
    "        plt.title(f'{key}, q={fiducials[2]}')\n",
    "        plt.show()\n",
    "\n",
    "    # Plot h2/h1 ratio contours\n",
    "    if vmins[3] == 0:\n",
    "        extend = 'max'\n",
    "    else:\n",
    "        extend = 'both'\n",
    "    plt.contourf(chirp_vals, e2_vals, np.array(matches['h2'])/np.array(matches['h1']), np.linspace(vmins[3], vmaxs[3], 15), vmin=vmins[3], vmax=vmaxs[3], extend=extend)\n",
    "    plt.colorbar(label='match ratio')\n",
    "    plt.scatter(fiducials[1], fiducials[0]**2, c='r', zorder=5)\n",
    "    plt.xlabel('$\\mathcal{M}~/~M_\\odot$')\n",
    "    plt.ylabel('$e^2$')\n",
    "    plt.title(f'h2/h1, q={fiducials[2]}')\n",
    "    plt.show()\n",
    "\n",
    "    # Make contour plot for phase of each match\n",
    "    for i, key in enumerate(['h1_phase', 'h2_phase', 'diff_phase']):\n",
    "\n",
    "        # phase\n",
    "        plt.contourf(chirp_vals, e2_vals, matches[key], cmap='twilight_shifted')\n",
    "        plt.colorbar(label='phase of complex overlap')\n",
    "        plt.scatter(fiducials[1], fiducials[0]**2, c='r', zorder=5)\n",
    "        plt.xlabel('$\\mathcal{M}~/~M_\\odot$')\n",
    "        plt.ylabel('$e^2$')\n",
    "        plt.title(f'{key}, q={fiducials[2]}')\n",
    "        plt.show()\n",
    "\n",
    "        # cos(phase)\n",
    "        plt.contourf(chirp_vals, e2_vals, np.cos(matches[key]))\n",
    "        plt.colorbar(label='cos(phase) of complex overlap')\n",
    "        plt.scatter(fiducials[1], fiducials[0]**2, c='r', zorder=5)\n",
    "        plt.xlabel('$\\mathcal{M}~/~M_\\odot$')\n",
    "        plt.ylabel('$e^2$')\n",
    "        plt.title(f'{key} (cos), q={fiducials[2]}')\n",
    "        plt.show()"
   ]
  },
  {
   "cell_type": "code",
   "execution_count": null,
   "id": "3b361aeb-240b-48b9-9dbb-b015d51ea69e",
   "metadata": {},
   "outputs": [],
   "source": [
    "# Calculates matches to a fiducial waveform over a grid of eccentricity against chirp mass\n",
    "def ecc_chirp_match_ta(e_vals, chirp_vals, fiducials, f_low, approximant='TEOBResumS', final_match='quad'):\n",
    "\n",
    "    # Setup match dict and calculate conversion from chirp to total mass\n",
    "    if final_match == 'TEOB':\n",
    "        matches = {'match_amp':[], 'match_phase':[]}\n",
    "    elif final_match == 'quad':\n",
    "        matches = {'h1':[], 'h2':[], 'h1_phase':[], 'h2_phase':[], 'diff_phase':[], 'quad':[]}\n",
    "    q_factor = (fiducials[2]/(1+fiducials[2])**2)**(-3/5)\n",
    "\n",
    "    # Progress bar setup\n",
    "    progress = 0\n",
    "    gridsize = len(e_vals)*len(chirp_vals)\n",
    "\n",
    "    # Loop over eccentricity values\n",
    "    for e in e_vals:\n",
    "        if final_match == 'TEOB':\n",
    "            matches['match_amp'].append([])\n",
    "            matches['match_phase'].append([])\n",
    "        elif final_match == 'quad':\n",
    "            matches['h1'].append([])\n",
    "            matches['h1_phase'].append([])\n",
    "            matches['h2'].append([])\n",
    "            matches['h2_phase'].append([])\n",
    "            matches['diff_phase'].append([])\n",
    "            matches['quad'].append([])\n",
    "\n",
    "        # Loop over chirp mass values\n",
    "        for chirp in chirp_vals:\n",
    "\n",
    "            # Calculate h1, h2 matches\n",
    "            s = gen_wf(f_low, e, q_factor*chirp, fiducials[2], sample_rate, approximant=approximant)\n",
    "            match_cplx = match_true_anomaly(s, f_low, fiducials[0], q_factor*fiducials[1], fiducials[2], sample_rate, approximant, final_match)\n",
    "\n",
    "            # Save matches\n",
    "            if final_match == 'TEOB':\n",
    "                matches['match_amp'][-1].append(abs(match_cplx))\n",
    "                matches['match_phase'][-1].append(np.angle(match_cplx))\n",
    "            elif final_match == 'quad':\n",
    "                matches['h1'][-1].append(abs(match_cplx[0]))\n",
    "                matches['h1_phase'][-1].append(np.angle(match_cplx[0]))\n",
    "                matches['h2'][-1].append(abs(match_cplx[1]))\n",
    "                matches['h2_phase'][-1].append(np.angle(match_cplx[1]))\n",
    "                matches['diff_phase'][-1].append(np.angle(match_cplx[0]) - np.angle(match_cplx[1]))\n",
    "                match_quad = np.sqrt(abs(match_cplx[0])**2+abs(match_cplx[1]**2))\n",
    "                matches['quad'][-1].append(match_quad)\n",
    "\n",
    "            # Progress bar\n",
    "            progress += 1\n",
    "            print('\\r' + f'{progress} done out of {gridsize}', end='')\n",
    "\n",
    "    return matches"
   ]
  },
  {
   "cell_type": "code",
   "execution_count": null,
   "id": "857efebc-7b57-4abc-ad03-00d5be6d608c",
   "metadata": {},
   "outputs": [],
   "source": [
    "# Plots match contours on eccentricity/chirp mass plot\n",
    "def ecc_chirp_plot_ta(e_vals, chirp_vals, fiducials, matches, vmin=0.7, vmax=1):\n",
    "    \n",
    "    # Convert to eccentricity squared\n",
    "    e2_vals = e_vals**2\n",
    "\n",
    "    # Which direction colorbar extends\n",
    "    if [vmin, vmax] == [0,1]:\n",
    "        extend = 'neither'\n",
    "    elif vmin == 0:\n",
    "        extend = 'max'\n",
    "    elif vmax == 1:\n",
    "        extend = 'min'\n",
    "    else:\n",
    "        extend = 'both'\n",
    "\n",
    "    # Plotting amplitude contours\n",
    "    plt.contourf(chirp_vals, e2_vals, matches['match_amp'], np.linspace(vmin, vmax, 15), vmin=vmin, vmax=vmax, extend=extend)\n",
    "    plt.colorbar(label='match')\n",
    "    plt.contour(chirp_vals, e2_vals, matches['match_amp'], [0.97], colors=['C1'])\n",
    "    plt.scatter(fiducials[1], fiducials[0]**2, c='r', zorder=5)\n",
    "    plt.xlabel('$\\mathcal{M}~/~M_\\odot$')\n",
    "    plt.ylabel('$e^2$')\n",
    "    plt.title(f'Match amplitude, q={fiducials[2]}')\n",
    "    plt.show()\n",
    "\n",
    "    # Phase plot\n",
    "    plt.contourf(chirp_vals, e2_vals, matches['match_phase'], cmap='twilight_shifted')\n",
    "    plt.colorbar(label='phase of match')\n",
    "    plt.scatter(fiducials[1], fiducials[0]**2, c='r', zorder=5)\n",
    "    plt.xlabel('$\\mathcal{M}~/~M_\\odot$')\n",
    "    plt.ylabel('$e^2$')\n",
    "    plt.title(f'Match phase, q={fiducials[2]}')\n",
    "    plt.show()\n",
    "\n",
    "    # Cosine of phase plot\n",
    "    plt.contourf(chirp_vals, e2_vals, np.cos(matches['match_phase']))\n",
    "    plt.colorbar(label='cos(phase) of complex overlap')\n",
    "    plt.scatter(fiducials[1], fiducials[0]**2, c='r', zorder=5)\n",
    "    plt.xlabel('$\\mathcal{M}~/~M_\\odot$')\n",
    "    plt.ylabel('$e^2$')\n",
    "    plt.title(f'Match cos(phase), q={fiducials[2]}')\n",
    "    plt.show()"
   ]
  },
  {
   "cell_type": "code",
   "execution_count": null,
   "id": "dfe64e43-e0d0-4b78-9222-364c9334b4cd",
   "metadata": {},
   "outputs": [],
   "source": [
    "# Calculates matches to a fiducial h1, h2 waveform over a grid of eccentricity against chirp mass\n",
    "def ecc_chirp_match_svd(e_vals, chirp_vals, SVD_name, fiducials, f_low, approximant='TEOBResumS'):\n",
    "\n",
    "    # Setup match dict and calculate conversion from chirp to total mass\n",
    "    matches = {'h1':[], 'h1_phase':[], 'h2':[], 'h2_phase':[], 'diff_phase':[], 'quad':[]}\n",
    "    q_factor = (fiducials[2]/(1+fiducials[2])**2)**(-3/5)\n",
    "\n",
    "    # Load SVD waveforms as fiducial waveforms (note epoch unimportant for match_h1_h2)\n",
    "    with open(os.path.join('SVD_waveforms', SVD_name), 'rb') as fp:\n",
    "        SVD_wfs = pickle.load(fp)\n",
    "    h1 = timeseries.TimeSeries(SVD_wfs[0], 1/sample_rate, epoch=0)\n",
    "    h2 = timeseries.TimeSeries(SVD_wfs[1], 1/sample_rate, epoch=0)\n",
    "\n",
    "    # Progress bar setup\n",
    "    progress = 0\n",
    "    gridsize = len(e_vals)*len(chirp_vals)\n",
    "\n",
    "    # Loop over eccentricity values\n",
    "    for e in e_vals:\n",
    "        matches['h1'].append([])\n",
    "        matches['h1_phase'].append([])\n",
    "        matches['h2'].append([])\n",
    "        matches['h2_phase'].append([])\n",
    "        matches['diff_phase'].append([])\n",
    "        matches['quad'].append([])\n",
    "\n",
    "        # Loop over chirp mass values\n",
    "        for chirp in chirp_vals:\n",
    "\n",
    "            # Calculate h1, h2 matches\n",
    "            s = gen_wf(f_low, e, q_factor*chirp, fiducials[2], sample_rate, approximant=approximant)\n",
    "            match_h1, match_h2 = match_h1_h2(h1, h2, s, f_low)\n",
    "\n",
    "            # Save matches\n",
    "            matches['h1'][-1].append(abs(match_h1))\n",
    "            matches['h1_phase'][-1].append(np.angle(match_h1))\n",
    "            matches['h2'][-1].append(abs(match_h2))\n",
    "            matches['h2_phase'][-1].append(np.angle(match_h2))\n",
    "            matches['diff_phase'][-1].append(np.angle(match_h1) - np.angle(match_h2))\n",
    "            match_quad = np.sqrt(abs(match_h1)**2+abs(match_h2**2))\n",
    "            matches['quad'][-1].append(match_quad)\n",
    "\n",
    "            # Progress bar\n",
    "            progress += 1\n",
    "            print('\\r' + f'{progress} done out of {gridsize}', end='')\n",
    "\n",
    "    return matches"
   ]
  },
  {
   "cell_type": "markdown",
   "id": "c4e35c57-05a9-45e2-a1f6-db27fc222e58",
   "metadata": {},
   "source": [
    "# $e_{10}=0.1, \\mathcal{M}=24~M_\\odot, q=2$"
   ]
  },
  {
   "cell_type": "markdown",
   "id": "260cbc04-66c5-4024-b759-6a023c3f824d",
   "metadata": {},
   "source": [
    "## No maximisation over shifted frequencies (1 TEOB call per grid point)"
   ]
  },
  {
   "cell_type": "code",
   "execution_count": null,
   "id": "dc5bb237-dd0f-4eb9-9dde-03678fa275d5",
   "metadata": {},
   "outputs": [],
   "source": [
    "e_vals_0 = np.linspace(0, 0.2, 31)\n",
    "chirp_vals_0 = np.linspace(23, 25, 31)\n",
    "start = time.time()\n",
    "dataslot_0 = ecc_chirp_match(e_vals_0, chirp_vals_0, [0.1, 24, 2], 10)\n",
    "end = time.time()\n",
    "print(f'\\nTime taken: {end-start} seconds')"
   ]
  },
  {
   "cell_type": "code",
   "execution_count": null,
   "id": "5796997d-1004-4d03-893f-70d763e87d73",
   "metadata": {},
   "outputs": [],
   "source": [
    "ecc_chirp_plot(e_vals_0, chirp_vals_0, [0.1, 24, 2], dataslot_0, vmins=[0.8,0,0.8,3], vmaxs=[1,0.2,1,50])"
   ]
  },
  {
   "cell_type": "markdown",
   "id": "ffd244d5-38e8-455e-aa06-64233a4ff312",
   "metadata": {},
   "source": [
    "## Maximisation over shifted frequencies with the phase difference method (2 TEOB calls per grid point)"
   ]
  },
  {
   "cell_type": "code",
   "execution_count": null,
   "id": "7cc7cd34-fb49-415b-9fd6-3ef86da75a58",
   "metadata": {},
   "outputs": [],
   "source": [
    "e_vals_1 = np.linspace(0, 0.2, 31)\n",
    "chirp_vals_1 = np.linspace(23, 25, 31)\n",
    "start = time.time()\n",
    "dataslot_1 = ecc_chirp_match(e_vals_1, chirp_vals_1, [0.1, 24, 2], 10, max_method='phase_diff')\n",
    "end = time.time()\n",
    "print(f'\\nTime taken: {end-start} seconds')"
   ]
  },
  {
   "cell_type": "code",
   "execution_count": null,
   "id": "6d8313bc-c62e-456a-8f21-3893743a0cc9",
   "metadata": {},
   "outputs": [],
   "source": [
    "ecc_chirp_plot(e_vals_1, chirp_vals_1, [0.1, 24, 2], dataslot_1, vmins=[0.8,0,0.8,3], vmaxs=[1,0.2,1,50])"
   ]
  },
  {
   "cell_type": "markdown",
   "id": "8b72cc32-e1ae-4819-9e1b-797945581798",
   "metadata": {},
   "source": [
    "## Maximisation over shifted frequencies with the sine approximation method (4 TEOB calls per grid point)"
   ]
  },
  {
   "cell_type": "code",
   "execution_count": null,
   "id": "a9347ff4-6abc-4a9f-a443-4c8a2c94954d",
   "metadata": {},
   "outputs": [],
   "source": [
    "e_vals_2 = np.linspace(0, 0.2, 31)\n",
    "chirp_vals_2 = np.linspace(23, 25, 31)\n",
    "start = time.time()\n",
    "dataslot_2 = ecc_chirp_match(e_vals_2, chirp_vals_2, [0.1, 24, 2], 10, max_method='sine_approx')\n",
    "end = time.time()\n",
    "print(f'\\nTime taken: {end-start} seconds')"
   ]
  },
  {
   "cell_type": "code",
   "execution_count": null,
   "id": "981b2abb-7f5b-4cc8-9b07-815bb44e4ce6",
   "metadata": {
    "editable": true,
    "slideshow": {
     "slide_type": ""
    },
    "tags": []
   },
   "outputs": [],
   "source": [
    "ecc_chirp_plot(e_vals_2, chirp_vals_2, [0.1, 24, 2], dataslot_2, vmins=[0.8,0,0.8,3], vmaxs=[1,0.2,1,50])"
   ]
  },
  {
   "cell_type": "markdown",
   "id": "2df4578c-64c7-480a-a265-8c0a1f238bfb",
   "metadata": {},
   "source": [
    "## Phase diff method, shifting h1/h2, final match TEOB (4 TEOB calls per gridpoint)"
   ]
  },
  {
   "cell_type": "code",
   "execution_count": null,
   "id": "2c1a249f-c833-46f1-a8cf-15c62f7c701d",
   "metadata": {
    "editable": true,
    "slideshow": {
     "slide_type": ""
    },
    "tags": []
   },
   "outputs": [],
   "source": [
    "e_vals_3 = np.linspace(0, 0.2, 31)\n",
    "chirp_vals_3 = np.linspace(23, 25, 31)\n",
    "start = time.time()\n",
    "dataslot_3 = ecc_chirp_match_ta(e_vals_3, chirp_vals_3, [0.1, 24, 2], 10, final_match='TEOB')\n",
    "end = time.time()\n",
    "print(f'\\nTime taken: {end-start} seconds')"
   ]
  },
  {
   "cell_type": "code",
   "execution_count": null,
   "id": "17713bb2-e0bd-4c84-9f4a-d0b3beb9eab7",
   "metadata": {},
   "outputs": [],
   "source": [
    "ecc_chirp_plot_ta(e_vals_3, chirp_vals_3, [0.1, 24, 2], dataslot_3, vmin=0.8, vmax=1)"
   ]
  },
  {
   "cell_type": "markdown",
   "id": "e1ac82a5-2c5e-4c9f-be24-f8a9da48a044",
   "metadata": {},
   "source": [
    "## Phase diff method, shifting h1/h2, final match quad (6 TEOB calls per gridpoint)"
   ]
  },
  {
   "cell_type": "code",
   "execution_count": null,
   "id": "e1fb0909-1e92-44d9-bfb5-f924d9310dcf",
   "metadata": {
    "editable": true,
    "slideshow": {
     "slide_type": ""
    },
    "tags": []
   },
   "outputs": [],
   "source": [
    "e_vals_4 = np.linspace(0, 0.2, 31)\n",
    "chirp_vals_4 = np.linspace(23, 25, 31)\n",
    "start = time.time()\n",
    "dataslot_4 = ecc_chirp_match_ta(e_vals_4, chirp_vals_4, [0.1, 24, 2], 10, final_match='quad')\n",
    "end = time.time()\n",
    "print(f'\\nTime taken: {end-start} seconds')"
   ]
  },
  {
   "cell_type": "code",
   "execution_count": null,
   "id": "10acc0ec-ac38-4286-b16e-d3a59c8659bd",
   "metadata": {},
   "outputs": [],
   "source": [
    "ecc_chirp_plot(e_vals_4, chirp_vals_4, [0.1, 24, 2], dataslot_4, vmins=[0.8,0,0.8,0], vmaxs=[1,0.4,1,0.2])"
   ]
  },
  {
   "cell_type": "markdown",
   "id": "ea6085d5-fb05-47f6-9e04-aaff9dc13aa7",
   "metadata": {
    "editable": true,
    "slideshow": {
     "slide_type": ""
    },
    "tags": []
   },
   "source": [
    "## Using 2 SVD waveforms generated with 100 training waveforms"
   ]
  },
  {
   "cell_type": "code",
   "execution_count": null,
   "id": "1e34e985-a601-40e2-9aa9-1c24b18c6a91",
   "metadata": {},
   "outputs": [],
   "source": [
    "e_vals_5 = np.linspace(0, 0.2, 31)\n",
    "chirp_vals_5 = np.linspace(23, 25, 31)\n",
    "start = time.time()\n",
    "dataslot_5 = ecc_chirp_match_svd(e_vals_5, chirp_vals_5, 'U_matrix_2svd_100t.pkl', [0.1, 24, 2], 10)\n",
    "end = time.time()\n",
    "print(f'\\nTime taken: {end-start} seconds')"
   ]
  },
  {
   "cell_type": "code",
   "execution_count": null,
   "id": "d143e529-c884-4cac-b88c-24ea05f4191a",
   "metadata": {},
   "outputs": [],
   "source": [
    "ecc_chirp_plot(e_vals_5, chirp_vals_5, [0.1, 24, 2], dataslot_5, vmins=[0.8,0,0.8,0], vmaxs=[1,0.4,1.001,0.5])"
   ]
  },
  {
   "cell_type": "code",
   "execution_count": null,
   "id": "0ff10446-1bfe-469f-8d7f-cd55be548a61",
   "metadata": {},
   "outputs": [],
   "source": []
  }
 ],
 "metadata": {
  "kernelspec": {
   "display_name": "teobresums_eccentric",
   "language": "python",
   "name": "teobresums_eccentric"
  },
  "language_info": {
   "codemirror_mode": {
    "name": "ipython",
    "version": 3
   },
   "file_extension": ".py",
   "mimetype": "text/x-python",
   "name": "python",
   "nbconvert_exporter": "python",
   "pygments_lexer": "ipython3",
   "version": "3.10.12"
  }
 },
 "nbformat": 4,
 "nbformat_minor": 5
}
