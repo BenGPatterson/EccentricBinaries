{
 "cells": [
  {
   "cell_type": "code",
   "execution_count": null,
   "id": "dcb8cfe4-2b29-49d8-8bcf-217ecc7bc178",
   "metadata": {},
   "outputs": [],
   "source": [
    "import numpy as np\n",
    "import matplotlib.pyplot as plt\n",
    "from pycbc import psd as psd_func\n",
    "from simple_pe.waveforms import make_waveform\n",
    "\n",
    "# Disable pesummary warnings\n",
    "import logging\n",
    "_logger = logging.getLogger('PESummary')\n",
    "_logger.setLevel(logging.CRITICAL + 10)\n",
    "\n",
    "# Otherwise plt.savefig crashes with latex errors\n",
    "import matplotlib as mpl\n",
    "mpl.rcParams.update(mpl.rcParamsDefault)"
   ]
  },
  {
   "cell_type": "markdown",
   "id": "184a2a87-c700-4e52-884c-e8ff907a5d07",
   "metadata": {},
   "source": [
    "# Plotting harmonics"
   ]
  },
  {
   "cell_type": "code",
   "execution_count": null,
   "id": "387709f2-6c10-4c56-a6a3-726af2045082",
   "metadata": {},
   "outputs": [],
   "source": [
    "f_low = 20\n",
    "sample_rate = 4096\n",
    "tlen = 32\n",
    "\n",
    "# Create psd\n",
    "ifos = ['H1']\n",
    "psds = {'H1': 'aLIGOZeroDetHighPower',\n",
    "        'f_low': f_low,\n",
    "        'f_high': int(sample_rate/2),\n",
    "        'length': tlen,\n",
    "        'delta_f': 1. / tlen\n",
    "        }\n",
    "psd = {}\n",
    "for ifo in ifos:\n",
    "    psd[ifo] = psd_func.analytical.from_string(psds[ifo], psds['length'] * psds['f_high'] + 1, psds['delta_f'],\n",
    "                                                     psds['f_low'])\n",
    "\n",
    "params = {'ecc10sqrd': 0.2**2, 'chirp_mass': 24, 'symmetric_mass_ratio': 2/9, 'chi_eff': 0, 'distance': 1}\n",
    "hps = make_waveform(params, psd['H1'].delta_f, f_low, len(psd['H1']), approximant='TEOBResumS-Dali-Harms', n_ecc_harms=4)['H1']\n",
    "hps = {key: hps[key].to_timeseries() for key in hps.keys()}"
   ]
  },
  {
   "cell_type": "code",
   "execution_count": null,
   "id": "69b061c3-e193-4f15-b2da-0af5c000fc4d",
   "metadata": {},
   "outputs": [],
   "source": [
    "for key in hps.keys():\n",
    "    plt.figure(figsize=(6.4*2.5, 4.8))\n",
    "    plt.plot(hps[key].sample_times, hps[key], label=str(key))\n",
    "    plt.legend()\n",
    "    plt.xlim(-3, 0.1)\n",
    "    plt.show()"
   ]
  },
  {
   "cell_type": "markdown",
   "id": "8165f9c8-0af5-41bc-8a75-0f61577b5c1f",
   "metadata": {},
   "source": [
    "# Frequency as function of time"
   ]
  },
  {
   "cell_type": "code",
   "execution_count": null,
   "id": "93201224-0ffb-4d39-b290-8c47f4e7f1f9",
   "metadata": {},
   "outputs": [],
   "source": [
    "hp, hc = make_waveform(params, psd['H1'].delta_f, f_low, len(psd['H1']), approximant='TEOBResumS-Dali', return_hc=True)\n",
    "h = hp.to_timeseries() - 1j*hc.to_timeseries()"
   ]
  },
  {
   "cell_type": "code",
   "execution_count": null,
   "id": "15d4be73-adef-423a-8a97-dbae001a789f",
   "metadata": {},
   "outputs": [],
   "source": [
    "plt.plot(h.sample_times, h)\n",
    "plt.xlim(-1, 0.1)\n",
    "plt.show()"
   ]
  },
  {
   "cell_type": "code",
   "execution_count": null,
   "id": "08122d2d-2692-4a69-94f1-b1fc119a6969",
   "metadata": {},
   "outputs": [],
   "source": [
    "ang_diff = np.diff(np.angle(h[10:3500]))\n",
    "ang_diff = 2*np.pi - ang_diff % (2*np.pi)\n",
    "plt.hist(ang_diff, bins=50, histtype='step')\n",
    "plt.show()"
   ]
  },
  {
   "cell_type": "code",
   "execution_count": null,
   "id": "4bb7458b-3a29-4a25-b869-770d0186b3bb",
   "metadata": {},
   "outputs": [],
   "source": [
    "plt.plot(h.sample_times, h)\n",
    "plt.xlim(-1, 0.1)\n",
    "plt.show()"
   ]
  },
  {
   "cell_type": "code",
   "execution_count": null,
   "id": "79a6650d-5705-40b3-a76c-e67f4884ba36",
   "metadata": {},
   "outputs": [],
   "source": [
    "plt.hist(ang_diff)\n",
    "plt.show()"
   ]
  },
  {
   "cell_type": "code",
   "execution_count": null,
   "id": "9ab720a7-e8bb-4490-b778-e106cd8520f3",
   "metadata": {},
   "outputs": [],
   "source": [
    "ang_diff = np.diff(np.angle(hps[0]))\n",
    "ang_diff = 2*np.pi - ang_diff % (2*np.pi)\n",
    "f_inst = ang_diff*sample_rate/(2*np.pi)\n",
    "plt.plot(hps[0].sample_times[:-1], f_inst)\n",
    "plt.xlim(-1, 0.1)\n",
    "# plt.ylim(0, 200)\n",
    "plt.show()"
   ]
  },
  {
   "cell_type": "code",
   "execution_count": null,
   "id": "dbf4ec19-5830-42e6-8bc9-115d73880bae",
   "metadata": {},
   "outputs": [],
   "source": []
  }
 ],
 "metadata": {
  "kernelspec": {
   "display_name": "igwn_eccentric",
   "language": "python",
   "name": "igwn_eccentric"
  },
  "language_info": {
   "codemirror_mode": {
    "name": "ipython",
    "version": 3
   },
   "file_extension": ".py",
   "mimetype": "text/x-python",
   "name": "python",
   "nbconvert_exporter": "python",
   "pygments_lexer": "ipython3",
   "version": "3.10.14"
  }
 },
 "nbformat": 4,
 "nbformat_minor": 5
}
