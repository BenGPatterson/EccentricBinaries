{
 "cells": [
  {
   "cell_type": "code",
   "execution_count": 1,
   "id": "6fd4bfb8-137f-4928-9c21-6b0acb2b3984",
   "metadata": {},
   "outputs": [
    {
     "name": "stderr",
     "output_type": "stream",
     "text": [
      "/home/ben.patterson/.conda/envs/igwn_eccentric/lib/python3.10/site-packages/pycbc/types/array.py:36: UserWarning: Wswiglal-redir-stdio:\n",
      "\n",
      "SWIGLAL standard output/error redirection is enabled in IPython.\n",
      "This may lead to performance penalties. To disable locally, use:\n",
      "\n",
      "with lal.no_swig_redirect_standard_output_error():\n",
      "    ...\n",
      "\n",
      "To disable globally, use:\n",
      "\n",
      "lal.swig_redirect_standard_output_error(False)\n",
      "\n",
      "Note however that this will likely lead to error messages from\n",
      "LAL functions being either misdirected or lost when called from\n",
      "Jupyter notebooks.\n",
      "\n",
      "To suppress this warning, use:\n",
      "\n",
      "import warnings\n",
      "warnings.filterwarnings(\"ignore\", \"Wswiglal-redir-stdio\")\n",
      "import lal\n",
      "\n",
      "  import lal as _lal\n"
     ]
    },
    {
     "name": "stdout",
     "output_type": "stream",
     "text": [
      "lal.MSUN_SI != Msun\n",
      "__name__ = gwsurrogate.new.spline_evaluation\n",
      "__package__= gwsurrogate.new\n"
     ]
    }
   ],
   "source": [
    "import numpy as np\n",
    "import matplotlib.pyplot as plt\n",
    "from pycbc import psd as psd_func\n",
    "from pycbc.filter import sigma\n",
    "from pycbc.noise import frequency_noise_from_psd\n",
    "from simple_pe.waveforms import make_waveform, calculate_mode_snr\n",
    "\n",
    "import logging\n",
    "_logger = logging.getLogger('PESummary')\n",
    "_logger.setLevel(logging.CRITICAL + 10)\n",
    "import matplotlib as mpl\n",
    "mpl.rcParams.update(mpl.rcParamsDefault)"
   ]
  },
  {
   "cell_type": "markdown",
   "id": "0a2ae8f3-072e-4f8e-878a-ada4cff0ae0f",
   "metadata": {},
   "source": [
    "# Generate single eccentric waveform as 'data'"
   ]
  },
  {
   "cell_type": "code",
   "execution_count": 2,
   "id": "530fe089-0f36-4dcd-a9d6-dc3519fa6d80",
   "metadata": {},
   "outputs": [
    {
     "name": "stderr",
     "output_type": "stream",
     "text": [
      "/home/ben.patterson/.conda/envs/igwn_eccentric/lib/python3.10/site-packages/pandas/core/computation/expressions.py:21: UserWarning: Pandas requires version '2.8.4' or newer of 'numexpr' (version '2.7.3' currently installed).\n",
      "  from pandas.core.computation.check import NUMEXPR_INSTALLED\n"
     ]
    },
    {
     "name": "stdout",
     "output_type": "stream",
     "text": [
      "sigma: 22.259255848584203\n"
     ]
    }
   ],
   "source": [
    "# Generate psd\n",
    "ifos = ['H1']\n",
    "tlen = 32\n",
    "sample_rate = 4096\n",
    "f_low = 20\n",
    "psds = {'H1': 'aLIGOZeroDetHighPower',\n",
    "        'f_low': f_low,\n",
    "        'f_high': int(sample_rate/2),\n",
    "        'length': tlen,\n",
    "        'delta_f': 1. / tlen\n",
    "        }\n",
    "psd = {}\n",
    "for ifo in ifos:\n",
    "    psd[ifo] = psd_func.analytical.from_string(psds[ifo], psds['length'] * psds['f_high'] + 1, psds['delta_f'],\n",
    "                                                     psds['f_low'])\n",
    "\n",
    "# Generate TEOBResumS-Dali waveform\n",
    "data_pars = {'ecc10sqrd': 0.04, 'chirp_mass': 24, 'symmetric_mass_ratio': 2/9, 'chi_eff': 0, 'distance': 1500}\n",
    "df = 1/tlen\n",
    "flen = (tlen*sample_rate)//2 + 1\n",
    "raw_data = make_waveform(data_pars, df, f_low, flen, approximant='TEOBResumS-Dali')\n",
    "\n",
    "sig = sigma(raw_data, psd['H1'], low_frequency_cutoff=f_low, high_frequency_cutoff=psd['H1'].sample_frequencies[-1])\n",
    "print(f'sigma: {sig}')\n",
    "\n",
    "# Add gaussian noise\n",
    "data = {'H1': (raw_data + frequency_noise_from_psd(psd['H1'], seed=12345)).to_timeseries()}"
   ]
  },
  {
   "cell_type": "markdown",
   "id": "ae25a49e-691a-4b75-9f90-490456b3d176",
   "metadata": {},
   "source": [
    "# Generate eccentric harmonics and match filter data"
   ]
  },
  {
   "cell_type": "code",
   "execution_count": 3,
   "id": "53362b4d-831a-42d7-a234-8f97fece1ca0",
   "metadata": {},
   "outputs": [
    {
     "name": "stdout",
     "output_type": "stream",
     "text": [
      "rho_0: 21.12, phi_0: -2.48\n",
      "rho_1: 3.48, phi_1: 2.71\n",
      "rho_-1: 1.49, phi_-1: -1.66\n",
      "rho_2: 1.19, phi_2: 0.63\n"
     ]
    }
   ],
   "source": [
    "# Generate TEOBResumS-Dali waveform\n",
    "harm_pars = {'ecc10sqrd': 0.04, 'chirp_mass': 24, 'symmetric_mass_ratio': 2/9, 'chi_eff': 0, 'distance': 1}\n",
    "harm_dict = make_waveform(harm_pars, df, f_low, flen, approximant='TEOBResumS-Dali-Harms', n_ecc_harms=4, n_ecc_gen=6)\n",
    "\n",
    "# Match filter harmonics\n",
    "harm_perp = {}\n",
    "for key in harm_dict.keys():\n",
    "    harm_perp[key] = harm_dict[key] / sigma(harm_dict[key], psd[ifos[0]], low_frequency_cutoff=f_low,\n",
    "                                            high_frequency_cutoff=psd[ifos[0]].sample_frequencies[-1])\n",
    "mode_SNRs, _ = calculate_mode_snr(data[ifos[0]], psd[ifos[0]], harm_perp, data[ifos[0]].sample_times[0],\n",
    "                                  data[ifos[0]].sample_times[-1], f_low, harm_dict.keys(), dominant_mode=0)\n",
    "for key in mode_SNRs.keys():\n",
    "    print(f'rho_{key}: {np.abs(mode_SNRs[key]):.2f}, phi_{key}: {np.angle(mode_SNRs[key]):.2f}')"
   ]
  },
  {
   "cell_type": "code",
   "execution_count": null,
   "id": "f3f26786-03a6-46e1-a145-7d472e1fdb93",
   "metadata": {},
   "outputs": [],
   "source": []
  }
 ],
 "metadata": {
  "kernelspec": {
   "display_name": "igwn_eccentric",
   "language": "python",
   "name": "igwn_eccentric"
  },
  "language_info": {
   "codemirror_mode": {
    "name": "ipython",
    "version": 3
   },
   "file_extension": ".py",
   "mimetype": "text/x-python",
   "name": "python",
   "nbconvert_exporter": "python",
   "pygments_lexer": "ipython3",
   "version": "3.10.14"
  }
 },
 "nbformat": 4,
 "nbformat_minor": 5
}
