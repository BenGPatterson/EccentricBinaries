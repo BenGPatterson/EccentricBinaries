{
 "cells": [
  {
   "cell_type": "code",
   "execution_count": 8,
   "id": "6fd4bfb8-137f-4928-9c21-6b0acb2b3984",
   "metadata": {},
   "outputs": [],
   "source": [
    "import numpy as np\n",
    "import matplotlib.pyplot as plt\n",
    "from pycbc import psd as psd_func\n",
    "from pycbc.filter import sigma\n",
    "from pycbc.noise import frequency_noise_from_psd\n",
    "from simple_pe.waveforms import make_waveform, calculate_mode_snr\n",
    "\n",
    "import logging\n",
    "_logger = logging.getLogger('PESummary')\n",
    "_logger.setLevel(logging.CRITICAL + 10)\n",
    "import matplotlib as mpl\n",
    "mpl.rcParams.update(mpl.rcParamsDefault)"
   ]
  },
  {
   "cell_type": "markdown",
   "id": "0a2ae8f3-072e-4f8e-878a-ada4cff0ae0f",
   "metadata": {},
   "source": [
    "# Generate single eccentric waveform as 'data'"
   ]
  },
  {
   "cell_type": "code",
   "execution_count": 2,
   "id": "530fe089-0f36-4dcd-a9d6-dc3519fa6d80",
   "metadata": {},
   "outputs": [
    {
     "name": "stderr",
     "output_type": "stream",
     "text": [
      "/home/ben.patterson/.conda/envs/igwn_eccentric/lib/python3.10/site-packages/pandas/core/computation/expressions.py:21: UserWarning: Pandas requires version '2.8.4' or newer of 'numexpr' (version '2.7.3' currently installed).\n",
      "  from pandas.core.computation.check import NUMEXPR_INSTALLED\n"
     ]
    },
    {
     "name": "stdout",
     "output_type": "stream",
     "text": [
      "sigma: 14.395556742681567\n"
     ]
    }
   ],
   "source": [
    "# Generate psd\n",
    "ifos = ['H1']\n",
    "tlen = 32\n",
    "sample_rate = 4096\n",
    "f_low = 20\n",
    "psds = {'H1': 'aLIGOZeroDetHighPower',\n",
    "        'f_low': f_low,\n",
    "        'f_high': int(sample_rate/2),\n",
    "        'length': tlen,\n",
    "        'delta_f': 1. / tlen\n",
    "        }\n",
    "psd = {}\n",
    "for ifo in ifos:\n",
    "    psd[ifo] = psd_func.analytical.from_string(psds[ifo], psds['length'] * psds['f_high'] + 1, psds['delta_f'],\n",
    "                                                     psds['f_low'])\n",
    "\n",
    "# Generate TEOBResumS-Dali waveform\n",
    "data_pars = {'ecc10sqrd': 0.014**2, 'chirp_mass': 32, 'symmetric_mass_ratio': 0.249, 'chi_eff': 0, 'distance': 3000}\n",
    "df = 1/tlen\n",
    "flen = (tlen*sample_rate)//2 + 1\n",
    "raw_data = make_waveform(data_pars, df, f_low, flen, approximant='TEOBResumS-Dali')\n",
    "\n",
    "sig = sigma(raw_data, psd['H1'], low_frequency_cutoff=f_low, high_frequency_cutoff=psd['H1'].sample_frequencies[-1])\n",
    "print(f'sigma: {sig}')\n",
    "\n",
    "# Add gaussian noise\n",
    "# data = {'H1': (raw_data + frequency_noise_from_psd(psd['H1'], seed=12345)).to_timeseries()}\n",
    "data = {'H1': (raw_data).to_timeseries()}"
   ]
  },
  {
   "cell_type": "markdown",
   "id": "ae25a49e-691a-4b75-9f90-490456b3d176",
   "metadata": {},
   "source": [
    "# Generate eccentric harmonics and match filter data"
   ]
  },
  {
   "cell_type": "code",
   "execution_count": 3,
   "id": "53362b4d-831a-42d7-a234-8f97fece1ca0",
   "metadata": {},
   "outputs": [
    {
     "name": "stderr",
     "output_type": "stream",
     "text": [
      "/home/ben.patterson/.conda/envs/igwn_eccentric/lib/python3.10/site-packages/pycbc/types/array.py:217: RuntimeWarning: divide by zero encountered in divide\n",
      "  ret = getattr(ufunc, method)(*inputs, **kwargs)\n"
     ]
    },
    {
     "name": "stdout",
     "output_type": "stream",
     "text": [
      "rho_0: 14.30, phi_0: -1.00\n",
      "rho_1: 0.17, phi_1: 2.16\n",
      "rho_-1: 0.51, phi_-1: 3.05\n",
      "rho_2: 0.24, phi_2: 0.35\n"
     ]
    }
   ],
   "source": [
    "# Generate TEOBResumS-Dali waveform\n",
    "harm_pars = {'ecc10sqrd': 0.014**2, 'chirp_mass': 32, 'symmetric_mass_ratio': 0.249, 'chi_eff': 0, 'distance': 1}\n",
    "harm_dict = make_waveform(harm_pars, df, f_low, flen, approximant='TEOBResumS-Dali-Harms', n_ecc_harms=4, n_ecc_gen=6)\n",
    "\n",
    "# Match filter harmonics\n",
    "harm_perp = {}\n",
    "for key in harm_dict.keys():\n",
    "    harm_perp[key] = harm_dict[key] / sigma(harm_dict[key], psd[ifos[0]], low_frequency_cutoff=f_low,\n",
    "                                            high_frequency_cutoff=psd[ifos[0]].sample_frequencies[-1])\n",
    "mode_SNRs, _ = calculate_mode_snr(data[ifos[0]], psd[ifos[0]], harm_perp, data[ifos[0]].sample_times[0],\n",
    "                                  data[ifos[0]].sample_times[-1], f_low, harm_dict.keys(), dominant_mode=0)\n",
    "for key in mode_SNRs.keys():\n",
    "    print(f'rho_{key}: {np.abs(mode_SNRs[key]):.2f}, phi_{key}: {np.angle(mode_SNRs[key]):.2f}')"
   ]
  },
  {
   "cell_type": "code",
   "execution_count": 58,
   "id": "b8f267f8-c34d-4f31-a255-a26c76d8d9ad",
   "metadata": {},
   "outputs": [
    {
     "name": "stdout",
     "output_type": "stream",
     "text": [
      "rho_0: 14.35, phi_0: -1.00\n",
      "rho_1: 0.29, phi_1: 1.70\n",
      "rho_-1: 0.33, phi_-1: 2.85\n",
      "rho_2: 0.02, phi_2: -0.99\n"
     ]
    }
   ],
   "source": [
    "# Generate TEOBResumS-Dali waveform\n",
    "harm_pars = {'ecc10sqrd': 0.014**2, 'chirp_mass': 32, 'symmetric_mass_ratio': 0.249, 'chi_eff': 0, 'distance': 1}\n",
    "harm_dict = make_waveform(harm_pars, df, f_low, flen, approximant='TEOBResumS-Dali-Harms', n_ecc_harms=4, n_ecc_gen=6)\n",
    "\n",
    "# Match filter harmonics\n",
    "harm_perp = {}\n",
    "for key in harm_dict.keys():\n",
    "    harm_perp[key] = harm_dict[key] / sigma(harm_dict[key], psd[ifos[0]], low_frequency_cutoff=f_low,\n",
    "                                            high_frequency_cutoff=psd[ifos[0]].sample_frequencies[-1])\n",
    "mode_SNRs, _ = calculate_mode_snr(data[ifos[0]], psd[ifos[0]], harm_perp, data[ifos[0]].sample_times[0],\n",
    "                                  data[ifos[0]].sample_times[-1], f_low, harm_dict.keys(), dominant_mode=0)\n",
    "for key in mode_SNRs.keys():\n",
    "    print(f'rho_{key}: {np.abs(mode_SNRs[key]):.2f}, phi_{key}: {np.angle(mode_SNRs[key]):.2f}')"
   ]
  },
  {
   "cell_type": "code",
   "execution_count": null,
   "id": "26069919-1081-4806-9e8b-e5fe9a3c3692",
   "metadata": {},
   "outputs": [],
   "source": []
  }
 ],
 "metadata": {
  "kernelspec": {
   "display_name": "igwn_eccentric",
   "language": "python",
   "name": "igwn_eccentric"
  },
  "language_info": {
   "codemirror_mode": {
    "name": "ipython",
    "version": 3
   },
   "file_extension": ".py",
   "mimetype": "text/x-python",
   "name": "python",
   "nbconvert_exporter": "python",
   "pygments_lexer": "ipython3",
   "version": "3.10.14"
  }
 },
 "nbformat": 4,
 "nbformat_minor": 5
}
