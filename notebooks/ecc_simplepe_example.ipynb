{
 "cells": [
  {
   "cell_type": "code",
   "execution_count": 1,
   "id": "6fd4bfb8-137f-4928-9c21-6b0acb2b3984",
   "metadata": {},
   "outputs": [
    {
     "name": "stderr",
     "output_type": "stream",
     "text": [
      "/home/ben.patterson/.conda/envs/igwn_eccentric/lib/python3.10/site-packages/pycbc/types/array.py:36: UserWarning: Wswiglal-redir-stdio:\n",
      "\n",
      "SWIGLAL standard output/error redirection is enabled in IPython.\n",
      "This may lead to performance penalties. To disable locally, use:\n",
      "\n",
      "with lal.no_swig_redirect_standard_output_error():\n",
      "    ...\n",
      "\n",
      "To disable globally, use:\n",
      "\n",
      "lal.swig_redirect_standard_output_error(False)\n",
      "\n",
      "Note however that this will likely lead to error messages from\n",
      "LAL functions being either misdirected or lost when called from\n",
      "Jupyter notebooks.\n",
      "\n",
      "To suppress this warning, use:\n",
      "\n",
      "import warnings\n",
      "warnings.filterwarnings(\"ignore\", \"Wswiglal-redir-stdio\")\n",
      "import lal\n",
      "\n",
      "  import lal as _lal\n"
     ]
    },
    {
     "name": "stdout",
     "output_type": "stream",
     "text": [
      "lal.MSUN_SI != Msun\n",
      "__name__ = gwsurrogate.new.spline_evaluation\n",
      "__package__= gwsurrogate.new\n"
     ]
    }
   ],
   "source": [
    "import numpy as np\n",
    "import matplotlib.pyplot as plt\n",
    "from pycbc import psd as psd_func\n",
    "from pycbc.filter import sigma\n",
    "from pycbc.noise import frequency_noise_from_psd\n",
    "from pesummary.gw.conversions.mass import component_masses_from_mchirp_q, q_from_eta\n",
    "from simple_pe.waveforms import make_waveform, calculate_mode_snr, shifted_f, two_ecc_harms_SNR\n",
    "\n",
    "import logging\n",
    "_logger = logging.getLogger('PESummary')\n",
    "_logger.setLevel(logging.CRITICAL + 10)\n",
    "import matplotlib as mpl\n",
    "mpl.rcParams.update(mpl.rcParamsDefault)"
   ]
  },
  {
   "cell_type": "markdown",
   "id": "0a2ae8f3-072e-4f8e-878a-ada4cff0ae0f",
   "metadata": {},
   "source": [
    "# Generate single eccentric waveform as 'data'"
   ]
  },
  {
   "cell_type": "code",
   "execution_count": 11,
   "id": "530fe089-0f36-4dcd-a9d6-dc3519fa6d80",
   "metadata": {},
   "outputs": [
    {
     "name": "stdout",
     "output_type": "stream",
     "text": [
      "sigma: 11.582216661767184\n"
     ]
    }
   ],
   "source": [
    "# Generate psd\n",
    "ifos = ['H1']\n",
    "tlen = 32\n",
    "sample_rate = 4096\n",
    "f_low = 20\n",
    "psds = {'H1': 'aLIGOZeroDetHighPower',\n",
    "        'f_low': f_low,\n",
    "        'f_high': int(sample_rate/2),\n",
    "        'length': tlen,\n",
    "        'delta_f': 1. / tlen\n",
    "        }\n",
    "psd = {}\n",
    "for ifo in ifos:\n",
    "    psd[ifo] = psd_func.analytical.from_string(psds[ifo], psds['length'] * psds['f_high'] + 1, psds['delta_f'],\n",
    "                                                     psds['f_low'])\n",
    "\n",
    "# Generate TEOBResumS-Dali waveform\n",
    "data_pars = {'ecc10sqrd': 0.001**2, 'chirp_mass': 24, 'symmetric_mass_ratio': 0.249, 'chi_eff': 0, 'distance': 3000}\n",
    "df = 1/tlen\n",
    "flen = (tlen*sample_rate)//2 + 1\n",
    "raw_data = make_waveform(data_pars, df, f_low, flen, approximant='TEOBResumS-Dali')\n",
    "\n",
    "sig = sigma(raw_data, psd['H1'], low_frequency_cutoff=f_low, high_frequency_cutoff=psd['H1'].sample_frequencies[-1])\n",
    "print(f'sigma: {sig}')\n",
    "\n",
    "# Add gaussian noise\n",
    "# data = {'H1': (raw_data + frequency_noise_from_psd(psd['H1'], seed=12345)).to_timeseries()}\n",
    "data = {'H1': (raw_data).to_timeseries()}"
   ]
  },
  {
   "cell_type": "markdown",
   "id": "ae25a49e-691a-4b75-9f90-490456b3d176",
   "metadata": {},
   "source": [
    "# Generate eccentric harmonics and match filter data"
   ]
  },
  {
   "cell_type": "code",
   "execution_count": 12,
   "id": "53362b4d-831a-42d7-a234-8f97fece1ca0",
   "metadata": {},
   "outputs": [
    {
     "name": "stdout",
     "output_type": "stream",
     "text": [
      "rho_0: 11.56, phi_0: 0.00\n",
      "rho_1: 0.27, phi_1: 0.00\n",
      "rho_-1: 0.26, phi_-1: 0.00\n",
      "rho_2: 0.09, phi_2: 0.00\n"
     ]
    }
   ],
   "source": [
    "# Generate TEOBResumS-Dali waveform\n",
    "harm_pars = {'ecc10sqrd': 0.001**2, 'chirp_mass': 24, 'symmetric_mass_ratio': 0.249, 'chi_eff': 0, 'distance': 1}\n",
    "harm_dict = make_waveform(harm_pars, df, f_low, flen, approximant='TEOBResumS-Dali-Harms', n_ecc_harms=4, n_ecc_gen=6)\n",
    "\n",
    "# Match filter harmonics\n",
    "harm_perp = {}\n",
    "for key in harm_dict.keys():\n",
    "    harm_perp[key] = harm_dict[key] / sigma(harm_dict[key], psd[ifos[0]], low_frequency_cutoff=f_low,\n",
    "                                            high_frequency_cutoff=psd[ifos[0]].sample_frequencies[-1])\n",
    "mode_SNRs, _ = calculate_mode_snr(data[ifos[0]], psd[ifos[0]], harm_perp, data[ifos[0]].sample_times[0],\n",
    "                                  data[ifos[0]].sample_times[-1], f_low, harm_dict.keys(), dominant_mode=0, subsample_interpolation=True)\n",
    "for key in mode_SNRs.keys():\n",
    "    print(f'rho_{key}: {np.abs(mode_SNRs[key]):.2f}, phi_{key}: {np.angle(mode_SNRs[key]):.2f}')"
   ]
  },
  {
   "cell_type": "markdown",
   "id": "5925c662-2a54-4139-ad59-0134990e22b9",
   "metadata": {},
   "source": [
    "# Test MA relation"
   ]
  },
  {
   "cell_type": "code",
   "execution_count": 4,
   "id": "a64931f7-d66e-4883-896b-c0f9b0ed1bdf",
   "metadata": {},
   "outputs": [
    {
     "name": "stdout",
     "output_type": "stream",
     "text": [
      "10 done out of 10"
     ]
    }
   ],
   "source": [
    "# Calculate shifted frequencies\n",
    "input_MAs = np.linspace(0, 2*np.pi, 10, endpoint=False)\n",
    "q = 1/q_from_eta(data_pars['symmetric_mass_ratio'])\n",
    "M = np.sum(component_masses_from_mchirp_q(data_pars['chirp_mass'], q))\n",
    "s_f_2pi = f_low - shifted_f(f_low, data_pars['ecc10sqrd']**0.5, M, q)\n",
    "s_fs = f_low - s_f_2pi*input_MAs/(2*np.pi)\n",
    "\n",
    "# Calculate matches (and thus inferred mean anomaly)\n",
    "infer_MA_1 = []\n",
    "infer_MA_n1 = []\n",
    "infer_MA_1n1 = []\n",
    "for i, s_f in enumerate(s_fs):\n",
    "    s = make_waveform(data_pars, df, s_f, flen, approximant='TEOBResumS-Dali').to_timeseries()\n",
    "    z, _ = calculate_mode_snr(s, psd[ifos[0]], harm_perp, s.sample_times[0],\n",
    "                                      s.sample_times[-1], f_low, harm_dict.keys(), dominant_mode=0)\n",
    "    infer_MA_1.append((np.angle(z[1])-np.angle(z[0])) % (2*np.pi))\n",
    "    infer_MA_n1.append((np.angle(z[0])-np.angle(z[-1])) % (2*np.pi))\n",
    "    _, MA_1n1 = two_ecc_harms_SNR({k: np.abs(z[k]) for k in [0,1,-1]},\n",
    "                                  {k: np.angle(z[k]) for k in [0,1,-1]})\n",
    "    infer_MA_1n1.append(MA_1n1)\n",
    "    print(f'\\r{i+1} done out of {len(s_fs)}', end='')"
   ]
  },
  {
   "cell_type": "code",
   "execution_count": 7,
   "id": "c69ba305-d102-4b38-bd53-27a3fc04ad97",
   "metadata": {},
   "outputs": [
    {
     "data": {
      "image/png": "[encoded data removed]",
      "text/plain": [
       "<Figure size 640x480 with 1 Axes>"
      ]
     },
     "metadata": {},
     "output_type": "display_data"
    }
   ],
   "source": [
    "plt.plot(input_MAs, infer_MA_1, label='MA_1')\n",
    "plt.plot(input_MAs, infer_MA_n1, label='MA_n1')\n",
    "plt.plot(input_MAs, infer_MA_1n1, label='MA_1n1')\n",
    "plt.legend()\n",
    "plt.xlim(0, 2*np.pi)\n",
    "plt.ylim(0, 2*np.pi)\n",
    "plt.show()"
   ]
  },
  {
   "cell_type": "code",
   "execution_count": null,
   "id": "8c5c75e0-a9d7-4b07-9620-fc89dd014347",
   "metadata": {},
   "outputs": [],
   "source": []
  }
 ],
 "metadata": {
  "kernelspec": {
   "display_name": "igwn_eccentric",
   "language": "python",
   "name": "igwn_eccentric"
  },
  "language_info": {
   "codemirror_mode": {
    "name": "ipython",
    "version": 3
   },
   "file_extension": ".py",
   "mimetype": "text/x-python",
   "name": "python",
   "nbconvert_exporter": "python",
   "pygments_lexer": "ipython3",
   "version": "3.10.14"
  }
 },
 "nbformat": 4,
 "nbformat_minor": 5
}
