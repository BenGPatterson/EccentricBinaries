{
 "cells": [
  {
   "cell_type": "code",
   "execution_count": 1,
   "id": "98a0581f-02b8-42fe-8a20-f9f7e51a81b1",
   "metadata": {},
   "outputs": [
    {
     "name": "stderr",
     "output_type": "stream",
     "text": [
      "/home/ben.patterson/.conda/envs/igwn_eccentric/lib/python3.10/site-packages/lalsimulation/lalsimulation.py:8: UserWarning: Wswiglal-redir-stdio:\n",
      "\n",
      "SWIGLAL standard output/error redirection is enabled in IPython.\n",
      "This may lead to performance penalties. To disable locally, use:\n",
      "\n",
      "with lal.no_swig_redirect_standard_output_error():\n",
      "    ...\n",
      "\n",
      "To disable globally, use:\n",
      "\n",
      "lal.swig_redirect_standard_output_error(False)\n",
      "\n",
      "Note however that this will likely lead to error messages from\n",
      "LAL functions being either misdirected or lost when called from\n",
      "Jupyter notebooks.\n",
      "\n",
      "To suppress this warning, use:\n",
      "\n",
      "import warnings\n",
      "warnings.filterwarnings(\"ignore\", \"Wswiglal-redir-stdio\")\n",
      "import lal\n",
      "\n",
      "  import lal\n"
     ]
    },
    {
     "name": "stdout",
     "output_type": "stream",
     "text": [
      "lal.MSUN_SI != Msun\n",
      "__name__ = gwsurrogate.new.spline_evaluation\n",
      "__package__= gwsurrogate.new\n"
     ]
    },
    {
     "name": "stderr",
     "output_type": "stream",
     "text": [
      "/home/ben.patterson/.conda/envs/igwn_eccentric/lib/python3.10/site-packages/pandas/core/computation/expressions.py:21: UserWarning: Pandas requires version '2.8.4' or newer of 'numexpr' (version '2.7.3' currently installed).\n",
      "  from pandas.core.computation.check import NUMEXPR_INSTALLED\n"
     ]
    }
   ],
   "source": [
    "import time\n",
    "import pickle\n",
    "import numpy as np\n",
    "import matplotlib.pyplot as plt\n",
    "from scipy.optimize import minimize\n",
    "from pesummary.gw.conversions.mass import component_masses_from_mchirp_q, q_from_eta\n",
    "from pycbc import psd as psd_func\n",
    "from pycbc.filter import sigma, match, matched_filter\n",
    "from pycbc.filter.matchedfilter import quadratic_interpolate_peak\n",
    "from simple_pe.waveforms import make_waveform, calc_f_gen, two_ecc_harms_SNR, calculate_mode_snr, generate_eccentric_waveform_MA\n",
    "from calcwf import match_hn\n",
    "\n",
    "# Disable pesummary warnings\n",
    "import logging\n",
    "_logger = logging.getLogger('PESummary')\n",
    "_logger.setLevel(logging.CRITICAL + 10)\n",
    "\n",
    "# Otherwise plt.savefig crashes with latex errors\n",
    "import matplotlib as mpl\n",
    "mpl.rcParams.update(mpl.rcParamsDefault)"
   ]
  },
  {
   "cell_type": "markdown",
   "id": "c69d46f5-1552-4ae0-bb90-44a412668178",
   "metadata": {},
   "source": [
    "# e=0.2, chirp=24"
   ]
  },
  {
   "cell_type": "code",
   "execution_count": 2,
   "id": "c73f1b66-3aee-4ac5-b062-68b920dbb7b4",
   "metadata": {},
   "outputs": [
    {
     "name": "stderr",
     "output_type": "stream",
     "text": [
      "/home/ben.patterson/.conda/envs/igwn_eccentric/lib/python3.10/site-packages/pycbc/types/array.py:390: RuntimeWarning: divide by zero encountered in divide\n",
      "  return self._data.__rtruediv__(other)\n"
     ]
    }
   ],
   "source": [
    "# Data settings\n",
    "true_dict = {'ecc10sqrd': 0.2**2, 'chirp_mass': 24, 'symmetric_mass_ratio': 2/9, 'chi_eff': 0}\n",
    "target_snr = 20\n",
    "f_low = 20\n",
    "sample_rate = 4096\n",
    "tlen = 32\n",
    "\n",
    "# Create psd\n",
    "ifos = ['H1']\n",
    "psds = {'H1': 'aLIGOZeroDetHighPower',\n",
    "        'f_low': f_low,\n",
    "        'f_high': int(sample_rate/2),\n",
    "        'length': tlen,\n",
    "        'delta_f': 1. / tlen\n",
    "        }\n",
    "psd = {}\n",
    "for ifo in ifos:\n",
    "    psd[ifo] = psd_func.analytical.from_string(psds[ifo], psds['length'] * psds['f_high'] + 1, psds['delta_f'],\n",
    "                                                     psds['f_low'])\n",
    "psd['harm'] = 1. / sum([1. / psd[ifo] for ifo in ifos])\n",
    "\n",
    "# Generate data\n",
    "true_dict['mass_ratio'] = q_from_eta(true_dict['symmetric_mass_ratio'])\n",
    "true_dict['inverted_mass_ratio'] = 1/true_dict['mass_ratio']\n",
    "true_dict['total_mass'] = np.sum(component_masses_from_mchirp_q(true_dict['chirp_mass'], true_dict['mass_ratio']), axis=0)\n",
    "true_dict['distance'] = 1\n",
    "data = make_waveform(true_dict.copy(), psd['harm'].delta_f, f_low, len(psd['harm']), approximant='TEOBResumS-Dali')\n",
    "raw_snr = sigma(data, psd['H1'], low_frequency_cutoff=f_low, high_frequency_cutoff=psds['f_high'])\n",
    "data = {'H1': data.to_timeseries()*target_snr/raw_snr}\n",
    "true_dict['distance'] = raw_snr/target_snr"
   ]
  },
  {
   "cell_type": "markdown",
   "id": "62f07ba4-150d-45cf-a07c-5fb1bf87c037",
   "metadata": {},
   "source": [
    "## Performing direct match to data"
   ]
  },
  {
   "cell_type": "markdown",
   "id": "9d0bbcc4-69c6-4f80-aa8c-54130d3fab87",
   "metadata": {},
   "source": [
    "### Exact degeneracy line"
   ]
  },
  {
   "cell_type": "code",
   "execution_count": 3,
   "id": "3f5c05fb-cbb2-4771-9102-7e74ce15503e",
   "metadata": {},
   "outputs": [],
   "source": [
    "# Get degeneracy line in roughly correct direction\n",
    "with open('pe_4d_pipeline/dataslot_0/all_matches', 'rb') as fp:\n",
    "    all_matches = pickle.load(fp)\n",
    "base_dict = all_matches['metadata']['base_params']\n",
    "fid_dict = all_matches['metadata']['fid_params']\n",
    "\n",
    "# Shift degeneracy line to pass through true point\n",
    "mult = true_dict['ecc10sqrd']/(fid_dict['ecc10sqrd']-base_dict['ecc10sqrd'])\n",
    "for key in ['chirp_mass', 'symmetric_mass_ratio', 'chi_eff']:\n",
    "    proj_point = mult*(fid_dict[key]-base_dict[key])+base_dict[key]\n",
    "    proj_diff = true_dict[key]-proj_point\n",
    "    base_dict[key] += proj_diff\n",
    "    fid_dict[key] += proj_diff"
   ]
  },
  {
   "cell_type": "code",
   "execution_count": 15,
   "id": "1c6eb421-654a-4671-84f4-68a2fd4a8a9c",
   "metadata": {},
   "outputs": [
    {
     "name": "stdout",
     "output_type": "stream",
     "text": [
      "1 complete out of 21"
     ]
    },
    {
     "name": "stderr",
     "output_type": "stream",
     "text": [
      "\n",
      "KeyboardInterrupt\n",
      "\n"
     ]
    }
   ],
   "source": [
    "# Loop over distance along degeneracy line\n",
    "data_ecc_SNRs_ = []\n",
    "trial_ecc_SNRs_ = []\n",
    "data_matches_ = []\n",
    "param_keys = ['ecc10sqrd', 'chirp_mass', 'symmetric_mass_ratio', 'chi_eff']\n",
    "e10s_ = np.linspace(0.1, 0.3, 21)\n",
    "for i, e10 in enumerate(e10s_):\n",
    "    dist = (e10**2-base_dict['ecc10sqrd'])/(fid_dict['ecc10sqrd']-base_dict['ecc10sqrd'])\n",
    "    params = {'distance': 1}\n",
    "    for param in param_keys:\n",
    "        params[param] = dist*(fid_dict[param]-base_dict[param])+base_dict[param]\n",
    "\n",
    "    # Make eccentric harmonics and match to data\n",
    "    ecc_harms = make_waveform(params, psd['H1'].delta_f, f_low, len(psd['H1']), approximant='TEOBResumS-Dali-Harms', n_ecc_harms=4)\n",
    "    wf_hjs = [ecc_harms[k].to_timeseries() for k in [0, 1, -1, 2]]\n",
    "    f_gen = calc_f_gen(f_low, 4)\n",
    "    match_cplx = match_hn(wf_hjs, data['H1'], f_gen, psd=psd['H1'], f_match=f_low)\n",
    "    # data_ecc_SNR = np.abs(match_cplx[1])/np.abs(match_cplx[0])\n",
    "    # target_MA = (np.angle(match_cplx[1])-np.angle(match_cplx[0])) % (2*np.pi)\n",
    "    data_ecc_SNR, target_MA = two_ecc_harms_SNR({0: np.abs(match_cplx[0]), 1: np.abs(match_cplx[1]), -1: np.abs(match_cplx[2])},\n",
    "                                                {0: np.angle(match_cplx[0]), 1: np.angle(match_cplx[1]), -1: np.angle(match_cplx[2])})\n",
    "    data_ecc_SNR = data_ecc_SNR*np.exp(1j*target_MA)\n",
    "    data_ecc_SNRs_.append(np.abs(data_ecc_SNR))\n",
    "    \n",
    "    # Calculate trial waveform with correct MA and match to data\n",
    "    two_ecc_harms=True\n",
    "    params['inverted_mass_ratio'] = 1/q_from_eta(params['symmetric_mass_ratio'])\n",
    "    params['total_mass'] = np.sum(component_masses_from_mchirp_q(params['chirp_mass'], params['inverted_mass_ratio']))\n",
    "    trial_wf = generate_eccentric_waveform_MA(params['total_mass'], params['inverted_mass_ratio'],\n",
    "                                              params['ecc10sqrd']**0.5, params['chi_eff'], params['chi_eff'],\n",
    "                                              psd['H1'], f_low, target_MA, ecc_harms, two_ecc_harms=two_ecc_harms)\n",
    "    data_match, _ = match(data['H1'], trial_wf, psd=psd['H1'], low_frequency_cutoff=f_low, high_frequency_cutoff=psds['f_high'])\n",
    "    data_matches_.append(data_match)\n",
    "\n",
    "    # Match trial waveform to eccentric harmonics\n",
    "    trial_z, _ = calculate_mode_snr(trial_wf, psd['H1'], ecc_harms, trial_wf.sample_times[0],\n",
    "                                    trial_wf.sample_times[-1], f_low, ecc_harms.keys(),\n",
    "                                    dominant_mode=0)\n",
    "    if two_ecc_harms:\n",
    "        harm_ids = [0, 1, -1]\n",
    "        ecc_SNR_abs, ecc_SNR_ang = two_ecc_harms_SNR(\n",
    "            {k: np.abs(trial_z[k]) for k in harm_ids},\n",
    "            {k: np.angle(trial_z[k]) for k in harm_ids})\n",
    "    else:\n",
    "        ecc_SNR_abs = np.abs(trial_z[1]/trial_z[0])\n",
    "        ecc_SNR_ang = (np.angle(trial_z[1])-np.angle(trial_z[0])) % (2*np.pi)\n",
    "    trial_ecc_SNR = ecc_SNR_abs*np.exp(1j*ecc_SNR_ang)\n",
    "    trial_ecc_SNRs_.append(np.abs(trial_ecc_SNR))\n",
    "\n",
    "    print(f'\\r{i+1} complete out of {len(e10s_)}', end='')"
   ]
  },
  {
   "cell_type": "code",
   "execution_count": 7,
   "id": "f3f14aa0-3b36-4b6d-a114-ffea2dd15663",
   "metadata": {},
   "outputs": [
    {
     "data": {
      "image/png": "[encoded data removed]",
      "text/plain": [
       "<Figure size 640x480 with 1 Axes>"
      ]
     },
     "metadata": {},
     "output_type": "display_data"
    }
   ],
   "source": [
    "# Plot results\n",
    "plt.plot(e10s_, data_matches_)\n",
    "plt.ylim(0.97,1)\n",
    "plt.axvline(true_dict['ecc10sqrd']**0.5, c='k', ls='dashed')\n",
    "plt.show()"
   ]
  },
  {
   "cell_type": "code",
   "execution_count": 8,
   "id": "5668563c-9a22-4a3f-befa-6f27e825547a",
   "metadata": {},
   "outputs": [
    {
     "data": {
      "image/png": "[encoded data removed]",
      "text/plain": [
       "<Figure size 640x480 with 1 Axes>"
      ]
     },
     "metadata": {},
     "output_type": "display_data"
    }
   ],
   "source": [
    "# Plot results\n",
    "plt.plot(e10s_, data_ecc_SNRs_)\n",
    "plt.plot(e10s_, trial_ecc_SNRs_)\n",
    "plt.axvline(true_dict['ecc10sqrd']**0.5, c='k', ls='dashed')\n",
    "plt.ylim(0,)\n",
    "plt.xlim(0,)\n",
    "plt.show()"
   ]
  },
  {
   "cell_type": "markdown",
   "id": "e216fe2f-7e20-4343-a772-46ff56c8a693",
   "metadata": {},
   "source": [
    "### Imperfect degeneracy line"
   ]
  },
  {
   "cell_type": "code",
   "execution_count": 9,
   "id": "0c94e1d1-828e-4700-bfd5-a932764d139e",
   "metadata": {},
   "outputs": [],
   "source": [
    "# Get degeneracy line in roughly correct direction\n",
    "with open('pe_4d_pipeline/dataslot_0/all_matches', 'rb') as fp:\n",
    "    all_matches = pickle.load(fp)\n",
    "base_dict = all_matches['metadata']['base_params']\n",
    "fid_dict = all_matches['metadata']['fid_params']"
   ]
  },
  {
   "cell_type": "code",
   "execution_count": 12,
   "id": "8a6b37ce-1e6c-49f6-911e-cd905f639f6e",
   "metadata": {},
   "outputs": [
    {
     "name": "stdout",
     "output_type": "stream",
     "text": [
      "21 complete out of 21"
     ]
    }
   ],
   "source": [
    "# Loop over distance along degeneracy line\n",
    "data_ecc_SNRs__ = []\n",
    "trial_ecc_SNRs__ = []\n",
    "data_matches__ = []\n",
    "param_keys = ['ecc10sqrd', 'chirp_mass', 'symmetric_mass_ratio', 'chi_eff']\n",
    "e10s__ = np.linspace(0.05, 0.25, 21)\n",
    "for i, e10 in enumerate(e10s__):\n",
    "    dist = (e10**2-base_dict['ecc10sqrd'])/(fid_dict['ecc10sqrd']-base_dict['ecc10sqrd'])\n",
    "    params = {'distance': 1}\n",
    "    for param in param_keys:\n",
    "        params[param] = dist*(fid_dict[param]-base_dict[param])+base_dict[param]\n",
    "\n",
    "    # Make eccentric harmonics and match to data\n",
    "    ecc_harms = make_waveform(params, psd['H1'].delta_f, f_low, len(psd['H1']), approximant='TEOBResumS-Dali-Harms', n_ecc_harms=4)\n",
    "    wf_hjs = [ecc_harms[k].to_timeseries() for k in [0, 1, -1, 2]]\n",
    "    f_gen = calc_f_gen(f_low, 4)\n",
    "    match_cplx = match_hn(wf_hjs, data['H1'], f_gen, psd=psd['H1'], f_match=f_low)\n",
    "    # data_ecc_SNR = np.abs(match_cplx[1])/np.abs(match_cplx[0])\n",
    "    # target_MA = (np.angle(match_cplx[1])-np.angle(match_cplx[0])) % (2*np.pi)\n",
    "    data_ecc_SNR, target_MA = two_ecc_harms_SNR({0: np.abs(match_cplx[0]), 1: np.abs(match_cplx[1]), -1: np.abs(match_cplx[2])},\n",
    "                                                {0: np.angle(match_cplx[0]), 1: np.angle(match_cplx[1]), -1: np.angle(match_cplx[2])})\n",
    "    data_ecc_SNR = data_ecc_SNR*np.exp(1j*target_MA)\n",
    "    data_ecc_SNRs__.append(np.abs(data_ecc_SNR))\n",
    "    \n",
    "    # Calculate trial waveform with correct MA and match to data\n",
    "    two_ecc_harms=True\n",
    "    params['inverted_mass_ratio'] = 1/q_from_eta(params['symmetric_mass_ratio'])\n",
    "    params['total_mass'] = np.sum(component_masses_from_mchirp_q(params['chirp_mass'], params['inverted_mass_ratio']))\n",
    "    trial_wf = generate_eccentric_waveform_MA(params['total_mass'], params['inverted_mass_ratio'],\n",
    "                                              params['ecc10sqrd']**0.5, params['chi_eff'], params['chi_eff'],\n",
    "                                              psd['H1'], f_low, target_MA, ecc_harms, two_ecc_harms=two_ecc_harms)\n",
    "    data_match, _ = match(data['H1'], trial_wf, psd=psd['H1'], low_frequency_cutoff=f_low, high_frequency_cutoff=psds['f_high'])\n",
    "    data_matches__.append(data_match)\n",
    "\n",
    "    # Match trial waveform to eccentric harmonics\n",
    "    trial_z, _ = calculate_mode_snr(trial_wf, psd['H1'], ecc_harms, trial_wf.sample_times[0],\n",
    "                                    trial_wf.sample_times[-1], f_low, ecc_harms.keys(),\n",
    "                                    dominant_mode=0)\n",
    "    if two_ecc_harms:\n",
    "        harm_ids = [0, 1, -1]\n",
    "        ecc_SNR_abs, ecc_SNR_ang = two_ecc_harms_SNR(\n",
    "            {k: np.abs(trial_z[k]) for k in harm_ids},\n",
    "            {k: np.angle(trial_z[k]) for k in harm_ids})\n",
    "    else:\n",
    "        ecc_SNR_abs = np.abs(trial_z[1]/trial_z[0])\n",
    "        ecc_SNR_ang = (np.angle(trial_z[1])-np.angle(trial_z[0])) % (2*np.pi)\n",
    "    trial_ecc_SNR = ecc_SNR_abs*np.exp(1j*ecc_SNR_ang)\n",
    "    trial_ecc_SNRs__.append(np.abs(trial_ecc_SNR))\n",
    "\n",
    "    print(f'\\r{i+1} complete out of {len(e10s__)}', end='')"
   ]
  },
  {
   "cell_type": "code",
   "execution_count": 13,
   "id": "95775479-0abc-4701-aa60-701461f3d4d5",
   "metadata": {},
   "outputs": [
    {
     "data": {
      "image/png": "[encoded data removed]",
      "text/plain": [
       "<Figure size 640x480 with 1 Axes>"
      ]
     },
     "metadata": {},
     "output_type": "display_data"
    }
   ],
   "source": [
    "# Plot results\n",
    "plt.plot(e10s__, data_matches__)\n",
    "plt.ylim(0.95,1)\n",
    "plt.xlim(0,)\n",
    "plt.axvline(true_dict['ecc10sqrd']**0.5, c='k', ls='dashed')\n",
    "plt.show()"
   ]
  },
  {
   "cell_type": "code",
   "execution_count": 14,
   "id": "55fa76dd-6a8e-4a78-b8e5-d9313e463dea",
   "metadata": {},
   "outputs": [
    {
     "data": {
      "image/png": "[encoded data removed]",
      "text/plain": [
       "<Figure size 640x480 with 1 Axes>"
      ]
     },
     "metadata": {},
     "output_type": "display_data"
    }
   ],
   "source": [
    "# Plot results\n",
    "plt.plot(e10s__, data_ecc_SNRs__)\n",
    "plt.plot(e10s__, trial_ecc_SNRs__)\n",
    "plt.axvline(true_dict['ecc10sqrd']**0.5, c='k', ls='dashed')\n",
    "plt.ylim(0,)\n",
    "plt.xlim(0,)\n",
    "plt.show()"
   ]
  },
  {
   "cell_type": "markdown",
   "id": "6752e35b-731b-4594-8f7c-9a7a6f46dbc4",
   "metadata": {
    "jp-MarkdownHeadingCollapsed": true
   },
   "source": [
    "# e=0.3, chirp=16"
   ]
  },
  {
   "cell_type": "code",
   "execution_count": null,
   "id": "195a260b-e34b-4d32-8211-16045409cf08",
   "metadata": {},
   "outputs": [],
   "source": [
    "# Data settings\n",
    "true_dict = {'ecc10sqrd': 0.3**2, 'chirp_mass': 16, 'symmetric_mass_ratio': 2/9, 'chi_eff': 0}\n",
    "target_snr = 20\n",
    "f_low = 20\n",
    "sample_rate = 4096\n",
    "tlen = 32\n",
    "\n",
    "# Create psd\n",
    "ifos = ['H1']\n",
    "psds = {'H1': 'aLIGOZeroDetHighPower',\n",
    "        'f_low': f_low,\n",
    "        'f_high': int(sample_rate/2),\n",
    "        'length': tlen,\n",
    "        'delta_f': 1. / tlen\n",
    "        }\n",
    "psd = {}\n",
    "for ifo in ifos:\n",
    "    psd[ifo] = psd_func.analytical.from_string(psds[ifo], psds['length'] * psds['f_high'] + 1, psds['delta_f'],\n",
    "                                                     psds['f_low'])\n",
    "psd['harm'] = 1. / sum([1. / psd[ifo] for ifo in ifos])\n",
    "\n",
    "# Generate data\n",
    "true_dict['mass_ratio'] = q_from_eta(true_dict['symmetric_mass_ratio'])\n",
    "true_dict['inverted_mass_ratio'] = 1/true_dict['mass_ratio']\n",
    "true_dict['total_mass'] = np.sum(component_masses_from_mchirp_q(true_dict['chirp_mass'], true_dict['mass_ratio']), axis=0)\n",
    "true_dict['distance'] = 1\n",
    "data = make_waveform(true_dict.copy(), psd['harm'].delta_f, f_low, len(psd['harm']), approximant='TEOBResumS-Dali')\n",
    "raw_snr = sigma(data, psd['H1'], low_frequency_cutoff=f_low, high_frequency_cutoff=psds['f_high'])\n",
    "data = {'H1': data.to_timeseries()*target_snr/raw_snr}\n",
    "true_dict['distance'] = raw_snr/target_snr"
   ]
  },
  {
   "cell_type": "markdown",
   "id": "3db3ff61-3b0c-447c-8e4a-e885ff06a023",
   "metadata": {},
   "source": [
    "## Performing direct match to data"
   ]
  },
  {
   "cell_type": "markdown",
   "id": "c9602120-355c-486c-9d54-ba0ad6911aa2",
   "metadata": {},
   "source": [
    "### Exact degeneracy line"
   ]
  },
  {
   "cell_type": "code",
   "execution_count": null,
   "id": "065823cb-1c31-453f-88db-2cc92db53970",
   "metadata": {},
   "outputs": [],
   "source": [
    "# Get degeneracy line in roughly correct direction\n",
    "with open('pe_4d_pipeline/dataslot_1/all_matches', 'rb') as fp:\n",
    "    all_matches = pickle.load(fp)\n",
    "base_dict = all_matches['metadata']['base_params']\n",
    "fid_dict = all_matches['metadata']['fid_params']\n",
    "\n",
    "# Shift degeneracy line to pass through true point\n",
    "mult = true_dict['ecc10sqrd']/(fid_dict['ecc10sqrd']-base_dict['ecc10sqrd'])\n",
    "for key in ['chirp_mass', 'symmetric_mass_ratio', 'chi_eff']:\n",
    "    proj_point = mult*(fid_dict[key]-base_dict[key])+base_dict[key]\n",
    "    proj_diff = true_dict[key]-proj_point\n",
    "    base_dict[key] += proj_diff\n",
    "    fid_dict[key] += proj_diff"
   ]
  },
  {
   "cell_type": "code",
   "execution_count": null,
   "id": "e1affef8-4ffa-4f0d-9018-c7512503ecd5",
   "metadata": {},
   "outputs": [],
   "source": [
    "# Loop over distance along degeneracy line\n",
    "data_ecc_SNRs_ = []\n",
    "trial_ecc_SNRs_ = []\n",
    "data_matches_ = []\n",
    "param_keys = ['ecc10sqrd', 'chirp_mass', 'symmetric_mass_ratio', 'chi_eff']\n",
    "e10s = np.linspace(0, 0.5, 21)\n",
    "for i, e10 in enumerate(e10s):\n",
    "    dist = (e10**2-base_dict['ecc10sqrd'])/(fid_dict['ecc10sqrd']-base_dict['ecc10sqrd'])\n",
    "    params = {'distance': 1}\n",
    "    for param in param_keys:\n",
    "        params[param] = dist*(fid_dict[param]-base_dict[param])+base_dict[param]\n",
    "\n",
    "    # Make eccentric harmonics and match to data\n",
    "    ecc_harms = make_waveform(params, psd['H1'].delta_f, f_low, len(psd['H1']), approximant='TEOBResumS-Dali-Harms', n_ecc_harms=4)\n",
    "    wf_hjs = [ecc_harms[k].to_timeseries() for k in [0, 1, -1, 2]]\n",
    "    f_gen = calc_f_gen(f_low, 4)\n",
    "    match_cplx = match_hn(wf_hjs, data['H1'], f_gen, psd=psd['H1'], f_match=f_low)\n",
    "    # data_ecc_SNR = np.abs(match_cplx[1])/np.abs(match_cplx[0])\n",
    "    # target_MA = (np.angle(match_cplx[1])-np.angle(match_cplx[0])) % (2*np.pi)\n",
    "    data_ecc_SNR, target_MA = two_ecc_harms_SNR({0: np.abs(match_cplx[0]), 1: np.abs(match_cplx[1]), -1: np.abs(match_cplx[2])},\n",
    "                                                {0: np.angle(match_cplx[0]), 1: np.angle(match_cplx[1]), -1: np.angle(match_cplx[2])})\n",
    "    data_ecc_SNR = data_ecc_SNR*np.exp(1j*target_MA)\n",
    "    data_ecc_SNRs_.append(np.abs(data_ecc_SNR))\n",
    "    \n",
    "    # Calculate trial waveform with correct MA and match to data\n",
    "    two_ecc_harms=True\n",
    "    params['inverted_mass_ratio'] = 1/q_from_eta(params['symmetric_mass_ratio'])\n",
    "    params['total_mass'] = np.sum(component_masses_from_mchirp_q(params['chirp_mass'], params['inverted_mass_ratio']))\n",
    "    trial_wf = generate_eccentric_waveform_MA(params['total_mass'], params['inverted_mass_ratio'],\n",
    "                                              params['ecc10sqrd']**0.5, params['chi_eff'], params['chi_eff'],\n",
    "                                              psd['H1'], f_low, target_MA, ecc_harms, two_ecc_harms=two_ecc_harms)\n",
    "    data_match, _ = match(data['H1'], trial_wf, psd=psd['H1'], low_frequency_cutoff=f_low, high_frequency_cutoff=psds['f_high'])\n",
    "    data_matches_.append(data_match)\n",
    "\n",
    "    # Match trial waveform to eccentric harmonics\n",
    "    trial_z, _ = calculate_mode_snr(trial_wf, psd['H1'], ecc_harms, trial_wf.sample_times[0],\n",
    "                                    trial_wf.sample_times[-1], f_low, ecc_harms.keys(),\n",
    "                                    dominant_mode=0)\n",
    "    if two_ecc_harms:\n",
    "        harm_ids = [0, 1, -1]\n",
    "        ecc_SNR_abs, ecc_SNR_ang = two_ecc_harms_SNR(\n",
    "            {k: np.abs(trial_z[k]) for k in harm_ids},\n",
    "            {k: np.angle(trial_z[k]) for k in harm_ids})\n",
    "    else:\n",
    "        ecc_SNR_abs = np.abs(trial_z[1]/trial_z[0])\n",
    "        ecc_SNR_ang = (np.angle(trial_z[1])-np.angle(trial_z[0])) % (2*np.pi)\n",
    "    trial_ecc_SNR = ecc_SNR_abs*np.exp(1j*ecc_SNR_ang)\n",
    "    trial_ecc_SNRs_.append(np.abs(trial_ecc_SNR))\n",
    "\n",
    "    print(f'\\r{i+1} complete out of {len(e10s)}', end='')"
   ]
  },
  {
   "cell_type": "code",
   "execution_count": null,
   "id": "fd4bf094-81b0-4817-b875-3d05cabea102",
   "metadata": {},
   "outputs": [],
   "source": [
    "# Plot results\n",
    "plt.plot(e10s, data_matches_)\n",
    "plt.ylim(0.9,1)\n",
    "plt.axvline(true_dict['ecc10sqrd']**0.5, c='k', ls='dashed')\n",
    "plt.show()"
   ]
  },
  {
   "cell_type": "markdown",
   "id": "58dc9a60-487e-4ab9-a925-a853ae6d41cd",
   "metadata": {},
   "source": [
    "### Imperfect degeneracy line"
   ]
  },
  {
   "cell_type": "code",
   "execution_count": null,
   "id": "48cb9922-6207-4802-a8a0-688155343b57",
   "metadata": {},
   "outputs": [],
   "source": [
    "# Get degeneracy line in roughly correct direction\n",
    "with open('pe_4d_pipeline/dataslot_1/all_matches', 'rb') as fp:\n",
    "    all_matches = pickle.load(fp)\n",
    "base_dict = all_matches['metadata']['base_params']\n",
    "fid_dict = all_matches['metadata']['fid_params']"
   ]
  },
  {
   "cell_type": "code",
   "execution_count": null,
   "id": "43966aeb-730f-4acf-bd34-10d9a3f064d5",
   "metadata": {},
   "outputs": [],
   "source": [
    "# Loop over distance along degeneracy line\n",
    "data_ecc_SNRs__ = []\n",
    "trial_ecc_SNRs__ = []\n",
    "data_matches__ = []\n",
    "param_keys = ['ecc10sqrd', 'chirp_mass', 'symmetric_mass_ratio', 'chi_eff']\n",
    "e10s__ = np.linspace(0.2, 0.4, 21)\n",
    "for i, e10 in enumerate(e10s__):\n",
    "    dist = (e10**2-base_dict['ecc10sqrd'])/(fid_dict['ecc10sqrd']-base_dict['ecc10sqrd'])\n",
    "    params = {'distance': 1}\n",
    "    for param in param_keys:\n",
    "        params[param] = dist*(fid_dict[param]-base_dict[param])+base_dict[param]\n",
    "\n",
    "    # Make eccentric harmonics and match to data\n",
    "    ecc_harms = make_waveform(params, psd['H1'].delta_f, f_low, len(psd['H1']), approximant='TEOBResumS-Dali-Harms', n_ecc_harms=4)\n",
    "    wf_hjs = [ecc_harms[k].to_timeseries() for k in [0, 1, -1, 2]]\n",
    "    f_gen = calc_f_gen(f_low, 4)\n",
    "    match_cplx = match_hn(wf_hjs, data['H1'], f_gen, psd=psd['H1'], f_match=f_low)\n",
    "    # data_ecc_SNR = np.abs(match_cplx[1])/np.abs(match_cplx[0])\n",
    "    # target_MA = (np.angle(match_cplx[1])-np.angle(match_cplx[0])) % (2*np.pi)\n",
    "    data_ecc_SNR, target_MA = two_ecc_harms_SNR({0: np.abs(match_cplx[0]), 1: np.abs(match_cplx[1]), -1: np.abs(match_cplx[2])},\n",
    "                                                {0: np.angle(match_cplx[0]), 1: np.angle(match_cplx[1]), -1: np.angle(match_cplx[2])})\n",
    "    data_ecc_SNR = data_ecc_SNR*np.exp(1j*target_MA)\n",
    "    data_ecc_SNRs__.append(np.abs(data_ecc_SNR))\n",
    "    \n",
    "    # Calculate trial waveform with correct MA and match to data\n",
    "    two_ecc_harms=True\n",
    "    params['inverted_mass_ratio'] = 1/q_from_eta(params['symmetric_mass_ratio'])\n",
    "    params['total_mass'] = np.sum(component_masses_from_mchirp_q(params['chirp_mass'], params['inverted_mass_ratio']))\n",
    "    trial_wf = generate_eccentric_waveform_MA(params['total_mass'], params['inverted_mass_ratio'],\n",
    "                                              params['ecc10sqrd']**0.5, params['chi_eff'], params['chi_eff'],\n",
    "                                              psd['H1'], f_low, target_MA, ecc_harms, two_ecc_harms=two_ecc_harms)\n",
    "    data_match, _ = match(data['H1'], trial_wf, psd=psd['H1'], low_frequency_cutoff=f_low, high_frequency_cutoff=psds['f_high'])\n",
    "    data_matches__.append(data_match)\n",
    "\n",
    "    # Match trial waveform to eccentric harmonics\n",
    "    trial_z, _ = calculate_mode_snr(trial_wf, psd['H1'], ecc_harms, trial_wf.sample_times[0],\n",
    "                                    trial_wf.sample_times[-1], f_low, ecc_harms.keys(),\n",
    "                                    dominant_mode=0)\n",
    "    if two_ecc_harms:\n",
    "        harm_ids = [0, 1, -1]\n",
    "        ecc_SNR_abs, ecc_SNR_ang = two_ecc_harms_SNR(\n",
    "            {k: np.abs(trial_z[k]) for k in harm_ids},\n",
    "            {k: np.angle(trial_z[k]) for k in harm_ids})\n",
    "    else:\n",
    "        ecc_SNR_abs = np.abs(trial_z[1]/trial_z[0])\n",
    "        ecc_SNR_ang = (np.angle(trial_z[1])-np.angle(trial_z[0])) % (2*np.pi)\n",
    "    trial_ecc_SNR = ecc_SNR_abs*np.exp(1j*ecc_SNR_ang)\n",
    "    trial_ecc_SNRs__.append(np.abs(trial_ecc_SNR))\n",
    "\n",
    "    print(f'\\r{i+1} complete out of {len(e10s)}', end='')"
   ]
  },
  {
   "cell_type": "code",
   "execution_count": null,
   "id": "3ed8571d-2632-4bf2-8fe0-a2c15d6cfc37",
   "metadata": {},
   "outputs": [],
   "source": [
    "# Plot results\n",
    "plt.plot(e10s__, data_matches__)\n",
    "plt.ylim(0.8,1)\n",
    "plt.xlim(0,)\n",
    "plt.axvline(true_dict['ecc10sqrd']**0.5, c='k', ls='dashed')\n",
    "plt.show()"
   ]
  },
  {
   "cell_type": "code",
   "execution_count": null,
   "id": "496dcd3f-a95d-493d-b62c-b67abd650dbe",
   "metadata": {},
   "outputs": [],
   "source": [
    "# Plot results\n",
    "plt.plot(e10s__, data_ecc_SNRs__)\n",
    "plt.plot(e10s__, trial_ecc_SNRs__)\n",
    "plt.axvline(true_dict['ecc10sqrd']**0.5, c='k', ls='dashed')\n",
    "plt.ylim(0,)\n",
    "plt.xlim(0,)\n",
    "plt.show()"
   ]
  },
  {
   "cell_type": "markdown",
   "id": "0b260bb9-99aa-4e60-a45c-2a5ebce40032",
   "metadata": {},
   "source": [
    "# Method"
   ]
  },
  {
   "cell_type": "code",
   "execution_count": 10,
   "id": "7b7f32d0-5b0f-45e2-9046-c57a6082988a",
   "metadata": {},
   "outputs": [],
   "source": [
    "def gen_test_wfs(data, params, f_low, psd, n_ecc_harms, two_ecc_harms=True, return_all=False):\n",
    "\n",
    "    # Make eccentric harmonics\n",
    "    ecc_harms = make_waveform(params, psd.delta_f, f_low, len(psd), approximant='TEOBResumS-Dali-Harms', n_ecc_harms=n_ecc_harms)\n",
    "    f_gen = calc_f_gen(f_low, n_ecc_harms)\n",
    "\n",
    "    # Match harmonics to data\n",
    "    harm_perp = {}\n",
    "    for key in ecc_harms.keys():\n",
    "        harm_perp[key] = ecc_harms[key] / sigma(ecc_harms[key], psd, low_frequency_cutoff=f_low,\n",
    "                                                high_frequency_cutoff=psd.sample_frequencies[-1])\n",
    "    mode_SNRs, _ = calculate_mode_snr(data, psd, harm_perp, data.sample_times[0],\n",
    "                                      data.sample_times[-1], f_low, harm_perp.keys(), dominant_mode=0, subsample_interpolation=False)\n",
    "    if two_ecc_harms:\n",
    "        data_ecc_SNR, target_MA = two_ecc_harms_SNR({k: np.abs(mode_SNRs[k]) for k in [0,1,-1]},\n",
    "                                                    {k: np.angle(mode_SNRs[k]) for k in [0,1,-1]})\n",
    "    else:\n",
    "        data_ecc_SNR = np.abs(mode_SNRs[1])/np.abs(mode_SNRs[0])\n",
    "        target_MA = (np.angle(mode_SNRs[1])-np.angle(mode_SNRs[0])) % (2*np.pi)\n",
    "\n",
    "    # Make trial waveform at correct MA and match to data\n",
    "    params['inverted_mass_ratio'] = 1/q_from_eta(params['symmetric_mass_ratio'])\n",
    "    params['total_mass'] = np.sum(component_masses_from_mchirp_q(params['chirp_mass'], params['inverted_mass_ratio']))\n",
    "    trial_wf = generate_eccentric_waveform_MA(params['total_mass'], params['inverted_mass_ratio'],\n",
    "                                              params['ecc10sqrd']**0.5, params['chi_eff'], params['chi_eff'],\n",
    "                                              psd, f_low, target_MA, ecc_harms, two_ecc_harms=two_ecc_harms)\n",
    "\n",
    "    if return_all:\n",
    "        return trial_wf, ecc_harms, data_ecc_SNR\n",
    "    return trial_wf"
   ]
  },
  {
   "cell_type": "code",
   "execution_count": 11,
   "id": "664a2fbb-a49b-4d24-9e9d-fdd49a6aaeca",
   "metadata": {},
   "outputs": [],
   "source": [
    "def test_ecc_point(e10, data, base_dict, fid_dict, f_low, psd, n_ecc_harms, two_ecc_harms=True):\n",
    "    \n",
    "    # Make param dictionary\n",
    "    dist = (e10**2-base_dict['ecc10sqrd'])/(fid_dict['ecc10sqrd']-base_dict['ecc10sqrd'])\n",
    "    params = {'distance': 1}\n",
    "    param_keys = ['ecc10sqrd', 'chirp_mass', 'symmetric_mass_ratio', 'chi_eff']\n",
    "    for param in param_keys:\n",
    "        params[param] = dist*(fid_dict[param]-base_dict[param])+base_dict[param]\n",
    "\n",
    "    # Create harmonics and trial waveform\n",
    "    trial_wf = gen_test_wfs(data, params, f_low, psd, n_ecc_harms, two_ecc_harms=True)\n",
    "    data_snr = matched_filter(trial_wf, data, psd, low_frequency_cutoff=f_low,\n",
    "                              high_frequency_cutoff=psd.sample_frequencies[-1])\n",
    "    maxsnr, max_id = data_snr.abs_max_loc()\n",
    "    # left = abs(data_snr[-1]) if max_id == 0 else abs(data_snr[max_id - 1])\n",
    "    # right = abs(data_snr[0]) if max_id == (len(data_snr) - 1) else abs(data_snr[max_id + 1])\n",
    "    # _, maxsnr = quadratic_interpolate_peak(left, maxsnr, right)\n",
    "\n",
    "    print(e10, maxsnr)\n",
    "\n",
    "    return -maxsnr"
   ]
  },
  {
   "cell_type": "code",
   "execution_count": 12,
   "id": "3592e0e6-634c-43e7-bc22-6a86d581bb03",
   "metadata": {},
   "outputs": [],
   "source": [
    "def find_ecc_peak(data, base_dict, fid_dict, f_low, psd, n_ecc_harms, two_ecc_harms=True):\n",
    "\n",
    "    # Find initial guess\n",
    "    first_params = {key: fid_dict[key] for key in ['ecc10sqrd', 'chirp_mass', 'symmetric_mass_ratio', 'chi_eff']}\n",
    "    first_params['distance'] = 1\n",
    "    first_trial_wf, first_ecc_harms, first_data_ecc_SNR = gen_test_wfs(data, first_params, f_low, psd, n_ecc_harms,\n",
    "                                                                       two_ecc_harms=True, return_all=True)\n",
    "    trial_z, _ = calculate_mode_snr(first_trial_wf, psd, first_ecc_harms, first_trial_wf.sample_times[0],\n",
    "                                    first_trial_wf.sample_times[-1], f_low, first_ecc_harms.keys(),\n",
    "                                    dominant_mode=0, subsample_interpolation=False)\n",
    "    print({k: np.abs(trial_z[k]) for k in trial_z.keys()})\n",
    "    if two_ecc_harms:\n",
    "        ecc_SNR_abs, _ = two_ecc_harms_SNR(\n",
    "            {k: np.abs(trial_z[k]) for k in [0, 1, -1]},\n",
    "            {k: np.angle(trial_z[k]) for k in [0, 1, -1]})\n",
    "    else:\n",
    "        ecc_SNR_abs = np.abs(trial_z[1]/trial_z[0])\n",
    "    init_e10 = (first_data_ecc_SNR/ecc_SNR_abs)*(fid_dict['ecc10sqrd']**0.5)\n",
    "    print(ecc_SNR_abs, first_data_ecc_SNR, fid_dict['ecc10sqrd']**0.5)\n",
    "    print(init_e10)\n",
    "    print('')\n",
    "\n",
    "    # Use scipy optimise to find maximum match\n",
    "    bounds = [(0, 0.8)]\n",
    "    peak_e10 = minimize(lambda x: test_ecc_point(x, data, base_dict, fid_dict, f_low, psd, n_ecc_harms, two_ecc_harms=two_ecc_harms),\n",
    "                        init_e10, bounds=bounds, method='Nelder-Mead', options={'disp': True, 'xatol': 0.003})\n",
    "\n",
    "    return peak_e10"
   ]
  },
  {
   "cell_type": "code",
   "execution_count": null,
   "id": "aa650df3-2c21-4d1c-8672-88a92d358542",
   "metadata": {},
   "outputs": [
    {
     "name": "stdout",
     "output_type": "stream",
     "text": [
      "{0: 33851.71746629399, 1: 3684.00628099899, -1: 1518.689404400999, 2: 362.72203235268785}\n",
      "0.11767175312805506 0.1912894900151531 [0.1041551]\n",
      "[0.16931655]\n",
      "\n"
     ]
    }
   ],
   "source": [
    "# Data settings\n",
    "true_dict = {'ecc10sqrd': 0.2**2, 'chirp_mass': 24, 'symmetric_mass_ratio': 2/9, 'chi_eff': 0}\n",
    "target_snr = 20\n",
    "f_low = 20\n",
    "sample_rate = 4096\n",
    "tlen = 32\n",
    "\n",
    "# Create psd\n",
    "ifos = ['H1']\n",
    "psds = {'H1': 'aLIGOZeroDetHighPower',\n",
    "        'f_low': f_low,\n",
    "        'f_high': int(sample_rate/2),\n",
    "        'length': tlen,\n",
    "        'delta_f': 1. / tlen\n",
    "        }\n",
    "psd = {}\n",
    "for ifo in ifos:\n",
    "    psd[ifo] = psd_func.analytical.from_string(psds[ifo], psds['length'] * psds['f_high'] + 1, psds['delta_f'],\n",
    "                                                     psds['f_low'])\n",
    "psd['harm'] = 1. / sum([1. / psd[ifo] for ifo in ifos])\n",
    "\n",
    "# Generate data\n",
    "true_dict['mass_ratio'] = q_from_eta(true_dict['symmetric_mass_ratio'])\n",
    "true_dict['inverted_mass_ratio'] = 1/true_dict['mass_ratio']\n",
    "true_dict['total_mass'] = np.sum(component_masses_from_mchirp_q(true_dict['chirp_mass'], true_dict['mass_ratio']), axis=0)\n",
    "true_dict['distance'] = 1\n",
    "data = make_waveform(true_dict.copy(), psd['harm'].delta_f, f_low, len(psd['harm']), approximant='TEOBResumS-Dali')\n",
    "raw_snr = sigma(data, psd['H1'], low_frequency_cutoff=f_low, high_frequency_cutoff=psds['f_high'])\n",
    "data = {'H1': data.to_timeseries()*target_snr/raw_snr}\n",
    "true_dict['distance'] = raw_snr/target_snr\n",
    "\n",
    "# Get degeneracy line in roughly correct direction\n",
    "with open('pe_4d_pipeline/dataslot_0/all_matches', 'rb') as fp:\n",
    "    all_matches = pickle.load(fp)\n",
    "base_dict = all_matches['metadata']['base_params']\n",
    "fid_dict = all_matches['metadata']['fid_params']\n",
    "\n",
    "# Shift degeneracy line to pass through true point\n",
    "mult = true_dict['ecc10sqrd']/(fid_dict['ecc10sqrd']-base_dict['ecc10sqrd'])\n",
    "for key in ['chirp_mass', 'symmetric_mass_ratio', 'chi_eff']:\n",
    "    proj_point = mult*(fid_dict[key]-base_dict[key])+base_dict[key]\n",
    "    proj_diff = true_dict[key]-proj_point\n",
    "    base_dict[key] += proj_diff\n",
    "    fid_dict[key] += proj_diff\n",
    "\n",
    "start = time.time()\n",
    "peak_e_10 = find_ecc_peak(data['H1'], base_dict, fid_dict, f_low, psd['H1'], 4)\n",
    "print(peak_e_10)\n",
    "end = time.time()\n",
    "print(f'{end-start} seconds')"
   ]
  },
  {
   "cell_type": "code",
   "execution_count": null,
   "id": "0b289f01-466c-4aea-8824-95312d51120b",
   "metadata": {},
   "outputs": [],
   "source": []
  }
 ],
 "metadata": {
  "kernelspec": {
   "display_name": "igwn_eccentric",
   "language": "python",
   "name": "igwn_eccentric"
  },
  "language_info": {
   "codemirror_mode": {
    "name": "ipython",
    "version": 3
   },
   "file_extension": ".py",
   "mimetype": "text/x-python",
   "name": "python",
   "nbconvert_exporter": "python",
   "pygments_lexer": "ipython3",
   "version": "3.10.14"
  }
 },
 "nbformat": 4,
 "nbformat_minor": 5
}
