{
 "cells": [
  {
   "cell_type": "code",
   "execution_count": 28,
   "id": "98a0581f-02b8-42fe-8a20-f9f7e51a81b1",
   "metadata": {},
   "outputs": [],
   "source": [
    "import time\n",
    "import pickle\n",
    "import numpy as np\n",
    "import matplotlib.pyplot as plt\n",
    "from scipy.optimize import minimize\n",
    "from pesummary.gw.conversions.mass import component_masses_from_mchirp_q, q_from_eta\n",
    "from pycbc import psd as psd_func\n",
    "from pycbc.filter import sigma, match, matched_filter\n",
    "from pycbc.filter.matchedfilter import quadratic_interpolate_peak\n",
    "from pycbc.noise import frequency_noise_from_psd\n",
    "from simple_pe.waveforms import make_waveform, calc_f_gen, two_ecc_harms_SNR, calculate_mode_snr, generate_eccentric_waveform_MA\n",
    "from calcwf import match_hn\n",
    "\n",
    "# Disable pesummary warnings\n",
    "import logging\n",
    "_logger = logging.getLogger('PESummary')\n",
    "_logger.setLevel(logging.CRITICAL + 10)\n",
    "\n",
    "# Otherwise plt.savefig crashes with latex errors\n",
    "import matplotlib as mpl\n",
    "mpl.rcParams.update(mpl.rcParamsDefault)"
   ]
  },
  {
   "cell_type": "markdown",
   "id": "c69d46f5-1552-4ae0-bb90-44a412668178",
   "metadata": {
    "jp-MarkdownHeadingCollapsed": true
   },
   "source": [
    "# e=0.2, chirp=24"
   ]
  },
  {
   "cell_type": "code",
   "execution_count": 2,
   "id": "c73f1b66-3aee-4ac5-b062-68b920dbb7b4",
   "metadata": {},
   "outputs": [
    {
     "name": "stderr",
     "output_type": "stream",
     "text": [
      "/home/ben.patterson/.conda/envs/igwn_eccentric/lib/python3.10/site-packages/pycbc/types/array.py:390: RuntimeWarning: divide by zero encountered in divide\n",
      "  return self._data.__rtruediv__(other)\n"
     ]
    }
   ],
   "source": [
    "# Data settings\n",
    "true_dict = {'ecc10sqrd': 0.2**2, 'chirp_mass': 24, 'symmetric_mass_ratio': 2/9, 'chi_eff': 0}\n",
    "target_snr = 20\n",
    "f_low = 20\n",
    "sample_rate = 4096\n",
    "tlen = 32\n",
    "\n",
    "# Create psd\n",
    "ifos = ['H1']\n",
    "psds = {'H1': 'aLIGOZeroDetHighPower',\n",
    "        'f_low': f_low,\n",
    "        'f_high': int(sample_rate/2),\n",
    "        'length': tlen,\n",
    "        'delta_f': 1. / tlen\n",
    "        }\n",
    "psd = {}\n",
    "for ifo in ifos:\n",
    "    psd[ifo] = psd_func.analytical.from_string(psds[ifo], psds['length'] * psds['f_high'] + 1, psds['delta_f'],\n",
    "                                                     psds['f_low'])\n",
    "psd['harm'] = 1. / sum([1. / psd[ifo] for ifo in ifos])\n",
    "\n",
    "# Generate data\n",
    "true_dict['mass_ratio'] = q_from_eta(true_dict['symmetric_mass_ratio'])\n",
    "true_dict['inverted_mass_ratio'] = 1/true_dict['mass_ratio']\n",
    "true_dict['total_mass'] = np.sum(component_masses_from_mchirp_q(true_dict['chirp_mass'], true_dict['mass_ratio']), axis=0)\n",
    "true_dict['distance'] = 1\n",
    "data = make_waveform(true_dict.copy(), psd['harm'].delta_f, f_low, len(psd['harm']), approximant='TEOBResumS-Dali')\n",
    "raw_snr = sigma(data, psd['H1'], low_frequency_cutoff=f_low, high_frequency_cutoff=psds['f_high'])\n",
    "data = {'H1': data.to_timeseries()*target_snr/raw_snr}\n",
    "true_dict['distance'] = raw_snr/target_snr"
   ]
  },
  {
   "cell_type": "markdown",
   "id": "62f07ba4-150d-45cf-a07c-5fb1bf87c037",
   "metadata": {
    "jp-MarkdownHeadingCollapsed": true
   },
   "source": [
    "## Performing direct match to data"
   ]
  },
  {
   "cell_type": "markdown",
   "id": "9d0bbcc4-69c6-4f80-aa8c-54130d3fab87",
   "metadata": {},
   "source": [
    "### Exact degeneracy line"
   ]
  },
  {
   "cell_type": "code",
   "execution_count": 3,
   "id": "3f5c05fb-cbb2-4771-9102-7e74ce15503e",
   "metadata": {},
   "outputs": [],
   "source": [
    "# Get degeneracy line in roughly correct direction\n",
    "with open('pe_4d_pipeline/dataslot_0/all_matches', 'rb') as fp:\n",
    "    all_matches = pickle.load(fp)\n",
    "base_dict = all_matches['metadata']['base_params']\n",
    "fid_dict = all_matches['metadata']['fid_params']\n",
    "\n",
    "# Shift degeneracy line to pass through true point\n",
    "mult = true_dict['ecc10sqrd']/(fid_dict['ecc10sqrd']-base_dict['ecc10sqrd'])\n",
    "for key in ['chirp_mass', 'symmetric_mass_ratio', 'chi_eff']:\n",
    "    proj_point = mult*(fid_dict[key]-base_dict[key])+base_dict[key]\n",
    "    proj_diff = true_dict[key]-proj_point\n",
    "    base_dict[key] += proj_diff\n",
    "    fid_dict[key] += proj_diff"
   ]
  },
  {
   "cell_type": "code",
   "execution_count": 15,
   "id": "1c6eb421-654a-4671-84f4-68a2fd4a8a9c",
   "metadata": {},
   "outputs": [
    {
     "name": "stdout",
     "output_type": "stream",
     "text": [
      "1 complete out of 21"
     ]
    },
    {
     "name": "stderr",
     "output_type": "stream",
     "text": [
      "\n",
      "KeyboardInterrupt\n",
      "\n"
     ]
    }
   ],
   "source": [
    "# Loop over distance along degeneracy line\n",
    "data_ecc_SNRs_ = []\n",
    "trial_ecc_SNRs_ = []\n",
    "data_matches_ = []\n",
    "param_keys = ['ecc10sqrd', 'chirp_mass', 'symmetric_mass_ratio', 'chi_eff']\n",
    "e10s_ = np.linspace(0.1, 0.3, 21)\n",
    "for i, e10 in enumerate(e10s_):\n",
    "    dist = (e10**2-base_dict['ecc10sqrd'])/(fid_dict['ecc10sqrd']-base_dict['ecc10sqrd'])\n",
    "    params = {'distance': 1}\n",
    "    for param in param_keys:\n",
    "        params[param] = dist*(fid_dict[param]-base_dict[param])+base_dict[param]\n",
    "\n",
    "    # Make eccentric harmonics and match to data\n",
    "    ecc_harms = make_waveform(params, psd['H1'].delta_f, f_low, len(psd['H1']), approximant='TEOBResumS-Dali-Harms', n_ecc_harms=4)\n",
    "    wf_hjs = [ecc_harms[k].to_timeseries() for k in [0, 1, -1, 2]]\n",
    "    f_gen = calc_f_gen(f_low, 4)\n",
    "    match_cplx = match_hn(wf_hjs, data['H1'], f_gen, psd=psd['H1'], f_match=f_low)\n",
    "    # data_ecc_SNR = np.abs(match_cplx[1])/np.abs(match_cplx[0])\n",
    "    # target_MA = (np.angle(match_cplx[1])-np.angle(match_cplx[0])) % (2*np.pi)\n",
    "    data_ecc_SNR, target_MA = two_ecc_harms_SNR({0: np.abs(match_cplx[0]), 1: np.abs(match_cplx[1]), -1: np.abs(match_cplx[2])},\n",
    "                                                {0: np.angle(match_cplx[0]), 1: np.angle(match_cplx[1]), -1: np.angle(match_cplx[2])})\n",
    "    data_ecc_SNR = data_ecc_SNR*np.exp(1j*target_MA)\n",
    "    data_ecc_SNRs_.append(np.abs(data_ecc_SNR))\n",
    "    \n",
    "    # Calculate trial waveform with correct MA and match to data\n",
    "    two_ecc_harms=True\n",
    "    params['inverted_mass_ratio'] = 1/q_from_eta(params['symmetric_mass_ratio'])\n",
    "    params['total_mass'] = np.sum(component_masses_from_mchirp_q(params['chirp_mass'], params['inverted_mass_ratio']))\n",
    "    trial_wf = generate_eccentric_waveform_MA(params['total_mass'], params['inverted_mass_ratio'],\n",
    "                                              params['ecc10sqrd']**0.5, params['chi_eff'], params['chi_eff'],\n",
    "                                              psd['H1'], f_low, target_MA, ecc_harms, two_ecc_harms=two_ecc_harms)\n",
    "    data_match, _ = match(data['H1'], trial_wf, psd=psd['H1'], low_frequency_cutoff=f_low, high_frequency_cutoff=psds['f_high'])\n",
    "    data_matches_.append(data_match)\n",
    "\n",
    "    # Match trial waveform to eccentric harmonics\n",
    "    trial_z, _ = calculate_mode_snr(trial_wf, psd['H1'], ecc_harms, trial_wf.sample_times[0],\n",
    "                                    trial_wf.sample_times[-1], f_low, ecc_harms.keys(),\n",
    "                                    dominant_mode=0)\n",
    "    if two_ecc_harms:\n",
    "        harm_ids = [0, 1, -1]\n",
    "        ecc_SNR_abs, ecc_SNR_ang = two_ecc_harms_SNR(\n",
    "            {k: np.abs(trial_z[k]) for k in harm_ids},\n",
    "            {k: np.angle(trial_z[k]) for k in harm_ids})\n",
    "    else:\n",
    "        ecc_SNR_abs = np.abs(trial_z[1]/trial_z[0])\n",
    "        ecc_SNR_ang = (np.angle(trial_z[1])-np.angle(trial_z[0])) % (2*np.pi)\n",
    "    trial_ecc_SNR = ecc_SNR_abs*np.exp(1j*ecc_SNR_ang)\n",
    "    trial_ecc_SNRs_.append(np.abs(trial_ecc_SNR))\n",
    "\n",
    "    print(f'\\r{i+1} complete out of {len(e10s_)}', end='')"
   ]
  },
  {
   "cell_type": "code",
   "execution_count": 7,
   "id": "f3f14aa0-3b36-4b6d-a114-ffea2dd15663",
   "metadata": {},
   "outputs": [
    {
     "data": {
      "image/png": "[encoded data removed]",
      "text/plain": [
       "<Figure size 640x480 with 1 Axes>"
      ]
     },
     "metadata": {},
     "output_type": "display_data"
    }
   ],
   "source": [
    "# Plot results\n",
    "plt.plot(e10s_, data_matches_)\n",
    "plt.ylim(0.97,1)\n",
    "plt.axvline(true_dict['ecc10sqrd']**0.5, c='k', ls='dashed')\n",
    "plt.show()"
   ]
  },
  {
   "cell_type": "code",
   "execution_count": 8,
   "id": "5668563c-9a22-4a3f-befa-6f27e825547a",
   "metadata": {},
   "outputs": [
    {
     "data": {
      "image/png": "[encoded data removed]",
      "text/plain": [
       "<Figure size 640x480 with 1 Axes>"
      ]
     },
     "metadata": {},
     "output_type": "display_data"
    }
   ],
   "source": [
    "# Plot results\n",
    "plt.plot(e10s_, data_ecc_SNRs_)\n",
    "plt.plot(e10s_, trial_ecc_SNRs_)\n",
    "plt.axvline(true_dict['ecc10sqrd']**0.5, c='k', ls='dashed')\n",
    "plt.ylim(0,)\n",
    "plt.xlim(0,)\n",
    "plt.show()"
   ]
  },
  {
   "cell_type": "markdown",
   "id": "e216fe2f-7e20-4343-a772-46ff56c8a693",
   "metadata": {},
   "source": [
    "### Imperfect degeneracy line"
   ]
  },
  {
   "cell_type": "code",
   "execution_count": 9,
   "id": "0c94e1d1-828e-4700-bfd5-a932764d139e",
   "metadata": {},
   "outputs": [],
   "source": [
    "# Get degeneracy line in roughly correct direction\n",
    "with open('pe_4d_pipeline/dataslot_0/all_matches', 'rb') as fp:\n",
    "    all_matches = pickle.load(fp)\n",
    "base_dict = all_matches['metadata']['base_params']\n",
    "fid_dict = all_matches['metadata']['fid_params']"
   ]
  },
  {
   "cell_type": "code",
   "execution_count": 12,
   "id": "8a6b37ce-1e6c-49f6-911e-cd905f639f6e",
   "metadata": {},
   "outputs": [
    {
     "name": "stdout",
     "output_type": "stream",
     "text": [
      "21 complete out of 21"
     ]
    }
   ],
   "source": [
    "# Loop over distance along degeneracy line\n",
    "data_ecc_SNRs__ = []\n",
    "trial_ecc_SNRs__ = []\n",
    "data_matches__ = []\n",
    "param_keys = ['ecc10sqrd', 'chirp_mass', 'symmetric_mass_ratio', 'chi_eff']\n",
    "e10s__ = np.linspace(0.05, 0.25, 21)\n",
    "for i, e10 in enumerate(e10s__):\n",
    "    dist = (e10**2-base_dict['ecc10sqrd'])/(fid_dict['ecc10sqrd']-base_dict['ecc10sqrd'])\n",
    "    params = {'distance': 1}\n",
    "    for param in param_keys:\n",
    "        params[param] = dist*(fid_dict[param]-base_dict[param])+base_dict[param]\n",
    "\n",
    "    # Make eccentric harmonics and match to data\n",
    "    ecc_harms = make_waveform(params, psd['H1'].delta_f, f_low, len(psd['H1']), approximant='TEOBResumS-Dali-Harms', n_ecc_harms=4)\n",
    "    wf_hjs = [ecc_harms[k].to_timeseries() for k in [0, 1, -1, 2]]\n",
    "    f_gen = calc_f_gen(f_low, 4)\n",
    "    match_cplx = match_hn(wf_hjs, data['H1'], f_gen, psd=psd['H1'], f_match=f_low)\n",
    "    # data_ecc_SNR = np.abs(match_cplx[1])/np.abs(match_cplx[0])\n",
    "    # target_MA = (np.angle(match_cplx[1])-np.angle(match_cplx[0])) % (2*np.pi)\n",
    "    data_ecc_SNR, target_MA = two_ecc_harms_SNR({0: np.abs(match_cplx[0]), 1: np.abs(match_cplx[1]), -1: np.abs(match_cplx[2])},\n",
    "                                                {0: np.angle(match_cplx[0]), 1: np.angle(match_cplx[1]), -1: np.angle(match_cplx[2])})\n",
    "    data_ecc_SNR = data_ecc_SNR*np.exp(1j*target_MA)\n",
    "    data_ecc_SNRs__.append(np.abs(data_ecc_SNR))\n",
    "    \n",
    "    # Calculate trial waveform with correct MA and match to data\n",
    "    two_ecc_harms=True\n",
    "    params['inverted_mass_ratio'] = 1/q_from_eta(params['symmetric_mass_ratio'])\n",
    "    params['total_mass'] = np.sum(component_masses_from_mchirp_q(params['chirp_mass'], params['inverted_mass_ratio']))\n",
    "    trial_wf = generate_eccentric_waveform_MA(params['total_mass'], params['inverted_mass_ratio'],\n",
    "                                              params['ecc10sqrd']**0.5, params['chi_eff'], params['chi_eff'],\n",
    "                                              psd['H1'], f_low, target_MA, ecc_harms, two_ecc_harms=two_ecc_harms)\n",
    "    data_match, _ = match(data['H1'], trial_wf, psd=psd['H1'], low_frequency_cutoff=f_low, high_frequency_cutoff=psds['f_high'])\n",
    "    data_matches__.append(data_match)\n",
    "\n",
    "    # Match trial waveform to eccentric harmonics\n",
    "    trial_z, _ = calculate_mode_snr(trial_wf, psd['H1'], ecc_harms, trial_wf.sample_times[0],\n",
    "                                    trial_wf.sample_times[-1], f_low, ecc_harms.keys(),\n",
    "                                    dominant_mode=0)\n",
    "    if two_ecc_harms:\n",
    "        harm_ids = [0, 1, -1]\n",
    "        ecc_SNR_abs, ecc_SNR_ang = two_ecc_harms_SNR(\n",
    "            {k: np.abs(trial_z[k]) for k in harm_ids},\n",
    "            {k: np.angle(trial_z[k]) for k in harm_ids})\n",
    "    else:\n",
    "        ecc_SNR_abs = np.abs(trial_z[1]/trial_z[0])\n",
    "        ecc_SNR_ang = (np.angle(trial_z[1])-np.angle(trial_z[0])) % (2*np.pi)\n",
    "    trial_ecc_SNR = ecc_SNR_abs*np.exp(1j*ecc_SNR_ang)\n",
    "    trial_ecc_SNRs__.append(np.abs(trial_ecc_SNR))\n",
    "\n",
    "    print(f'\\r{i+1} complete out of {len(e10s__)}', end='')"
   ]
  },
  {
   "cell_type": "code",
   "execution_count": 13,
   "id": "95775479-0abc-4701-aa60-701461f3d4d5",
   "metadata": {},
   "outputs": [
    {
     "data": {
      "image/png": "[encoded data removed]",
      "text/plain": [
       "<Figure size 640x480 with 1 Axes>"
      ]
     },
     "metadata": {},
     "output_type": "display_data"
    }
   ],
   "source": [
    "# Plot results\n",
    "plt.plot(e10s__, data_matches__)\n",
    "plt.ylim(0.95,1)\n",
    "plt.xlim(0,)\n",
    "plt.axvline(true_dict['ecc10sqrd']**0.5, c='k', ls='dashed')\n",
    "plt.show()"
   ]
  },
  {
   "cell_type": "code",
   "execution_count": 14,
   "id": "55fa76dd-6a8e-4a78-b8e5-d9313e463dea",
   "metadata": {},
   "outputs": [
    {
     "data": {
      "image/png": "[encoded data removed]",
      "text/plain": [
       "<Figure size 640x480 with 1 Axes>"
      ]
     },
     "metadata": {},
     "output_type": "display_data"
    }
   ],
   "source": [
    "# Plot results\n",
    "plt.plot(e10s__, data_ecc_SNRs__)\n",
    "plt.plot(e10s__, trial_ecc_SNRs__)\n",
    "plt.axvline(true_dict['ecc10sqrd']**0.5, c='k', ls='dashed')\n",
    "plt.ylim(0,)\n",
    "plt.xlim(0,)\n",
    "plt.show()"
   ]
  },
  {
   "cell_type": "markdown",
   "id": "6752e35b-731b-4594-8f7c-9a7a6f46dbc4",
   "metadata": {
    "jp-MarkdownHeadingCollapsed": true
   },
   "source": [
    "# e=0.3, chirp=16"
   ]
  },
  {
   "cell_type": "code",
   "execution_count": null,
   "id": "195a260b-e34b-4d32-8211-16045409cf08",
   "metadata": {},
   "outputs": [],
   "source": [
    "# Data settings\n",
    "true_dict = {'ecc10sqrd': 0.3**2, 'chirp_mass': 16, 'symmetric_mass_ratio': 2/9, 'chi_eff': 0}\n",
    "target_snr = 20\n",
    "f_low = 20\n",
    "sample_rate = 4096\n",
    "tlen = 32\n",
    "\n",
    "# Create psd\n",
    "ifos = ['H1']\n",
    "psds = {'H1': 'aLIGOZeroDetHighPower',\n",
    "        'f_low': f_low,\n",
    "        'f_high': int(sample_rate/2),\n",
    "        'length': tlen,\n",
    "        'delta_f': 1. / tlen\n",
    "        }\n",
    "psd = {}\n",
    "for ifo in ifos:\n",
    "    psd[ifo] = psd_func.analytical.from_string(psds[ifo], psds['length'] * psds['f_high'] + 1, psds['delta_f'],\n",
    "                                                     psds['f_low'])\n",
    "psd['harm'] = 1. / sum([1. / psd[ifo] for ifo in ifos])\n",
    "\n",
    "# Generate data\n",
    "true_dict['mass_ratio'] = q_from_eta(true_dict['symmetric_mass_ratio'])\n",
    "true_dict['inverted_mass_ratio'] = 1/true_dict['mass_ratio']\n",
    "true_dict['total_mass'] = np.sum(component_masses_from_mchirp_q(true_dict['chirp_mass'], true_dict['mass_ratio']), axis=0)\n",
    "true_dict['distance'] = 1\n",
    "data = make_waveform(true_dict.copy(), psd['harm'].delta_f, f_low, len(psd['harm']), approximant='TEOBResumS-Dali')\n",
    "raw_snr = sigma(data, psd['H1'], low_frequency_cutoff=f_low, high_frequency_cutoff=psds['f_high'])\n",
    "data = {'H1': data.to_timeseries()*target_snr/raw_snr}\n",
    "true_dict['distance'] = raw_snr/target_snr"
   ]
  },
  {
   "cell_type": "markdown",
   "id": "3db3ff61-3b0c-447c-8e4a-e885ff06a023",
   "metadata": {},
   "source": [
    "## Performing direct match to data"
   ]
  },
  {
   "cell_type": "markdown",
   "id": "c9602120-355c-486c-9d54-ba0ad6911aa2",
   "metadata": {},
   "source": [
    "### Exact degeneracy line"
   ]
  },
  {
   "cell_type": "code",
   "execution_count": null,
   "id": "065823cb-1c31-453f-88db-2cc92db53970",
   "metadata": {},
   "outputs": [],
   "source": [
    "# Get degeneracy line in roughly correct direction\n",
    "with open('pe_4d_pipeline/dataslot_1/all_matches', 'rb') as fp:\n",
    "    all_matches = pickle.load(fp)\n",
    "base_dict = all_matches['metadata']['base_params']\n",
    "fid_dict = all_matches['metadata']['fid_params']\n",
    "\n",
    "# Shift degeneracy line to pass through true point\n",
    "mult = true_dict['ecc10sqrd']/(fid_dict['ecc10sqrd']-base_dict['ecc10sqrd'])\n",
    "for key in ['chirp_mass', 'symmetric_mass_ratio', 'chi_eff']:\n",
    "    proj_point = mult*(fid_dict[key]-base_dict[key])+base_dict[key]\n",
    "    proj_diff = true_dict[key]-proj_point\n",
    "    base_dict[key] += proj_diff\n",
    "    fid_dict[key] += proj_diff"
   ]
  },
  {
   "cell_type": "code",
   "execution_count": null,
   "id": "e1affef8-4ffa-4f0d-9018-c7512503ecd5",
   "metadata": {},
   "outputs": [],
   "source": [
    "# Loop over distance along degeneracy line\n",
    "data_ecc_SNRs_ = []\n",
    "trial_ecc_SNRs_ = []\n",
    "data_matches_ = []\n",
    "param_keys = ['ecc10sqrd', 'chirp_mass', 'symmetric_mass_ratio', 'chi_eff']\n",
    "e10s = np.linspace(0, 0.5, 21)\n",
    "for i, e10 in enumerate(e10s):\n",
    "    dist = (e10**2-base_dict['ecc10sqrd'])/(fid_dict['ecc10sqrd']-base_dict['ecc10sqrd'])\n",
    "    params = {'distance': 1}\n",
    "    for param in param_keys:\n",
    "        params[param] = dist*(fid_dict[param]-base_dict[param])+base_dict[param]\n",
    "\n",
    "    # Make eccentric harmonics and match to data\n",
    "    ecc_harms = make_waveform(params, psd['H1'].delta_f, f_low, len(psd['H1']), approximant='TEOBResumS-Dali-Harms', n_ecc_harms=4)\n",
    "    wf_hjs = [ecc_harms[k].to_timeseries() for k in [0, 1, -1, 2]]\n",
    "    f_gen = calc_f_gen(f_low, 4)\n",
    "    match_cplx = match_hn(wf_hjs, data['H1'], f_gen, psd=psd['H1'], f_match=f_low)\n",
    "    # data_ecc_SNR = np.abs(match_cplx[1])/np.abs(match_cplx[0])\n",
    "    # target_MA = (np.angle(match_cplx[1])-np.angle(match_cplx[0])) % (2*np.pi)\n",
    "    data_ecc_SNR, target_MA = two_ecc_harms_SNR({0: np.abs(match_cplx[0]), 1: np.abs(match_cplx[1]), -1: np.abs(match_cplx[2])},\n",
    "                                                {0: np.angle(match_cplx[0]), 1: np.angle(match_cplx[1]), -1: np.angle(match_cplx[2])})\n",
    "    data_ecc_SNR = data_ecc_SNR*np.exp(1j*target_MA)\n",
    "    data_ecc_SNRs_.append(np.abs(data_ecc_SNR))\n",
    "    \n",
    "    # Calculate trial waveform with correct MA and match to data\n",
    "    two_ecc_harms=True\n",
    "    params['inverted_mass_ratio'] = 1/q_from_eta(params['symmetric_mass_ratio'])\n",
    "    params['total_mass'] = np.sum(component_masses_from_mchirp_q(params['chirp_mass'], params['inverted_mass_ratio']))\n",
    "    trial_wf = generate_eccentric_waveform_MA(params['total_mass'], params['inverted_mass_ratio'],\n",
    "                                              params['ecc10sqrd']**0.5, params['chi_eff'], params['chi_eff'],\n",
    "                                              psd['H1'], f_low, target_MA, ecc_harms, two_ecc_harms=two_ecc_harms)\n",
    "    data_match, _ = match(data['H1'], trial_wf, psd=psd['H1'], low_frequency_cutoff=f_low, high_frequency_cutoff=psds['f_high'])\n",
    "    data_matches_.append(data_match)\n",
    "\n",
    "    # Match trial waveform to eccentric harmonics\n",
    "    trial_z, _ = calculate_mode_snr(trial_wf, psd['H1'], ecc_harms, trial_wf.sample_times[0],\n",
    "                                    trial_wf.sample_times[-1], f_low, ecc_harms.keys(),\n",
    "                                    dominant_mode=0)\n",
    "    if two_ecc_harms:\n",
    "        harm_ids = [0, 1, -1]\n",
    "        ecc_SNR_abs, ecc_SNR_ang = two_ecc_harms_SNR(\n",
    "            {k: np.abs(trial_z[k]) for k in harm_ids},\n",
    "            {k: np.angle(trial_z[k]) for k in harm_ids})\n",
    "    else:\n",
    "        ecc_SNR_abs = np.abs(trial_z[1]/trial_z[0])\n",
    "        ecc_SNR_ang = (np.angle(trial_z[1])-np.angle(trial_z[0])) % (2*np.pi)\n",
    "    trial_ecc_SNR = ecc_SNR_abs*np.exp(1j*ecc_SNR_ang)\n",
    "    trial_ecc_SNRs_.append(np.abs(trial_ecc_SNR))\n",
    "\n",
    "    print(f'\\r{i+1} complete out of {len(e10s)}', end='')"
   ]
  },
  {
   "cell_type": "code",
   "execution_count": null,
   "id": "fd4bf094-81b0-4817-b875-3d05cabea102",
   "metadata": {},
   "outputs": [],
   "source": [
    "# Plot results\n",
    "plt.plot(e10s, data_matches_)\n",
    "plt.ylim(0.9,1)\n",
    "plt.axvline(true_dict['ecc10sqrd']**0.5, c='k', ls='dashed')\n",
    "plt.show()"
   ]
  },
  {
   "cell_type": "markdown",
   "id": "58dc9a60-487e-4ab9-a925-a853ae6d41cd",
   "metadata": {},
   "source": [
    "### Imperfect degeneracy line"
   ]
  },
  {
   "cell_type": "code",
   "execution_count": null,
   "id": "48cb9922-6207-4802-a8a0-688155343b57",
   "metadata": {},
   "outputs": [],
   "source": [
    "# Get degeneracy line in roughly correct direction\n",
    "with open('pe_4d_pipeline/dataslot_1/all_matches', 'rb') as fp:\n",
    "    all_matches = pickle.load(fp)\n",
    "base_dict = all_matches['metadata']['base_params']\n",
    "fid_dict = all_matches['metadata']['fid_params']"
   ]
  },
  {
   "cell_type": "code",
   "execution_count": null,
   "id": "43966aeb-730f-4acf-bd34-10d9a3f064d5",
   "metadata": {},
   "outputs": [],
   "source": [
    "# Loop over distance along degeneracy line\n",
    "data_ecc_SNRs__ = []\n",
    "trial_ecc_SNRs__ = []\n",
    "data_matches__ = []\n",
    "param_keys = ['ecc10sqrd', 'chirp_mass', 'symmetric_mass_ratio', 'chi_eff']\n",
    "e10s__ = np.linspace(0.2, 0.4, 21)\n",
    "for i, e10 in enumerate(e10s__):\n",
    "    dist = (e10**2-base_dict['ecc10sqrd'])/(fid_dict['ecc10sqrd']-base_dict['ecc10sqrd'])\n",
    "    params = {'distance': 1}\n",
    "    for param in param_keys:\n",
    "        params[param] = dist*(fid_dict[param]-base_dict[param])+base_dict[param]\n",
    "\n",
    "    # Make eccentric harmonics and match to data\n",
    "    ecc_harms = make_waveform(params, psd['H1'].delta_f, f_low, len(psd['H1']), approximant='TEOBResumS-Dali-Harms', n_ecc_harms=4)\n",
    "    wf_hjs = [ecc_harms[k].to_timeseries() for k in [0, 1, -1, 2]]\n",
    "    f_gen = calc_f_gen(f_low, 4)\n",
    "    match_cplx = match_hn(wf_hjs, data['H1'], f_gen, psd=psd['H1'], f_match=f_low)\n",
    "    # data_ecc_SNR = np.abs(match_cplx[1])/np.abs(match_cplx[0])\n",
    "    # target_MA = (np.angle(match_cplx[1])-np.angle(match_cplx[0])) % (2*np.pi)\n",
    "    data_ecc_SNR, target_MA = two_ecc_harms_SNR({0: np.abs(match_cplx[0]), 1: np.abs(match_cplx[1]), -1: np.abs(match_cplx[2])},\n",
    "                                                {0: np.angle(match_cplx[0]), 1: np.angle(match_cplx[1]), -1: np.angle(match_cplx[2])})\n",
    "    data_ecc_SNR = data_ecc_SNR*np.exp(1j*target_MA)\n",
    "    data_ecc_SNRs__.append(np.abs(data_ecc_SNR))\n",
    "    \n",
    "    # Calculate trial waveform with correct MA and match to data\n",
    "    two_ecc_harms=True\n",
    "    params['inverted_mass_ratio'] = 1/q_from_eta(params['symmetric_mass_ratio'])\n",
    "    params['total_mass'] = np.sum(component_masses_from_mchirp_q(params['chirp_mass'], params['inverted_mass_ratio']))\n",
    "    trial_wf = generate_eccentric_waveform_MA(params['total_mass'], params['inverted_mass_ratio'],\n",
    "                                              params['ecc10sqrd']**0.5, params['chi_eff'], params['chi_eff'],\n",
    "                                              psd['H1'], f_low, target_MA, ecc_harms, two_ecc_harms=two_ecc_harms)\n",
    "    data_match, _ = match(data['H1'], trial_wf, psd=psd['H1'], low_frequency_cutoff=f_low, high_frequency_cutoff=psds['f_high'])\n",
    "    data_matches__.append(data_match)\n",
    "\n",
    "    # Match trial waveform to eccentric harmonics\n",
    "    trial_z, _ = calculate_mode_snr(trial_wf, psd['H1'], ecc_harms, trial_wf.sample_times[0],\n",
    "                                    trial_wf.sample_times[-1], f_low, ecc_harms.keys(),\n",
    "                                    dominant_mode=0)\n",
    "    if two_ecc_harms:\n",
    "        harm_ids = [0, 1, -1]\n",
    "        ecc_SNR_abs, ecc_SNR_ang = two_ecc_harms_SNR(\n",
    "            {k: np.abs(trial_z[k]) for k in harm_ids},\n",
    "            {k: np.angle(trial_z[k]) for k in harm_ids})\n",
    "    else:\n",
    "        ecc_SNR_abs = np.abs(trial_z[1]/trial_z[0])\n",
    "        ecc_SNR_ang = (np.angle(trial_z[1])-np.angle(trial_z[0])) % (2*np.pi)\n",
    "    trial_ecc_SNR = ecc_SNR_abs*np.exp(1j*ecc_SNR_ang)\n",
    "    trial_ecc_SNRs__.append(np.abs(trial_ecc_SNR))\n",
    "\n",
    "    print(f'\\r{i+1} complete out of {len(e10s)}', end='')"
   ]
  },
  {
   "cell_type": "code",
   "execution_count": null,
   "id": "3ed8571d-2632-4bf2-8fe0-a2c15d6cfc37",
   "metadata": {},
   "outputs": [],
   "source": [
    "# Plot results\n",
    "plt.plot(e10s__, data_matches__)\n",
    "plt.ylim(0.8,1)\n",
    "plt.xlim(0,)\n",
    "plt.axvline(true_dict['ecc10sqrd']**0.5, c='k', ls='dashed')\n",
    "plt.show()"
   ]
  },
  {
   "cell_type": "code",
   "execution_count": null,
   "id": "496dcd3f-a95d-493d-b62c-b67abd650dbe",
   "metadata": {},
   "outputs": [],
   "source": [
    "# Plot results\n",
    "plt.plot(e10s__, data_ecc_SNRs__)\n",
    "plt.plot(e10s__, trial_ecc_SNRs__)\n",
    "plt.axvline(true_dict['ecc10sqrd']**0.5, c='k', ls='dashed')\n",
    "plt.ylim(0,)\n",
    "plt.xlim(0,)\n",
    "plt.show()"
   ]
  },
  {
   "cell_type": "markdown",
   "id": "0b260bb9-99aa-4e60-a45c-2a5ebce40032",
   "metadata": {
    "jp-MarkdownHeadingCollapsed": true
   },
   "source": [
    "# Method"
   ]
  },
  {
   "cell_type": "code",
   "execution_count": 2,
   "id": "7b7f32d0-5b0f-45e2-9046-c57a6082988a",
   "metadata": {},
   "outputs": [],
   "source": [
    "def gen_test_wfs(data, params, f_low, psd, n_ecc_harms, two_ecc_harms=True, return_all=False):\n",
    "\n",
    "    # Make eccentric harmonics\n",
    "    ecc_harms = make_waveform(params, psd.delta_f, f_low, len(psd), approximant='TEOBResumS-Dali-Harms', n_ecc_harms=n_ecc_harms)\n",
    "    f_gen = calc_f_gen(f_low, n_ecc_harms)\n",
    "\n",
    "    # Match harmonics to data\n",
    "    mode_SNRs, _ = calculate_mode_snr(data, psd, ecc_harms, data.sample_times[0],\n",
    "                                      data.sample_times[-1], f_low, ecc_harms.keys(), dominant_mode=0, subsample_interpolation=False)\n",
    "    if two_ecc_harms:\n",
    "        data_ecc_SNR, target_MA = two_ecc_harms_SNR({k: np.abs(mode_SNRs[k]) for k in [0,1,-1]},\n",
    "                                                    {k: np.angle(mode_SNRs[k]) for k in [0,1,-1]})\n",
    "    else:\n",
    "        data_ecc_SNR = np.abs(mode_SNRs[1])/np.abs(mode_SNRs[0])\n",
    "        target_MA = (np.angle(mode_SNRs[1])-np.angle(mode_SNRs[0])) % (2*np.pi)\n",
    "\n",
    "    # Make trial waveform at correct MA and match to data\n",
    "    params['inverted_mass_ratio'] = 1/q_from_eta(params['symmetric_mass_ratio'])\n",
    "    params['total_mass'] = np.sum(component_masses_from_mchirp_q(params['chirp_mass'], params['inverted_mass_ratio']))\n",
    "    trial_wf = generate_eccentric_waveform_MA(params['total_mass'], params['inverted_mass_ratio'],\n",
    "                                              params['ecc10sqrd']**0.5, params['chi_eff'], params['chi_eff'],\n",
    "                                              psd, f_low, target_MA, ecc_harms, two_ecc_harms=two_ecc_harms)\n",
    "\n",
    "    if return_all:\n",
    "        return trial_wf, ecc_harms, data_ecc_SNR\n",
    "    return trial_wf"
   ]
  },
  {
   "cell_type": "code",
   "execution_count": 3,
   "id": "664a2fbb-a49b-4d24-9e9d-fdd49a6aaeca",
   "metadata": {},
   "outputs": [],
   "source": [
    "def test_ecc_point(e10, data, base_dict, fid_dict, f_low, psd, n_ecc_harms, two_ecc_harms=True):\n",
    "    \n",
    "    # Make param dictionary\n",
    "    dist = (e10**2-base_dict['ecc10sqrd'])/(fid_dict['ecc10sqrd']-base_dict['ecc10sqrd'])\n",
    "    params = {'distance': 1}\n",
    "    param_keys = ['ecc10sqrd', 'chirp_mass', 'symmetric_mass_ratio', 'chi_eff']\n",
    "    for param in param_keys:\n",
    "        params[param] = dist*(fid_dict[param]-base_dict[param])+base_dict[param]\n",
    "\n",
    "    # Create harmonics and trial waveform\n",
    "    trial_wf = gen_test_wfs(data, params, f_low, psd, n_ecc_harms, two_ecc_harms=True)\n",
    "    data_snr = matched_filter(trial_wf, data, psd, low_frequency_cutoff=f_low,\n",
    "                              high_frequency_cutoff=psd.sample_frequencies[-1])\n",
    "    maxsnr, max_id = data_snr.abs_max_loc()\n",
    "    left = abs(data_snr[-1]) if max_id == 0 else abs(data_snr[max_id - 1])\n",
    "    right = abs(data_snr[0]) if max_id == (len(data_snr) - 1) else abs(data_snr[max_id + 1])\n",
    "    _, maxsnr = quadratic_interpolate_peak(left, maxsnr, right)\n",
    "\n",
    "    print(e10, maxsnr)\n",
    "\n",
    "    return -maxsnr"
   ]
  },
  {
   "cell_type": "code",
   "execution_count": 4,
   "id": "3592e0e6-634c-43e7-bc22-6a86d581bb03",
   "metadata": {},
   "outputs": [],
   "source": [
    "def find_ecc_peak(data, base_dict, fid_dict, f_low, psd, n_ecc_harms, two_ecc_harms=True):\n",
    "\n",
    "    # Find initial guess\n",
    "    first_params = {key: fid_dict[key] for key in ['ecc10sqrd', 'chirp_mass', 'symmetric_mass_ratio', 'chi_eff']}\n",
    "    first_params['distance'] = 1\n",
    "    first_trial_wf, first_ecc_harms, first_data_ecc_SNR = gen_test_wfs(data, first_params, f_low, psd, n_ecc_harms,\n",
    "                                                                       two_ecc_harms=True, return_all=True)\n",
    "    trial_z, _ = calculate_mode_snr(first_trial_wf, psd, first_ecc_harms, first_trial_wf.sample_times[0],\n",
    "                                    first_trial_wf.sample_times[-1], f_low, first_ecc_harms.keys(),\n",
    "                                    dominant_mode=0, subsample_interpolation=False)\n",
    "    print({k: np.abs(trial_z[k]) for k in trial_z.keys()})\n",
    "    if two_ecc_harms:\n",
    "        ecc_SNR_abs, _ = two_ecc_harms_SNR(\n",
    "            {k: np.abs(trial_z[k]) for k in [0, 1, -1]},\n",
    "            {k: np.angle(trial_z[k]) for k in [0, 1, -1]})\n",
    "    else:\n",
    "        ecc_SNR_abs = np.abs(trial_z[1]/trial_z[0])\n",
    "    init_e10 = (first_data_ecc_SNR/ecc_SNR_abs)*(fid_dict['ecc10sqrd']**0.5)\n",
    "    print(ecc_SNR_abs, first_data_ecc_SNR, fid_dict['ecc10sqrd']**0.5)\n",
    "    print(init_e10)\n",
    "    print('')\n",
    "\n",
    "    # Use scipy optimise to find maximum match\n",
    "    bounds = [(0, 0.8)]\n",
    "    peak_e10 = minimize(lambda x: test_ecc_point(x, data, base_dict, fid_dict, f_low, psd, n_ecc_harms, two_ecc_harms=two_ecc_harms),\n",
    "                        init_e10, bounds=bounds, method='Nelder-Mead', options={'xatol': 0.003, 'fatol': np.inf})\n",
    "\n",
    "    return peak_e10"
   ]
  },
  {
   "cell_type": "code",
   "execution_count": 95,
   "id": "aa650df3-2c21-4d1c-8672-88a92d358542",
   "metadata": {},
   "outputs": [
    {
     "name": "stdout",
     "output_type": "stream",
     "text": [
      "{0: 33865.1867276005, 1: 3724.1907075697172, -1: 1438.9984511748594, 2: 199.24327017718326}\n",
      "0.11784294260965934 0.20368921095219658 [0.1041551]\n",
      "[0.18003004]\n",
      "\n",
      "[0.18003004] 19.586075984916587\n",
      "[0.18903154] 19.593746847602294\n",
      "[0.19803304] 19.576584588507174\n",
      "[0.18453079] 19.587239469624254\n",
      "[0.19353229] 19.58663380626002\n",
      "[0.18678116] 19.563361103998293\n",
      "[0.18678116] 19.563361103998293\n",
      " final_simplex: (array([[0.18903154],\n",
      "       [0.18678116]]), array([-19.59374685, -19.5633611 ]))\n",
      "           fun: -19.593746847602294\n",
      "       message: 'Optimization terminated successfully.'\n",
      "          nfev: 7\n",
      "           nit: 3\n",
      "        status: 0\n",
      "       success: True\n",
      "             x: array([0.18903154])\n",
      "82.08972787857056 seconds\n"
     ]
    }
   ],
   "source": [
    "# Data settings\n",
    "true_dict = {'ecc10sqrd': 0.2**2, 'chirp_mass': 24, 'symmetric_mass_ratio': 2/9, 'chi_eff': 0}\n",
    "target_snr = 20\n",
    "f_low = 20\n",
    "sample_rate = 4096\n",
    "tlen = 32\n",
    "\n",
    "# Create psd\n",
    "ifos = ['H1']\n",
    "psds = {'H1': 'aLIGOZeroDetHighPower',\n",
    "        'f_low': f_low,\n",
    "        'f_high': int(sample_rate/2),\n",
    "        'length': tlen,\n",
    "        'delta_f': 1. / tlen\n",
    "        }\n",
    "psd = {}\n",
    "for ifo in ifos:\n",
    "    psd[ifo] = psd_func.analytical.from_string(psds[ifo], psds['length'] * psds['f_high'] + 1, psds['delta_f'],\n",
    "                                                     psds['f_low'])\n",
    "psd['harm'] = 1. / sum([1. / psd[ifo] for ifo in ifos])\n",
    "\n",
    "# Generate data\n",
    "true_dict['mass_ratio'] = q_from_eta(true_dict['symmetric_mass_ratio'])\n",
    "true_dict['inverted_mass_ratio'] = 1/true_dict['mass_ratio']\n",
    "true_dict['total_mass'] = np.sum(component_masses_from_mchirp_q(true_dict['chirp_mass'], true_dict['mass_ratio']), axis=0)\n",
    "true_dict['distance'] = 1\n",
    "data = make_waveform(true_dict.copy(), psd['harm'].delta_f, f_low, len(psd['harm']), approximant='TEOBResumS-Dali')\n",
    "raw_snr = sigma(data, psd['H1'], low_frequency_cutoff=f_low, high_frequency_cutoff=psds['f_high'])\n",
    "data = {'H1': (data*target_snr/raw_snr + frequency_noise_from_psd(psd['H1'], seed=12345)).to_timeseries()}\n",
    "true_dict['distance'] = raw_snr/target_snr\n",
    "\n",
    "# Get degeneracy line in roughly correct direction\n",
    "with open('pe_4d_pipeline/dataslot_0/all_matches', 'rb') as fp:\n",
    "    all_matches = pickle.load(fp)\n",
    "base_dict = all_matches['metadata']['base_params']\n",
    "fid_dict = all_matches['metadata']['fid_params']\n",
    "\n",
    "# Shift degeneracy line to pass through true point\n",
    "mult = true_dict['ecc10sqrd']/(fid_dict['ecc10sqrd']-base_dict['ecc10sqrd'])\n",
    "for key in ['chirp_mass', 'symmetric_mass_ratio', 'chi_eff']:\n",
    "    proj_point = mult*(fid_dict[key]-base_dict[key])+base_dict[key]\n",
    "    proj_diff = true_dict[key]-proj_point\n",
    "    base_dict[key] += proj_diff\n",
    "    fid_dict[key] += proj_diff\n",
    "\n",
    "start = time.time()\n",
    "peak_e_10 = find_ecc_peak(data['H1'], base_dict, fid_dict, f_low, psd['H1'], 4)\n",
    "print(peak_e_10)\n",
    "end = time.time()\n",
    "print(f'{end-start} seconds')"
   ]
  },
  {
   "cell_type": "markdown",
   "id": "b1eca8e0-428e-43eb-acc1-5574ea85b8c2",
   "metadata": {},
   "source": [
    "## Test method functions"
   ]
  },
  {
   "cell_type": "code",
   "execution_count": 8,
   "id": "6da87142-71e8-43c2-aa94-7d2af71ecaae",
   "metadata": {},
   "outputs": [],
   "source": [
    "def test_ecc_peak(eccs, data, base_dict, fid_dict, f_low, psd, n_ecc_harms):\n",
    "\n",
    "    SNRs = []\n",
    "    for i, e in enumerate(eccs):\n",
    "        SNR = -test_ecc_point(e, data, base_dict, fid_dict, f_low, psd, n_ecc_harms, two_ecc_harms=True)\n",
    "        SNRs.append(SNR)\n",
    "        print(f'\\r{i+1} computed out of {len(eccs)}', end='')\n",
    "\n",
    "    return SNRs"
   ]
  },
  {
   "cell_type": "code",
   "execution_count": 79,
   "id": "1ab7c51a-3c32-4c5a-abdb-bcf31dd45177",
   "metadata": {},
   "outputs": [
    {
     "name": "stdout",
     "output_type": "stream",
     "text": [
      "0.15 19.52926975676012\n",
      "1 computed out of 210.155 19.53827946070517\n",
      "2 computed out of 210.16 19.534841786749762\n",
      "3 computed out of 210.16499999999999998 19.559509318269345\n",
      "4 computed out of 210.16999999999999998 19.56921879246217\n",
      "5 computed out of 210.175 19.576426137041057\n",
      "6 computed out of 210.18 19.585256187278453\n",
      "7 computed out of 210.185 19.581585422036277\n",
      "8 computed out of 210.19 19.595052291348747\n",
      "9 computed out of 210.195 19.579977729803268\n",
      "10 computed out of 210.2 19.551088647139704\n",
      "11 computed out of 210.205 19.57264012507553\n",
      "12 computed out of 210.21 19.613512429674117\n",
      "13 computed out of 210.215 19.579130726127705\n",
      "14 computed out of 210.22 19.57077671933426\n",
      "15 computed out of 210.22499999999999998 19.604574816530928\n",
      "16 computed out of 210.22999999999999998 19.487926780369683\n",
      "17 computed out of 210.235 19.54695935827189\n",
      "18 computed out of 210.24 19.533380661776548\n",
      "19 computed out of 210.245 19.510054184452386\n",
      "20 computed out of 210.25 19.440813629270693\n",
      "21 computed out of 21292.45007038116455 seconds\n"
     ]
    }
   ],
   "source": [
    "# Data settings\n",
    "true_dict = {'ecc10sqrd': 0.2**2, 'chirp_mass': 24, 'symmetric_mass_ratio': 2/9, 'chi_eff': 0}\n",
    "target_snr = 20\n",
    "f_low = 20\n",
    "sample_rate = 4096\n",
    "tlen = 32\n",
    "\n",
    "# Create psd\n",
    "ifos = ['H1']\n",
    "psds = {'H1': 'aLIGOZeroDetHighPower',\n",
    "        'f_low': f_low,\n",
    "        'f_high': int(sample_rate/2),\n",
    "        'length': tlen,\n",
    "        'delta_f': 1. / tlen\n",
    "        }\n",
    "psd = {}\n",
    "for ifo in ifos:\n",
    "    psd[ifo] = psd_func.analytical.from_string(psds[ifo], psds['length'] * psds['f_high'] + 1, psds['delta_f'],\n",
    "                                                     psds['f_low'])\n",
    "psd['harm'] = 1. / sum([1. / psd[ifo] for ifo in ifos])\n",
    "\n",
    "# Generate data\n",
    "true_dict['mass_ratio'] = q_from_eta(true_dict['symmetric_mass_ratio'])\n",
    "true_dict['inverted_mass_ratio'] = 1/true_dict['mass_ratio']\n",
    "true_dict['total_mass'] = np.sum(component_masses_from_mchirp_q(true_dict['chirp_mass'], true_dict['mass_ratio']), axis=0)\n",
    "true_dict['distance'] = 1\n",
    "data = make_waveform(true_dict.copy(), psd['harm'].delta_f, f_low, len(psd['harm']), approximant='TEOBResumS-Dali')\n",
    "raw_snr = sigma(data, psd['H1'], low_frequency_cutoff=f_low, high_frequency_cutoff=psds['f_high'])\n",
    "data = {'H1': (data*target_snr/raw_snr + frequency_noise_from_psd(psd['H1'], seed=12345)).to_timeseries()}\n",
    "true_dict['distance'] = raw_snr/target_snr\n",
    "\n",
    "# Get degeneracy line in roughly correct direction\n",
    "with open('pe_4d_pipeline/dataslot_0/all_matches', 'rb') as fp:\n",
    "    all_matches = pickle.load(fp)\n",
    "base_dict = all_matches['metadata']['base_params']\n",
    "fid_dict = all_matches['metadata']['fid_params']\n",
    "\n",
    "# Shift degeneracy line to pass through true point\n",
    "mult = true_dict['ecc10sqrd']/(fid_dict['ecc10sqrd']-base_dict['ecc10sqrd'])\n",
    "for key in ['chirp_mass', 'symmetric_mass_ratio', 'chi_eff']:\n",
    "    proj_point = mult*(fid_dict[key]-base_dict[key])+base_dict[key]\n",
    "    proj_diff = true_dict[key]-proj_point\n",
    "    base_dict[key] += proj_diff\n",
    "    fid_dict[key] += proj_diff\n",
    "\n",
    "eccs = np.linspace(0.15, 0.25, 21)\n",
    "start = time.time()\n",
    "SNRs = test_ecc_peak(eccs, data['H1'], base_dict, fid_dict, f_low, psd['H1'], 4)\n",
    "end = time.time()\n",
    "print(f'{end-start} seconds')"
   ]
  },
  {
   "cell_type": "code",
   "execution_count": 80,
   "id": "b48093dd-480f-4405-8183-0bc64d44a8c8",
   "metadata": {},
   "outputs": [
    {
     "data": {
      "image/png": "[encoded data removed]",
      "text/plain": [
       "<Figure size 640x480 with 1 Axes>"
      ]
     },
     "metadata": {},
     "output_type": "display_data"
    }
   ],
   "source": [
    "plt.plot(eccs, SNRs)\n",
    "plt.show()"
   ]
  },
  {
   "cell_type": "markdown",
   "id": "8447fa33-e718-4df0-9946-06a5feff881d",
   "metadata": {},
   "source": [
    "# Method with only fiducial harmonics generated"
   ]
  },
  {
   "cell_type": "code",
   "execution_count": 3,
   "id": "68663190-c920-463c-b05c-ce01cd65bd26",
   "metadata": {},
   "outputs": [],
   "source": [
    "def test_ecc_point_fid_only(e10, data, base_dict, fid_dict, ecc_harms, target_MA, f_low, psd, two_ecc_harms=True):\n",
    "    \n",
    "    # Make param dictionary\n",
    "    dist = (e10**2-base_dict['ecc10sqrd'])/(fid_dict['ecc10sqrd']-base_dict['ecc10sqrd'])\n",
    "    params = {'distance': 1}\n",
    "    param_keys = ['ecc10sqrd', 'chirp_mass', 'symmetric_mass_ratio', 'chi_eff']\n",
    "    for param in param_keys:\n",
    "        params[param] = dist*(fid_dict[param]-base_dict[param])+base_dict[param]\n",
    "\n",
    "    # Create  trial waveform\n",
    "    params['inverted_mass_ratio'] = 1/q_from_eta(params['symmetric_mass_ratio'])\n",
    "    params['total_mass'] = np.sum(component_masses_from_mchirp_q(params['chirp_mass'], params['inverted_mass_ratio']))\n",
    "    trial_wf = generate_eccentric_waveform_MA(params['total_mass'], params['inverted_mass_ratio'],\n",
    "                                              params['ecc10sqrd']**0.5, params['chi_eff'], params['chi_eff'],\n",
    "                                              psd, f_low, target_MA, ecc_harms, two_ecc_harms=two_ecc_harms)\n",
    "    data_snr = matched_filter(trial_wf, data, psd, low_frequency_cutoff=f_low,\n",
    "                              high_frequency_cutoff=psd.sample_frequencies[-1])\n",
    "    maxsnr, max_id = data_snr.abs_max_loc()\n",
    "    left = abs(data_snr[-1]) if max_id == 0 else abs(data_snr[max_id - 1])\n",
    "    right = abs(data_snr[0]) if max_id == (len(data_snr) - 1) else abs(data_snr[max_id + 1])\n",
    "    _, maxsnr = quadratic_interpolate_peak(left, maxsnr, right)\n",
    "\n",
    "    print(e10, maxsnr)\n",
    "\n",
    "    return -maxsnr"
   ]
  },
  {
   "cell_type": "code",
   "execution_count": 4,
   "id": "66847c9a-0a21-4ed6-b943-770f4e53f69c",
   "metadata": {},
   "outputs": [],
   "source": [
    "def find_ecc_peak_fid_only(data, base_dict, fid_dict, f_low, psd, n_ecc_harms, two_ecc_harms=True):\n",
    "\n",
    "    # Find initial guess\n",
    "    first_params = {key: fid_dict[key] for key in ['ecc10sqrd', 'chirp_mass', 'symmetric_mass_ratio', 'chi_eff']}\n",
    "    first_params['distance'] = 1\n",
    "    ecc_harms = make_waveform(first_params, psd.delta_f, f_low, len(psd), approximant='TEOBResumS-Dali-Harms', n_ecc_harms=n_ecc_harms)\n",
    "    mode_SNRs, _ = calculate_mode_snr(data, psd, ecc_harms, data.sample_times[0],\n",
    "                                      data.sample_times[-1], f_low, ecc_harms.keys(), dominant_mode=0, subsample_interpolation=False)\n",
    "    if two_ecc_harms:\n",
    "        first_data_ecc_SNR, target_MA = two_ecc_harms_SNR({k: np.abs(mode_SNRs[k]) for k in [0,1,-1]},\n",
    "                                                    {k: np.angle(mode_SNRs[k]) for k in [0,1,-1]})\n",
    "    else:\n",
    "        first_data_ecc_SNR = np.abs(mode_SNRs[1])/np.abs(mode_SNRs[0])\n",
    "        target_MA = (np.angle(mode_SNRs[1])-np.angle(mode_SNRs[0])) % (2*np.pi)\n",
    "    first_params['inverted_mass_ratio'] = 1/q_from_eta(first_params['symmetric_mass_ratio'])\n",
    "    first_params['total_mass'] = np.sum(component_masses_from_mchirp_q(first_params['chirp_mass'], first_params['inverted_mass_ratio']))\n",
    "    first_trial_wf = generate_eccentric_waveform_MA(first_params['total_mass'], first_params['inverted_mass_ratio'],\n",
    "                                                    first_params['ecc10sqrd']**0.5, first_params['chi_eff'], first_params['chi_eff'],\n",
    "                                                    psd, f_low, target_MA, ecc_harms, two_ecc_harms=two_ecc_harms)\n",
    "    trial_z, _ = calculate_mode_snr(first_trial_wf, psd, ecc_harms, first_trial_wf.sample_times[0],\n",
    "                                    first_trial_wf.sample_times[-1], f_low, ecc_harms.keys(),\n",
    "                                    dominant_mode=0, subsample_interpolation=False)\n",
    "    print({k: np.abs(trial_z[k]) for k in trial_z.keys()})\n",
    "    if two_ecc_harms:\n",
    "        ecc_SNR_abs, _ = two_ecc_harms_SNR(\n",
    "            {k: np.abs(trial_z[k]) for k in [0, 1, -1]},\n",
    "            {k: np.angle(trial_z[k]) for k in [0, 1, -1]})\n",
    "    else:\n",
    "        ecc_SNR_abs = np.abs(trial_z[1]/trial_z[0])\n",
    "    init_e10 = (first_data_ecc_SNR/ecc_SNR_abs)*(fid_dict['ecc10sqrd']**0.5)\n",
    "    print(ecc_SNR_abs, first_data_ecc_SNR, fid_dict['ecc10sqrd']**0.5)\n",
    "    print(init_e10)\n",
    "    print('')\n",
    "\n",
    "    # Use scipy optimise to find maximum match\n",
    "    bounds = [(0, 0.8)]\n",
    "    peak_e10 = minimize(lambda x: test_ecc_point_fid_only(x, data, base_dict, fid_dict, ecc_harms, target_MA, f_low, psd, two_ecc_harms=two_ecc_harms),\n",
    "                        init_e10, bounds=bounds, method='Nelder-Mead', options={'xatol': 0.003, 'fatol': np.inf})\n",
    "\n",
    "    return peak_e10"
   ]
  },
  {
   "cell_type": "code",
   "execution_count": 5,
   "id": "ddcd7ec6-d2c8-4c35-b11e-c983d62da1e8",
   "metadata": {},
   "outputs": [
    {
     "name": "stderr",
     "output_type": "stream",
     "text": [
      "/home/ben.patterson/.conda/envs/igwn_eccentric/lib/python3.10/site-packages/pycbc/types/array.py:390: RuntimeWarning: divide by zero encountered in divide\n",
      "  return self._data.__rtruediv__(other)\n",
      "/home/ben.patterson/projects/simple-pe/simple_pe/waveforms/eccentric.py:194: RuntimeWarning: divide by zero encountered in power\n",
      "  e_term_1 = e_interps**(-18/19)\n"
     ]
    },
    {
     "name": "stdout",
     "output_type": "stream",
     "text": [
      "{0: 33862.74785981785, 1: 3659.2021174274923, -1: 1440.204298042349, 2: 172.6637492957793}\n",
      "0.11605929218560795 0.19128619824533385 [0.1041551]\n",
      "[0.17166598]\n",
      "\n",
      "[0.17166598] 19.89629365063452\n",
      "[0.18024928] 19.880614173939776\n",
      "[0.16308268] 19.891006477235617\n",
      "[0.16737433] 19.886152566579412\n",
      "[0.17595763] 19.892921138944185\n",
      "[0.16737433] 19.886152566579412\n",
      "[0.17381181] 19.873672845499797\n",
      "[0.17381181] 19.873672845499797\n",
      " final_simplex: (array([[0.17166598],\n",
      "       [0.17381181]]), array([-19.89629365, -19.87367285]))\n",
      "           fun: -19.89629365063452\n",
      "       message: 'Optimization terminated successfully.'\n",
      "          nfev: 8\n",
      "           nit: 3\n",
      "        status: 0\n",
      "       success: True\n",
      "             x: array([0.17166598])\n",
      "121.86704349517822 seconds\n"
     ]
    }
   ],
   "source": [
    "# Data settings\n",
    "true_dict = {'ecc10sqrd': 0.2**2, 'chirp_mass': 24, 'symmetric_mass_ratio': 2/9, 'chi_eff': 0}\n",
    "target_snr = 20\n",
    "f_low = 20\n",
    "sample_rate = 4096\n",
    "tlen = 32\n",
    "\n",
    "# Create psd\n",
    "ifos = ['H1']\n",
    "psds = {'H1': 'aLIGOZeroDetHighPower',\n",
    "        'f_low': f_low,\n",
    "        'f_high': int(sample_rate/2),\n",
    "        'length': tlen,\n",
    "        'delta_f': 1. / tlen\n",
    "        }\n",
    "psd = {}\n",
    "for ifo in ifos:\n",
    "    psd[ifo] = psd_func.analytical.from_string(psds[ifo], psds['length'] * psds['f_high'] + 1, psds['delta_f'],\n",
    "                                                     psds['f_low'])\n",
    "psd['harm'] = 1. / sum([1. / psd[ifo] for ifo in ifos])\n",
    "\n",
    "# Generate data\n",
    "true_dict['mass_ratio'] = q_from_eta(true_dict['symmetric_mass_ratio'])\n",
    "true_dict['inverted_mass_ratio'] = 1/true_dict['mass_ratio']\n",
    "true_dict['total_mass'] = np.sum(component_masses_from_mchirp_q(true_dict['chirp_mass'], true_dict['mass_ratio']), axis=0)\n",
    "true_dict['distance'] = 1\n",
    "data = make_waveform(true_dict.copy(), psd['harm'].delta_f, f_low, len(psd['harm']), approximant='TEOBResumS-Dali')\n",
    "raw_snr = sigma(data, psd['H1'], low_frequency_cutoff=f_low, high_frequency_cutoff=psds['f_high'])\n",
    "data = {'H1': (data*target_snr/raw_snr).to_timeseries()}\n",
    "# data = {'H1': (data*target_snr/raw_snr + frequency_noise_from_psd(psd['H1'], seed=12345)).to_timeseries()}\n",
    "true_dict['distance'] = raw_snr/target_snr\n",
    "\n",
    "# Get degeneracy line in roughly correct direction\n",
    "with open('pe_4d_pipeline/dataslot_0/all_matches', 'rb') as fp:\n",
    "    all_matches = pickle.load(fp)\n",
    "base_dict = all_matches['metadata']['base_params']\n",
    "fid_dict = all_matches['metadata']['fid_params']\n",
    "\n",
    "# Shift degeneracy line to pass through true point\n",
    "mult = true_dict['ecc10sqrd']/(fid_dict['ecc10sqrd']-base_dict['ecc10sqrd'])\n",
    "for key in ['chirp_mass', 'symmetric_mass_ratio', 'chi_eff']:\n",
    "    proj_point = mult*(fid_dict[key]-base_dict[key])+base_dict[key]\n",
    "    proj_diff = true_dict[key]-proj_point\n",
    "    base_dict[key] += proj_diff\n",
    "    fid_dict[key] += proj_diff\n",
    "\n",
    "start = time.time()\n",
    "peak_e_10 = find_ecc_peak_fid_only(data['H1'], base_dict, fid_dict, f_low, psd['H1'], 4)\n",
    "print(peak_e_10)\n",
    "end = time.time()\n",
    "print(f'{end-start} seconds')"
   ]
  },
  {
   "cell_type": "markdown",
   "id": "fb645b61-cc79-4a37-bb43-006cebe5fc92",
   "metadata": {},
   "source": [
    "## Test method functions"
   ]
  },
  {
   "cell_type": "code",
   "execution_count": 7,
   "id": "5c7417fa-784f-4e2e-9163-13e59bfff458",
   "metadata": {},
   "outputs": [],
   "source": [
    "def test_ecc_peak_fid_only(eccs, data, base_dict, fid_dict, f_low, psd, n_ecc_harms, two_ecc_harms=True):\n",
    "\n",
    "    # Get harmonics and target MA\n",
    "    first_params = {key: fid_dict[key] for key in ['ecc10sqrd', 'chirp_mass', 'symmetric_mass_ratio', 'chi_eff']}\n",
    "    first_params['distance'] = 1\n",
    "    ecc_harms = make_waveform(first_params, psd.delta_f, f_low, len(psd), approximant='TEOBResumS-Dali-Harms', n_ecc_harms=n_ecc_harms)\n",
    "    mode_SNRs, _ = calculate_mode_snr(data, psd, ecc_harms, data.sample_times[0],\n",
    "                                      data.sample_times[-1], f_low, ecc_harms.keys(), dominant_mode=0, subsample_interpolation=False)\n",
    "    if two_ecc_harms:\n",
    "        _, target_MA = two_ecc_harms_SNR({k: np.abs(mode_SNRs[k]) for k in [0,1,-1]},\n",
    "                                                    {k: np.angle(mode_SNRs[k]) for k in [0,1,-1]})\n",
    "    else:\n",
    "        target_MA = (np.angle(mode_SNRs[1])-np.angle(mode_SNRs[0])) % (2*np.pi)\n",
    "\n",
    "    # Get SNR for each point on degeneracy line\n",
    "    SNRs = []\n",
    "    for i, e in enumerate(eccs):\n",
    "        SNR = -test_ecc_point_fid_only(e, data, base_dict, fid_dict, ecc_harms, target_MA, f_low, psd, two_ecc_harms=True)\n",
    "        SNRs.append(SNR)\n",
    "        print(f'\\r{i+1} computed out of {len(eccs)}', end='')\n",
    "\n",
    "    return SNRs"
   ]
  },
  {
   "cell_type": "code",
   "execution_count": 9,
   "id": "cb653c25-bc23-46c0-86c1-876a028bd39a",
   "metadata": {},
   "outputs": [
    {
     "name": "stderr",
     "output_type": "stream",
     "text": [
      "/home/ben.patterson/.conda/envs/igwn_eccentric/lib/python3.10/site-packages/pycbc/types/array.py:390: RuntimeWarning: divide by zero encountered in divide\n",
      "  return self._data.__rtruediv__(other)\n",
      "/home/ben.patterson/projects/simple-pe/simple_pe/waveforms/eccentric.py:193: RuntimeWarning: divide by zero encountered in power\n",
      "  e_term_1 = e_interps**(-18/19)\n"
     ]
    },
    {
     "name": "stdout",
     "output_type": "stream",
     "text": [
      "0.15 19.87803520473736\n",
      "1 computed out of 50.175 19.897150744109965\n",
      "2 computed out of 50.2 19.892831233932277\n",
      "3 computed out of 50.225 19.862049275936148\n",
      "4 computed out of 50.25 19.803716095257666\n",
      "5 computed out of 5135.04588198661804 seconds\n",
      "0.15 19.869815652354166\n",
      "1 computed out of 50.175 19.897128973247955\n",
      "2 computed out of 50.2 19.891740188636042\n",
      "3 computed out of 50.225 19.859671894104718\n",
      "4 computed out of 50.25 19.80039756558186\n",
      "5 computed out of 544.64953565597534 seconds\n"
     ]
    }
   ],
   "source": [
    "# Data settings\n",
    "true_dict = {'ecc10sqrd': 0.2**2, 'chirp_mass': 24, 'symmetric_mass_ratio': 2/9, 'chi_eff': 0}\n",
    "target_snr = 20\n",
    "f_low = 20\n",
    "sample_rate = 4096\n",
    "tlen = 32\n",
    "\n",
    "# Create psd\n",
    "ifos = ['H1']\n",
    "psds = {'H1': 'aLIGOZeroDetHighPower',\n",
    "        'f_low': f_low,\n",
    "        'f_high': int(sample_rate/2),\n",
    "        'length': tlen,\n",
    "        'delta_f': 1. / tlen\n",
    "        }\n",
    "psd = {}\n",
    "for ifo in ifos:\n",
    "    psd[ifo] = psd_func.analytical.from_string(psds[ifo], psds['length'] * psds['f_high'] + 1, psds['delta_f'],\n",
    "                                                     psds['f_low'])\n",
    "psd['harm'] = 1. / sum([1. / psd[ifo] for ifo in ifos])\n",
    "\n",
    "# Generate data\n",
    "true_dict['mass_ratio'] = q_from_eta(true_dict['symmetric_mass_ratio'])\n",
    "true_dict['inverted_mass_ratio'] = 1/true_dict['mass_ratio']\n",
    "true_dict['total_mass'] = np.sum(component_masses_from_mchirp_q(true_dict['chirp_mass'], true_dict['mass_ratio']), axis=0)\n",
    "true_dict['distance'] = 1\n",
    "data = make_waveform(true_dict.copy(), psd['harm'].delta_f, f_low, len(psd['harm']), approximant='TEOBResumS-Dali')\n",
    "raw_snr = sigma(data, psd['H1'], low_frequency_cutoff=f_low, high_frequency_cutoff=psds['f_high'])\n",
    "data = {'H1': (data*target_snr/raw_snr).to_timeseries()}\n",
    "# data = {'H1': (data*target_snr/raw_snr + frequency_noise_from_psd(psd['H1'], seed=12345)).to_timeseries()}\n",
    "true_dict['distance'] = raw_snr/target_snr\n",
    "\n",
    "# Get degeneracy line in roughly correct direction\n",
    "with open('pe_4d_pipeline/dataslot_0/all_matches', 'rb') as fp:\n",
    "    all_matches = pickle.load(fp)\n",
    "base_dict = all_matches['metadata']['base_params']\n",
    "fid_dict = all_matches['metadata']['fid_params']\n",
    "\n",
    "# Shift degeneracy line to pass through true point\n",
    "mult = true_dict['ecc10sqrd']/(fid_dict['ecc10sqrd']-base_dict['ecc10sqrd'])\n",
    "for key in ['chirp_mass', 'symmetric_mass_ratio', 'chi_eff']:\n",
    "    proj_point = mult*(fid_dict[key]-base_dict[key])+base_dict[key]\n",
    "    proj_diff = true_dict[key]-proj_point\n",
    "    base_dict[key] += proj_diff\n",
    "    fid_dict[key] += proj_diff\n",
    "\n",
    "eccs = np.linspace(0.15, 0.25, 5)\n",
    "start = time.time()\n",
    "SNRs = test_ecc_peak(eccs, data['H1'], base_dict, fid_dict, f_low, psd['H1'], 4)\n",
    "end = time.time()\n",
    "print(f'{end-start} seconds')\n",
    "\n",
    "eccs_fid_only = np.linspace(0.15, 0.25, 5)\n",
    "start = time.time()\n",
    "SNRs_fid_only = test_ecc_peak_fid_only(eccs_fid_only, data['H1'], base_dict, fid_dict, f_low, psd['H1'], 4)\n",
    "end = time.time()\n",
    "print(f'{end-start} seconds')"
   ]
  },
  {
   "cell_type": "code",
   "execution_count": 12,
   "id": "02687884-151a-425e-9154-2d77d8718b07",
   "metadata": {},
   "outputs": [
    {
     "data": {
      "image/png": "[encoded data removed]",
      "text/plain": [
       "<Figure size 640x480 with 1 Axes>"
      ]
     },
     "metadata": {},
     "output_type": "display_data"
    }
   ],
   "source": [
    "plt.plot(eccs, SNRs, label='all harmonics')\n",
    "plt.plot(eccs_fid_only, SNRs_fid_only, label='fid harmonics only')\n",
    "plt.legend()\n",
    "plt.show()"
   ]
  },
  {
   "cell_type": "code",
   "execution_count": 73,
   "id": "773ac159-0385-4788-82fe-16156363a57d",
   "metadata": {},
   "outputs": [
    {
     "data": {
      "image/png": "[encoded data removed]",
      "text/plain": [
       "<Figure size 640x480 with 1 Axes>"
      ]
     },
     "metadata": {},
     "output_type": "display_data"
    }
   ],
   "source": [
    "plt.plot(eccs, SNRs, label='all harmonics')\n",
    "plt.plot(eccs_fid_only, SNRs_fid_only, label='fid harmonics only')\n",
    "plt.legend()\n",
    "plt.show()"
   ]
  },
  {
   "cell_type": "markdown",
   "id": "bf29e706-a832-4eb9-bc4b-deef3d53ecd1",
   "metadata": {},
   "source": [
    "# Verifying generate_eccentric_waveform_MA"
   ]
  },
  {
   "cell_type": "code",
   "execution_count": 34,
   "id": "62259958-f2d3-42a3-bbb8-b6988f627281",
   "metadata": {},
   "outputs": [],
   "source": [
    "from simple_pe.waveforms import shifted_f, shifted_e, generate_eccentric_waveform, compute_s_factor\n",
    "\n",
    "def generate_eccentric_waveform_MA_test(M, q, ecc10, chi1, chi2, psd, f_low,\n",
    "                                   target_MA, ecc_harms, two_ecc_harms=True,\n",
    "                                   tol=0.03, max_iter=3):\n",
    "    \"\"\"\n",
    "    Generates eccentric waveform with requested mean anomaly (MA) at merger\n",
    "    by iteratively shifting frequency and eccentricity.\n",
    "\n",
    "    :param M: total mass\n",
    "    :type M: float, required\n",
    "    :param q: inverted mass ratio\n",
    "    :type q: float, required\n",
    "    :param ecc10: eccentricity at 10Hz\n",
    "    :type ecc10: float, required\n",
    "    :param chi1: aligned spin of primary object\n",
    "    :type chi1: float, required\n",
    "    :param chi2: aligned spin of secondary object\n",
    "    :type chi2: float, required\n",
    "    :param psd: psd\n",
    "    :type psd: FrequencySeries object, required\n",
    "    :param f_low: initial frequency\n",
    "    :type f_low: float, required\n",
    "    :param target_MA: target mean anomaly at merger\n",
    "    :type target_MA: float, required\n",
    "    :param ecc_harms: eccentric harmonics used to calculate MA\n",
    "    :type ecc_harms: dictionary of TimeSeries/FrequencySeries objects, required\n",
    "    :param two_ecc_harms: whether to include two higher eccentric harmonics\n",
    "    :type two_ecc_harms: boolean, optional\n",
    "    :param tol: tolerance for convergence\n",
    "    :type tol: float, optional\n",
    "    :param max_iter: maximum number of iterations\n",
    "    :type max_iter: integer, optional\n",
    "\n",
    "    :return best_wf: waveform at requested parameters including MA\n",
    "    :rtype best_wf: TimeSeries object\n",
    "    \"\"\"\n",
    "\n",
    "    # Get psd parameters\n",
    "    df = psd.delta_f\n",
    "    flen = len(psd)\n",
    "    s_rate = 2 * int(flen*df)\n",
    "    tlen = int(1/df)\n",
    "    # f_gen = calc_f_gen(f_low, 1)\n",
    "    f_gen = f_low\n",
    "    e = shifted_e(f_gen, 10, ecc10)\n",
    "\n",
    "    # Initialise iteration\n",
    "    current_tol = 2*np.pi\n",
    "    best_tol = 2*np.pi\n",
    "    current_iter = 0\n",
    "    MA = 0\n",
    "    s_factor = 1\n",
    "    while current_tol > tol and current_iter <= max_iter:\n",
    "\n",
    "        # Shift to f, e for requested MA\n",
    "        s_f_2pi = (f_gen - shifted_f(f_gen, e, M, q))*s_factor\n",
    "        s_f = f_gen - s_f_2pi*MA/(2*np.pi)\n",
    "        s_e = shifted_e(s_f, f_gen, e)\n",
    "\n",
    "        # Generate and match wf at requested MA\n",
    "        hp, hc = generate_eccentric_waveform(M, q, s_e, chi1, chi2, s_f,\n",
    "                                             s_rate, tlen=tlen, to_fs=False)\n",
    "        h = hp - 1j*hc\n",
    "        z, _ = calculate_mode_snr(hp, psd, ecc_harms, h.sample_times[0],\n",
    "                                  h.sample_times[-1], f_low, ecc_harms.keys(),\n",
    "                                  dominant_mode=0)\n",
    "        if two_ecc_harms:\n",
    "            harm_ids = [0, 1, -1]\n",
    "            _, meas_MA = two_ecc_harms_SNR(\n",
    "                {k: np.abs(z[k]) for k in harm_ids},\n",
    "                {k: np.angle(z[k]) for k in harm_ids})\n",
    "        else:\n",
    "            meas_MA = (np.angle(z[1])-np.angle(z[0])) % (2*np.pi)\n",
    "\n",
    "        # Calculate s_factor after first wf generation\n",
    "        if current_iter == 0:\n",
    "            s_f_max = shifted_f(f_gen, e, M, q)\n",
    "            s_e_max = shifted_e(s_f_max, f_gen, e)\n",
    "            sp, sc = generate_eccentric_waveform(\n",
    "                M, q, s_e_max, chi1, chi2, s_f_max, s_rate, tlen=tlen,\n",
    "                to_fs=False)\n",
    "            s = sp - 1j*sc\n",
    "            s_factor = compute_s_factor(h, s)\n",
    "\n",
    "        # Update MA, tolerance, and iteration count\n",
    "        MA_diff = (target_MA-meas_MA) % (2*np.pi)\n",
    "        print(f'After iteration {current_iter+1}, we are using a shifting MA of {MA} to achieve a measured_MA of {meas_MA}. Target MA is {target_MA}')\n",
    "        current_tol = np.abs((MA_diff+np.pi) % (2*np.pi)-np.pi)\n",
    "        if current_tol < best_tol:\n",
    "            best_tol = current_tol\n",
    "            best_wf = hp\n",
    "            best_MA = MA\n",
    "        MA = (MA+MA_diff) % (2*np.pi)\n",
    "        current_iter += 1\n",
    "    \n",
    "    print(f'Final shifting MA used of {best_MA} for a MA difference of {best_tol}.')\n",
    "\n",
    "    return best_wf"
   ]
  },
  {
   "cell_type": "code",
   "execution_count": 35,
   "id": "745ed029-831f-4af7-b8ea-936e7dded159",
   "metadata": {},
   "outputs": [],
   "source": [
    "# Data settings\n",
    "true_dict = {'ecc10sqrd': 0.2**2, 'chirp_mass': 24, 'symmetric_mass_ratio': 2/9, 'chi_eff': 0}\n",
    "target_snr = 20\n",
    "f_low = 20\n",
    "sample_rate = 4096\n",
    "tlen = 32\n",
    "\n",
    "# Create psd\n",
    "ifos = ['H1']\n",
    "psds = {'H1': 'aLIGOZeroDetHighPower',\n",
    "        'f_low': f_low,\n",
    "        'f_high': int(sample_rate/2),\n",
    "        'length': tlen,\n",
    "        'delta_f': 1. / tlen\n",
    "        }\n",
    "psd = {}\n",
    "for ifo in ifos:\n",
    "    psd[ifo] = psd_func.analytical.from_string(psds[ifo], psds['length'] * psds['f_high'] + 1, psds['delta_f'],\n",
    "                                                     psds['f_low'])\n",
    "psd['harm'] = 1. / sum([1. / psd[ifo] for ifo in ifos])\n",
    "\n",
    "# Generate data\n",
    "true_dict['mass_ratio'] = q_from_eta(true_dict['symmetric_mass_ratio'])\n",
    "true_dict['inverted_mass_ratio'] = 1/true_dict['mass_ratio']\n",
    "true_dict['total_mass'] = np.sum(component_masses_from_mchirp_q(true_dict['chirp_mass'], true_dict['mass_ratio']), axis=0)\n",
    "true_dict['distance'] = 1\n",
    "data = make_waveform(true_dict.copy(), psd['harm'].delta_f, f_low, len(psd['harm']), approximant='TEOBResumS-Dali')\n",
    "raw_snr = sigma(data, psd['H1'], low_frequency_cutoff=f_low, high_frequency_cutoff=psds['f_high'])\n",
    "data = {'H1': (data*target_snr/raw_snr).to_timeseries()}\n",
    "# data = {'H1': (data*target_snr/raw_snr + frequency_noise_from_psd(psd['H1'], seed=12345)).to_timeseries()}\n",
    "true_dict['distance'] = raw_snr/target_snr\n",
    "\n",
    "# Get degeneracy line in roughly correct direction\n",
    "with open('pe_4d_pipeline/dataslot_0/all_matches', 'rb') as fp:\n",
    "    all_matches = pickle.load(fp)\n",
    "base_dict = all_matches['metadata']['base_params']\n",
    "fid_dict = all_matches['metadata']['fid_params']\n",
    "\n",
    "# Shift degeneracy line to pass through true point\n",
    "mult = true_dict['ecc10sqrd']/(fid_dict['ecc10sqrd']-base_dict['ecc10sqrd'])\n",
    "for key in ['chirp_mass', 'symmetric_mass_ratio', 'chi_eff']:\n",
    "    proj_point = mult*(fid_dict[key]-base_dict[key])+base_dict[key]\n",
    "    proj_diff = true_dict[key]-proj_point\n",
    "    base_dict[key] += proj_diff\n",
    "    fid_dict[key] += proj_diff"
   ]
  },
  {
   "cell_type": "code",
   "execution_count": 40,
   "id": "bbeaf7a9-419e-4e27-b348-c0ea85c52991",
   "metadata": {},
   "outputs": [
    {
     "name": "stdout",
     "output_type": "stream",
     "text": [
      "rho_0: 19.43, phi_0: 2.38\n",
      "rho_1: 3.37, phi_1: 0.20\n",
      "rho_-1: 1.81, phi_-1: 3.97\n",
      "rho_2: 0.31, phi_2: 2.06\n",
      "Target MA: 4.22\n"
     ]
    }
   ],
   "source": [
    "# Generate eccentric harmonics\n",
    "first_params = {key: fid_dict[key] for key in ['ecc10sqrd', 'chirp_mass', 'symmetric_mass_ratio', 'chi_eff']}\n",
    "first_params['distance'] = 1\n",
    "ecc_harms = make_waveform(first_params, psd['H1'].delta_f, f_low, len(psd['H1']), approximant='TEOBResumS-Dali-Harms', n_ecc_harms=4)\n",
    "mode_SNRs, _ = calculate_mode_snr(data['H1'], psd['H1'], ecc_harms, data['H1'].sample_times[0],\n",
    "                                  data['H1'].sample_times[-1], f_low, ecc_harms.keys(), dominant_mode=0, subsample_interpolation=False)\n",
    "first_data_ecc_SNR, target_MA = two_ecc_harms_SNR({k: np.abs(mode_SNRs[k]) for k in [0,1,-1]},\n",
    "                                                  {k: np.angle(mode_SNRs[k]) for k in [0,1,-1]})\n",
    "# target_MA = (np.angle(mode_SNRs[1])-np.angle(mode_SNRs[0])) % (2*np.pi)\n",
    "\n",
    "for key in ecc_harms.keys():\n",
    "    print(f'rho_{key}: {np.abs(mode_SNRs[key]):.2f}, phi_{key}: {np.angle(mode_SNRs[key])%(2*np.pi):.2f}')\n",
    "print(f'Target MA: {target_MA:.2f}')\n",
    "\n",
    "# \n",
    "# trial_z, _ = calculate_mode_snr(first_trial_wf, psd, ecc_harms, first_trial_wf.sample_times[0],\n",
    "#                                 first_trial_wf.sample_times[-1], f_low, ecc_harms.keys(),\n",
    "#                                 dominant_mode=0, subsample_interpolation=False)\n",
    "# print({k: np.abs(trial_z[k]) for k in trial_z.keys()})\n",
    "# if two_ecc_harms:\n",
    "#     ecc_SNR_abs, _ = two_ecc_harms_SNR(\n",
    "#         {k: np.abs(trial_z[k]) for k in [0, 1, -1]},\n",
    "#         {k: np.angle(trial_z[k]) for k in [0, 1, -1]})\n",
    "# else:\n",
    "#     ecc_SNR_abs = np.abs(trial_z[1]/trial_z[0])"
   ]
  },
  {
   "cell_type": "markdown",
   "id": "243da172-2e5e-452e-b9a3-84d2016892b2",
   "metadata": {},
   "source": [
    "BELOW IS FIDUCIAL POINT NEED TO CHANGE TO e=0.2 FOR TESTS"
   ]
  },
  {
   "cell_type": "code",
   "execution_count": 43,
   "id": "171007a9-2813-446f-9da9-492153fbbe2e",
   "metadata": {},
   "outputs": [
    {
     "name": "stdout",
     "output_type": "stream",
     "text": [
      "After iteration 1, we are using a shifting MA of 0 to achieve a measured_MA of 4.734927294117227. Target MA is 4.2248880088059595\n",
      "After iteration 2, we are using a shifting MA of 5.773146021868318 to achieve a measured_MA of 4.483198496710147. Target MA is 4.2248880088059595\n",
      "After iteration 3, we are using a shifting MA of 5.514835533964131 to achieve a measured_MA of 4.345543344818341. Target MA is 4.2248880088059595\n",
      "After iteration 4, we are using a shifting MA of 5.39418019795175 to achieve a measured_MA of 4.181662103798501. Target MA is 4.2248880088059595\n",
      "Final shifting MA used of 5.39418019795175 for a MA difference of 0.04322590500745882.\n"
     ]
    }
   ],
   "source": [
    "first_params['inverted_mass_ratio'] = 1/q_from_eta(first_params['symmetric_mass_ratio'])\n",
    "first_params['total_mass'] = np.sum(component_masses_from_mchirp_q(first_params['chirp_mass'], first_params['inverted_mass_ratio']))\n",
    "first_trial_wf = generate_eccentric_waveform_MA_test(first_params['total_mass'], first_params['inverted_mass_ratio'],\n",
    "                                                first_params['ecc10sqrd']**0.5, first_params['chi_eff'], first_params['chi_eff'],\n",
    "                                                psd['H1'], f_low, target_MA, ecc_harms, two_ecc_harms=True)"
   ]
  },
  {
   "cell_type": "code",
   "execution_count": null,
   "id": "af1871ca-20b9-4bb7-8ef0-1ce2e4a4f47b",
   "metadata": {},
   "outputs": [],
   "source": []
  }
 ],
 "metadata": {
  "kernelspec": {
   "display_name": "igwn_eccentric",
   "language": "python",
   "name": "igwn_eccentric"
  },
  "language_info": {
   "codemirror_mode": {
    "name": "ipython",
    "version": 3
   },
   "file_extension": ".py",
   "mimetype": "text/x-python",
   "name": "python",
   "nbconvert_exporter": "python",
   "pygments_lexer": "ipython3",
   "version": "3.10.14"
  }
 },
 "nbformat": 4,
 "nbformat_minor": 5
}
