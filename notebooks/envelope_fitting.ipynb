{
 "cells": [
  {
   "cell_type": "code",
   "execution_count": 1,
   "id": "3d8a02e9-a226-4894-8c19-0829b270bfd7",
   "metadata": {},
   "outputs": [],
   "source": [
    "import EOBRun_module\n",
    "import numpy as np\n",
    "import math\n",
    "import matplotlib.pyplot as plt\n",
    "import scipy.constants as const\n",
    "import astropy.constants as aconst\n",
    "from pycbc.waveform import td_approximants, fd_approximants, get_td_waveform\n",
    "from pycbc.detector import Detector\n",
    "from pycbc.filter import match, optimized_match\n",
    "from pycbc.psd import aLIGOZeroDetHighPower\n",
    "from pycbc.types import timeseries"
   ]
  },
  {
   "cell_type": "code",
   "execution_count": 4,
   "id": "db44f0d5-4739-4301-8df7-0d909d1744d9",
   "metadata": {},
   "outputs": [],
   "source": [
    "# Global settings\n",
    "sample_rate = 4096"
   ]
  },
  {
   "cell_type": "markdown",
   "id": "1a609969-6919-4731-918b-bbf7f752fe14",
   "metadata": {},
   "source": [
    "# Useful functions"
   ]
  },
  {
   "cell_type": "markdown",
   "id": "1b8d04b6-f3e5-46af-99ed-63432517ab4f",
   "metadata": {},
   "source": [
    "## Miscellaneous"
   ]
  },
  {
   "cell_type": "code",
   "execution_count": 40,
   "id": "3eb03cae-59e8-4028-8a63-1f6f841d8a13",
   "metadata": {},
   "outputs": [],
   "source": [
    "# Finds next highest power of two\n",
    "def ceiltwo(number):\n",
    "    ceil = math.ceil(np.log2(number))\n",
    "    return 2**ceil"
   ]
  },
  {
   "cell_type": "markdown",
   "id": "b4ebd724-bb61-4f75-88d6-8012becde440",
   "metadata": {},
   "source": [
    "## Generating waveforms"
   ]
  },
  {
   "cell_type": "code",
   "execution_count": 42,
   "id": "70b85d9d-20db-40ce-a7e6-c9581d77a661",
   "metadata": {},
   "outputs": [],
   "source": [
    "# Generates EccentricTD waveform with given parameters\n",
    "def gen_e_td_wf(M, q, e, f):\n",
    "    m2 = M / (1+q)\n",
    "    m1 = M - m2\n",
    "    e_td_p, e_td_c = get_td_waveform(approximant='EccentricTD',\n",
    "                                     mass1=m1,\n",
    "                                     mass2=m2,\n",
    "                                     eccentricity=e,\n",
    "                                     delta_t=1.0/sample_rate,\n",
    "                                     f_lower=f)\n",
    "    return e_td_p, e_td_c"
   ]
  },
  {
   "cell_type": "markdown",
   "id": "e988a022-e6ff-4fa5-a8b7-ae76021d80c9",
   "metadata": {},
   "source": [
    "## Combining waveforms"
   ]
  },
  {
   "cell_type": "code",
   "execution_count": 43,
   "id": "a9a6405e-001f-41da-a892-0373e4dfa29c",
   "metadata": {},
   "outputs": [],
   "source": [
    "# Resize both waveform lengths to next highest power of two\n",
    "def resize_wfs(wf1, wf2):\n",
    "    tlen = ceiltwo(max(len(wf1), len(wf2)))\n",
    "    wf1.resize(tlen)\n",
    "    wf2.resize(tlen)\n",
    "    return wf1, wf2"
   ]
  },
  {
   "cell_type": "code",
   "execution_count": null,
   "id": "59cfa480-0e73-408f-9e1c-245f4fef685f",
   "metadata": {},
   "outputs": [],
   "source": [
    "# Gets overall waveform h = A*h1 + B*h2\n",
    "def get_h(A, B):\n",
    "\n",
    "    # Gets h_ap and h_peri components which make up overall waveform\n",
    "    h_ap = get_h_ap()\n",
    "    h_peri = get_h_peri()\n",
    "\n",
    "    # Edits sample times of h_peri to match h_ap\n",
    "    first_ind = np.argmin(np.abs(h_ap.sample_times[0]-h_peri.sample_times))\n",
    "    h_peri = h_peri[first_ind:]\n",
    "    h_ap, h_peri = resize_wfs(h_ap, h_peri)\n",
    "    h_peri.start_time = h_ap.start_time\n",
    "    assert np.array_equal(h_ap.sample_times, h_peri.sample_times)\n",
    "\n",
    "    # Calculate h1, h2 components of waveform\n",
    "    h1 = 0.5*(h_ap + h_peri)\n",
    "    h2 = 0.5*(h_ap - h_peri)\n",
    "\n",
    "    # Returns overall waveform using complex coefficients A, B, as well as componen\n",
    "    return A*h1 + B*h2, h1, h2"
   ]
  },
  {
   "cell_type": "code",
   "execution_count": null,
   "id": "9ee06a59-11c8-42fe-8b1d-022bf880ec07",
   "metadata": {},
   "outputs": [],
   "source": []
  }
 ],
 "metadata": {
  "kernelspec": {
   "display_name": "teobresums_eccentric",
   "language": "python",
   "name": "teobresums_eccentric"
  },
  "language_info": {
   "codemirror_mode": {
    "name": "ipython",
    "version": 3
   },
   "file_extension": ".py",
   "mimetype": "text/x-python",
   "name": "python",
   "nbconvert_exporter": "python",
   "pygments_lexer": "ipython3",
   "version": "3.10.12"
  }
 },
 "nbformat": 4,
 "nbformat_minor": 5
}
