{
 "cells": [
  {
   "cell_type": "code",
   "execution_count": 1,
   "id": "b1664d25-1f10-40e1-906e-dfb1d8541662",
   "metadata": {},
   "outputs": [
    {
     "name": "stderr",
     "output_type": "stream",
     "text": [
      "/home/ben.patterson/.conda/envs/igwn_eccentric/lib/python3.10/site-packages/pycbc/types/array.py:36: UserWarning: Wswiglal-redir-stdio:\n",
      "\n",
      "SWIGLAL standard output/error redirection is enabled in IPython.\n",
      "This may lead to performance penalties. To disable locally, use:\n",
      "\n",
      "with lal.no_swig_redirect_standard_output_error():\n",
      "    ...\n",
      "\n",
      "To disable globally, use:\n",
      "\n",
      "lal.swig_redirect_standard_output_error(False)\n",
      "\n",
      "Note however that this will likely lead to error messages from\n",
      "LAL functions being either misdirected or lost when called from\n",
      "Jupyter notebooks.\n",
      "\n",
      "To suppress this warning, use:\n",
      "\n",
      "import warnings\n",
      "warnings.filterwarnings(\"ignore\", \"Wswiglal-redir-stdio\")\n",
      "import lal\n",
      "\n",
      "  import lal as _lal\n"
     ]
    },
    {
     "name": "stdout",
     "output_type": "stream",
     "text": [
      "lal.MSUN_SI != Msun\n",
      "__name__ = gwsurrogate.new.spline_evaluation\n",
      "__package__= gwsurrogate.new\n"
     ]
    },
    {
     "name": "stderr",
     "output_type": "stream",
     "text": [
      "/home/ben.patterson/.conda/envs/igwn_eccentric/lib/python3.10/site-packages/pandas/core/computation/expressions.py:21: UserWarning: Pandas requires version '2.8.4' or newer of 'numexpr' (version '2.7.3' currently installed).\n",
      "  from pandas.core.computation.check import NUMEXPR_INSTALLED\n"
     ]
    }
   ],
   "source": [
    "import time\n",
    "import logging\n",
    "import numpy as np\n",
    "import matplotlib.pyplot as plt\n",
    "from pycbc import psd as psd_func\n",
    "from pycbc.filter import sigma\n",
    "from pesummary.gw.conversions.mass import component_masses_from_mchirp_q, q_from_eta\n",
    "from simple_pe.waveforms import generate_eccentric_waveform\n",
    "from simple_pe.param_est import find_peak_snr"
   ]
  },
  {
   "cell_type": "code",
   "execution_count": 2,
   "id": "8e0eb7c3-4bc3-42e2-9225-5f24cb6b2d38",
   "metadata": {},
   "outputs": [
    {
     "name": "stdout",
     "output_type": "stream",
     "text": [
      "Analysing data with SNR of 20.\n",
      "{'ecc10sqrd': 0.04000000000000001, 'chirp_mass': 24, 'symmetric_mass_ratio': 0.2222222222222222, 'chi_eff': 0}\n"
     ]
    },
    {
     "name": "stderr",
     "output_type": "stream",
     "text": [
      "/home/ben.patterson/.conda/envs/igwn_eccentric/lib/python3.10/site-packages/pycbc/types/array.py:390: RuntimeWarning: divide by zero encountered in divide\n",
      "  return self._data.__rtruediv__(other)\n",
      "/home/ben.patterson/projects/simple-pe/simple_pe/waveforms/eccentric.py:198: RuntimeWarning: divide by zero encountered in power\n",
      "  e_term_1 = e_interps**(-18/19)\n"
     ]
    }
   ],
   "source": [
    "# Data settings\n",
    "true_dict = {'ecc10sqrd': 0.2**2, 'chirp_mass': 24, 'symmetric_mass_ratio': 2/9, 'chi_eff': 0}\n",
    "init_guess = {'ecc10sqrd': 0, 'chirp_mass': 25, 'symmetric_mass_ratio': 0.20, 'chi_eff': 0.1}\n",
    "target_snr = 20\n",
    "t_bounds = [-0.05,0.05]\n",
    "f_low = 20\n",
    "sample_rate = 4096\n",
    "tlen = 32\n",
    "print(f'Analysing data with SNR of {target_snr}.')\n",
    "print(true_dict)\n",
    "\n",
    "# Create psd\n",
    "ifos = ['H1']\n",
    "psds = {'H1': 'aLIGOZeroDetHighPower',\n",
    "        'f_low': f_low,\n",
    "        'f_high': int(sample_rate/2),\n",
    "        'length': tlen,\n",
    "        'delta_f': 1. / tlen\n",
    "        }\n",
    "psd = {}\n",
    "for ifo in ifos:\n",
    "    psd[ifo] = psd_func.analytical.from_string(psds[ifo], psds['length'] * psds['f_high'] + 1, psds['delta_f'],\n",
    "                                                     psds['f_low'])\n",
    "psd['harm'] = 1. / sum([1. / psd[ifo] for ifo in ifos])\n",
    "\n",
    "# Generate data\n",
    "true_dict['mass_ratio'] = q_from_eta(true_dict['symmetric_mass_ratio'])\n",
    "true_dict['inverted_mass_ratio'] = 1/true_dict['mass_ratio']\n",
    "true_dict['total_mass'] = np.sum(component_masses_from_mchirp_q(true_dict['chirp_mass'], true_dict['mass_ratio']), axis=0)\n",
    "data, _ = generate_eccentric_waveform(true_dict['total_mass'], true_dict['inverted_mass_ratio'], true_dict['ecc10sqrd']**0.5,\n",
    "                                      true_dict['chi_eff'], true_dict['chi_eff'], 10, sample_rate, f_ref_e=10, tlen=tlen, to_fs=False)\n",
    "raw_snr = sigma(data, psd['H1'], low_frequency_cutoff=f_low, high_frequency_cutoff=psds['f_high'])\n",
    "data = {'H1': data*target_snr/raw_snr}\n",
    "init_guess['distance'] = raw_snr/target_snr"
   ]
  },
  {
   "cell_type": "code",
   "execution_count": 8,
   "id": "f8add1f2-50b4-4eb8-8d4d-f5190e16aff3",
   "metadata": {},
   "outputs": [
    {
     "name": "stdout",
     "output_type": "stream",
     "text": [
      "Peak SNR of 19.3814728840111 found in 22.337523698806763 seconds.\n",
      "{'chirp_mass': 24.346708690958714, 'symmetric_mass_ratio': 0.23379838400510605, 'chi_eff': -0.01966901518052232, 'ecc10sqrd': 0}\n"
     ]
    }
   ],
   "source": [
    "# Disable pesummary warnings\n",
    "_logger = logging.getLogger('PESummary')\n",
    "_logger.setLevel(logging.CRITICAL + 10)\n",
    "\n",
    "# Find peak SNR\n",
    "start = time.time()\n",
    "t_start, t_end = t_bounds\n",
    "dx_directions = ['chirp_mass', 'symmetric_mass_ratio', 'chi_eff']\n",
    "bounds = [(10,100), (0.1,0.25), (-0.99,0.99)]\n",
    "peak_dict, snr = find_peak_snr(ifos, data, psd, t_start, t_end, init_guess, dx_directions, f_low,\n",
    "                               bounds=bounds, approximant=\"IMRPhenomXPHM\", method='scipy')\n",
    "base_dict = {key: peak_dict[key] for key in dx_directions}\n",
    "base_dict['ecc10sqrd'] = 0\n",
    "end = time.time()\n",
    "print(f'Peak SNR of {snr} found in {end-start} seconds.')\n",
    "print(base_dict)"
   ]
  },
  {
   "cell_type": "code",
   "execution_count": null,
   "id": "780cd534-6c5b-4cdb-8c79-32382121d517",
   "metadata": {},
   "outputs": [],
   "source": []
  }
 ],
 "metadata": {
  "kernelspec": {
   "display_name": "igwn_eccentric",
   "language": "python",
   "name": "igwn_eccentric"
  },
  "language_info": {
   "codemirror_mode": {
    "name": "ipython",
    "version": 3
   },
   "file_extension": ".py",
   "mimetype": "text/x-python",
   "name": "python",
   "nbconvert_exporter": "python",
   "pygments_lexer": "ipython3",
   "version": "3.10.14"
  }
 },
 "nbformat": 4,
 "nbformat_minor": 5
}
