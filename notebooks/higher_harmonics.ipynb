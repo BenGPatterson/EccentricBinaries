{
 "cells": [
  {
   "cell_type": "code",
   "execution_count": 1,
   "id": "bb1c73ff-67cb-471c-a975-28fa8f923a15",
   "metadata": {},
   "outputs": [],
   "source": [
    "import numpy as np\n",
    "import matplotlib.pyplot as plt\n",
    "import os\n",
    "import pickle\n",
    "from calcwf import *\n",
    "from interpolating_match import *"
   ]
  },
  {
   "cell_type": "code",
   "execution_count": 6,
   "id": "e2247ab7-866e-4f04-ab09-7080f0d84033",
   "metadata": {},
   "outputs": [
    {
     "data": {
      "text/plain": [
       "3.7416573867739413"
      ]
     },
     "execution_count": 6,
     "metadata": {},
     "output_type": "execute_result"
    }
   ],
   "source": [
    "np.linalg.norm([1,2,3j])"
   ]
  },
  {
   "cell_type": "code",
   "execution_count": null,
   "id": "e3b79a6e-404e-4fb8-9db7-2fa1c7a2df78",
   "metadata": {},
   "outputs": [],
   "source": []
  }
 ],
 "metadata": {
  "kernelspec": {
   "display_name": "teobresums_eccentric",
   "language": "python",
   "name": "teobresums_eccentric"
  },
  "language_info": {
   "codemirror_mode": {
    "name": "ipython",
    "version": 3
   },
   "file_extension": ".py",
   "mimetype": "text/x-python",
   "name": "python",
   "nbconvert_exporter": "python",
   "pygments_lexer": "ipython3",
   "version": "3.10.12"
  }
 },
 "nbformat": 4,
 "nbformat_minor": 5
}
