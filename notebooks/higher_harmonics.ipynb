{
 "cells": [
  {
   "cell_type": "code",
   "execution_count": null,
   "id": "bb1c73ff-67cb-471c-a975-28fa8f923a15",
   "metadata": {},
   "outputs": [],
   "source": [
    "import numpy as np\n",
    "import matplotlib.pyplot as plt\n",
    "import os\n",
    "import pickle\n",
    "import time\n",
    "from pycbc.filter import make_frequency_series\n",
    "from calcwf import *\n",
    "from interpolating_match import *"
   ]
  },
  {
   "cell_type": "code",
   "execution_count": null,
   "id": "a6cf9937-aabc-45dc-8e5d-5cbfe78a6fcb",
   "metadata": {},
   "outputs": [],
   "source": [
    "comb_harm_consistent([10, 2, 1], [0, np.pi/3, -np.pi/3], harms=[0,1,-1], return_denom=False)"
   ]
  },
  {
   "cell_type": "code",
   "execution_count": null,
   "id": "e2247ab7-866e-4f04-ab09-7080f0d84033",
   "metadata": {},
   "outputs": [],
   "source": [
    "with open(os.path.join('grid_data', 'dataslot_29', 'all_matches'), 'rb') as fp:\n",
    "        grid_data = pickle.load(fp)\n",
    "grid_data = find_min_max(grid_data, extra_keys=['h1_h0', 'h-1_h0', 'h2_h0', 'h1_h-1_h0', 'h1_h-1_h2_h0', 'h1_h-1_h0_pca', 'h1_h-1_h0_pcn', 'h1_h-1_h2_h0_pcn'])"
   ]
  },
  {
   "cell_type": "code",
   "execution_count": null,
   "id": "e3b79a6e-404e-4fb8-9db7-2fa1c7a2df78",
   "metadata": {},
   "outputs": [],
   "source": [
    "grid_data.keys()"
   ]
  },
  {
   "cell_type": "code",
   "execution_count": null,
   "id": "7cb0d05d-b05e-4b4e-b2ac-1e118a7f7ccf",
   "metadata": {},
   "outputs": [],
   "source": [
    "chirp = 31.060565479858784\n",
    "plt.plot(grid_data[chirp]['e_vals'], grid_data[chirp]['h1_h0_max'], c='C0', label='h1/h0')\n",
    "plt.plot(grid_data[chirp]['e_vals'], grid_data[chirp]['h1_h0_min'], c='C0')\n",
    "plt.plot(grid_data[chirp]['e_vals'], grid_data[chirp]['h-1_h0_max'], c='C1', label='h-1/h0')\n",
    "plt.plot(grid_data[chirp]['e_vals'], grid_data[chirp]['h-1_h0_min'], c='C1')\n",
    "plt.plot(grid_data[chirp]['e_vals'], grid_data[chirp]['h2_h0_max'], c='C2', label='h2/h0')\n",
    "plt.plot(grid_data[chirp]['e_vals'], grid_data[chirp]['h2_h0_min'], c='C2')\n",
    "plt.plot(grid_data[chirp]['e_vals'], grid_data[chirp]['h1_h-1_h0_max'], c='C3', label='(h1,h-1)/h0')\n",
    "plt.plot(grid_data[chirp]['e_vals'], grid_data[chirp]['h1_h-1_h0_min'], c='C3')\n",
    "plt.plot(grid_data[chirp]['e_vals'], grid_data[chirp]['h1_h-1_h0_pca_max'], c='C4', label='(h1,h-1)pca/h0')\n",
    "plt.plot(grid_data[chirp]['e_vals'], grid_data[chirp]['h1_h-1_h0_pca_min'], c='C4')\n",
    "plt.plot(grid_data[chirp]['e_vals'], grid_data[chirp]['h1_h-1_h0_pcn_max'], c='C5', label='(h1,h-1)pcn/h0')\n",
    "plt.plot(grid_data[chirp]['e_vals'], grid_data[chirp]['h1_h-1_h0_pcn_min'], c='C5')\n",
    "plt.plot(grid_data[chirp]['e_vals'], grid_data[chirp]['h1_h-1_h2_h0_pcn_max'], c='C6', label='(h1,h-1,h2)pcn/h0')\n",
    "plt.plot(grid_data[chirp]['e_vals'], grid_data[chirp]['h1_h-1_h2_h0_pcn_min'], c='C6')\n",
    "plt.legend()\n",
    "plt.xlim(0.2, np.min([0.5, grid_data[chirp]['fid_e']*4]))\n",
    "plt.ylim(0.2, 0.45)\n",
    "plt.xlabel('ecc')\n",
    "plt.ylabel('rho_x/rho_0')"
   ]
  },
  {
   "cell_type": "markdown",
   "id": "1439b65e-d338-46ab-b7ef-6071cc65c82a",
   "metadata": {},
   "source": [
    "# Phase consistency"
   ]
  },
  {
   "cell_type": "markdown",
   "id": "3781168f-b317-476c-bd41-bf9305e98958",
   "metadata": {},
   "source": [
    "We expect that the difference between the phase of the match with h1 and h0 should be the same as the difference between the phase of the match with h0 and h-1, as they both give estimates of the initial mean anomaly. We can test this here by looking at the discrepancy for every point in the grid."
   ]
  },
  {
   "cell_type": "code",
   "execution_count": null,
   "id": "814aa984-90b2-4dbe-8033-d04cdb270394",
   "metadata": {},
   "outputs": [],
   "source": [
    "chirp = 11.737898138164017\n",
    "\n",
    "# Calculating phase differences\n",
    "h0_phase = grid_data[chirp]['h0_phase']\n",
    "h1_phase = grid_data[chirp]['h1_phase']\n",
    "hn1_phase = grid_data[chirp]['h-1_phase']\n",
    "diff_0 = h1_phase - h0_phase\n",
    "diff_1 = h0_phase - hn1_phase\n",
    "\n",
    "# Calculating discrepancies and restricting to between -pi and pi\n",
    "consistency = diff_1 - diff_0\n",
    "consistency = (consistency+np.pi)%(2*np.pi)-np.pi\n",
    "\n",
    "# Plot histogram\n",
    "plt.hist(consistency.flatten(), bins=50, histtype='step')\n",
    "plt.xlabel('discrepancy')\n",
    "plt.xlim(-np.pi, np.pi)\n",
    "plt.show()\n",
    "\n",
    "# Plot scatter plot as function of eccentricity along degeneracy line\n",
    "for i, cons in enumerate(consistency):\n",
    "    plt.scatter(np.full(len(cons), grid_data[chirp]['e_vals'][i]), cons, c='C0')\n",
    "plt.ylabel('discrepancy')\n",
    "plt.xlabel('ecc')\n",
    "plt.ylim(-np.pi, np.pi)\n",
    "plt.xlim(0, grid_data[chirp]['e_vals'][-1])"
   ]
  },
  {
   "cell_type": "markdown",
   "id": "ac45353d-9377-4844-a871-d14cae0eed6c",
   "metadata": {},
   "source": [
    "We can see that the discrepancy distribution is indeed centred around zero, supporting our theory that these phase differences should be the same. The discrepancies tend to get bigger at very low eccentricities, likely due to the non/minimal detection of higher harmonics, as well as at high eccentricities, likely due to the similarities to harmonics built at the fiducial eccentricity degrading."
   ]
  },
  {
   "cell_type": "markdown",
   "id": "52e2b1b4-5fe9-471c-95f6-6e3494359938",
   "metadata": {},
   "source": [
    "## Equation derivation"
   ]
  },
  {
   "cell_type": "markdown",
   "id": "df56ff5a-e110-4920-a894-119ba9e7e364",
   "metadata": {},
   "source": [
    "We want to maximise the likelihood given by\n",
    "\n",
    "$$\n",
    "\\log{\\Lambda} = (s|h) - \\frac{1}{2} (h|h),\n",
    "$$\n",
    "\n",
    "where we are using the convention here that (a|b) is the real part of the inner product.\n",
    "\n",
    "$h$ is the trial waveform given by\n",
    "\n",
    "$$\n",
    "h = \\sum_k A_k e^{i\\phi_k} h_k,\n",
    "$$\n",
    "\n",
    "and $s$ is the data given by\n",
    "\n",
    "$$\n",
    "s = h^\\prime + n,\n",
    "$$\n",
    "\n",
    "where $h^\\prime$ is the true signal in the data, and $n$ is the noise."
   ]
  },
  {
   "cell_type": "markdown",
   "id": "b583c916-fa13-4e32-ac3e-ac9b57516254",
   "metadata": {},
   "source": [
    "Assuming the noise to be stationary and Gaussian, $(n|h) = 0$ and so we can rewrite the likelihood as \n",
    "\n",
    "$$\n",
    "\\log{\\Lambda}= (h^\\prime|h) - \\frac{1}{2} (h|h).\n",
    "$$\n",
    "\n",
    "We can now use the orthonormality of $h_k$, where $(h_j|h_k) = \\delta_{jk}$ to write this as\n",
    "\n",
    "$$\n",
    "\\log{\\Lambda}= \\sum_k A_k^\\prime A_k \\cos(\\phi_k - \\phi_k^\\prime) - \\frac{1}{2} A_k^2.\n",
    "$$"
   ]
  },
  {
   "cell_type": "markdown",
   "id": "23e941c0-e92f-4568-a0f5-d57bca6a0a9c",
   "metadata": {},
   "source": [
    "We will now enforce phase consistency by parameterising $\\phi_k$ as \n",
    "\n",
    "$$\n",
    "\\phi_k = \\alpha + k\\beta\n",
    "$$\n",
    "\n",
    "in order to find\n",
    "\n",
    "$$\n",
    "\\log{\\Lambda}= \\sum_k A_k^\\prime A_k \\cos(\\alpha + k\\beta - \\phi_k^\\prime) - \\frac{1}{2} A_k^2.\n",
    "$$"
   ]
  },
  {
   "cell_type": "markdown",
   "id": "1f79c224-b845-4799-9579-434152f072f9",
   "metadata": {},
   "source": [
    "We can maximise over this numerically using initial guesses of $A_k = A_k^\\prime$, $\\alpha = \\phi_0^\\prime$, and $\\beta = \\phi_1^\\prime - \\phi_0^\\prime$.\n",
    "\n",
    "The fraction we are then looking for is\n",
    "\n",
    "$$\n",
    "\\frac{\\sqrt{\\sum_kA_k^2}}{A_0}.\n",
    "$$"
   ]
  },
  {
   "cell_type": "code",
   "execution_count": null,
   "id": "0da58fba-e7ce-4ed4-91d1-a7e15b2a8ca2",
   "metadata": {},
   "outputs": [],
   "source": []
  },
  {
   "cell_type": "markdown",
   "id": "20f3d47b-b9fc-48b3-a2d4-5bb1829ea5b3",
   "metadata": {},
   "source": [
    "We can now perform partial differentiation with respect to $A_k$, $\\alpha$, and $\\beta$ to find a set of simultaneous equations which describe the stationary points of this function.\n",
    "\n",
    "$$\n",
    "\\frac{\\partial \\log{\\Lambda}}{\\partial A_k} = A_k^\\prime \\cos(\\alpha + k\\beta - \\phi_k^\\prime) - A_k = 0.\n",
    "$$\n",
    "\n",
    "$$\n",
    "A_k = A_k^\\prime \\cos(\\alpha + k\\beta - \\phi_k^\\prime).\n",
    "$$\n",
    "\n",
    "$$\n",
    "\\frac{\\partial \\log{\\Lambda}}{\\partial \\alpha} = - \\sum_k A_k^\\prime A_k \\sin(\\alpha + k\\beta - \\phi_k^\\prime) = 0.\n",
    "$$\n",
    "\n",
    "$$\n",
    "\\frac{\\partial \\log{\\Lambda}}{\\partial \\beta} = - \\sum_k k A_k^\\prime A_k \\sin(\\alpha + k\\beta - \\phi_k^\\prime) = 0.\n",
    "$$"
   ]
  },
  {
   "cell_type": "markdown",
   "id": "cd1d8292-8e59-48f6-bb85-dd7180e666b0",
   "metadata": {},
   "source": [
    "We can substitute the equation for $A_k$ into the others to get\n",
    "\n",
    "$$\n",
    "\\sum_k {A_k^\\prime}^2 \\sin(2\\alpha + 2k\\beta - 2\\phi_k^\\prime) = 0,\n",
    "$$\n",
    "\n",
    "$$\n",
    "\\sum_k k {A_k^\\prime}^2 \\sin(2\\alpha + 2k\\beta - 2\\phi_k^\\prime) = 0.\n",
    "$$"
   ]
  },
  {
   "cell_type": "code",
   "execution_count": null,
   "id": "acea1a00-1bec-4928-bbb0-706aa10d4e70",
   "metadata": {},
   "outputs": [],
   "source": []
  },
  {
   "cell_type": "markdown",
   "id": "bada5caf-c221-4adf-863b-e28393850407",
   "metadata": {},
   "source": [
    "We want to find the overall SNR of the harmonics while enforcing phase consistency between them. This comes down to calculating the following\n",
    "\n",
    "$$\n",
    "\\mathrm{SNR}^2 = (h|s),\n",
    "$$\n",
    "\n",
    "where $s$ is the data, and $h$ is the overall waveform given by\n",
    "\n",
    "$$\n",
    "h = \\sum_k A_k h_k = A_0 h_0 + A_1 h_1 + A_{-1} h_{-1},\n",
    "$$\n",
    "\n",
    "and $A_k$ are complex coefficients represented by \n",
    "\n",
    "$$\n",
    "A_k = \\rho_k e^{-i\\phi_k}.\n",
    "$$\n",
    "\n",
    "As the amplitude coefficients of the harmonics are equal to their SNR here, $(h_k|h_k) = 1$ for all $k$ by definition."
   ]
  },
  {
   "cell_type": "markdown",
   "id": "458041ec-e260-4fe3-8119-b7deb86585c7",
   "metadata": {},
   "source": [
    "We are not (currently) enforcing any conditions on the magnitudes of the harmonic SNRs, and so can set all $\\rho_k$ in this model equal to the measured harmonic SNR magnitudes $\\rho_k^\\prime$. We will not however in general have $\\phi_k = \\phi_k^\\prime$ as we are enforcing a condition on the SNR phases parameterised by the angles $\\alpha$ and $\\beta$:\n",
    "\n",
    "$$\n",
    "\\phi_k = \\alpha + k \\beta.\n",
    "$$\n",
    "\n",
    "We can therefore expand $h$ out as \n",
    "\n",
    "$$\n",
    "(h|s) = \\sum_k A_k (h_k|s) = \\sum_k \\rho_k e^{-i\\phi_k} (h_k|s).\n",
    "$$"
   ]
  },
  {
   "cell_type": "markdown",
   "id": "f4386109-a13c-44d4-950c-c9587a734dec",
   "metadata": {},
   "source": [
    "(h_k|s) is now simply the measured SNR of each harmonic, and so we can write this as\n",
    "\n",
    "$$\n",
    "(h|s) = \\sum_k \\rho_k e^{-i\\phi_k} \\rho_k e^{i\\phi^\\prime_k} = \\sum_k \\rho_k^2 e^{i(\\phi_k^\\prime-\\phi_k)}.\n",
    "$$\n",
    "\n",
    "We can then take the real part to find the square of the SNR as \n",
    "\n",
    "$$\n",
    "\\sum_k \\rho_k^2 \\cos(\\phi_k^\\prime-\\phi_k).\n",
    "$$"
   ]
  },
  {
   "cell_type": "markdown",
   "id": "b7ecbcef-8261-488f-b917-976797c72253",
   "metadata": {},
   "source": [
    "We now must simply maximise this quantity numerically over $\\alpha$ and $\\beta$, starting with an initial guess of $\\alpha = \\phi_0^\\prime$ and $\\beta = \\phi_1^\\prime - \\phi_0^\\prime$.\n",
    "\n",
    "Once we have found these values of $\\alpha$ and $\\beta$ we can simply plug them into the following equation.\n",
    "\n",
    "$$\n",
    "\\sqrt{\\frac{\\rho_1^2 \\cos(\\phi_1^\\prime-\\phi_1) + \\rho_{-1}^2 \\cos(\\phi_{-1}^\\prime-\\phi_{-1})}{\\rho_0^2 \\cos(\\phi_0^\\prime-\\phi_0)}}.\n",
    "$$"
   ]
  },
  {
   "cell_type": "code",
   "execution_count": null,
   "id": "b464eb88-248e-43ca-8b4f-44765310b204",
   "metadata": {},
   "outputs": [],
   "source": []
  }
 ],
 "metadata": {
  "kernelspec": {
   "display_name": "teobresums_eccentric",
   "language": "python",
   "name": "teobresums_eccentric"
  },
  "language_info": {
   "codemirror_mode": {
    "name": "ipython",
    "version": 3
   },
   "file_extension": ".py",
   "mimetype": "text/x-python",
   "name": "python",
   "nbconvert_exporter": "python",
   "pygments_lexer": "ipython3",
   "version": "3.10.12"
  }
 },
 "nbformat": 4,
 "nbformat_minor": 5
}
