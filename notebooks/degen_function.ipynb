{
 "cells": [
  {
   "cell_type": "code",
   "execution_count": 5,
   "id": "2b24fc15-e413-46fe-9d69-1a91acb17206",
   "metadata": {},
   "outputs": [],
   "source": [
    "import os\n",
    "import pickle\n",
    "import numpy as np\n",
    "import matplotlib.pyplot as plt\n",
    "from simple_pe.waveforms import parameter_bounds, check_physical"
   ]
  },
  {
   "cell_type": "code",
   "execution_count": 2,
   "id": "b75aaf23-c7e4-4d12-95a6-2093ffc6ec7b",
   "metadata": {},
   "outputs": [],
   "source": [
    "with open(os.path.join('data', '4d_samples_pe_result'), 'rb') as fp:\n",
    "    pe_result = pickle.load(fp)\n",
    "metric = pe_result.metric"
   ]
  },
  {
   "cell_type": "code",
   "execution_count": 3,
   "id": "7252b73f-fb5c-4066-a00e-772e5f52381d",
   "metadata": {},
   "outputs": [],
   "source": [
    "def const_mm_point(metric, keys, mm, target_par, base_vals, direction=1):\n",
    "\n",
    "    # Find A\n",
    "    target_ind = keys.index(target_par)\n",
    "    A = metric[target_ind][target_ind]\n",
    "\n",
    "    # Find B\n",
    "    param_keys = [key for key in keys if key != target_par]\n",
    "    B = np.array([metric[target_ind][k] for k in range(len(keys)) if k != target_ind])\n",
    "\n",
    "    # Find inverse of C\n",
    "    C = np.delete(metric, (target_ind), axis=0)\n",
    "    C = np.delete(C, (target_ind), axis=1)\n",
    "    C_inv = np.linalg.inv(C)\n",
    "\n",
    "    # Find change in target parameter to reach mismatch\n",
    "    BC_term = -np.matmul(B, np.matmul(C_inv, B))\n",
    "    d_target = direction*np.sqrt(mm/(A+BC_term))\n",
    "\n",
    "    # Find extreme point at specified mismatch\n",
    "    dxs = -1*np.matmul(C_inv, B) * d_target\n",
    "    extreme_point = {target_par: base_vals[target_par]+d_target}\n",
    "    for i, key in enumerate(param_keys):\n",
    "        extreme_point[key] = dxs[i] + base_vals[key]\n",
    "\n",
    "    return extreme_point"
   ]
  },
  {
   "cell_type": "code",
   "execution_count": 46,
   "id": "6d3f6533-2ea4-423c-b591-769b37662d60",
   "metadata": {},
   "outputs": [],
   "source": [
    "def degeneracy_line(metric, e10s, dirs=['ecc10sqrd', 'chirp_mass', 'symmetric_mass_ratio', 'chi_eff'], mins=None, maxs=None):\n",
    "\n",
    "    # Setup\n",
    "    if mins is None:\n",
    "        mins = parameter_bounds.param_mins\n",
    "    if maxs is None:\n",
    "        maxs = parameter_bounds.param_maxs\n",
    "    base_vals = {direct: metric.x[direct][0] for direct in dirs}\n",
    "    e10s = np.array([e10s]).flatten()\n",
    "    rail_dirs = dirs.copy()\n",
    "    rail_dirs.remove('ecc10sqrd')\n",
    "    railing = []\n",
    "    for i in range(len(e10s)):\n",
    "        railing.append('0'*(len(dirs)-1))\n",
    "\n",
    "    # Loop over iterations\n",
    "    finished = np.zeros_like(e10s)\n",
    "    degen_points = {}\n",
    "    new_vals = [base_vals for i in range(len(e10s))]\n",
    "    while np.sum(finished) < len(finished):\n",
    "\n",
    "        # Calculate degenerate directions for all necessary projections\n",
    "        for degen_key in set(railing):\n",
    "            if degen_key not in degen_points.keys():\n",
    "                proj_dirs = [rail_dirs[i] for i in range(len(rail_dirs)) if int(degen_key[i])]\n",
    "                keep_dirs = [key for key in metric.dxs.keys() if key not in proj_dirs]\n",
    "                metric.project_metric(keep_dirs)\n",
    "                degen_points[degen_key] = const_mm_point(metric.projected_metric, keep_dirs, metric.projected_mismatch, 'ecc10sqrd', base_vals)\n",
    "                for direct in proj_dirs:\n",
    "                    degen_points[degen_key][direct] = base_vals[direct]\n",
    "\n",
    "        # For each eccentricity value\n",
    "        for i, e10 in enumerate(e10s):\n",
    "            if finished[i]:\n",
    "                continue\n",
    "\n",
    "            # Calculate new value\n",
    "            dist = (e10**2 - new_vals[i]['ecc10sqrd'])/(degen_points[railing[i]]['ecc10sqrd'] - base_vals['ecc10sqrd'])\n",
    "            dx = {}\n",
    "            for direct in dirs:\n",
    "                dx[direct] = dist*(degen_points[railing[i]][direct] - base_vals[direct])\n",
    "            new_vals_pos, dx_pos = new_vals[i].copy(), dx.copy()\n",
    "            for key in list(dx_pos.keys()):\n",
    "                if dx_pos[key] == 0:\n",
    "                    new_vals_pos.pop(key)\n",
    "                    dx_pos.pop(key)\n",
    "            alpha = check_physical(new_vals_pos, dx_pos, 1, maxs=maxs, mins=mins)\n",
    "            new_point = {}\n",
    "            for direct in dirs:\n",
    "                new_point[direct] = alpha*dist*(degen_points[railing[i]][direct] - base_vals[direct]) + new_vals[i][direct]\n",
    "            new_vals[i] = new_point\n",
    "\n",
    "            # Check if railing\n",
    "            rail = ''\n",
    "            if alpha < 1:\n",
    "                for j, raildir in enumerate(rail_dirs):\n",
    "                    if np.isclose(new_point[raildir], maxs[raildir], atol=1e-15) or np.isclose(new_point[raildir], mins[raildir], atol=1e-15):\n",
    "                        rail += '1'\n",
    "                    else:\n",
    "                        rail += '0'\n",
    "                if rail == railing[i]:\n",
    "                    finished[i] = True\n",
    "                else:\n",
    "                    railing[i] = rail\n",
    "            else:\n",
    "                finished[i] = True\n",
    "\n",
    "    # Return as array or single value\n",
    "    new_vals = np.array(new_vals)\n",
    "    if len(np.shape(new_vals.squeeze())) == 0:\n",
    "        new_vals = new_vals[0]\n",
    "\n",
    "    return new_vals"
   ]
  },
  {
   "cell_type": "code",
   "execution_count": 48,
   "id": "c26f473c-c134-47fa-96f5-60838f8f8c9b",
   "metadata": {},
   "outputs": [
    {
     "data": {
      "text/plain": [
       "array([{'ecc10sqrd': 0.0, 'chirp_mass': 24.70401677956892, 'symmetric_mass_ratio': 0.2061104690205152, 'chi_eff': 0.13994519741392042},\n",
       "       {'ecc10sqrd': 0.04000000000000001, 'chirp_mass': 24.177888399169536, 'symmetric_mass_ratio': 0.2022766566716489, 'chi_eff': 0.11428548356502749},\n",
       "       {'ecc10sqrd': 0.16000000000000003, 'chirp_mass': 22.599503257971378, 'symmetric_mass_ratio': 0.2, 'chi_eff': 0.03730634201834722},\n",
       "       {'ecc10sqrd': 0.3600000000000001, 'chirp_mass': 19.968861355974447, 'symmetric_mass_ratio': 0.2, 'chi_eff': -0.09099222722612052},\n",
       "       {'ecc10sqrd': 0.6400000000000001, 'chirp_mass': 16.28596269317874, 'symmetric_mass_ratio': 0.2, 'chi_eff': -0.2706102241683754},\n",
       "       {'ecc10sqrd': 1.0, 'chirp_mass': 11.550807269584269, 'symmetric_mass_ratio': 0.2, 'chi_eff': -0.5015476488084172}],\n",
       "      dtype=object)"
      ]
     },
     "execution_count": 48,
     "metadata": {},
     "output_type": "execute_result"
    }
   ],
   "source": [
    "mins = parameter_bounds.param_mins.copy()\n",
    "maxs = parameter_bounds.param_maxs.copy()\n",
    "mins['symmetric_mass_ratio'] = 0.20\n",
    "degeneracy_line(metric, np.linspace(0, 1, 6), mins=mins, maxs=maxs)"
   ]
  },
  {
   "cell_type": "code",
   "execution_count": 49,
   "id": "71254c77-71a8-4e28-9a5b-5710936fa957",
   "metadata": {},
   "outputs": [
    {
     "data": {
      "text/plain": [
       "array([{'ecc10sqrd': 0.0, 'chirp_mass': 24.70401677956892, 'symmetric_mass_ratio': 0.2061104690205152, 'chi_eff': 0.13994519741392042},\n",
       "       {'ecc10sqrd': 0.04000000000000001, 'chirp_mass': 24.177888399169536, 'symmetric_mass_ratio': 0.2022766566716489, 'chi_eff': 0.11428548356502749},\n",
       "       {'ecc10sqrd': 0.16000000000000003, 'chirp_mass': 22.599503257971374, 'symmetric_mass_ratio': 0.1907752196250501, 'chi_eff': 0.03730634201834873},\n",
       "       {'ecc10sqrd': 0.3600000000000001, 'chirp_mass': 19.968861355974443, 'symmetric_mass_ratio': 0.17160615788071876, 'chi_eff': -0.09099222722611595},\n",
       "       {'ecc10sqrd': 0.6400000000000001, 'chirp_mass': 16.28596269317874, 'symmetric_mass_ratio': 0.14476947143865487, 'chi_eff': -0.2706102241683664},\n",
       "       {'ecc10sqrd': 0.9999999999999999, 'chirp_mass': 11.550807269584263, 'symmetric_mass_ratio': 0.11026516029885848, 'chi_eff': -0.5015476488084024}],\n",
       "      dtype=object)"
      ]
     },
     "execution_count": 49,
     "metadata": {},
     "output_type": "execute_result"
    }
   ],
   "source": [
    "degeneracy_line(metric, np.linspace(0, 1, 6))"
   ]
  },
  {
   "cell_type": "code",
   "execution_count": null,
   "id": "e4c7e7f9-8f18-48c9-92b6-da6e4ddaf001",
   "metadata": {},
   "outputs": [],
   "source": []
  }
 ],
 "metadata": {
  "kernelspec": {
   "display_name": "igwn_eccentric",
   "language": "python",
   "name": "igwn_eccentric"
  },
  "language_info": {
   "codemirror_mode": {
    "name": "ipython",
    "version": 3
   },
   "file_extension": ".py",
   "mimetype": "text/x-python",
   "name": "python",
   "nbconvert_exporter": "python",
   "pygments_lexer": "ipython3",
   "version": "3.10.14"
  }
 },
 "nbformat": 4,
 "nbformat_minor": 5
}
