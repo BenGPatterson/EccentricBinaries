{
 "cells": [
  {
   "cell_type": "code",
   "execution_count": 24,
   "id": "155b5419-9b12-4991-92b0-adbf04506cd5",
   "metadata": {},
   "outputs": [],
   "source": [
    "import numpy as np\n",
    "import matplotlib.pyplot as plt\n",
    "from pycbc import psd\n",
    "from simple_pe.param_est import find_metric_and_eigendirections\n",
    "from simple_pe.param_est.pe import SimplePESamples\n",
    "from simple_pe.waveforms import check_physical\n",
    "from pesummary.utils.samples_dict import SamplesDict\n",
    "plt.rcParams['text.usetex'] = False\n",
    "import logging\n",
    "_logger = logging.getLogger('PESummary')\n",
    "_logger.setLevel(logging.CRITICAL + 10)\n",
    "from calcwf import *"
   ]
  },
  {
   "cell_type": "markdown",
   "id": "6f327e46-c309-407c-a1ce-34f77d6d1e40",
   "metadata": {},
   "source": [
    "We want to try and create a degeneracy line by starting at some quasicircular point and calculating the metric and resulting ellipse. We can then draw the smallest ellipse reaching some fiducial eccentricity value, and draw a line between these two points. We could also instead of fixing the fiducial eccentricity value use a fixed mismatch value. This may be more natural for scaling to other parameter values.\n",
    "\n",
    "First let's write a function to find this point for a n-dimensional parameter space and metric object."
   ]
  },
  {
   "cell_type": "code",
   "execution_count": 45,
   "id": "ab9e13de-d6a4-4bf1-8599-a2c64021c58d",
   "metadata": {},
   "outputs": [],
   "source": [
    "def find_extreme_point(metric, target_val, target_par, base_vals):\n",
    "\n",
    "    # Points on an n-dimensional sphere\n",
    "    n = len(metric.evec)\n",
    "    points = np.random.rand(n, 10000)*2-1\n",
    "    points /= np.linalg.norm(points, axis=0)\n",
    "\n",
    "    # Transform to n-dimensional ellipsoid\n",
    "    ellipse = np.matmul(metric.normalized_evecs().samples, points)\n",
    "    keys = list(metric.dxs.keys())\n",
    "\n",
    "    # Find point with most extreme target parameter\n",
    "    if target_val < base_vals[target_par]:\n",
    "        extreme_fn = np.argmin\n",
    "    else:\n",
    "        extreme_fn = np.argmax\n",
    "        target_ind = keys.index(target_par)\n",
    "    extreme_ind = extreme_fn(ellipse[target_ind])\n",
    "    extreme_point = ellipse[:,extreme_ind]\n",
    "\n",
    "    # Scale point to desired\n",
    "    target_diff = target_val-base_vals[target_par]\n",
    "    extreme_diff = extreme_point[target_ind]-base_vals[target_par]\n",
    "    extreme_point *= target_diff/extreme_diff\n",
    "\n",
    "    # Put point into dictionary format and add base vals\n",
    "    extreme_vals = {}\n",
    "    for i, key in enumerate(keys):\n",
    "        extreme_vals[key] = extreme_point[i] + base_vals[key]\n",
    "\n",
    "    return extreme_vals   "
   ]
  },
  {
   "cell_type": "markdown",
   "id": "8bfa20c7-6cb7-4cbc-b5f6-711e76a43cd1",
   "metadata": {},
   "source": [
    "# 2D example (eccentricity, chirp mass)"
   ]
  },
  {
   "cell_type": "markdown",
   "id": "ac4512da-9b74-4c56-86df-1edc159d3529",
   "metadata": {},
   "source": [
    "First let's try eccentricity and chirp mass with a quasicircular chirp mass of 24 solar masses and a fiducial eccentricity value of 0.1. We can then compare the degeneracy line we compute from this method to the 'analytic' degeneracy line we have for this 2d parameter space."
   ]
  },
  {
   "cell_type": "code",
   "execution_count": 6,
   "id": "bca76aba-8fc0-4b03-95d7-462c496d6339",
   "metadata": {},
   "outputs": [
    {
     "name": "stderr",
     "output_type": "stream",
     "text": [
      "Calculating the metric | iteration 1 < 20 | error 0.00035 > 0.00036: \n"
     ]
    }
   ],
   "source": [
    "# Defines PSD settings\n",
    "ifos = ['H1']\n",
    "psds = {'H1': 'aLIGOZeroDetHighPower',\n",
    "        'f_low': 20,\n",
    "        'f_high': 8192,\n",
    "        'length': 32\n",
    "        }\n",
    "snr = 18\n",
    "psds['delta_f'] = 1. / psds['length']\n",
    "approximant = 'teobresums'\n",
    "\n",
    "# Calculates PSD\n",
    "pycbc_psd = {}\n",
    "for ifo in ifos:\n",
    "    pycbc_psd[ifo] = psd.analytical.from_string(psds[ifo], psds['length'] * psds['f_high'] + 1, psds['delta_f'],\n",
    "                                                psds['f_low'])\n",
    "pycbc_psd['harm'] = 1. / sum([1. / pycbc_psd[ifo] for ifo in ifos])\n",
    "\n",
    "# Uses simple-pe to calculate approx. of posterior dist. using metric, eigendirections\n",
    "pars = {'chirp_mass':24, 'symmetric_mass_ratio':2/9, 'eccentricity': 0, 'spin_1z': 0, 'spin_2z': 0, 'f_ref':20}\n",
    "par_dirs = ['eccentricity', 'chirp_mass']\n",
    "\n",
    "g_e_chirp = find_metric_and_eigendirections(pars, par_dirs, snr=snr, f_low=psds['f_low'], psd=pycbc_psd['harm'], approximant=approximant)\n",
    "g_e_chirp.calculate_evecs()"
   ]
  },
  {
   "cell_type": "code",
   "execution_count": 77,
   "id": "6246b027-6705-4c73-881d-b9514641177a",
   "metadata": {},
   "outputs": [],
   "source": [
    "# Generate match grid\n",
    "e_chirp_mat = g_e_chirp.generate_match_grid(npts=21, scale=2)"
   ]
  },
  {
   "cell_type": "code",
   "execution_count": null,
   "id": "f7c23c01-c79e-45f8-9347-03e146ecac19",
   "metadata": {},
   "outputs": [],
   "source": [
    "# Plot match grid\n",
    "plt.tricontourf(e_chirp_mat.samples[1], e_chirp_mat.samples[0], e_chirp_mat['match'], levels=np.linspace(0.97, 1, 21))\n",
    "plt.colorbar(label='match')\n",
    "\n",
    "# Get extreme point and ellipse of metric\n",
    "base_pars = {'eccentricity': 0, 'chirp_mass': 24}\n",
    "extreme_point = find_extreme_point(g_e_chirp, 0.1, 'eccentricity', base_pars)\n",
    "ellipse = g_e_chirp.generate_ellipse(npts=1000, scale=1.5)\n",
    "plt.plot(ellipse['chirp_mass'], ellipse['eccentricity'], c='orange')\n",
    "plt.plot([base_pars['chirp_mass'], extreme_point['chirp_mass']], [base_pars['eccentricity'], extreme_point['eccentricity']], c='magenta', label='metric')\n",
    "\n",
    "# Plot 'analytic' degeneracy line\n",
    "e_vals = np.linspace(0,0.1,101)\n",
    "chirp_vals = chirp_degeneracy_line(base_pars['chirp_mass'], e_vals, sample_rate=4096, f_low=20, q=2, f_match=20, return_delta_m=False)\n",
    "plt.plot(chirp_vals, e_vals, c='k', label='analytic')\n",
    "plt.xlabel('chirp')\n",
    "plt.ylabel('e')\n",
    "plt.ylim(0,)\n",
    "plt.legend()"
   ]
  },
  {
   "cell_type": "code",
   "execution_count": null,
   "id": "59dfeb09-3907-45d8-9ec0-b4767108bf1a",
   "metadata": {},
   "outputs": [],
   "source": []
  }
 ],
 "metadata": {
  "kernelspec": {
   "display_name": "igwn_eccentric",
   "language": "python",
   "name": "igwn_eccentric"
  },
  "language_info": {
   "codemirror_mode": {
    "name": "ipython",
    "version": 3
   },
   "file_extension": ".py",
   "mimetype": "text/x-python",
   "name": "python",
   "nbconvert_exporter": "python",
   "pygments_lexer": "ipython3",
   "version": "3.10.14"
  }
 },
 "nbformat": 4,
 "nbformat_minor": 5
}
