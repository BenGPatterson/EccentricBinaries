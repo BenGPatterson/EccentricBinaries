{
 "cells": [
  {
   "cell_type": "code",
   "execution_count": null,
   "id": "e9601a8f-173d-4246-a86f-9e933eb90713",
   "metadata": {},
   "outputs": [],
   "source": [
    "import numpy as np\n",
    "from calcwf import *"
   ]
  },
  {
   "cell_type": "markdown",
   "id": "972abdd5-2f80-41d2-a375-099e3c1e923c",
   "metadata": {},
   "source": [
    "# .gwf file"
   ]
  },
  {
   "cell_type": "code",
   "execution_count": null,
   "id": "b401811b-9405-41b5-ba50-43ae976047f4",
   "metadata": {},
   "outputs": [],
   "source": []
  }
 ],
 "metadata": {
  "kernelspec": {
   "display_name": "teobresums_eccentric",
   "language": "python",
   "name": "teobresums_eccentric"
  },
  "language_info": {
   "codemirror_mode": {
    "name": "ipython",
    "version": 3
   },
   "file_extension": ".py",
   "mimetype": "text/x-python",
   "name": "python",
   "nbconvert_exporter": "python",
   "pygments_lexer": "ipython3",
   "version": "3.10.12"
  }
 },
 "nbformat": 4,
 "nbformat_minor": 5
}
