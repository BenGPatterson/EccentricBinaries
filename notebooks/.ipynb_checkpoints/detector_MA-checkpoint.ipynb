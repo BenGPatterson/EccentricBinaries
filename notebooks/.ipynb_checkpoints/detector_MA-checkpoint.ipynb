{
 "cells": [
  {
   "cell_type": "code",
   "execution_count": 37,
   "id": "20e95f20-36e2-4391-b256-219802425acb",
   "metadata": {},
   "outputs": [],
   "source": [
    "import numpy as np\n",
    "import matplotlib.pyplot as plt\n",
    "from pycbc.frame import read_frame\n",
    "from pycbc import psd as psd_func\n",
    "from simple_pe.waveforms import make_waveform\n",
    "\n",
    "import logging\n",
    "_logger = logging.getLogger('PESummary')\n",
    "_logger.setLevel(logging.CRITICAL + 10)\n",
    "import matplotlib as mpl\n",
    "mpl.rcParams.update(mpl.rcParamsDefault)"
   ]
  },
  {
   "cell_type": "code",
   "execution_count": 28,
   "id": "7fcdda2e-d2a1-4577-902a-bf42a7aceb15",
   "metadata": {},
   "outputs": [],
   "source": [
    "# Directories to gwf files\n",
    "ifos = ['H1', 'L1', 'V1']\n",
    "zero_noise_gwfs = 'MA_datafind_injections/zero_noise/output/'\n",
    "gaussian_noise_gwfs = 'MA_datafind_injections/gaussian_noise/output/'\n",
    "\n",
    "# Read in gwf files as pycbc timeseries\n",
    "zero_noise_hs = {}\n",
    "gaussian_noise_hs = {}\n",
    "for ifo in ifos:\n",
    "    zero_noise_hs[ifo] = read_frame(zero_noise_gwfs+f'{ifo}-INJECTION.gwf', f'{ifo}:HWINJ_INJECTED')\n",
    "    zero_noise_hs[ifo].start_time -= zero_noise_hs[ifo].sample_times[np.argmax(np.array(zero_noise_hs[ifo]))]\n",
    "    zero_noise_hs[ifo] = zero_noise_hs[ifo].time_slice(-31, 1)\n",
    "    gaussian_noise_hs[ifo] = read_frame(gaussian_noise_gwfs+f'{ifo}-INJECTION.gwf', f'{ifo}:HWINJ_INJECTED')\n",
    "    gaussian_noise_hs[ifo].start_time -= gaussian_noise_hs[ifo].sample_times[np.argmax(np.array(gaussian_noise_hs[ifo]))]\n",
    "    gaussian_noise_hs[ifo] = gaussian_noise_hs[ifo].time_slice(-31, 1)"
   ]
  },
  {
   "cell_type": "code",
   "execution_count": null,
   "id": "49d12908-2d46-4b45-abef-41a51918364f",
   "metadata": {},
   "outputs": [],
   "source": [
    "# Generate psd\n",
    "ifos = ['H1']\n",
    "tlen = 32\n",
    "sample_rate = 4096\n",
    "f_low = 20\n",
    "psds = {'H1': 'aLIGOZeroDetHighPower',\n",
    "        'L1': 'aLIGOZeroDetHighPower',\n",
    "        'f_low': f_low,\n",
    "        'f_high': int(sample_rate/2),\n",
    "        'length': tlen,\n",
    "        'delta_f': 1. / tlen\n",
    "        }\n",
    "psd = {}\n",
    "for ifo in ifos:\n",
    "    psd[ifo] = psd_func.analytical.from_string(psds[ifo], psds['length'] * psds['f_high'] + 1, psds['delta_f'],\n",
    "                                                     psds['f_low'])\n",
    "\n",
    "# Generate eccentric harmonics with slightly offset parameters\n",
    "harm_pars = {'ecc10sqrd': 0.21**2, 'mass_1': 41, 'mass_2': 21, 'spin_1x': 0, 'spin_1y': 0, 'spin1z': 0.2, 'spin_2x': 0, 'spin_2y': 0, 'spin2z': 0.2, 'chi_eff': 0, 'distance': 1000}\n",
    "df = 1/tlen\n",
    "flen = (tlen*sample_rate)//2 + 1\n",
    "harms = make_waveform(harm_pars, df, f_low, flen, approximant='TEOBResumS-Dali-Harms', n_ecc_harms=4, n_ecc_gen=6)"
   ]
  },
  {
   "cell_type": "code",
   "execution_count": 30,
   "id": "230e71b0-7f7d-4382-8224-2a4ca67f5e94",
   "metadata": {},
   "outputs": [
    {
     "data": {
      "text/plain": [
       "[<matplotlib.lines.Line2D at 0x7f310f1cdff0>]"
      ]
     },
     "execution_count": 30,
     "metadata": {},
     "output_type": "execute_result"
    },
    {
     "data": {
      "image/png": "[encoded data removed]",
      "text/plain": [
       "<Figure size 640x480 with 1 Axes>"
      ]
     },
     "metadata": {},
     "output_type": "display_data"
    }
   ],
   "source": [
    "plt.plot(zero_noise_hs['H1'].sample_times, zero_noise_hs['H1'])"
   ]
  },
  {
   "cell_type": "code",
   "execution_count": null,
   "id": "f488bf8c-024a-47d6-bd50-8c30019629ef",
   "metadata": {},
   "outputs": [],
   "source": []
  }
 ],
 "metadata": {
  "kernelspec": {
   "display_name": "igwn_eccentric",
   "language": "python",
   "name": "igwn_eccentric"
  },
  "language_info": {
   "codemirror_mode": {
    "name": "ipython",
    "version": 3
   },
   "file_extension": ".py",
   "mimetype": "text/x-python",
   "name": "python",
   "nbconvert_exporter": "python",
   "pygments_lexer": "ipython3",
   "version": "3.10.14"
  }
 },
 "nbformat": 4,
 "nbformat_minor": 5
}
