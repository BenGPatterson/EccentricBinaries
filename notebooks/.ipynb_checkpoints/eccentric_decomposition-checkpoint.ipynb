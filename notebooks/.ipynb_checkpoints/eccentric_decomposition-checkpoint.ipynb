{
 "cells": [
  {
   "cell_type": "code",
   "execution_count": 1,
   "id": "3d8a02e9-a226-4894-8c19-0829b270bfd7",
   "metadata": {},
   "outputs": [],
   "source": [
    "import numpy as np\n",
    "import matplotlib.pyplot as plt\n",
    "import time\n",
    "from calcwf import gen_wf, shifted_f, shifted_e, match_wfs, overlap_cplx_wfs, trim_wf, get_h"
   ]
  },
  {
   "cell_type": "code",
   "execution_count": 2,
   "id": "db44f0d5-4739-4301-8df7-0d909d1744d9",
   "metadata": {},
   "outputs": [],
   "source": [
    "# Global settings\n",
    "sample_rate = 4096"
   ]
  },
  {
   "cell_type": "markdown",
   "id": "04408914-c480-40a2-8c74-b47f6b4caff6",
   "metadata": {},
   "source": [
    "# Shifted frequency plots"
   ]
  },
  {
   "cell_type": "code",
   "execution_count": 3,
   "id": "e408f866-c6c5-45ea-b79f-93028df6f3d1",
   "metadata": {},
   "outputs": [],
   "source": [
    "# Calculates match over range of intial frequency values\n",
    "def s_f_quad_match(fiducials, e_Ms, s_f_len, f_low, approximant, subsample_interpolation=True, match_fn='overlap_cplx'):\n",
    "\n",
    "    # Generate fiducial waveform and data dictionary\n",
    "    fid_wf = gen_wf(f_low, *fiducials, sample_rate, approximant)\n",
    "    data = {}\n",
    "    \n",
    "    gridsize = len(e_Ms)*s_f_len\n",
    "    progress = 0\n",
    "    for i, e_M in enumerate(e_Ms):\n",
    "        e, M = e_M\n",
    "        \n",
    "        # Creates grid dimension of shifted frequency\n",
    "        max_s_f = shifted_f(f_low, e, M, fiducials[2])\n",
    "        s_f_vals = np.linspace(max_s_f, f_low, s_f_len, endpoint=True)\n",
    "        s_e_vals = shifted_e(s_f_vals, f_low, e)\n",
    "        s_f_matches_1 = []\n",
    "        s_f_matches_2 = []\n",
    "        s_f_matches_ap = []\n",
    "        s_f_matches_peri = []\n",
    "    \n",
    "        # Loops over each initial frequency\n",
    "        for s_f, s_e in zip(s_f_vals, s_e_vals):\n",
    "\n",
    "            time_1 = time.time()\n",
    "    \n",
    "            # Create waveform to match\n",
    "            h, h1, h2, h_ap, h_peri = get_h([1,1], s_f, s_e, M, fiducials[2], sample_rate, \n",
    "                                             approximant=approximant, subsample_interpolation=subsample_interpolation)\n",
    "\n",
    "            time_2 = time.time()\n",
    "            print(f'Waveform generated in {time_2-time_1} seconds')\n",
    "\n",
    "            # Choose which function to use to calculate matches\n",
    "            if match_fn == 'match':\n",
    "                # Matches against h1\n",
    "                match = match_wfs(fid_wf, h1, s_f, subsample_interpolation=subsample_interpolation)\n",
    "                s_f_matches_1.append(match)\n",
    "                # Matches against h2\n",
    "                match = match_wfs(fid_wf, h2, s_f, subsample_interpolation=subsample_interpolation)\n",
    "                s_f_matches_2.append(match)\n",
    "                # Matches against h_ap\n",
    "                match = match_wfs(fid_wf, h_ap, s_f, subsample_interpolation=subsample_interpolation)\n",
    "                s_f_matches_ap.append(match)\n",
    "                # Matches against h_peri\n",
    "                match = match_wfs(fid_wf, h_peri, s_f, subsample_interpolation=subsample_interpolation)\n",
    "                s_f_matches_peri.append(match)\n",
    "            elif match_fn == 'overlap_cplx':\n",
    "                # Matches against h1\n",
    "                match = overlap_cplx_wfs(fid_wf, h1, s_f)\n",
    "                s_f_matches_1.append(abs(match))\n",
    "                # Matches against h2\n",
    "                match = overlap_cplx_wfs(fid_wf, h2, s_f)\n",
    "                s_f_matches_2.append(abs(match))\n",
    "                # Matches against h_ap\n",
    "                match = overlap_cplx_wfs(fid_wf, h_ap, s_f)\n",
    "                s_f_matches_ap.append(abs(match))\n",
    "                # Matches against h_peri\n",
    "                match = overlap_cplx_wfs(fid_wf, h_peri, s_f)\n",
    "                s_f_matches_peri.append(abs(match))\n",
    "            else:\n",
    "                raise Exception('match_fn not recognised')\n",
    "\n",
    "            time_3 = time.time()\n",
    "            print(f'Matches calculated in {time_3-time_2} seconds.')\n",
    "\n",
    "            # Progress bar\n",
    "            progress += 1\n",
    "            #if progress%10 == 0 or progress == gridsize:\n",
    "            print(f'{progress} done out of {gridsize}')\n",
    "    \n",
    "\n",
    "        # Calculate total quad match of h1 and h2\n",
    "        s_f_matches_quad = np.sqrt(np.array(s_f_matches_1)**2+np.array(s_f_matches_2)**2)\n",
    "\n",
    "        # Saves data\n",
    "        data[e_M] = {}\n",
    "        data[e_M]['h_ap'] = s_f_matches_ap\n",
    "        data[e_M]['h_peri'] = s_f_matches_peri\n",
    "        data[e_M]['h1'] = s_f_matches_1\n",
    "        data[e_M]['h2'] = s_f_matches_2\n",
    "        data[e_M]['h_quad'] = s_f_matches_quad\n",
    "        data[e_M]['s_f_vals'] = s_f_vals\n",
    "        data[e_M]['s_e_vals'] = s_e_vals\n",
    "\n",
    "    return data"
   ]
  },
  {
   "cell_type": "code",
   "execution_count": 4,
   "id": "a90bd082-df8d-44ba-866b-6c90c652016e",
   "metadata": {},
   "outputs": [],
   "source": [
    "# Makes plot of quad match data\n",
    "def plot_s_f_quad_match(fiducials, data, f_low, approximant, ylims=(0.9,1.01)):\n",
    "\n",
    "    # Intialise plot\n",
    "    fig = plt.figure()\n",
    "    ax1 = fig.add_subplot(111)\n",
    "    if len(data) == 1:\n",
    "        ax2 = ax1.twiny()\n",
    "\n",
    "    # Loops over each eccentricity/mass pair\n",
    "    for i, e_M in enumerate(data.keys()):\n",
    "        \n",
    "        # Makes plot\n",
    "        e, M = e_M\n",
    "        ax1.plot(data[e_M]['s_f_vals'], data[e_M]['h1'], ls='dashed', c=f'C{i}', label=f'h1 $e={e}$, $M={M}~M_\\odot$')\n",
    "        ax1.plot(data[e_M]['s_f_vals'], data[e_M]['h2'], ls='dotted', c=f'C{i}', label=f'h2 $e={e}$, $M={M}~M_\\odot$')\n",
    "        ax1.plot(data[e_M]['s_f_vals'], data[e_M]['h_ap'], ls='dashdot', c=f'C{i}', label=f'h_ap $e={e}$, $M={M}~M_\\odot$')\n",
    "        ax1.plot(data[e_M]['s_f_vals'], data[e_M]['h_peri'], ls=(5, (10, 3)), c=f'C{i}', label=f'h_peri $e={e}$, $M={M}~M_\\odot$')\n",
    "        ax1.plot(data[e_M]['s_f_vals'], data[e_M]['h_quad'], ls='solid', c=f'C{i}', label=f'quad $e={e}$, $M={M}~M_\\odot$')\n",
    "        ax1.set_xlabel('Shifted frequency')\n",
    "        if len(data) == 1:\n",
    "            ax2.plot(data[e_M]['s_e_vals'], data[e_M]['h1'], alpha=0)\n",
    "            ax2.invert_xaxis()\n",
    "            ax2.set_xlabel('Shifted eccentricity')\n",
    "        \n",
    "    # Finish plot\n",
    "    ax1.axhline(1, c='k', ls='dashed')\n",
    "    ax1.legend(loc=(1,0))\n",
    "    ax1.set_ylabel('Match')\n",
    "    ax1.set_title(f'Fiducial waveform of $e={fiducials[0]}$ at $f={f_low}~Hz$, $M={fiducials[1]}~M_\\odot$, {approximant}')\n",
    "    ax1.set_ylim(ylims)"
   ]
  },
  {
   "cell_type": "code",
   "execution_count": 5,
   "id": "673b3487-f2d1-43a0-965a-c420a53c655b",
   "metadata": {},
   "outputs": [
    {
     "name": "stdout",
     "output_type": "stream",
     "text": [
      "32768 32768\n",
      "32768\n"
     ]
    },
    {
     "ename": "TypeError",
     "evalue": "object of type 'NoneType' has no len()",
     "output_type": "error",
     "traceback": [
      "\u001b[0;31m---------------------------------------------------------------------------\u001b[0m",
      "\u001b[0;31mTypeError\u001b[0m                                 Traceback (most recent call last)",
      "Cell \u001b[0;32mIn[5], line 2\u001b[0m\n\u001b[1;32m      1\u001b[0m start \u001b[38;5;241m=\u001b[39m time\u001b[38;5;241m.\u001b[39mtime()\n\u001b[0;32m----> 2\u001b[0m dataslot_1 \u001b[38;5;241m=\u001b[39m \u001b[43ms_f_quad_match\u001b[49m\u001b[43m(\u001b[49m\u001b[43m[\u001b[49m\u001b[38;5;241;43m0.1\u001b[39;49m\u001b[43m,\u001b[49m\u001b[43m \u001b[49m\u001b[38;5;241;43m60\u001b[39;49m\u001b[43m,\u001b[49m\u001b[43m \u001b[49m\u001b[38;5;241;43m2\u001b[39;49m\u001b[43m]\u001b[49m\u001b[43m,\u001b[49m\u001b[43m \u001b[49m\u001b[43m[\u001b[49m\u001b[43m(\u001b[49m\u001b[38;5;241;43m0.1\u001b[39;49m\u001b[43m,\u001b[49m\u001b[43m \u001b[49m\u001b[38;5;241;43m60\u001b[39;49m\u001b[43m)\u001b[49m\u001b[43m,\u001b[49m\u001b[43m \u001b[49m\u001b[43m(\u001b[49m\u001b[38;5;241;43m0.2\u001b[39;49m\u001b[43m,\u001b[49m\u001b[43m \u001b[49m\u001b[38;5;241;43m60\u001b[39;49m\u001b[43m)\u001b[49m\u001b[43m]\u001b[49m\u001b[43m,\u001b[49m\u001b[43m \u001b[49m\u001b[38;5;241;43m51\u001b[39;49m\u001b[43m,\u001b[49m\u001b[43m \u001b[49m\u001b[38;5;241;43m10\u001b[39;49m\u001b[43m,\u001b[49m\u001b[43m \u001b[49m\u001b[38;5;124;43m'\u001b[39;49m\u001b[38;5;124;43mTEOBResumS\u001b[39;49m\u001b[38;5;124;43m'\u001b[39;49m\u001b[43m)\u001b[49m\n\u001b[1;32m      3\u001b[0m end \u001b[38;5;241m=\u001b[39m time\u001b[38;5;241m.\u001b[39mtime()\n\u001b[1;32m      4\u001b[0m \u001b[38;5;28mprint\u001b[39m(\u001b[38;5;124mf\u001b[39m\u001b[38;5;124m'\u001b[39m\u001b[38;5;130;01m\\n\u001b[39;00m\u001b[38;5;124mTime taken: \u001b[39m\u001b[38;5;132;01m{\u001b[39;00mstart\u001b[38;5;241m-\u001b[39mend\u001b[38;5;132;01m}\u001b[39;00m\u001b[38;5;124m seconds\u001b[39m\u001b[38;5;124m'\u001b[39m)\n",
      "Cell \u001b[0;32mIn[3], line 28\u001b[0m, in \u001b[0;36ms_f_quad_match\u001b[0;34m(fiducials, e_Ms, s_f_len, f_low, approximant, subsample_interpolation, match_fn)\u001b[0m\n\u001b[1;32m     25\u001b[0m time_1 \u001b[38;5;241m=\u001b[39m time\u001b[38;5;241m.\u001b[39mtime()\n\u001b[1;32m     27\u001b[0m \u001b[38;5;66;03m# Create waveform to match\u001b[39;00m\n\u001b[0;32m---> 28\u001b[0m h, h1, h2, h_ap, h_peri \u001b[38;5;241m=\u001b[39m \u001b[43mget_h\u001b[49m\u001b[43m(\u001b[49m\u001b[43m[\u001b[49m\u001b[38;5;241;43m1\u001b[39;49m\u001b[43m,\u001b[49m\u001b[38;5;241;43m1\u001b[39;49m\u001b[43m]\u001b[49m\u001b[43m,\u001b[49m\u001b[43m \u001b[49m\u001b[43ms_f\u001b[49m\u001b[43m,\u001b[49m\u001b[43m \u001b[49m\u001b[43ms_e\u001b[49m\u001b[43m,\u001b[49m\u001b[43m \u001b[49m\u001b[43mM\u001b[49m\u001b[43m,\u001b[49m\u001b[43m \u001b[49m\u001b[43mfiducials\u001b[49m\u001b[43m[\u001b[49m\u001b[38;5;241;43m2\u001b[39;49m\u001b[43m]\u001b[49m\u001b[43m,\u001b[49m\u001b[43m \u001b[49m\u001b[43msample_rate\u001b[49m\u001b[43m,\u001b[49m\u001b[43m \u001b[49m\n\u001b[1;32m     29\u001b[0m \u001b[43m                                 \u001b[49m\u001b[43mapproximant\u001b[49m\u001b[38;5;241;43m=\u001b[39;49m\u001b[43mapproximant\u001b[49m\u001b[43m,\u001b[49m\u001b[43m \u001b[49m\u001b[43msubsample_interpolation\u001b[49m\u001b[38;5;241;43m=\u001b[39;49m\u001b[43msubsample_interpolation\u001b[49m\u001b[43m)\u001b[49m\n\u001b[1;32m     31\u001b[0m time_2 \u001b[38;5;241m=\u001b[39m time\u001b[38;5;241m.\u001b[39mtime()\n\u001b[1;32m     32\u001b[0m \u001b[38;5;28mprint\u001b[39m(\u001b[38;5;124mf\u001b[39m\u001b[38;5;124m'\u001b[39m\u001b[38;5;124mWaveform generated in \u001b[39m\u001b[38;5;132;01m{\u001b[39;00mtime_2\u001b[38;5;241m-\u001b[39mtime_1\u001b[38;5;132;01m}\u001b[39;00m\u001b[38;5;124m seconds\u001b[39m\u001b[38;5;124m'\u001b[39m)\n",
      "File \u001b[0;32m/nfshome/store04/users/ben.patterson/EccentricBinaries/notebooks/calcwf.py:693\u001b[0m, in \u001b[0;36mget_h\u001b[0;34m(coeffs, f_low, e, M, q, sample_rate, approximant, opp_method, subsample_interpolation, normalisation, taper)\u001b[0m\n\u001b[1;32m    691\u001b[0m \u001b[38;5;66;03m# Gets h_def and h_opp components which make up overall waveform\u001b[39;00m\n\u001b[1;32m    692\u001b[0m h_def \u001b[38;5;241m=\u001b[39m get_h_def(f_low, e, M, q, sample_rate, approximant, taper)\n\u001b[0;32m--> 693\u001b[0m h_opp \u001b[38;5;241m=\u001b[39m \u001b[43mget_h_opp\u001b[49m\u001b[43m(\u001b[49m\u001b[43mf_low\u001b[49m\u001b[43m,\u001b[49m\u001b[43m \u001b[49m\u001b[43me\u001b[49m\u001b[43m,\u001b[49m\u001b[43m \u001b[49m\u001b[43mM\u001b[49m\u001b[43m,\u001b[49m\u001b[43m \u001b[49m\u001b[43mq\u001b[49m\u001b[43m,\u001b[49m\u001b[43m \u001b[49m\u001b[43mh_def\u001b[49m\u001b[43m,\u001b[49m\u001b[43m \u001b[49m\u001b[43msample_rate\u001b[49m\u001b[43m,\u001b[49m\u001b[43m \u001b[49m\u001b[43mapproximant\u001b[49m\u001b[43m,\u001b[49m\u001b[43m \u001b[49m\u001b[43mopp_method\u001b[49m\u001b[43m,\u001b[49m\u001b[43m \u001b[49m\u001b[43msubsample_interpolation\u001b[49m\u001b[43m,\u001b[49m\u001b[43m \u001b[49m\u001b[43mtaper\u001b[49m\u001b[43m)\u001b[49m\n\u001b[1;32m    695\u001b[0m \u001b[38;5;66;03m# Identify h_ap and h_peri based on waveform approximant used\u001b[39;00m\n\u001b[1;32m    696\u001b[0m \u001b[38;5;28;01mif\u001b[39;00m approximant\u001b[38;5;241m==\u001b[39m\u001b[38;5;124m'\u001b[39m\u001b[38;5;124mEccentricTD\u001b[39m\u001b[38;5;124m'\u001b[39m:\n",
      "File \u001b[0;32m/nfshome/store04/users/ben.patterson/EccentricBinaries/notebooks/calcwf.py:625\u001b[0m, in \u001b[0;36mget_h_opp\u001b[0;34m(f_low, e, M, q, h_def, sample_rate, approximant, opp_method, subsample_interpolation, taper)\u001b[0m\n\u001b[1;32m    622\u001b[0m h_opp \u001b[38;5;241m=\u001b[39m trim_wf(h_opp, h_def)\n\u001b[1;32m    624\u001b[0m \u001b[38;5;66;03m# Calculate phase difference and generate in phase h_opp\u001b[39;00m\n\u001b[0;32m--> 625\u001b[0m overlap \u001b[38;5;241m=\u001b[39m \u001b[43moverlap_cplx_wfs\u001b[49m\u001b[43m(\u001b[49m\u001b[43mh_def\u001b[49m\u001b[43m,\u001b[49m\u001b[43m \u001b[49m\u001b[43mh_opp\u001b[49m\u001b[43m,\u001b[49m\u001b[43m \u001b[49m\u001b[43mf_low\u001b[49m\u001b[43m)\u001b[49m\n\u001b[1;32m    626\u001b[0m phase_angle \u001b[38;5;241m=\u001b[39m \u001b[38;5;241m-\u001b[39mnp\u001b[38;5;241m.\u001b[39mangle(overlap)\u001b[38;5;241m/\u001b[39m\u001b[38;5;241m2\u001b[39m\n\u001b[1;32m    627\u001b[0m h_opp \u001b[38;5;241m=\u001b[39m gen_wf(s_f_pi, s_e_pi, M, q, sample_rate, approximant, phase\u001b[38;5;241m=\u001b[39mphase_angle)\n",
      "File \u001b[0;32m/nfshome/store04/users/ben.patterson/EccentricBinaries/notebooks/calcwf.py:449\u001b[0m, in \u001b[0;36moverlap_cplx_wfs\u001b[0;34m(wf1, wf2, f_low, normalized)\u001b[0m\n\u001b[1;32m    447\u001b[0m \u001b[38;5;66;03m# Restore original waveform length\u001b[39;00m\n\u001b[1;32m    448\u001b[0m wf1, wf2 \u001b[38;5;241m=\u001b[39m wf1\u001b[38;5;241m.\u001b[39mresize(wf1_len), wf2\u001b[38;5;241m.\u001b[39mresize(wf2_len)\n\u001b[0;32m--> 449\u001b[0m \u001b[38;5;28mprint\u001b[39m(\u001b[38;5;28;43mlen\u001b[39;49m\u001b[43m(\u001b[49m\u001b[43mwf1\u001b[49m\u001b[43m)\u001b[49m, \u001b[38;5;28mlen\u001b[39m(wf2))\n\u001b[1;32m    451\u001b[0m \u001b[38;5;28;01mreturn\u001b[39;00m m\n",
      "\u001b[0;31mTypeError\u001b[0m: object of type 'NoneType' has no len()"
     ]
    }
   ],
   "source": [
    "start = time.time()\n",
    "dataslot_1 = s_f_quad_match([0.1, 60, 2], [(0.1, 60), (0.2, 60)], 51, 10, 'TEOBResumS')\n",
    "end = time.time()\n",
    "print(f'\\nTime taken: {start-end} seconds')"
   ]
  },
  {
   "cell_type": "code",
   "execution_count": null,
   "id": "8163696a-78e1-4ef4-bdd4-c35c2cf79c0d",
   "metadata": {},
   "outputs": [],
   "source": [
    "plot_s_f_quad_match([0.1, 60, 2], dataslot_1, 10, 'TEOBResumS')"
   ]
  },
  {
   "cell_type": "code",
   "execution_count": null,
   "id": "3a8bc5cf-9173-4eac-9528-331e350b9881",
   "metadata": {},
   "outputs": [],
   "source": [
    "dataslot_2 = s_f_quad_match([0.2, 60, 2], [(0.1, 60), (0.2, 60)], 51, 10, 'TEOBResumS')"
   ]
  },
  {
   "cell_type": "code",
   "execution_count": null,
   "id": "ff0a391b-6314-4739-9eb6-8921f7abb4a6",
   "metadata": {},
   "outputs": [],
   "source": [
    "plot_s_f_quad_match([0.2, 60, 2], dataslot_2, 10, 'TEOBResumS')"
   ]
  },
  {
   "cell_type": "code",
   "execution_count": null,
   "id": "12b6e8f2-c854-4dcd-941e-c2be44c51be3",
   "metadata": {},
   "outputs": [],
   "source": [
    "dataslot_3 = s_f_quad_match([0.1, 60, 2], [(0.05, 60), (0.1, 60)], 21, 10, 'TEOBResumS')"
   ]
  },
  {
   "cell_type": "code",
   "execution_count": null,
   "id": "477fb062-7113-4221-a04a-8f034663454e",
   "metadata": {},
   "outputs": [],
   "source": [
    "plot_s_f_quad_match([0.1, 60, 2], dataslot_3, 10, 'TEOBResumS')"
   ]
  },
  {
   "cell_type": "markdown",
   "id": "c3686c80-1e2e-4a44-a5dd-417b60b8c98b",
   "metadata": {},
   "source": [
    "# h_ap, h_peri normalisation"
   ]
  },
  {
   "cell_type": "markdown",
   "id": "8d7cb9b2-f479-4829-84ed-2640a9ea6143",
   "metadata": {},
   "source": [
    "We model a total waveform $h$ in the following way:\n",
    "\n",
    "$$\n",
    "h = Ah_1+Bh_2\n",
    "$$\n",
    "$$\n",
    "h_1 = \\frac{1}{2}\\left(h_{ap}+h_{peri}\\right)\n",
    "$$\n",
    "$$\n",
    "h_2 = \\frac{1}{2}\\left(h_{ap}-h_{peri}\\right)\n",
    "$$"
   ]
  },
  {
   "cell_type": "markdown",
   "id": "02ae8f64-247c-4f78-b19a-2b5b5627229a",
   "metadata": {},
   "source": [
    "When taking dot product (match) between total waveform and generated h1, we want to calculate the following:\n",
    "\n",
    "$$\n",
    "\\frac{(h|h_1)}{(h_1|h_1)} = A\\frac{(h_1|h_1)}{(h_1|h_1)} + B\\frac{(h_2|h_1)}{(h_1|h_1)} = A\n",
    "$$"
   ]
  },
  {
   "cell_type": "markdown",
   "id": "6f57593b-fda2-468a-94a7-7548001d8489",
   "metadata": {},
   "source": [
    "This however assumes that $(h_1|h_2)$ is zero, which is of course not the case in practise. We therefore actually have an additional term proportional to:\n",
    "\n",
    "$$\n",
    "(h_1|h_2) = \\frac{1}{4}\\left[(h_{ap}|h_{ap})-(h_{peri}|h_{peri})\\right]\n",
    "$$"
   ]
  },
  {
   "cell_type": "markdown",
   "id": "3b7ab1e4-f795-45ef-b216-068d71d5d9de",
   "metadata": {},
   "source": [
    "In order to make this unwanted term disappear we require $(h_{ap}|h_{ap})=(h_{peri}|h_{peri})$. (Note mismatch greater for higher masses due to effect of merger being stronger in either h_ap or h_peri). This can be achieved by defining normalised waveform components to use in our equations for $h$:\n",
    "\n",
    "$$\n",
    "\\hat{h}_{ap} = \\frac{h_{ap}}{\\sqrt{(h_{ap}|h_{ap})}}\n",
    "$$\n",
    "$$\n",
    "\\hat{h}_{peri} = \\frac{h_{peri}}{\\sqrt{(h_{peri}|h_{peri})}}\n",
    "$$\n",
    "\n",
    "This will cause units of waveforms to change, however as we are simply matching them to each other rather than to data, this should be fine. If this does present a problem in the future, units can be (approximately) restored by multiplying both right hand sides by $\\sqrt{(h_{ap}|h_{ap})}$."
   ]
  },
  {
   "cell_type": "markdown",
   "id": "e6563c7e-3353-41d8-aa27-10fdf1a94f76",
   "metadata": {},
   "source": [
    "We now have\n",
    "\n",
    "$$\n",
    "(\\hat{h}_{ap}|\\hat{h}_{ap}) = \\frac{(h_{ap}|h_{ap})}{(h_{ap}|h_{ap})} = 1\n",
    "$$\n",
    "\n",
    "and similar for $\\hat{h}_{peri}$. Therefore $(\\hat{h}_1|\\hat{h}_2) = 0$ as required."
   ]
  },
  {
   "cell_type": "markdown",
   "id": "44c15e6e-58c4-41c3-bc15-d750f63bb783",
   "metadata": {},
   "source": [
    "We can check our implementation in calcwf.py by calculating $(h_1|h_2)$ and $(\\hat{h}_1|\\hat{h}_2)$."
   ]
  },
  {
   "cell_type": "code",
   "execution_count": null,
   "id": "511d1866-5571-4376-87d5-ceb77f3794ed",
   "metadata": {},
   "outputs": [],
   "source": [
    "# Calculates match without normalisation\n",
    "_, unnorm_h1, unnorm_h2, unnorm_ap, unnorm_peri = get_h([1,1], 10, 0.2, 60, 2, sample_rate, approximant='TEOBResumS', normalisation=False)\n",
    "unnorm_match = abs(overlap_cplx_wfs(unnorm_h1, unnorm_h2, 10))\n",
    "print(f'Prior to normalisation, match of h1 and h2 is {unnorm_match}')\n",
    "\n",
    "# Calculates match with normalisation\n",
    "_, norm_h1, norm_h2, norm_ap, norm_peri = get_h([1,1], 10, 0.2, 60, 2, sample_rate, approximant='TEOBResumS')\n",
    "norm_match = abs(overlap_cplx_wfs(norm_h1, norm_h2, 10))\n",
    "print(f'After normalisation, match of h1 and h2 is {norm_match}')"
   ]
  },
  {
   "cell_type": "markdown",
   "id": "a90b21b8-fdee-4a44-b121-3f5618850358",
   "metadata": {},
   "source": [
    "Can also calculate $(h_{ap}|h_{ap})$ and $(h_{peri}|h_{peri})$."
   ]
  },
  {
   "cell_type": "code",
   "execution_count": null,
   "id": "860cbc47-eed3-4e12-935d-45d4c19b700b",
   "metadata": {},
   "outputs": [],
   "source": [
    "# Calculates match without normalisation\n",
    "unnorm_ap_match = abs(overlap_cplx_wfs(unnorm_ap, unnorm_ap, 10, normalized=False))\n",
    "print(f'Prior to normalisation, (unnormalised) match of h_ap and h_ap is {unnorm_ap_match}')\n",
    "unnorm_peri_match = abs(overlap_cplx_wfs(unnorm_peri, unnorm_peri, 10, normalized=False))\n",
    "print(f'Prior to normalisation, (unnormalised) match of h_peri and h_peri is {unnorm_peri_match}')\n",
    "\n",
    "# Calculates match with normalisation\n",
    "norm_ap_match = abs(overlap_cplx_wfs(norm_ap, norm_ap, 10, normalized=False))\n",
    "print(f'After normalisation, (unnormalised) match of h_ap and h_ap is {norm_ap_match}')\n",
    "norm_peri_match = abs(overlap_cplx_wfs(norm_peri, norm_peri, 10, normalized=False))\n",
    "print(f'After normalisation, (unnormalised) match of h_peri and h_peri is {norm_peri_match}')"
   ]
  },
  {
   "cell_type": "markdown",
   "id": "13472da7-3ffa-4832-9ae1-2d7a573ccd03",
   "metadata": {},
   "source": [
    "# Fiducial h1 and h2"
   ]
  },
  {
   "cell_type": "markdown",
   "id": "cb07b42e-de5c-4c30-9b4e-b2ad972bec3b",
   "metadata": {},
   "source": [
    "Above we have generated a fiducial TEOB waveform and generated a new h1 and h2 waveform for each shifted frequency. If instead the opposite were to be done, with a fiducial h1 and h2 waveform to be matched against a generated TEOB waveform for each shifted frequency, the runtime would be greatly reduced as the TEOB waveform must only be called once for each shifted frequency instead of three times. To test whether this works, will create shifted frequency plots as above using this method and compare."
   ]
  },
  {
   "cell_type": "code",
   "execution_count": null,
   "id": "b245a513-0d87-4aa3-af44-c2c7b58f4dea",
   "metadata": {},
   "outputs": [],
   "source": [
    "# Calculates match over range of intial frequency values\n",
    "def s_f_quad_match_inv(fiducials, e_Ms, s_f_len, f_low, approximant, subsample_interpolation=True, match_fn='overlap_cplx'):\n",
    "\n",
    "    # Generate fiducial waveform and data dictionary\n",
    "    _, h1, h2, h_ap, h_peri = get_h([1,1], f_low, *fiducials, sample_rate,\n",
    "                                    approximant=approximant, subsample_interpolation=subsample_interpolation)\n",
    "    data = {}\n",
    "    \n",
    "    gridsize = len(e_Ms)*s_f_len\n",
    "    progress = 0\n",
    "    for i, e_M in enumerate(e_Ms):\n",
    "        e, M = e_M\n",
    "        \n",
    "        # Creates grid dimension of shifted frequency\n",
    "        max_s_f = shifted_f(f_low, e, M, fiducials[2])\n",
    "        s_f_vals = np.linspace(f_low, max_s_f, s_f_len, endpoint=True)\n",
    "        s_e_vals = shifted_e(s_f_vals, f_low, e)\n",
    "        s_f_matches_1 = []\n",
    "        s_f_matches_2 = []\n",
    "        s_f_matches_ap = []\n",
    "        s_f_matches_peri = []\n",
    "    \n",
    "        # Loops over each initial frequency\n",
    "        for s_f, s_e in zip(s_f_vals, s_e_vals):\n",
    "    \n",
    "            # Create waveform to match\n",
    "            s = gen_wf(s_f, s_e, M, fiducials[2], sample_rate, approximant)\n",
    "\n",
    "            # Choose which function to use to calculate matches\n",
    "            if match_fn == 'match':\n",
    "                # Matches against h1\n",
    "                match = match_wfs(s, h1, s_f, subsample_interpolation=subsample_interpolation)\n",
    "                s_f_matches_1.append(match)\n",
    "                # Matches against h2\n",
    "                match = match_wfs(s, h2, s_f, subsample_interpolation=subsample_interpolation)\n",
    "                s_f_matches_2.append(match)\n",
    "                # Matches against h_ap\n",
    "                match = match_wfs(s, h_ap, s_f, subsample_interpolation=subsample_interpolation)\n",
    "                s_f_matches_ap.append(match)\n",
    "                # Matches against h_peri\n",
    "                match = match_wfs(s, h_peri, s_f, subsample_interpolation=subsample_interpolation)\n",
    "                s_f_matches_peri.append(match)\n",
    "            elif match_fn == 'overlap_cplx':\n",
    "                # Matches against h1\n",
    "                match = overlap_cplx_wfs(s, h1, s_f)\n",
    "                s_f_matches_1.append(abs(match))\n",
    "                # Matches against h2\n",
    "                match = overlap_cplx_wfs(s, h2, s_f)\n",
    "                s_f_matches_2.append(abs(match))\n",
    "                # Matches against h_ap\n",
    "                match = overlap_cplx_wfs(s, h_ap, s_f)\n",
    "                s_f_matches_ap.append(abs(match))\n",
    "                # Matches against h_peri\n",
    "                match = overlap_cplx_wfs(s, h_peri, s_f)\n",
    "                s_f_matches_peri.append(abs(match))\n",
    "            else:\n",
    "                raise Exception('match_fn not recognised')\n",
    "\n",
    "            # Progress bar\n",
    "            progress += 1\n",
    "            if progress%10 == 0 or progress == gridsize:\n",
    "                print('\\r' + f'{progress} done out of {gridsize}', end='')\n",
    "    \n",
    "\n",
    "        # Calculate total quad match of h1 and h2\n",
    "        s_f_matches_quad = np.sqrt(np.array(s_f_matches_1)**2+np.array(s_f_matches_2)**2)\n",
    "\n",
    "        # Saves data\n",
    "        data[e_M] = {}\n",
    "        data[e_M]['h_ap'] = s_f_matches_ap\n",
    "        data[e_M]['h_peri'] = s_f_matches_peri\n",
    "        data[e_M]['h1'] = s_f_matches_1\n",
    "        data[e_M]['h2'] = s_f_matches_2\n",
    "        data[e_M]['h_quad'] = s_f_matches_quad\n",
    "        data[e_M]['s_f_vals'] = s_f_vals\n",
    "        data[e_M]['s_e_vals'] = s_e_vals\n",
    "\n",
    "    return data"
   ]
  },
  {
   "cell_type": "code",
   "execution_count": null,
   "id": "a63602d3-1986-44d8-9be6-39519eeb3d30",
   "metadata": {},
   "outputs": [],
   "source": [
    "start = time.time()\n",
    "dataslot_4 = s_f_quad_match_inv([0.1, 60, 2], [(0.1, 60), (0.2, 60)], 51, 10, 'TEOBResumS')\n",
    "end = time.time()\n",
    "print(f'\\nTime taken: {start-end} seconds')"
   ]
  },
  {
   "cell_type": "code",
   "execution_count": null,
   "id": "839e73e3-ee1d-4879-ac29-dd25a1e65bd2",
   "metadata": {},
   "outputs": [],
   "source": [
    "plot_s_f_quad_match([0.1, 60, 2], dataslot_4, 10, 'TEOBResumS')"
   ]
  },
  {
   "cell_type": "markdown",
   "id": "2b89dee3-eadc-49b8-987f-02c4d4e945d1",
   "metadata": {},
   "source": [
    "This is a great reduction in time, and the blue e_10=0.1 lines look visually very similar. The orange e_10=0.2 lines do however look worse, with the patterns/trends less clear and an obvious dip in the (otherwise flat) quad match curve when shifting pi/2 backwards."
   ]
  }
 ],
 "metadata": {
  "kernelspec": {
   "display_name": "teobresums_eccentric",
   "language": "python",
   "name": "teobresums_eccentric"
  },
  "language_info": {
   "codemirror_mode": {
    "name": "ipython",
    "version": 3
   },
   "file_extension": ".py",
   "mimetype": "text/x-python",
   "name": "python",
   "nbconvert_exporter": "python",
   "pygments_lexer": "ipython3",
   "version": "3.10.12"
  }
 },
 "nbformat": 4,
 "nbformat_minor": 5
}
