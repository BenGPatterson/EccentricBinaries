{
 "cells": [
  {
   "cell_type": "code",
   "execution_count": 1,
   "id": "6de17f55-90b7-4090-9716-9013a8db5f34",
   "metadata": {},
   "outputs": [],
   "source": [
    "import numpy as np\n",
    "import matplotlib.pyplot as plt\n",
    "import time\n",
    "from calcwf import gen_wf, chirp2total, total2chirp, overlap_cplx_wfs, get_h"
   ]
  },
  {
   "cell_type": "code",
   "execution_count": 2,
   "id": "0ea8272b-47a3-4b6c-896d-6dfbaf7fedc6",
   "metadata": {},
   "outputs": [],
   "source": [
    "sample_rate = 4096"
   ]
  },
  {
   "cell_type": "markdown",
   "id": "41f7981f-f6b3-421a-9d85-0026a394b0d1",
   "metadata": {},
   "source": [
    "# e^2 against chirp mass plots"
   ]
  },
  {
   "cell_type": "code",
   "execution_count": 3,
   "id": "4ee0ad83-77bf-43f3-8af4-a73e0c3fa40c",
   "metadata": {},
   "outputs": [],
   "source": [
    "# Calculates matches to a fiducial h1, h2 waveform over a grid of eccentricity against chirp mass\n",
    "def ecc_chirp_match(e_vals, chirp_vals, fiducials, f_low, approximant='TEOBResumS'):\n",
    "\n",
    "    # Setup match dict and calculate conversion from chirp to total mass\n",
    "    matches = {'h1':[], 'h1_phase':[], 'h2':[], 'h2_phase':[], 'quad':[]}\n",
    "    q_factor = (fiducials[2]/(1+fiducials[2])**2)**(-3/5)\n",
    "\n",
    "    # Generate fiducial waveform\n",
    "    _, h1, h2, _, _ = get_h([1,1], f_low, fiducials[0], q_factor*fiducials[1], fiducials[2], sample_rate, approximant=approximant)\n",
    "\n",
    "    # Progress bar setup\n",
    "    progress = 0\n",
    "    gridsize = len(e_vals)*len(chirp_vals)\n",
    "\n",
    "    # Loop over eccentricity values\n",
    "    for e in e_vals:\n",
    "        matches['h1'].append([])\n",
    "        matches['h1_phase'].append([])\n",
    "        matches['h2'].append([])\n",
    "        matches['h2_phase'].append([])\n",
    "        matches['diff_phase'].append([])\n",
    "        matches['quad'].append([])\n",
    "\n",
    "        # Loop over chirp mass values\n",
    "        for chirp in chirp_vals:\n",
    "            \n",
    "            # Create waveform at this grid point\n",
    "            s = gen_wf(f_low, e, q_factor*chirp, fiducials[2], sample_rate, approximant=approximant)\n",
    "\n",
    "            # Calculate matches\n",
    "            match_h1 = overlap_cplx_wfs(h1, s, f_low)\n",
    "            match_h2 = overlap_cplx_wfs(h2, s, f_low)\n",
    "            matches['h1'][-1].append(abs(match_h1))\n",
    "            matches['h1_phase'][-1].append(np.angle(match_h1))\n",
    "            matches['h2'][-1].append(abs(match_h2))\n",
    "            matches['h2_phase'][-1].append(np.angle(match_h2))\n",
    "            matches['diff_phase'][-1].append(np.angle(match_h1) - np.angle(match_h2))\n",
    "            match_quad = np.sqrt(abs(match_h1)**2+abs(match_h2**2))\n",
    "            matches['quad'][-1].append(match_quad)\n",
    "\n",
    "            # Progress bar\n",
    "            progress += 1\n",
    "            print('\\r' + f'{progress} done out of {gridsize}', end='')\n",
    "\n",
    "    return matches"
   ]
  },
  {
   "cell_type": "code",
   "execution_count": 4,
   "id": "04708d80-805d-4498-a40c-c6dcba92ac66",
   "metadata": {},
   "outputs": [],
   "source": [
    "# Plots match contours on eccentricity/chirp mass plot\n",
    "def ecc_chirp_plot(e_vals, chirp_vals, fiducials, matches, vmins=[0.7,0.7,0.7], vmaxs=[1,1,1], quiver=True):\n",
    "    \n",
    "    # Convert to eccentricity squared\n",
    "    e2_vals = e_vals**2\n",
    "\n",
    "    # Make contour plot for  each match\n",
    "    for i, key in enumerate(['h1', 'h2', 'quad']):\n",
    "\n",
    "        # Which direction colorbar extends\n",
    "        if [vmins[i], vmaxs[i]] == [0,1]:\n",
    "            extend = 'neither'\n",
    "        elif vmins[i] == 0:\n",
    "            extend = 'max'\n",
    "        elif vmaxs[i] == 1:\n",
    "            extend = 'min'\n",
    "        else:\n",
    "            extend = 'both'\n",
    "\n",
    "        # Plotting amplitude contours\n",
    "        plt.contourf(chirp_vals, e2_vals, matches[key], np.linspace(vmins[i], vmaxs[i], 15), vmin=vmins[i], vmax=vmaxs[i], extend=extend)\n",
    "        plt.colorbar(label='match')\n",
    "        plt.contour(chirp_vals, e2_vals, matches[key], [0.97], colors=['C1'])\n",
    "        plt.scatter(fiducials[1], fiducials[0]**2, c='r', zorder=5)\n",
    "        plt.xlabel('$\\mathcal{M}~/~M_\\odot$')\n",
    "        plt.ylabel('$e^2$')\n",
    "        plt.title(f'{key}, q={fiducials[2]}')\n",
    "        plt.show()\n",
    "\n",
    "    # Make contour plot for phase of each match\n",
    "    for i, key in enumerate(['h1_phase', 'h2_phase', 'diff_phase']):\n",
    "\n",
    "        # phase\n",
    "        plt.contourf(chirp_vals, e2_vals, matches[key], cmap='twilight_shifted')\n",
    "        plt.colorbar(label='phase of complex overlap')\n",
    "        plt.scatter(fiducials[1], fiducials[0]**2, c='r', zorder=5)\n",
    "        plt.xlabel('$\\mathcal{M}~/~M_\\odot$')\n",
    "        plt.ylabel('$e^2$')\n",
    "        plt.title(f'{key}, q={fiducials[2]}')\n",
    "        plt.show()\n",
    "\n",
    "        # cos(phase)\n",
    "        plt.contourf(chirp_vals, e2_vals, np.cos(matches[key]))\n",
    "        plt.colorbar(label='cos(phase) of complex overlap')\n",
    "        plt.scatter(fiducials[1], fiducials[0]**2, c='r', zorder=5)\n",
    "        plt.xlabel('$\\mathcal{M}~/~M_\\odot$')\n",
    "        plt.ylabel('$e^2$')\n",
    "        plt.title(f'{key} (cos), q={fiducials[2]}')\n",
    "        plt.show()"
   ]
  },
  {
   "cell_type": "markdown",
   "id": "c4e35c57-05a9-45e2-a1f6-db27fc222e58",
   "metadata": {},
   "source": [
    "# $e_{10}=0.1, \\mathcal{M}=24~M_\\odot, q=2$"
   ]
  },
  {
   "cell_type": "code",
   "execution_count": 5,
   "id": "dc5bb237-dd0f-4eb9-9dde-03678fa275d5",
   "metadata": {},
   "outputs": [
    {
     "ename": "KeyError",
     "evalue": "'diff_phase'",
     "output_type": "error",
     "traceback": [
      "\u001b[0;31m---------------------------------------------------------------------------\u001b[0m",
      "\u001b[0;31mKeyError\u001b[0m                                  Traceback (most recent call last)",
      "Cell \u001b[0;32mIn[5], line 4\u001b[0m\n\u001b[1;32m      2\u001b[0m chirp_vals_1 \u001b[38;5;241m=\u001b[39m np\u001b[38;5;241m.\u001b[39mlinspace(\u001b[38;5;241m23\u001b[39m, \u001b[38;5;241m25\u001b[39m, \u001b[38;5;241m31\u001b[39m)\n\u001b[1;32m      3\u001b[0m start \u001b[38;5;241m=\u001b[39m time\u001b[38;5;241m.\u001b[39mtime()\n\u001b[0;32m----> 4\u001b[0m dataslot_1 \u001b[38;5;241m=\u001b[39m \u001b[43mecc_chirp_match\u001b[49m\u001b[43m(\u001b[49m\u001b[43me_vals_1\u001b[49m\u001b[43m,\u001b[49m\u001b[43m \u001b[49m\u001b[43mchirp_vals_1\u001b[49m\u001b[43m,\u001b[49m\u001b[43m \u001b[49m\u001b[43m[\u001b[49m\u001b[38;5;241;43m0.1\u001b[39;49m\u001b[43m,\u001b[49m\u001b[43m \u001b[49m\u001b[38;5;241;43m24\u001b[39;49m\u001b[43m,\u001b[49m\u001b[43m \u001b[49m\u001b[38;5;241;43m2\u001b[39;49m\u001b[43m]\u001b[49m\u001b[43m,\u001b[49m\u001b[43m \u001b[49m\u001b[38;5;241;43m10\u001b[39;49m\u001b[43m)\u001b[49m\n\u001b[1;32m      5\u001b[0m end \u001b[38;5;241m=\u001b[39m time\u001b[38;5;241m.\u001b[39mtime()\n\u001b[1;32m      6\u001b[0m \u001b[38;5;28mprint\u001b[39m(\u001b[38;5;124mf\u001b[39m\u001b[38;5;124m'\u001b[39m\u001b[38;5;130;01m\\n\u001b[39;00m\u001b[38;5;124mTime taken: \u001b[39m\u001b[38;5;132;01m{\u001b[39;00mend\u001b[38;5;241m-\u001b[39mstart\u001b[38;5;132;01m}\u001b[39;00m\u001b[38;5;124m seconds\u001b[39m\u001b[38;5;124m'\u001b[39m)\n",
      "Cell \u001b[0;32mIn[3], line 36\u001b[0m, in \u001b[0;36mecc_chirp_match\u001b[0;34m(e_vals, chirp_vals, fiducials, f_low, approximant)\u001b[0m\n\u001b[1;32m     34\u001b[0m matches[\u001b[38;5;124m'\u001b[39m\u001b[38;5;124mh2\u001b[39m\u001b[38;5;124m'\u001b[39m][\u001b[38;5;241m-\u001b[39m\u001b[38;5;241m1\u001b[39m]\u001b[38;5;241m.\u001b[39mappend(\u001b[38;5;28mabs\u001b[39m(match_h2))\n\u001b[1;32m     35\u001b[0m matches[\u001b[38;5;124m'\u001b[39m\u001b[38;5;124mh2_phase\u001b[39m\u001b[38;5;124m'\u001b[39m][\u001b[38;5;241m-\u001b[39m\u001b[38;5;241m1\u001b[39m]\u001b[38;5;241m.\u001b[39mappend(np\u001b[38;5;241m.\u001b[39mangle(match_h2))\n\u001b[0;32m---> 36\u001b[0m \u001b[43mmatches\u001b[49m\u001b[43m[\u001b[49m\u001b[38;5;124;43m'\u001b[39;49m\u001b[38;5;124;43mdiff_phase\u001b[39;49m\u001b[38;5;124;43m'\u001b[39;49m\u001b[43m]\u001b[49m[\u001b[38;5;241m-\u001b[39m\u001b[38;5;241m1\u001b[39m]\u001b[38;5;241m.\u001b[39mappend(np\u001b[38;5;241m.\u001b[39mangle(match_h1) \u001b[38;5;241m-\u001b[39m np\u001b[38;5;241m.\u001b[39mangle(match_h2))\n\u001b[1;32m     37\u001b[0m match_quad \u001b[38;5;241m=\u001b[39m np\u001b[38;5;241m.\u001b[39msqrt(\u001b[38;5;28mabs\u001b[39m(match_h1)\u001b[38;5;241m*\u001b[39m\u001b[38;5;241m*\u001b[39m\u001b[38;5;241m2\u001b[39m\u001b[38;5;241m+\u001b[39m\u001b[38;5;28mabs\u001b[39m(match_h2\u001b[38;5;241m*\u001b[39m\u001b[38;5;241m*\u001b[39m\u001b[38;5;241m2\u001b[39m))\n\u001b[1;32m     38\u001b[0m matches[\u001b[38;5;124m'\u001b[39m\u001b[38;5;124mquad\u001b[39m\u001b[38;5;124m'\u001b[39m][\u001b[38;5;241m-\u001b[39m\u001b[38;5;241m1\u001b[39m]\u001b[38;5;241m.\u001b[39mappend(match_quad)\n",
      "\u001b[0;31mKeyError\u001b[0m: 'diff_phase'"
     ]
    }
   ],
   "source": [
    "e_vals_1 = np.linspace(0, 0.2, 31)\n",
    "chirp_vals_1 = np.linspace(23, 25, 31)\n",
    "start = time.time()\n",
    "dataslot_1 = ecc_chirp_match(e_vals_1, chirp_vals_1, [0.1, 24, 2], 10)\n",
    "end = time.time()\n",
    "print(f'\\nTime taken: {end-start} seconds')"
   ]
  },
  {
   "cell_type": "code",
   "execution_count": null,
   "id": "5796997d-1004-4d03-893f-70d763e87d73",
   "metadata": {},
   "outputs": [],
   "source": [
    "ecc_chirp_plot(e_vals_1, chirp_vals_1, [0.1, 24, 2], dataslot_1, vmins=[0.7,0,0.7], vmaxs=[1,0.25,1])"
   ]
  },
  {
   "cell_type": "markdown",
   "id": "0a890c37-a065-4555-9b88-ee1b69ec2838",
   "metadata": {},
   "source": [
    "# $e_{20}=0.1, M=30~(\\mathcal{M}=12.167)~M_\\odot, q=2$"
   ]
  },
  {
   "cell_type": "code",
   "execution_count": null,
   "id": "aafddbcf-5af4-49b2-ba01-cc5181e305fe",
   "metadata": {},
   "outputs": [],
   "source": [
    "e_vals_2 = np.linspace(0, 0.2, 31)\n",
    "chirp_vals_2 = np.linspace(*total2chirp(np.array([29,31]),2), 31)\n",
    "start = time.time()\n",
    "dataslot_2 = ecc_chirp_match(e_vals_2, chirp_vals_2, [0.1, total2chirp(30,2), 2], 20,)\n",
    "end = time.time()\n",
    "print(f'\\nTime taken: {end-start} seconds')"
   ]
  },
  {
   "cell_type": "code",
   "execution_count": null,
   "id": "9d7404bb-c092-4bec-a231-441b656c1036",
   "metadata": {},
   "outputs": [],
   "source": [
    "ecc_chirp_plot(e_vals_2, chirp_vals_2, [0.1, total2chirp(30,2), 2], dataslot_2, vmins=[0.7,0,0.7], vmaxs=[1,0.25,1])"
   ]
  },
  {
   "cell_type": "code",
   "execution_count": null,
   "id": "efce52b6-51e7-4230-8e09-4df3da7294fa",
   "metadata": {},
   "outputs": [],
   "source": []
  }
 ],
 "metadata": {
  "kernelspec": {
   "display_name": "teobresums_eccentric",
   "language": "python",
   "name": "teobresums_eccentric"
  },
  "language_info": {
   "codemirror_mode": {
    "name": "ipython",
    "version": 3
   },
   "file_extension": ".py",
   "mimetype": "text/x-python",
   "name": "python",
   "nbconvert_exporter": "python",
   "pygments_lexer": "ipython3",
   "version": "3.10.12"
  }
 },
 "nbformat": 4,
 "nbformat_minor": 5
}
