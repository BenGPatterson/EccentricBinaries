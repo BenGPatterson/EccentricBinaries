{
 "cells": [
  {
   "cell_type": "code",
   "execution_count": 12,
   "id": "e9601a8f-173d-4246-a86f-9e933eb90713",
   "metadata": {},
   "outputs": [],
   "source": [
    "import numpy as np\n",
    "from pycbc import frame\n",
    "from calcwf import *"
   ]
  },
  {
   "cell_type": "code",
   "execution_count": 15,
   "id": "0d33ce35-0d74-49f6-8ce5-a9cb3351b5dd",
   "metadata": {},
   "outputs": [],
   "source": [
    "outdir = '/home/ben.patterson/projects/simple-pe/simple-pe_tests/h0_peak_params/'"
   ]
  },
  {
   "cell_type": "code",
   "execution_count": 17,
   "id": "b401811b-9405-41b5-ba50-43ae976047f4",
   "metadata": {},
   "outputs": [],
   "source": [
    "# Generate waveform and psd\n",
    "_, h0, _, _, _, _, _, _, _ = get_h([1,1,1,1], 10, 0.1, chirp2total(24, 2), 2, 4096)\n",
    "h0.start_time = 0\n",
    "h0 = h0/1000\n",
    "psd, _ = gen_psd(h0, 10)\n",
    "\n",
    "# Save waveform and psd\n",
    "frame.write_frame(outdir+'strain.gwf', 'H1:h0_only', h0)\n",
    "psd.save(outdir+'psd.txt')"
   ]
  },
  {
   "cell_type": "code",
   "execution_count": null,
   "id": "60005104-42aa-446f-9a18-dfd617be3226",
   "metadata": {},
   "outputs": [],
   "source": []
  }
 ],
 "metadata": {
  "kernelspec": {
   "display_name": "teobresums_eccentric",
   "language": "python",
   "name": "teobresums_eccentric"
  },
  "language_info": {
   "codemirror_mode": {
    "name": "ipython",
    "version": 3
   },
   "file_extension": ".py",
   "mimetype": "text/x-python",
   "name": "python",
   "nbconvert_exporter": "python",
   "pygments_lexer": "ipython3",
   "version": "3.10.12"
  }
 },
 "nbformat": 4,
 "nbformat_minor": 5
}
