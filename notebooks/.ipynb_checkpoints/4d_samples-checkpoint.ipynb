{
 "cells": [
  {
   "cell_type": "code",
   "execution_count": 16,
   "id": "36c041e3-8d2c-480f-b7be-041147d41db1",
   "metadata": {},
   "outputs": [],
   "source": [
    "import os\n",
    "import pickle\n",
    "import time\n",
    "import numpy as np\n",
    "import matplotlib.pyplot as plt\n",
    "from scipy.stats import gaussian_kde\n",
    "from scipy.interpolate import interp1d\n",
    "from pycbc import psd as psd_func\n",
    "from pesummary.gw.conversions.mass import component_masses_from_mchirp_q, q_from_eta\n",
    "from simple_pe.waveforms import generate_eccentric_waveform, calculate_eccentric_harmonics, calc_f_gen\n",
    "from calcwf import match_hn\n",
    "from interpolating_match import comb_harm_consistent"
   ]
  },
  {
   "cell_type": "markdown",
   "id": "3fbef063-aeb2-4bc2-a6a5-727b9c47ade1",
   "metadata": {},
   "source": [
    "# Is MA measurement consistent across harmonics with different parameters?"
   ]
  },
  {
   "cell_type": "code",
   "execution_count": 17,
   "id": "b30cd817-1988-4fe6-bcc5-e750bb9b5d66",
   "metadata": {},
   "outputs": [
    {
     "name": "stdout",
     "output_type": "stream",
     "text": [
      "True MA: 0.70\n",
      "0: M = 0.97 with angle of 3.35\n",
      "1: M = 0.20 with angle of 3.51\n",
      "MA measurement: 0.16\n",
      "0: M = 0.96 with angle of 5.73\n",
      "1: M = 0.20 with angle of 3.81\n",
      "MA measurement: 4.37\n",
      "0: M = 0.93 with angle of 6.02\n",
      "1: M = 0.13 with angle of 0.30\n",
      "MA measurement: 0.56\n",
      "0: M = 0.94 with angle of 1.76\n",
      "1: M = 0.16 with angle of 1.71\n",
      "MA measurement: 6.23\n",
      "0: M = 0.96 with angle of 1.79\n",
      "1: M = 0.20 with angle of 2.43\n",
      "MA measurement: 0.64\n",
      "0: M = 0.97 with angle of 3.03\n",
      "1: M = 0.21 with angle of 3.44\n",
      "MA measurement: 0.40\n",
      "0: M = 0.97 with angle of 1.18\n",
      "1: M = 0.22 with angle of 5.18\n",
      "MA measurement: 4.01\n",
      "0: M = 0.95 with angle of 4.11\n",
      "1: M = 0.21 with angle of 2.96\n",
      "MA measurement: 5.14\n",
      "0: M = 0.96 with angle of 5.83\n",
      "1: M = 0.18 with angle of 3.48\n",
      "MA measurement: 3.94\n",
      "0: M = 0.96 with angle of 2.38\n",
      "1: M = 0.15 with angle of 0.68\n",
      "MA measurement: 4.58\n"
     ]
    }
   ],
   "source": [
    "M = 60\n",
    "q = 2\n",
    "e = 0.2\n",
    "f = 10\n",
    "\n",
    "h, _ = generate_eccentric_waveform(M, q, e, 0, 0, f, 4096, tlen=32, to_fs=False)\n",
    "harms = calculate_eccentric_harmonics(M, q, e, 0, 0, f, 4096, tlen=32, n_ecc_harms=2)\n",
    "wf_hjs = [harms[key].to_timeseries() for key in [0,1]]\n",
    "matches = match_hn(wf_hjs, h, 10, f_match=20)\n",
    "true_MA = (np.angle(matches[1])-np.angle(matches[0]))%(2*np.pi)\n",
    "print(f'True MA: {true_MA:.2f}')\n",
    "\n",
    "MAs = []\n",
    "for i in range(10):\n",
    "    harm_M = np.random.uniform(59,61)\n",
    "    harm_q = np.random.uniform(1.9,2.1)\n",
    "    harm_e = np.random.uniform(0.19,0.21)\n",
    "    harm_chi1 = np.random.uniform(0.05,-0.05)\n",
    "    harm_chi2 = np.random.uniform(0.05,-0.05)\n",
    "    harms = calculate_eccentric_harmonics(harm_M, harm_q, harm_e, harm_chi1, harm_chi2, f, 4096, tlen=32, n_ecc_harms=2)\n",
    "    wf_hjs = [harms[key].to_timeseries() for key in [0,1]]\n",
    "    matches = match_hn(wf_hjs, h, 10, f_match=20)\n",
    "    print(f'0: M = {np.abs(matches[0]):.2f} with angle of {np.angle(matches[0])%(2*np.pi):.2f}')\n",
    "    print(f'1: M = {np.abs(matches[1]):.2f} with angle of {np.angle(matches[1])%(2*np.pi):.2f}')\n",
    "    MAs.append((np.angle(matches[1])-np.angle(matches[0]))%(2*np.pi))\n",
    "    print(f'MA measurement: {MAs[-1]:.2f}')"
   ]
  },
  {
   "cell_type": "code",
   "execution_count": 18,
   "id": "351482da-62e3-4896-8dd8-8398e0945df6",
   "metadata": {},
   "outputs": [
    {
     "data": {
      "text/plain": [
       "<matplotlib.lines.Line2D at 0x7fa363a7dba0>"
      ]
     },
     "execution_count": 18,
     "metadata": {},
     "output_type": "execute_result"
    },
    {
     "data": {
      "image/png": "[encoded data removed]",
      "text/plain": [
       "<Figure size 640x480 with 1 Axes>"
      ]
     },
     "metadata": {},
     "output_type": "display_data"
    }
   ],
   "source": [
    "plt.scatter(np.arange(len(MAs)), MAs)\n",
    "plt.axhline(true_MA, c='k', ls='dashed', alpha=0.7)"
   ]
  },
  {
   "cell_type": "markdown",
   "id": "24854314-d154-409c-a645-0d19cc7b1ada",
   "metadata": {},
   "source": [
    "The MA measurement is therefore not consistent across harmonics built at different points in parameter space - suspect it is likely linked/normalised relative to MA of e.g. s_0 when building harmonics."
   ]
  },
  {
   "cell_type": "markdown",
   "id": "ee05a903-2bdc-4fe2-8b90-7de2e10df96f",
   "metadata": {},
   "source": [
    "# Finding peak ecc/MA"
   ]
  },
  {
   "cell_type": "code",
   "execution_count": 19,
   "id": "1fa9557b-0406-40bf-a73e-708f19afccf2",
   "metadata": {},
   "outputs": [],
   "source": [
    "with open(os.path.join('grid_data_4d', 'dataslot_8', 'all_matches'), 'rb') as fp:\n",
    "    all_matches = pickle.load(fp)\n",
    "with open(os.path.join('grid_data_4d', 'dataslot_8', 'param_samples'), 'rb') as fp:\n",
    "    param_samples = pickle.load(fp)"
   ]
  },
  {
   "cell_type": "markdown",
   "id": "c5f4d875-cf1a-4bc6-b090-92f58dd798c0",
   "metadata": {},
   "source": [
    "The peak point on the degeneracy line we should find in using a 'linear' parameter, i.e. e^2, chirp mass etc, and find peak density using a gaussian kde."
   ]
  },
  {
   "cell_type": "markdown",
   "id": "526ab8c7-8806-4e77-87cc-f00179f0d554",
   "metadata": {},
   "source": [
    "To find peak MA we will use the same approach.\n",
    "\n",
    "To draw the samples on MA that we need (and will combine with samples drawn from new metric), we will use inverse transform sampling from the kde we built to find the peak."
   ]
  },
  {
   "cell_type": "code",
   "execution_count": 20,
   "id": "20ae1e99-3d3c-411f-a244-e4bc0e2a6f83",
   "metadata": {},
   "outputs": [],
   "source": [
    "def get_peak_e_MA(all_matches, param_samples, n_MA=0):\n",
    "\n",
    "    # Build kde and find peak for e\n",
    "    e2_kernel = gaussian_kde(param_samples['samples']['ecc10']**2)\n",
    "    e2_arr = np.linspace(0, np.max(param_samples['samples']['ecc10'])**2, 10**3)\n",
    "    e2_kde_dens = e2_kernel(e2_arr)\n",
    "    e2_peak = e2_arr[np.argmax(e2_kde_dens)]\n",
    "\n",
    "    # Build kde and find peak for MA\n",
    "    MA_kde_builders = np.concatenate([param_samples['samples']['MA'], param_samples['samples']['MA']+2*np.pi, param_samples['samples']['MA']-2*np.pi])\n",
    "    MA_kernel = gaussian_kde(MA_kde_builders, bw_method=0.01)\n",
    "    MA_arr = np.linspace(0,2*np.pi,10**3,endpoint=False)\n",
    "    MA_kde_dens = MA_kernel(MA_arr)\n",
    "    MA_peak = MA_arr[np.argmax(MA_kde_dens)]\n",
    "\n",
    "    # Build peak dictionary\n",
    "    base_dict = all_matches['metadata']['base_params']\n",
    "    fid_dict = all_matches['metadata']['fid_params']\n",
    "    degen_dist = (e2_peak-base_dict['ecc10sqrd'])/(fid_dict['ecc10sqrd']-base_dict['ecc10sqrd'])\n",
    "    peak_dict = {'MA': MA_peak}\n",
    "    for key in list(all_matches['metadata']['fid_params'].keys()):\n",
    "        peak_dict[key] = degen_dist*(fid_dict[key]-base_dict[key])+base_dict[key]\n",
    "\n",
    "    # Draw more samples on MA using inverse transform sampling from kde\n",
    "    if n_MA > 0:\n",
    "        MA_draw = np.concatenate([[0], MA_arr[1:], [2*np.pi]])\n",
    "        MA_cumsum = np.cumsum(MA_kde_dens)\n",
    "        MA_cdf_2pi = MA_cumsum[-1]+MA_kde_dens[0]\n",
    "        MA_cdf = np.concatenate([[0], MA_cumsum[1:]/MA_cdf_2pi, [1]])\n",
    "        MA_uni_samples = np.random.rand(n_MA)\n",
    "        MA_draw_interp = interp1d(MA_cdf, MA_draw)\n",
    "        MA_samples = MA_draw_interp(MA_uni_samples)\n",
    "        return peak_dict, MA_samples\n",
    "    else:\n",
    "        return peak_dict"
   ]
  },
  {
   "cell_type": "code",
   "execution_count": 21,
   "id": "d4e8591b-c46e-4585-848b-5c2dfcd4a44a",
   "metadata": {},
   "outputs": [
    {
     "name": "stdout",
     "output_type": "stream",
     "text": [
      "{'MA': 0.6848671984825749, 'ecc10sqrd': 0.0317897548807485, 'chirp_mass': 24.28587947335138, 'symmetric_mass_ratio': 0.20306357014978405, 'chi_eff': 0.11955229707475908}\n"
     ]
    }
   ],
   "source": [
    "peak_dict, MA_samples = get_peak_e_MA(all_matches, param_samples, n_MA=10**6)\n",
    "print(peak_dict)"
   ]
  },
  {
   "cell_type": "code",
   "execution_count": 22,
   "id": "3be66aca-0beb-47d8-b1bb-aac6109dee06",
   "metadata": {},
   "outputs": [
    {
     "data": {
      "text/plain": [
       "(0.0, 6.283185307179586)"
      ]
     },
     "execution_count": 22,
     "metadata": {},
     "output_type": "execute_result"
    },
    {
     "data": {
      "image/png": "[encoded data removed]",
      "text/plain": [
       "<Figure size 640x480 with 1 Axes>"
      ]
     },
     "metadata": {},
     "output_type": "display_data"
    }
   ],
   "source": [
    "_ = plt.hist(param_samples['samples']['MA'], bins=50, range=(0,2*np.pi), density=True, histtype='step')\n",
    "plt.axvline(peak_dict['MA'], c='k')\n",
    "plt.xlabel('MA')\n",
    "plt.xlim(0,2*np.pi)"
   ]
  },
  {
   "cell_type": "code",
   "execution_count": 23,
   "id": "915e1294-48b4-47bd-b7f8-41af74713f2e",
   "metadata": {},
   "outputs": [
    {
     "data": {
      "text/plain": [
       "<matplotlib.legend.Legend at 0x7fa378550190>"
      ]
     },
     "execution_count": 23,
     "metadata": {},
     "output_type": "execute_result"
    },
    {
     "data": {
      "image/png": "[encoded data removed]",
      "text/plain": [
       "<Figure size 640x480 with 1 Axes>"
      ]
     },
     "metadata": {},
     "output_type": "display_data"
    }
   ],
   "source": [
    "_ = plt.hist(param_samples['samples']['MA'], bins=50, range=(0,2*np.pi), density=True, histtype='step', label='original')\n",
    "_ = plt.hist(MA_samples, bins=50, range=(0,2*np.pi), density=True, histtype='step', label='new')\n",
    "plt.axvline(peak_dict['MA'], c='k')\n",
    "plt.xlabel('MA')\n",
    "plt.xlim(0,2*np.pi)\n",
    "plt.legend()"
   ]
  },
  {
   "cell_type": "markdown",
   "id": "6a5cd102-d145-4bb7-aaa7-00824fd9bd61",
   "metadata": {},
   "source": [
    "# Calculating metric at peak and drawing samples"
   ]
  },
  {
   "cell_type": "markdown",
   "id": "91136841-e1bc-4f59-8c67-6904effee8c8",
   "metadata": {},
   "source": [
    "Here we will calculate the metric at the new peak values (mean anomaly is not important here as we will use the h0 harmonic for metric calculation).\n",
    "\n",
    "We can then draw samples from the metric, and add the MA distribution calculated in the previous step.\n",
    "\n",
    "First off however we need to 'recalibrate' the mean anomaly to the new set of harmonics. We can also generate the harmonics at the peak parameters here and use it for future steps."
   ]
  },
  {
   "cell_type": "code",
   "execution_count": 28,
   "id": "70e87913-91ab-4d40-8d88-1bc74940a0ae",
   "metadata": {},
   "outputs": [],
   "source": [
    "### def recal_MA(all_matches, peak_dict, n_ecc_harms, n_ecc_gen, f_low, psd, sample_rate, two_ecc_harms=True, MA_samples=None):\n",
    "\n",
    "    # Calculate harmonic ordering\n",
    "    harm_ids = [0,1]\n",
    "    for i in range(2,n_ecc_harms):\n",
    "        if harm_ids[-1] > 0:\n",
    "            harm_ids.append(-harm_ids[-1])\n",
    "        else:\n",
    "            harm_ids.append(-harm_ids[-1]+1)\n",
    "\n",
    "    # Generate harmonics at peak\n",
    "    peak_dict['mass_ratio'] = q_from_eta(peak_dict['symmetric_mass_ratio'])\n",
    "    peak_dict['inverted_mass_ratio'] = 1/peak_dict['mass_ratio']\n",
    "    peak_dict['total_mass'] = np.sum(component_masses_from_mchirp_q(peak_dict['chirp_mass'], peak_dict['mass_ratio']), axis=0)\n",
    "    tlen = int(1/psd.delta_f)\n",
    "    wf_dict = calculate_eccentric_harmonics(peak_dict['total_mass'], peak_dict['inverted_mass_ratio'], peak_dict['ecc10sqrd']**0.5, peak_dict['chi_eff'],\n",
    "                                            peak_dict['chi_eff'], f_low, sample_rate, tlen=tlen, f_ref_e=10, n_ecc_harms=n_ecc_harms, n_ecc_gen=n_ecc_gen)\n",
    "    wf_hjs = [wf_dict[ind].to_timeseries() for ind in harm_ids]\n",
    "\n",
    "    # Test three MA values from gridded matches\n",
    "    dist_to_peak = np.abs(all_matches['metadata']['degen_params']['ecc10sqrd']-peak_dict['ecc10sqrd'])\n",
    "    idx = np.argpartition(dist_to_peak, 3)[:3]\n",
    "    f_gen = calc_f_gen(f_low, n_ecc_harms)\n",
    "    MA_diff_cplx = 0j\n",
    "    for pos in idx:\n",
    "        params = {key: all_matches['metadata']['degen_params'][key][pos] for key in all_matches['metadata']['degen_params'].keys()}\n",
    "        h = generate_eccentric_waveform(params['total_mass'], params['inverted_mass_ratio'], params['ecc10'], params['chi_eff'],\n",
    "                                        params['chi_eff'], f_gen, sample_rate, f_ref_e=10, tlen=tlen, to_fs=False)[0]\n",
    "        match_cplx = match_hn(wf_hjs, h, f_gen, psd=psd, f_match=f_low)\n",
    "        if two_ecc_harms:\n",
    "            MA_old = all_matches['h1_h-1_h0_pc_phase'][pos][0]\n",
    "            _, MA_new = comb_harm_consistent(np.abs(match_cplx[:i+1]), np.angle(match_cplx[:i+1]), harms=[0,1,-1])\n",
    "        else:\n",
    "            MA_old = (all_matches['h1_phase'][pos][0]-all_matches['h0_phase'][pos][0])%(2*np.pi)\n",
    "            MA_new = (np.angle(match_cplx[1])-np.angle(match_cplx[0]))%(2*np.pi)\n",
    "        MA_diff_cplx += np.exp(1j*(MA_new - MA_old))\n",
    "    MA_diff = np.angle(MA_diff_cplx)\n",
    "\n",
    "    # Return calibrated peak MA and MA samples\n",
    "    peak_dict['recal_MA'] = (peak_dict['MA']+MA_diff)%(2*np.pi)\n",
    "    if MA_samples is None:\n",
    "        return peak_dict, wf_hjs\n",
    "    else:\n",
    "        recal_MA_samples = (MA_samples+MA_diff)%(2*np.pi)\n",
    "        return peak_dict, recal_MA_samples, wf_hjs"
   ]
  },
  {
   "cell_type": "code",
   "execution_count": 25,
   "id": "ef9b5319-fd34-4021-9afd-9841912ea1ac",
   "metadata": {},
   "outputs": [],
   "source": [
    "# Create psd\n",
    "f_low = 20\n",
    "sample_rate = 4096\n",
    "tlen = 32\n",
    "ifos = ['H1']\n",
    "psds = {'H1': 'aLIGOZeroDetHighPower',\n",
    "        'f_low': f_low,\n",
    "        'f_high': int(sample_rate/2),\n",
    "        'length': tlen,\n",
    "        'delta_f': 1. / tlen\n",
    "        }\n",
    "psd = {}\n",
    "for ifo in ifos:\n",
    "    psd[ifo] = psd_func.analytical.from_string(psds[ifo], psds['length'] * psds['f_high'] + 1, psds['delta_f'],\n",
    "                                                     psds['f_low'])"
   ]
  },
  {
   "cell_type": "code",
   "execution_count": 30,
   "id": "a97d03eb-becd-4b32-8976-d217cc3ccc5a",
   "metadata": {},
   "outputs": [
    {
     "data": {
      "text/plain": [
       "(0.0, 6.283185307179586)"
      ]
     },
     "execution_count": 30,
     "metadata": {},
     "output_type": "execute_result"
    },
    {
     "data": {
      "image/png": "[encoded data removed]",
      "text/plain": [
       "<Figure size 640x480 with 1 Axes>"
      ]
     },
     "metadata": {},
     "output_type": "display_data"
    }
   ],
   "source": [
    "# Recalibrate to 'new' MA normalisation\n",
    "peak_dict, recal_MA_samples, wf_hjs = recal_MA(all_matches, peak_dict, 4, 6, f_low, psd['H1'], sample_rate, MA_samples=MA_samples, two_ecc_harms=True)\n",
    "\n",
    "# Generate true waveform with same parameters as used to generate this analysis to compare to 'true' MA\n",
    "true_dict = {'ecc10sqrd': 0.2**2, 'chirp_mass': 24, 'symmetric_mass_ratio': 2/9, 'chi_eff': 0}\n",
    "true_dict['mass_ratio'] = q_from_eta(true_dict['symmetric_mass_ratio'])\n",
    "true_dict['inverted_mass_ratio'] = 1/true_dict['mass_ratio']\n",
    "true_dict['total_mass'] = np.sum(component_masses_from_mchirp_q(true_dict['chirp_mass'], true_dict['mass_ratio']), axis=0)\n",
    "data, _ = generate_eccentric_waveform(true_dict['total_mass'], true_dict['inverted_mass_ratio'], true_dict['ecc10sqrd']**0.5,\n",
    "                                      true_dict['chi_eff'], true_dict['chi_eff'], 10, sample_rate, f_ref_e=10, tlen=tlen, to_fs=False)\n",
    "\n",
    "f_gen = calc_f_gen(f_low, 4)\n",
    "match_cplx = match_hn(wf_hjs, data, f_gen, psd=psd['H1'], f_match=f_low)\n",
    "true_MA = (np.angle(match_cplx[1])-np.angle(match_cplx[0]))%(2*np.pi)\n",
    "\n",
    "# Plot true MA on recalibrated MA samples to ensure they match\n",
    "_ = plt.hist(recal_MA_samples, bins=50, range=(0,2*np.pi), histtype='step')\n",
    "plt.axvline(true_MA, c='k')\n",
    "plt.xlabel('MA')\n",
    "plt.xlim(0,2*np.pi)"
   ]
  },
  {
   "cell_type": "markdown",
   "id": "611b73b2-9e95-46e6-af03-d60a13f338ca",
   "metadata": {},
   "source": [
    "The recalibration seems to be working well."
   ]
  },
  {
   "cell_type": "code",
   "execution_count": 12,
   "id": "bd9d2a37-e572-4563-beda-280df4140b7a",
   "metadata": {},
   "outputs": [],
   "source": [
    "def peak_metric_samples(peak_dict, f_low, psd, approximant, MA_samples=None):\n",
    "\n",
    "    # Uses simple-pe to calculate approx. of posterior dist. using metric, eigendirections\n",
    "    peak_dict['f_ref'] = f_low\n",
    "    par_dirs = ['ecc10sqrd', 'chirp_mass', 'symmetric_mass_ratio', 'chi_eff']\n",
    "    \n",
    "    # Calculate metric and find fiducial point\n",
    "    metric = find_metric_and_eigendirections(peak_dict, par_dirs, snr=snr, f_low=f_low, psd=psd['harm'],\n",
    "                                             approximant=approximant, max_iter=2, multiprocessing=True)"
   ]
  }
 ],
 "metadata": {
  "kernelspec": {
   "display_name": "igwn_eccentric",
   "language": "python",
   "name": "igwn_eccentric"
  },
  "language_info": {
   "codemirror_mode": {
    "name": "ipython",
    "version": 3
   },
   "file_extension": ".py",
   "mimetype": "text/x-python",
   "name": "python",
   "nbconvert_exporter": "python",
   "pygments_lexer": "ipython3",
   "version": "3.10.14"
  }
 },
 "nbformat": 4,
 "nbformat_minor": 5
}
