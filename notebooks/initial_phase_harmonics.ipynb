{
 "cells": [
  {
   "cell_type": "code",
   "execution_count": 1,
   "id": "20a6ce41-6609-42af-9145-5be1ec824614",
   "metadata": {},
   "outputs": [
    {
     "name": "stderr",
     "output_type": "stream",
     "text": [
      "/home/ben.patterson/.conda/envs/igwn_eccentric/lib/python3.10/site-packages/pycbc/types/array.py:36: UserWarning: Wswiglal-redir-stdio:\n",
      "\n",
      "SWIGLAL standard output/error redirection is enabled in IPython.\n",
      "This may lead to performance penalties. To disable locally, use:\n",
      "\n",
      "with lal.no_swig_redirect_standard_output_error():\n",
      "    ...\n",
      "\n",
      "To disable globally, use:\n",
      "\n",
      "lal.swig_redirect_standard_output_error(False)\n",
      "\n",
      "Note however that this will likely lead to error messages from\n",
      "LAL functions being either misdirected or lost when called from\n",
      "Jupyter notebooks.\n",
      "\n",
      "To suppress this warning, use:\n",
      "\n",
      "import warnings\n",
      "warnings.filterwarnings(\"ignore\", \"Wswiglal-redir-stdio\")\n",
      "import lal\n",
      "\n",
      "  import lal as _lal\n"
     ]
    },
    {
     "name": "stdout",
     "output_type": "stream",
     "text": [
      "lal.MSUN_SI != Msun\n",
      "__name__ = gwsurrogate.new.spline_evaluation\n",
      "__package__= gwsurrogate.new\n"
     ]
    }
   ],
   "source": [
    "import numpy as np\n",
    "import matplotlib.pyplot as plt\n",
    "from scipy.optimize import minimize\n",
    "from calcwf import *"
   ]
  },
  {
   "cell_type": "code",
   "execution_count": 2,
   "id": "1dc4337f-7f8b-411b-8782-7648cb008297",
   "metadata": {},
   "outputs": [],
   "source": [
    "def MA2TA(MA, e):\n",
    "    TA = EA2TA(MA2EA(MA, e), e)\n",
    "    return TA"
   ]
  },
  {
   "cell_type": "markdown",
   "id": "51868909-e4a6-4898-8cbd-2ca675e77810",
   "metadata": {},
   "source": [
    "We want to verify that the initial phase of the harmonics is indeed what we believe."
   ]
  },
  {
   "cell_type": "code",
   "execution_count": 3,
   "id": "68c1a040-bf2b-45c4-b95e-0ef732033a61",
   "metadata": {},
   "outputs": [
    {
     "ename": "NameError",
     "evalue": "name 'EA2TA' is not defined",
     "output_type": "error",
     "traceback": [
      "\u001b[0;31m---------------------------------------------------------------------------\u001b[0m",
      "\u001b[0;31mNameError\u001b[0m                                 Traceback (most recent call last)",
      "Cell \u001b[0;32mIn[3], line 2\u001b[0m\n\u001b[1;32m      1\u001b[0m \u001b[38;5;66;03m# Generate 'data' waveform\u001b[39;00m\n\u001b[0;32m----> 2\u001b[0m data \u001b[38;5;241m=\u001b[39m gen_wf(\u001b[38;5;241m10\u001b[39m, \u001b[38;5;241m0.3\u001b[39m, chirp2total(\u001b[38;5;241m15\u001b[39m, \u001b[38;5;241m2\u001b[39m), \u001b[38;5;241m2\u001b[39m, \u001b[38;5;241m4096\u001b[39m, \u001b[38;5;124m'\u001b[39m\u001b[38;5;124mTEOBResumS\u001b[39m\u001b[38;5;124m'\u001b[39m, TA\u001b[38;5;241m=\u001b[39mnp\u001b[38;5;241m.\u001b[39mpi\u001b[38;5;241m+\u001b[39m\u001b[43mMA2TA\u001b[49m\u001b[43m(\u001b[49m\u001b[43mnp\u001b[49m\u001b[38;5;241;43m.\u001b[39;49m\u001b[43mpi\u001b[49m\u001b[38;5;241;43m/\u001b[39;49m\u001b[38;5;241;43m2\u001b[39;49m\u001b[43m,\u001b[49m\u001b[43m \u001b[49m\u001b[38;5;241;43m0.3\u001b[39;49m\u001b[43m)\u001b[49m, phase\u001b[38;5;241m=\u001b[39m\u001b[38;5;241m0\u001b[39m)\n\u001b[1;32m      4\u001b[0m \u001b[38;5;66;03m# Generate harmonics\u001b[39;00m\n\u001b[1;32m      5\u001b[0m all_wfs \u001b[38;5;241m=\u001b[39m get_h([\u001b[38;5;241m1\u001b[39m]\u001b[38;5;241m*\u001b[39m\u001b[38;5;241m15\u001b[39m, \u001b[38;5;241m10\u001b[39m, \u001b[38;5;241m0.3\u001b[39m, chirp2total(\u001b[38;5;241m15\u001b[39m, \u001b[38;5;241m2\u001b[39m), \u001b[38;5;241m2\u001b[39m, \u001b[38;5;241m4096\u001b[39m)\n",
      "Cell \u001b[0;32mIn[2], line 2\u001b[0m, in \u001b[0;36mMA2TA\u001b[0;34m(MA, e)\u001b[0m\n\u001b[1;32m      1\u001b[0m \u001b[38;5;28;01mdef\u001b[39;00m \u001b[38;5;21mMA2TA\u001b[39m(MA, e):\n\u001b[0;32m----> 2\u001b[0m     TA \u001b[38;5;241m=\u001b[39m \u001b[43mEA2TA\u001b[49m(MA2EA(MA, e), e)\n\u001b[1;32m      3\u001b[0m     \u001b[38;5;28;01mreturn\u001b[39;00m TA\n",
      "\u001b[0;31mNameError\u001b[0m: name 'EA2TA' is not defined"
     ]
    }
   ],
   "source": [
    "# Generate 'data' waveform\n",
    "data = gen_wf(10, 0.3, chirp2total(15, 2), 2, 4096, 'TEOBResumS', TA=np.pi+MA2TA(np.pi/2, 0.3), phase=0)\n",
    "\n",
    "# Generate harmonics\n",
    "all_wfs = get_h([1]*15, 10, 0.3, chirp2total(15, 2), 2, 4096)\n",
    "h0, h1, hn1, h2 = all_wfs[1:5]\n",
    "\n",
    "# Calculate overlaps\n",
    "match_cplx = match_hn(all_wfs[1:5], data, 10)\n",
    "\n",
    "# Plot figure\n",
    "plt.figure(figsize=(5,5))\n",
    "theta = np.linspace(0, 2*np.pi, 1000, endpoint=False)\n",
    "plt.plot(np.sin(theta), np.cos(theta), c='k', ls='dotted', alpha=0.7, zorder=-1)\n",
    "plt.scatter(0, 0, c='k')\n",
    "labels= ['h0', 'h1', 'h-1', 'h2']\n",
    "for i, SNR in enumerate(match_cplx):\n",
    "    plt.scatter(np.real(SNR)/np.abs(SNR), np.imag(SNR)/np.abs(SNR), c=f'C{i}', label=labels[i])\n",
    "    plt.plot([0, np.real(SNR)]/np.abs(SNR), [0, np.imag(SNR)]/np.abs(SNR), c=f'C{i}', lw=0.5, ls='dashed', zorder=-1)\n",
    "    if i > 0:\n",
    "        plt.scatter(np.real(SNR)/np.abs(match_cplx[0]), np.imag(SNR)/np.abs(match_cplx[0]), c=f'C{i}', marker='x', zorder=-1)\n",
    "plt.legend(frameon=False, loc='upper left')\n",
    "plt.xlabel('Real')\n",
    "plt.ylabel('Imaginary')"
   ]
  },
  {
   "cell_type": "markdown",
   "id": "6b6a0c02-c77d-47c4-89a0-b628be243a59",
   "metadata": {},
   "source": [
    "Playing around, seems pretty clear that the difference in phase between h-1, h0, h1, etc. is actually given by mean anomaly rather than true anomaly.\n",
    "\n",
    "When we generate our harmonics we set all their initial phases to be the same (or alternatively have zero initial mean anomaly). Therefore when matching with the real harmonics contained in a signal, all the phase of the match arises from the phases of these real harmonics. There is some 'offset' in the matches relating to the overall phase difference between the data and the signal, however the mean anomaly should be well recovered.\n",
    "\n",
    "It therefore seems reasonable to say that the phase is equal to\n",
    "\n",
    "$$\n",
    "\\Phi_0 = 2 \\tilde{\\gamma}_0 + (2+k) l_0.\n",
    "$$\n",
    "\n",
    "For data and our harmonics with non-identical parameters, the binary will have evolved from the start point of (one of) the waveforms before the match 'starts', and so the measured value of mean anomaly will be different to that inputted into the waveform. As a consequence, this seems to make it rather tricky to measure the physical value of the anomaly of a signal using this method - would likely be quite large uncertainties arising."
   ]
  },
  {
   "cell_type": "code",
   "execution_count": null,
   "id": "b0ac236d-272d-4de6-b59b-fbfade7a6a73",
   "metadata": {},
   "outputs": [],
   "source": []
  }
 ],
 "metadata": {
  "kernelspec": {
   "display_name": "igwn_eccentric",
   "language": "python",
   "name": "igwn_eccentric"
  },
  "language_info": {
   "codemirror_mode": {
    "name": "ipython",
    "version": 3
   },
   "file_extension": ".py",
   "mimetype": "text/x-python",
   "name": "python",
   "nbconvert_exporter": "python",
   "pygments_lexer": "ipython3",
   "version": "3.10.14"
  }
 },
 "nbformat": 4,
 "nbformat_minor": 5
}
