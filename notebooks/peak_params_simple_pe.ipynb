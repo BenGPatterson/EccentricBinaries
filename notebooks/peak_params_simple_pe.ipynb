{
 "cells": [
  {
   "cell_type": "code",
   "execution_count": null,
   "id": "e9601a8f-173d-4246-a86f-9e933eb90713",
   "metadata": {},
   "outputs": [],
   "source": [
    "import numpy as np\n",
    "from pycbc import frame\n",
    "from pycbc.waveform import get_td_waveform\n",
    "import pickle\n",
    "from functools import partial\n",
    "import p_tqdm\n",
    "from calcwf import *"
   ]
  },
  {
   "cell_type": "markdown",
   "id": "95aec043-7563-4e98-9343-53e96c7acfd3",
   "metadata": {},
   "source": [
    "# Save strain and psd"
   ]
  },
  {
   "cell_type": "code",
   "execution_count": null,
   "id": "0d33ce35-0d74-49f6-8ce5-a9cb3351b5dd",
   "metadata": {},
   "outputs": [],
   "source": [
    "outdir = '/home/ben.patterson/projects/simple-pe/simple-pe_tests/h0_peak_params/imrphenomxphm_24/'"
   ]
  },
  {
   "cell_type": "code",
   "execution_count": null,
   "id": "b401811b-9405-41b5-ba50-43ae976047f4",
   "metadata": {},
   "outputs": [],
   "source": [
    "# Generate waveform and psd\n",
    "_, h0, _, _, _, _, _, _, _ = get_h([1,1,1,1], 10, 0.1, chirp2total(24, 2), 2, 4096)\n",
    "print(h0.start_time)\n",
    "h0.start_time = 1126259462\n",
    "h0.prepend_zeros(64*4096)\n",
    "h0.append_zeros(64*4096)\n",
    "psd, _ = gen_psd(h0, 10)\n",
    "\n",
    "# Save waveform and psd\n",
    "h0.save(outdir+'strain.txt')\n",
    "frame.write_frame(outdir+'strain.gwf', \"L1:h0_only\", h0.real())\n",
    "psd.save(outdir+'psd.txt')"
   ]
  },
  {
   "cell_type": "markdown",
   "id": "991f7ad6-1fd6-4736-a1c4-528b0be4fdb2",
   "metadata": {},
   "source": [
    "# Test results"
   ]
  },
  {
   "cell_type": "code",
   "execution_count": null,
   "id": "bf52b771-5623-4421-a155-7c2657d207ed",
   "metadata": {},
   "outputs": [],
   "source": [
    "def match_with_h0(chirp, q, chi_align, f_low, h0, approximant):\n",
    "\n",
    "    # Generate waveform\n",
    "    total = chirp2total(chirp, q)\n",
    "    mass2 = total/(1+q)\n",
    "    mass1 = total - mass2\n",
    "    hp, hc = get_td_waveform(approximant=approximant,\n",
    "                             mass1=mass1,\n",
    "                             mass2=mass2,\n",
    "                             spin1z=chi_align/2,\n",
    "                             spin2z=chi_align/2,\n",
    "                             delta_t=1.0/4096,\n",
    "                             f_lower=f_low,\n",
    "                             mode_array=[[2,2],[2,-2]])\n",
    "\n",
    "    # Conduct match\n",
    "    m = match_wfs(h0.real(), hp, f_low, True)\n",
    "\n",
    "    return m"
   ]
  },
  {
   "cell_type": "code",
   "execution_count": null,
   "id": "63251516-fb86-4017-a1fd-03815183ea6f",
   "metadata": {},
   "outputs": [],
   "source": [
    "# Simple-pe result\n",
    "match_with_h0(23.9428, 1.9034, -0.0313, 10, h0, 'IMRPhenomXPHM')"
   ]
  },
  {
   "cell_type": "code",
   "execution_count": null,
   "id": "249ae4dc-e524-49b5-abb6-8d086e3ac0e2",
   "metadata": {},
   "outputs": [],
   "source": [
    "# Simple-pe result but chirp mass from our degen line\n",
    "degen_chirp = favata_et_al_avg(0.1, 24, 0, 4096, f_low=10, q=1.9034)\n",
    "print(degen_chirp)\n",
    "match_with_h0(degen_chirp, 1.9034, -0.0313, 10, h0, 'IMRPhenomXPHM')"
   ]
  },
  {
   "cell_type": "markdown",
   "id": "9292423b-1723-49f8-8ea4-b32632531862",
   "metadata": {
    "jp-MarkdownHeadingCollapsed": true
   },
   "source": [
    "# IMRPhenomXPHM, f_low=10Hz"
   ]
  },
  {
   "cell_type": "code",
   "execution_count": null,
   "id": "c74c2313-b3b0-48ef-a652-78cc0803c9fd",
   "metadata": {},
   "outputs": [],
   "source": [
    "# Grid match coordinates\n",
    "chirp_vals = np.linspace(23.85, 24.15, 31)\n",
    "q_vals = np.linspace(1.8, 2.1, 31)\n",
    "chi_align_vals = np.linspace(-0.05, 0.02, 31)\n",
    "chirp_long, q_long, chi_align_long = np.meshgrid(chirp_vals, q_vals, chi_align_vals)\n",
    "\n",
    "# Load gridded matches\n",
    "with open(outdir+'imrphenomxphm_f_low_10/matches', 'rb') as fp:\n",
    "    data = pickle.load(fp)\n",
    "data = np.reshape(data, [len(q_vals), len(chirp_vals), len(chi_align_vals)])"
   ]
  },
  {
   "cell_type": "code",
   "execution_count": null,
   "id": "ce20c5be-aed7-4ad6-9aa6-a80fafd490f4",
   "metadata": {},
   "outputs": [],
   "source": [
    "plt.figure(figsize=(6.4*3,4.8*6))\n",
    "\n",
    "# Loop over each 3rd dimension step\n",
    "for i in range(6):\n",
    "\n",
    "    # Chirp against chi align\n",
    "    plt.subplot(6, 3, 1+i*3)\n",
    "    plt.contourf(chi_align_vals, chirp_vals, data[i*6, :, :], np.linspace(0.99, 1, 15), vmin=0.99, vmax=1, extend='min')\n",
    "    plt.title('q='+f'{q_vals[i*6]:.3f}')\n",
    "    plt.colorbar()\n",
    "\n",
    "    # Mass ratio against chi align\n",
    "    plt.subplot(6, 3, 2+i*3)\n",
    "    plt.contourf(chi_align_vals, q_vals, data[:, i*6, :], np.linspace(0.99, 1, 15), vmin=0.99, vmax=1, extend='min')\n",
    "    plt.title('$\\mathcal{M}=$'+f'{chirp_vals[i*6]:.3f}')\n",
    "    plt.colorbar()\n",
    "\n",
    "    # Mass ratio against chirp mass\n",
    "    plt.subplot(6, 3, 3+i*3)\n",
    "    plt.contourf(q_vals, chirp_vals, data[:, :, i*6], np.linspace(0.99, 1, 15), vmin=0.99, vmax=1, extend='min')\n",
    "    plt.title('$\\chi_\\mathrm{align}=$'+f'{chi_align_vals[i*6]:.3f}')\n",
    "    plt.colorbar()"
   ]
  },
  {
   "cell_type": "markdown",
   "id": "bce947e3-d893-48e0-9bb2-5a3a7e56c57d",
   "metadata": {
    "jp-MarkdownHeadingCollapsed": true
   },
   "source": [
    "# IMRPhenomXPHM, f_low=20Hz"
   ]
  },
  {
   "cell_type": "code",
   "execution_count": null,
   "id": "08971f42-3485-43c8-ad02-e860f6639b4d",
   "metadata": {},
   "outputs": [],
   "source": [
    "# Grid match coordinates\n",
    "chirp_vals = np.linspace(23.85, 24.15, 31)\n",
    "q_vals = np.linspace(1.8, 2.1, 31)\n",
    "chi_align_vals = np.linspace(-0.05, 0.02, 31)\n",
    "chirp_long, q_long, chi_align_long = np.meshgrid(chirp_vals, q_vals, chi_align_vals)\n",
    "\n",
    "# Load gridded matches\n",
    "with open(outdir+'imrphenomxphm_f_low_20/matches', 'rb') as fp:\n",
    "    data = pickle.load(fp)\n",
    "data = np.reshape(data, [len(q_vals), len(chirp_vals), len(chi_align_vals)])"
   ]
  },
  {
   "cell_type": "code",
   "execution_count": null,
   "id": "3186f8bd-eeca-44b9-bbfb-bcb4aaf65b45",
   "metadata": {},
   "outputs": [],
   "source": [
    "plt.figure(figsize=(6.4*3,4.8*6))\n",
    "\n",
    "# Loop over each 3rd dimension step\n",
    "for i in range(6):\n",
    "\n",
    "    # Chirp against chi align\n",
    "    plt.subplot(6, 3, 1+i*3)\n",
    "    plt.contourf(chi_align_vals, chirp_vals, data[i*6, :, :], np.linspace(0.995, 1, 15), vmin=0.995, vmax=1, extend='min')\n",
    "    plt.title('q='+f'{q_vals[i*6]:.3f}')\n",
    "    plt.colorbar()\n",
    "\n",
    "    # Mass ratio against chi align\n",
    "    plt.subplot(6, 3, 2+i*3)\n",
    "    plt.contourf(chi_align_vals, q_vals, data[:, i*6, :], np.linspace(0.995, 1, 15), vmin=0.995, vmax=1, extend='min')\n",
    "    plt.title('$\\mathcal{M}=$'+f'{chirp_vals[i*6]:.3f}')\n",
    "    plt.colorbar()\n",
    "\n",
    "    # Mass ratio against chirp mass\n",
    "    plt.subplot(6, 3, 3+i*3)\n",
    "    plt.contourf(q_vals, chirp_vals, data[:, :, i*6], np.linspace(0.995, 1, 15), vmin=0.995, vmax=1, extend='min')\n",
    "    plt.title('$\\chi_\\mathrm{align}=$'+f'{chi_align_vals[i*6]:.3f}')\n",
    "    plt.colorbar()"
   ]
  },
  {
   "cell_type": "markdown",
   "id": "c1a3cd5a-826c-4bf2-aff5-1250b0981748",
   "metadata": {},
   "source": [
    "# find_best_match(), simple-pe env"
   ]
  },
  {
   "cell_type": "code",
   "execution_count": 1,
   "id": "0e3a465e-c12b-4112-9f51-c5ea85b6ac0b",
   "metadata": {},
   "outputs": [
    {
     "name": "stderr",
     "output_type": "stream",
     "text": [
      "/home/ben.patterson/.conda/envs/igwn_simple_pe_dev/lib/python3.10/site-packages/pycbc/types/array.py:36: UserWarning: Wswiglal-redir-stdio:\n",
      "\n",
      "SWIGLAL standard output/error redirection is enabled in IPython.\n",
      "This may lead to performance penalties. To disable locally, use:\n",
      "\n",
      "with lal.no_swig_redirect_standard_output_error():\n",
      "    ...\n",
      "\n",
      "To disable globally, use:\n",
      "\n",
      "lal.swig_redirect_standard_output_error(True)\n",
      "\n",
      "Note however that this will likely lead to error messages from\n",
      "LAL functions being either misdirected or lost when called from\n",
      "Jupyter notebooks.\n",
      "\n",
      "To suppress this warning, use:\n",
      "\n",
      "import warnings\n",
      "warnings.filterwarnings(\"ignore\", \"Wswiglal-redir-stdio\")\n",
      "import lal\n",
      "\n",
      "  import lal as _lal\n"
     ]
    },
    {
     "name": "stdout",
     "output_type": "stream",
     "text": [
      "lal.MSUN_SI != Msun\n",
      "__name__ = gwsurrogate.new.spline_evaluation\n",
      "__package__= gwsurrogate.new\n"
     ]
    },
    {
     "name": "stderr",
     "output_type": "stream",
     "text": [
      "/home/ben.patterson/.conda/envs/igwn_simple_pe_dev/lib/python3.10/site-packages/pandas/core/computation/expressions.py:21: UserWarning: Pandas requires version '2.8.4' or newer of 'numexpr' (version '2.7.3' currently installed).\n",
      "  from pandas.core.computation.check import NUMEXPR_INSTALLED\n"
     ]
    }
   ],
   "source": [
    "import numpy as np\n",
    "from pycbc import frame\n",
    "from pycbc.types import timeseries, frequencyseries\n",
    "from simple_pe.param_est import matches"
   ]
  },
  {
   "cell_type": "code",
   "execution_count": 2,
   "id": "ea73265a-1b30-4b9e-ac86-6ccc4c179652",
   "metadata": {},
   "outputs": [],
   "source": [
    "# Load h0\n",
    "outdir = '/home/ben.patterson/projects/simple-pe/simple-pe_tests/h0_peak_params/chirp_24/'\n",
    "h0 = timeseries.load_timeseries(outdir+'strain.txt')\n",
    "psd = frequencyseries.load_frequencyseries(outdir+'psd.txt')"
   ]
  },
  {
   "cell_type": "code",
   "execution_count": 3,
   "id": "9670eec9-020c-4088-9d43-13548163e073",
   "metadata": {},
   "outputs": [],
   "source": [
    "import logging\n",
    "_logger = logging.getLogger('PESummary')\n",
    "_logger.setLevel(logging.CRITICAL + 10)"
   ]
  },
  {
   "cell_type": "code",
   "execution_count": 4,
   "id": "47957090-8504-4b4b-b903-5688e9b5ef71",
   "metadata": {},
   "outputs": [],
   "source": [
    "# Find best match with simple-pe function\n",
    "x = {\"chirp_mass\": 24, \"symmetric_mass_ratio\": 0.2222, \"chi_align\": 0, \"distance\": 1}\n",
    "x_prime, m_0 = matches.find_best_match(h0, x, [\"chirp_mass\", \"symmetric_mass_ratio\", \"chi_align\"], 10, psd, 'IMRPhenomXPHM', method='scipy')"
   ]
  },
  {
   "cell_type": "code",
   "execution_count": 5,
   "id": "1e2a6d3a-d891-439d-b5ea-2983c13738b5",
   "metadata": {},
   "outputs": [
    {
     "ename": "SyntaxError",
     "evalue": "invalid syntax (3527392052.py, line 1)",
     "output_type": "error",
     "traceback": [
      "\u001b[0;36m  Cell \u001b[0;32mIn[5], line 1\u001b[0;36m\u001b[0m\n\u001b[0;31m    git branch\u001b[0m\n\u001b[0m        ^\u001b[0m\n\u001b[0;31mSyntaxError\u001b[0m\u001b[0;31m:\u001b[0m invalid syntax\n"
     ]
    }
   ],
   "source": []
  },
  {
   "cell_type": "code",
   "execution_count": null,
   "id": "3832485c-e977-451e-8702-300c0308d303",
   "metadata": {},
   "outputs": [],
   "source": []
  }
 ],
 "metadata": {
  "kernelspec": {
   "display_name": "igwn_simple_pe_dev",
   "language": "python",
   "name": "igwn_simple_pe_dev"
  },
  "language_info": {
   "codemirror_mode": {
    "name": "ipython",
    "version": 3
   },
   "file_extension": ".py",
   "mimetype": "text/x-python",
   "name": "python",
   "nbconvert_exporter": "python",
   "pygments_lexer": "ipython3",
   "version": "3.10.14"
  }
 },
 "nbformat": 4,
 "nbformat_minor": 5
}
