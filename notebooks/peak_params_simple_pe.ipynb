{
 "cells": [
  {
   "cell_type": "code",
   "execution_count": 11,
   "id": "e9601a8f-173d-4246-a86f-9e933eb90713",
   "metadata": {},
   "outputs": [],
   "source": [
    "import numpy as np\n",
    "from pycbc import frame\n",
    "from pycbc.waveform import get_td_waveform\n",
    "from calcwf import *"
   ]
  },
  {
   "cell_type": "markdown",
   "id": "95aec043-7563-4e98-9343-53e96c7acfd3",
   "metadata": {},
   "source": [
    "# Save strain and psd"
   ]
  },
  {
   "cell_type": "code",
   "execution_count": 3,
   "id": "0d33ce35-0d74-49f6-8ce5-a9cb3351b5dd",
   "metadata": {},
   "outputs": [],
   "source": [
    "outdir = '/home/ben.patterson/projects/simple-pe/simple-pe_tests/h0_peak_params/'"
   ]
  },
  {
   "cell_type": "code",
   "execution_count": 10,
   "id": "b401811b-9405-41b5-ba50-43ae976047f4",
   "metadata": {},
   "outputs": [
    {
     "name": "stdout",
     "output_type": "stream",
     "text": [
      "-6.500488281\n"
     ]
    }
   ],
   "source": [
    "# Generate waveform and psd\n",
    "_, h0, _, _, _, _, _, _, _ = get_h([1,1,1,1], 10, 0.1, chirp2total(24, 2), 2, 4096)\n",
    "print(h0.start_time)\n",
    "h0.start_time = 1126259462\n",
    "h0.prepend_zeros(32*4096)\n",
    "h0.append_zeros(32*4096)\n",
    "psd, _ = gen_psd(h0, 10)\n",
    "\n",
    "# Save waveform and psd\n",
    "frame.write_frame(outdir+'strain.gwf', \"L1:h0_only\", h0.real())\n",
    "psd.save(outdir+'psd.txt')"
   ]
  },
  {
   "cell_type": "markdown",
   "id": "991f7ad6-1fd6-4736-a1c4-528b0be4fdb2",
   "metadata": {},
   "source": [
    "# Test results"
   ]
  },
  {
   "cell_type": "code",
   "execution_count": 53,
   "id": "4f3de62f-0dca-4c6e-a3b3-a4d6aa84eba1",
   "metadata": {},
   "outputs": [
    {
     "name": "stdout",
     "output_type": "stream",
     "text": [
      "24.094604478054826\n"
     ]
    }
   ],
   "source": [
    "# Simple-pe result\n",
    "chirp = 23.9428\n",
    "q = 1.9034\n",
    "total = chirp2total(chirp, q)\n",
    "mass2 = total/(1+q)\n",
    "mass1 = total - mass2\n",
    "hp_spe, hc_spe = get_td_waveform(approximant='IMRPhenomXPHM',\n",
    "                                 mass1=mass1,\n",
    "                                 mass2=mass2,\n",
    "                                 spin1z=-0.0313/2,\n",
    "                                 spin2z=-0.0313/2,\n",
    "                                 delta_t=1.0/4096,\n",
    "                                 f_lower=10,\n",
    "                                 mode_array=[[2,2],[2,-2]])\n",
    "\n",
    "# Simple-pe result but chirp mass from our degen line\n",
    "q = 1.9034\n",
    "degen_chirp = favata_et_al_avg(0.1, 24, 0, 4096, f_low=10, q=q)\n",
    "print(degen_chirp)\n",
    "degen_total = chirp2total(degen_chirp, q)\n",
    "degen_mass2 = degen_total/(1+q)\n",
    "degen_mass1 = degen_total - degen_mass2\n",
    "hp_degen, hc_degen = get_td_waveform(approximant='IMRPhenomXPHM',\n",
    "                                     mass1=degen_mass1,\n",
    "                                     mass2=degen_mass2,\n",
    "                                     spin1z=-0.0313/2,\n",
    "                                     spin2z=-0.0313/2,\n",
    "                                     delta_t=1.0/4096,\n",
    "                                     f_lower=10,\n",
    "                                     mode_array=[[2,2],[2,-2]])"
   ]
  },
  {
   "cell_type": "code",
   "execution_count": 54,
   "id": "71b4905e-1797-499d-9223-c099270fb7e7",
   "metadata": {},
   "outputs": [
    {
     "name": "stdout",
     "output_type": "stream",
     "text": [
      "0.9919674969447165\n",
      "0.9989991375822947\n"
     ]
    }
   ],
   "source": [
    "# Match with h0\n",
    "print(match_wfs(h0.real(), hp_spe, 13, True))\n",
    "print(match_wfs(h0.real(), hp_degen, 13, True))"
   ]
  },
  {
   "cell_type": "code",
   "execution_count": null,
   "id": "d4922360-12b4-419c-93cf-eaa626b84bd4",
   "metadata": {},
   "outputs": [],
   "source": []
  }
 ],
 "metadata": {
  "kernelspec": {
   "display_name": "teobresums_eccentric",
   "language": "python",
   "name": "teobresums_eccentric"
  },
  "language_info": {
   "codemirror_mode": {
    "name": "ipython",
    "version": 3
   },
   "file_extension": ".py",
   "mimetype": "text/x-python",
   "name": "python",
   "nbconvert_exporter": "python",
   "pygments_lexer": "ipython3",
   "version": "3.10.12"
  }
 },
 "nbformat": 4,
 "nbformat_minor": 5
}
