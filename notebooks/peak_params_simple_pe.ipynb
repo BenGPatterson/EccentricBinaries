{
 "cells": [
  {
   "cell_type": "code",
   "execution_count": 1,
   "id": "0d33ce35-0d74-49f6-8ce5-a9cb3351b5dd",
   "metadata": {},
   "outputs": [],
   "source": [
    "outdir = '/home/ben.patterson/projects/simple-pe/simple-pe_tests/h0_peak_params/'"
   ]
  },
  {
   "cell_type": "markdown",
   "id": "e86649f1-ba32-4451-893c-2d53cc9c6275",
   "metadata": {},
   "source": [
    "# teobresums environment"
   ]
  },
  {
   "cell_type": "code",
   "execution_count": 2,
   "id": "e9601a8f-173d-4246-a86f-9e933eb90713",
   "metadata": {},
   "outputs": [],
   "source": [
    "import numpy as np\n",
    "from calcwf import *"
   ]
  },
  {
   "cell_type": "code",
   "execution_count": 3,
   "id": "b401811b-9405-41b5-ba50-43ae976047f4",
   "metadata": {},
   "outputs": [],
   "source": [
    "# Generate waveform and psd\n",
    "_, h0, _, _, _, _, _, _, _ = get_h([1,1,1,1], 10, 0.1, chirp2total(24, 2), 2, 4096)\n",
    "h0 = h0/1000\n",
    "psd, _ = gen_psd(h0, 10)\n",
    "\n",
    "# Save waveform and psd\n",
    "h0.save(outdir+'strain.txt')\n",
    "psd.save(outdir+'psd.txt')"
   ]
  },
  {
   "cell_type": "markdown",
   "id": "3b4bcf43-8e62-4964-bfc9-6b252fb1147d",
   "metadata": {},
   "source": [
    "# simple-pe environment"
   ]
  },
  {
   "cell_type": "code",
   "execution_count": 2,
   "id": "e414c99c-fc3e-4fe9-9420-e6958555078d",
   "metadata": {},
   "outputs": [
    {
     "name": "stderr",
     "output_type": "stream",
     "text": [
      "/home/ben.patterson/.conda/envs/igwn_simple_pe_dev/lib/python3.10/site-packages/pandas/core/computation/expressions.py:21: UserWarning: Pandas requires version '2.8.0' or newer of 'numexpr' (version '2.7.3' currently installed).\n",
      "  from pandas.core.computation.check import NUMEXPR_INSTALLED\n"
     ]
    }
   ],
   "source": [
    "import numpy as np\n",
    "import json\n",
    "from pycbc.types import timeseries, frequencyseries\n",
    "from simple_pe.param_est import matches"
   ]
  },
  {
   "cell_type": "code",
   "execution_count": 3,
   "id": "95943f73-3868-46ea-b726-ea87d6eb03c9",
   "metadata": {},
   "outputs": [],
   "source": [
    "# Load data, psd\n",
    "data = timeseries.load_timeseries(outdir+'strain.txt')\n",
    "psd = frequencyseries.load_frequencyseries(outdir+'psd.txt')"
   ]
  },
  {
   "cell_type": "code",
   "execution_count": 4,
   "id": "dd8f05dd-2f15-4daf-8b2a-fc31007b65a0",
   "metadata": {},
   "outputs": [],
   "source": [
    "# Starting params\n",
    "pars = {'chirp_mass':24, 'symmetric_mass_ratio':2/9, 'chi_align': 0, 'distance': 1}"
   ]
  },
  {
   "cell_type": "code",
   "execution_count": 5,
   "id": "dc675919-7f38-4396-9fc6-9eac3849e5d3",
   "metadata": {},
   "outputs": [],
   "source": [
    "# Turn off pesummary warnings\n",
    "import logging\n",
    "_logger = logging.getLogger('PESummary')\n",
    "_logger.setLevel(logging.CRITICAL + 10)"
   ]
  },
  {
   "cell_type": "code",
   "execution_count": 6,
   "id": "18500bb2-ebb1-401a-a116-5e154a2213f6",
   "metadata": {},
   "outputs": [
    {
     "name": "stderr",
     "output_type": "stream",
     "text": [
      "Calculating the metric | iteration 8 < 20 | error 0.0003 > 0.0003:  \n"
     ]
    },
    {
     "name": "stdout",
     "output_type": "stream",
     "text": [
      "{'chirp_mass': [24], 'symmetric_mass_ratio': [0.2222222222222222], 'chi_align': [0], 'distance': [1]}\n",
      "idx     chirp_mass     symmetric_mass_ratiochi_align      \n",
      "0       -0.000370      0.008961       0.002430       \n",
      "\n"
     ]
    },
    {
     "ename": "TypeError",
     "evalue": "'float' object is not iterable",
     "output_type": "error",
     "traceback": [
      "\u001b[0;31m---------------------------------------------------------------------------\u001b[0m",
      "\u001b[0;31mTypeError\u001b[0m                                 Traceback (most recent call last)",
      "Cell \u001b[0;32mIn[6], line 2\u001b[0m\n\u001b[1;32m      1\u001b[0m \u001b[38;5;66;03m# Find peak params\u001b[39;00m\n\u001b[0;32m----> 2\u001b[0m x_max, m \u001b[38;5;241m=\u001b[39m \u001b[43mmatches\u001b[49m\u001b[38;5;241;43m.\u001b[39;49m\u001b[43mfind_best_match\u001b[49m\u001b[43m(\u001b[49m\u001b[43mdata\u001b[49m\u001b[38;5;241;43m.\u001b[39;49m\u001b[43mreal\u001b[49m\u001b[43m(\u001b[49m\u001b[43m)\u001b[49m\u001b[38;5;241;43m.\u001b[39;49m\u001b[43mto_frequencyseries\u001b[49m\u001b[43m(\u001b[49m\u001b[43m)\u001b[49m\u001b[43m,\u001b[49m\u001b[43m \u001b[49m\u001b[43mpars\u001b[49m\u001b[43m,\u001b[49m\u001b[43m \u001b[49m\u001b[43m[\u001b[49m\u001b[38;5;124;43m'\u001b[39;49m\u001b[38;5;124;43mchirp_mass\u001b[39;49m\u001b[38;5;124;43m'\u001b[39;49m\u001b[43m,\u001b[49m\u001b[43m \u001b[49m\u001b[38;5;124;43m'\u001b[39;49m\u001b[38;5;124;43msymmetric_mass_ratio\u001b[39;49m\u001b[38;5;124;43m'\u001b[39;49m\u001b[43m,\u001b[49m\u001b[43m \u001b[49m\u001b[38;5;124;43m'\u001b[39;49m\u001b[38;5;124;43mchi_align\u001b[39;49m\u001b[38;5;124;43m'\u001b[39;49m\u001b[43m]\u001b[49m\u001b[43m,\u001b[49m\u001b[43m \u001b[49m\u001b[38;5;241;43m15\u001b[39;49m\u001b[43m,\u001b[49m\u001b[43m \u001b[49m\u001b[43mpsd\u001b[49m\u001b[43m)\u001b[49m\n",
      "File \u001b[0;32m~/projects/simple-pe/simple-pe/simple_pe/param_est/matches.py:124\u001b[0m, in \u001b[0;36mfind_best_match\u001b[0;34m(data, x, dx_directions, f_low, psd, approximant, method, mismatch, tolerance)\u001b[0m\n\u001b[1;32m    122\u001b[0m \u001b[38;5;28mprint\u001b[39m(x)\n\u001b[1;32m    123\u001b[0m \u001b[38;5;28mprint\u001b[39m(g\u001b[38;5;241m.\u001b[39mnormalized_evecs()[i:i \u001b[38;5;241m+\u001b[39m \u001b[38;5;241m1\u001b[39m])\n\u001b[0;32m--> 124\u001b[0m alphas[i, j] \u001b[38;5;241m=\u001b[39m \u001b[43mwaveform\u001b[49m\u001b[38;5;241;43m.\u001b[39;49m\u001b[43mcheck_physical\u001b[49m\u001b[43m(\u001b[49m\u001b[43mx\u001b[49m\u001b[43m,\u001b[49m\u001b[43m \u001b[49m\u001b[43mg\u001b[49m\u001b[38;5;241;43m.\u001b[39;49m\u001b[43mnormalized_evecs\u001b[49m\u001b[43m(\u001b[49m\u001b[43m)\u001b[49m\u001b[43m[\u001b[49m\u001b[43mi\u001b[49m\u001b[43m:\u001b[49m\u001b[43mi\u001b[49m\u001b[43m \u001b[49m\u001b[38;5;241;43m+\u001b[39;49m\u001b[43m \u001b[49m\u001b[38;5;241;43m1\u001b[39;49m\u001b[43m]\u001b[49m\u001b[43m,\u001b[49m\u001b[43m \u001b[49m\u001b[43m(\u001b[49m\u001b[38;5;241;43m-\u001b[39;49m\u001b[38;5;241;43m1\u001b[39;49m\u001b[43m)\u001b[49m\u001b[43m \u001b[49m\u001b[38;5;241;43m*\u001b[39;49m\u001b[38;5;241;43m*\u001b[39;49m\u001b[43m \u001b[49m\u001b[43mj\u001b[49m\u001b[43m)\u001b[49m\n\u001b[1;32m    125\u001b[0m h \u001b[38;5;241m=\u001b[39m waveform\u001b[38;5;241m.\u001b[39mmake_offset_waveform(x, g\u001b[38;5;241m.\u001b[39mnormalized_evecs()[i:i \u001b[38;5;241m+\u001b[39m \u001b[38;5;241m1\u001b[39m], alphas[i, j] \u001b[38;5;241m*\u001b[39m (\u001b[38;5;241m-\u001b[39m\u001b[38;5;241m1\u001b[39m) \u001b[38;5;241m*\u001b[39m\u001b[38;5;241m*\u001b[39m j,\n\u001b[1;32m    126\u001b[0m                          g\u001b[38;5;241m.\u001b[39mpsd\u001b[38;5;241m.\u001b[39mdelta_f, g\u001b[38;5;241m.\u001b[39mf_low, \u001b[38;5;28mlen\u001b[39m(g\u001b[38;5;241m.\u001b[39mpsd),\n\u001b[1;32m    127\u001b[0m                          g\u001b[38;5;241m.\u001b[39mapproximant)\n\u001b[1;32m    128\u001b[0m matches[i, j] \u001b[38;5;241m=\u001b[39m match(data, h, g\u001b[38;5;241m.\u001b[39mpsd,\n\u001b[1;32m    129\u001b[0m                       low_frequency_cutoff\u001b[38;5;241m=\u001b[39mg\u001b[38;5;241m.\u001b[39mf_low,\n\u001b[1;32m    130\u001b[0m                       subsample_interpolation\u001b[38;5;241m=\u001b[39m\u001b[38;5;28;01mTrue\u001b[39;00m)[\u001b[38;5;241m0\u001b[39m]\n",
      "File \u001b[0;32m~/projects/simple-pe/simple-pe/simple_pe/waveforms/waveform.py:239\u001b[0m, in \u001b[0;36mcheck_physical\u001b[0;34m(x, dx, scaling, maxs, mins, verbose)\u001b[0m\n\u001b[1;32m    236\u001b[0m \u001b[38;5;28;01mif\u001b[39;00m maxs \u001b[38;5;129;01mis\u001b[39;00m \u001b[38;5;28;01mNone\u001b[39;00m:\n\u001b[1;32m    237\u001b[0m     maxs \u001b[38;5;241m=\u001b[39m parameter_bounds\u001b[38;5;241m.\u001b[39mparam_maxs\n\u001b[0;32m--> 239\u001b[0m x0 \u001b[38;5;241m=\u001b[39m \u001b[43moffset_params\u001b[49m\u001b[43m(\u001b[49m\u001b[43mx\u001b[49m\u001b[43m,\u001b[49m\u001b[43m \u001b[49m\u001b[43mdx\u001b[49m\u001b[43m,\u001b[49m\u001b[43m \u001b[49m\u001b[38;5;241;43m0.\u001b[39;49m\u001b[43m)\u001b[49m\n\u001b[1;32m    240\u001b[0m \u001b[38;5;28;01mif\u001b[39;00m verbose:\n\u001b[1;32m    241\u001b[0m     \u001b[38;5;28mprint\u001b[39m(\u001b[38;5;124m'\u001b[39m\u001b[38;5;124minitial point\u001b[39m\u001b[38;5;124m'\u001b[39m)\n",
      "File \u001b[0;32m~/projects/simple-pe/simple-pe/simple_pe/waveforms/waveform.py:192\u001b[0m, in \u001b[0;36moffset_params\u001b[0;34m(x, dx, scaling)\u001b[0m\n\u001b[1;32m    189\u001b[0m         \u001b[38;5;28mprint\u001b[39m(\u001b[38;5;124m\"\u001b[39m\u001b[38;5;124mValue for \u001b[39m\u001b[38;5;132;01m%s\u001b[39;00m\u001b[38;5;124m not given at initial point\u001b[39m\u001b[38;5;124m\"\u001b[39m \u001b[38;5;241m%\u001b[39m k)\n\u001b[1;32m    190\u001b[0m         \u001b[38;5;28;01mreturn\u001b[39;00m \u001b[38;5;241m-\u001b[39m\u001b[38;5;241m1\u001b[39m\n\u001b[0;32m--> 192\u001b[0m     x_prime[k] \u001b[38;5;241m+\u001b[39m\u001b[38;5;241m=\u001b[39m \u001b[38;5;28mfloat\u001b[39m(scaling \u001b[38;5;241m*\u001b[39m dx_val)\n\u001b[1;32m    194\u001b[0m \u001b[38;5;28;01mreturn\u001b[39;00m x_prime\n",
      "\u001b[0;31mTypeError\u001b[0m: 'float' object is not iterable"
     ]
    }
   ],
   "source": [
    "# Find peak params\n",
    "x_max, m = matches.find_best_match(data.real().to_frequencyseries(), pars, ['chirp_mass', 'symmetric_mass_ratio', 'chi_align'], 15, psd)"
   ]
  },
  {
   "cell_type": "code",
   "execution_count": null,
   "id": "0ea11302-6b11-4fb4-8acd-7776aef4380e",
   "metadata": {},
   "outputs": [],
   "source": []
  }
 ],
 "metadata": {
  "kernelspec": {
   "display_name": "igwn_simple_pe_dev",
   "language": "python",
   "name": "igwn_simple_pe_dev"
  },
  "language_info": {
   "codemirror_mode": {
    "name": "ipython",
    "version": 3
   },
   "file_extension": ".py",
   "mimetype": "text/x-python",
   "name": "python",
   "nbconvert_exporter": "python",
   "pygments_lexer": "ipython3",
   "version": "3.10.12"
  }
 },
 "nbformat": 4,
 "nbformat_minor": 5
}
