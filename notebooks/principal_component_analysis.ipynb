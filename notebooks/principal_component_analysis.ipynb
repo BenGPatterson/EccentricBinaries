{
 "cells": [
  {
   "cell_type": "code",
   "execution_count": null,
   "id": "b9417918-cdce-40a3-af09-7e0a59b350f6",
   "metadata": {
    "editable": true,
    "slideshow": {
     "slide_type": ""
    },
    "tags": []
   },
   "outputs": [],
   "source": [
    "import numpy as np\n",
    "import matplotlib.pyplot as plt\n",
    "import astropy.constants as aconst\n",
    "import time\n",
    "import pickle\n",
    "import os\n",
    "from pycbc.types import timeseries, frequencyseries\n",
    "from calcwf import shifted_f, shifted_e, P_from_f, num_orbits, peri_advance_orbit, gen_wf, get_h, trim_wf, chirp2total, overlap_cplx_wfs, match_wfs, ceiltwo, gen_psd"
   ]
  },
  {
   "cell_type": "markdown",
   "id": "980077e3-3806-4afa-94d4-a725c5362050",
   "metadata": {},
   "source": [
    "# Generate training data"
   ]
  },
  {
   "cell_type": "code",
   "execution_count": null,
   "id": "879216cf-d664-4f20-be1d-dd755de7ce9f",
   "metadata": {
    "editable": true,
    "slideshow": {
     "slide_type": ""
    },
    "tags": []
   },
   "outputs": [],
   "source": [
    "# Generates n training waveforms equally spaced in true anomaly\n",
    "def gen_training_wfs(f_low, e, M, q, n, sample_rate, approximant):\n",
    "\n",
    "    # Generate shifted frequency, eccentricity, phase values\n",
    "    max_s_f = shifted_f(f_low, e, M, q)\n",
    "    s_f_vals = np.linspace(f_low, max_s_f, n, endpoint=False)\n",
    "    s_e_vals = shifted_e(s_f_vals, f_low, e)\n",
    "\n",
    "    training_wfs = []\n",
    "    # Generate all training waveforms\n",
    "    for i, (s_f, s_e) in enumerate(zip(s_f_vals, s_e_vals)):\n",
    "\n",
    "        # Create waveform\n",
    "        h = gen_wf(s_f, s_e, M, q, sample_rate, approximant, phase=0)\n",
    "\n",
    "        # Trim waveform to same size as first (shortest), and corrects phase\n",
    "        if i > 0:\n",
    "            h = trim_wf(h, training_wfs[0])\n",
    "            overlap = overlap_cplx_wfs(h, training_wfs[0], f_low)\n",
    "            phase_angle = +np.angle(overlap)/2\n",
    "            h = gen_wf(s_f, s_e, M, q, sample_rate, approximant, phase=phase_angle)\n",
    "            h = trim_wf(h, training_wfs[0])\n",
    "        \n",
    "        h.resize(ceiltwo(len(h)))   \n",
    "        training_wfs.append(h)\n",
    "\n",
    "        # Progress bar\n",
    "        print(f'\\r{i+1} done out of {n}.', end='')\n",
    "\n",
    "    return training_wfs"
   ]
  },
  {
   "cell_type": "code",
   "execution_count": null,
   "id": "ac1c11f6-eb39-4acb-9058-c2cb8ff7a992",
   "metadata": {},
   "outputs": [],
   "source": [
    "training_wfs = gen_training_wfs(10, 0.1, chirp2total(24, 2), 2, 100, 2048, 'TEOBResumS')"
   ]
  },
  {
   "cell_type": "code",
   "execution_count": null,
   "id": "e11650ad-017a-481a-a9bb-fa363ca519fd",
   "metadata": {},
   "outputs": [],
   "source": [
    "for wf in training_wfs:\n",
    "    plt.plot(wf.sample_times, wf)\n",
    "plt.xlim(-6.6,-5.6)\n",
    "plt.ylim(-1.5e-19,1.5e-19)\n",
    "plt.show()\n",
    "\n",
    "for wf in training_wfs:\n",
    "    plt.plot(wf.sample_times, np.sqrt(wf.real()**2+wf.imag()**2))\n",
    "    plt.plot(wf.sample_times, -np.sqrt(wf.real()**2+wf.imag()**2))\n",
    "plt.xlim(-6.6,-5.6)\n",
    "plt.ylim(-1.5e-19,1.5e-19)\n",
    "plt.show()"
   ]
  },
  {
   "cell_type": "code",
   "execution_count": null,
   "id": "031af798-2110-458e-b641-3947967e605e",
   "metadata": {},
   "outputs": [],
   "source": [
    "def whiten_wfs(wfs, f_low):\n",
    "\n",
    "    # Generate psd\n",
    "    psd, _ = gen_psd(wfs[0], f_low)\n",
    "    delta_f = psd.delta_f\n",
    "\n",
    "    # Set zero values to 'inf'\n",
    "    psd = np.array(psd)\n",
    "    psd[psd==0]=1\n",
    "    psd = frequencyseries.FrequencySeries(psd, delta_f)\n",
    "\n",
    "    # Whiten each wf\n",
    "    whiten = []\n",
    "    for wf in wfs:\n",
    "        hp = (wf.real().to_frequencyseries() / psd ** 0.5).to_timeseries()\n",
    "        hc = (-wf.imag().to_frequencyseries() / psd ** 0.5).to_timeseries()\n",
    "        whiten.append(hp-1j*hc)\n",
    "\n",
    "    return whiten"
   ]
  },
  {
   "cell_type": "code",
   "execution_count": null,
   "id": "bc0688ca-dc53-4c59-9a1f-cac55bff6563",
   "metadata": {},
   "outputs": [],
   "source": [
    "white_training_wfs = whiten_wfs(training_wfs, 10)"
   ]
  },
  {
   "cell_type": "markdown",
   "id": "87f92901-1091-4d25-a9d9-2de4f202429d",
   "metadata": {},
   "source": [
    "# Performing PCA"
   ]
  },
  {
   "cell_type": "code",
   "execution_count": 7,
   "id": "24d7b132-4e83-4d5d-bd75-70daf86beef2",
   "metadata": {
    "editable": true,
    "slideshow": {
     "slide_type": ""
    },
    "tags": []
   },
   "outputs": [
    {
     "name": "stdout",
     "output_type": "stream",
     "text": [
      "Time taken: 164.8190062046051 seconds\n"
     ]
    }
   ],
   "source": [
    "# Convert training wf data to np array in right shape/form and calc svd\n",
    "start = time.time()\n",
    "X = np.array(training_wfs).T\n",
    "means = X.mean(axis=0) \n",
    "stds = X.std(axis=0) \n",
    "U, S, Vh = np.linalg.svd((X-means)/stds)\n",
    "end = time.time()\n",
    "print(f'Time taken: {end-start} seconds')"
   ]
  },
  {
   "cell_type": "markdown",
   "id": "64eb1daa-2508-4cea-b385-3fa0a6c7dd26",
   "metadata": {},
   "source": [
    "# PCA results"
   ]
  },
  {
   "cell_type": "code",
   "execution_count": 8,
   "id": "89b332ad-2191-4732-bb3f-8657ffe8025e",
   "metadata": {},
   "outputs": [],
   "source": [
    "pcs = Vh"
   ]
  },
  {
   "cell_type": "markdown",
   "id": "f2bb549f-cc66-46d8-b62f-0bd3429822ad",
   "metadata": {},
   "source": [
    "Relative importance of ith direction is given by:\n",
    "\n",
    "\\begin{equation}\n",
    "\\frac{S_i^2}{\\Sigma_i S_i^2}\n",
    "\\end{equation}"
   ]
  },
  {
   "cell_type": "markdown",
   "id": "b62e655e-c53a-47d2-915c-15bbf447268d",
   "metadata": {
    "editable": true,
    "slideshow": {
     "slide_type": ""
    },
    "tags": []
   },
   "source": [
    "Coefficients of xth waveform for each direction are given by pcs.T[x]. All of the coefficents in the yth direction are therefore given by pcs[y]. Every component is complex and thus has both a real and imaginary part."
   ]
  },
  {
   "cell_type": "code",
   "execution_count": 9,
   "id": "47f40df9-f29e-4766-82df-df12647e6148",
   "metadata": {},
   "outputs": [
    {
     "data": {
      "text/plain": [
       "<matplotlib.colorbar.Colorbar at 0x7f77e3ee3e20>"
      ]
     },
     "execution_count": 9,
     "metadata": {},
     "output_type": "execute_result"
    },
    {
     "data": {
      "image/png": "[encoded data removed]",
      "text/plain": [
       "<Figure size 640x480 with 2 Axes>"
      ]
     },
     "metadata": {},
     "output_type": "display_data"
    }
   ],
   "source": [
    "# Plot of real parts of zeroth, first directions\n",
    "colors = np.linspace(0,1,100,endpoint=False)\n",
    "plt.scatter(np.real(pcs[1]), np.real(pcs[0]), c=colors, vmin=0, vmax=1, cmap='hsv')\n",
    "plt.xlabel('First component')\n",
    "plt.ylabel('Zeroth component')\n",
    "plt.colorbar()"
   ]
  },
  {
   "cell_type": "markdown",
   "id": "5e1d82a4-3de5-4c0b-8dc4-c09ab6934fe1",
   "metadata": {},
   "source": [
    "See that real part of zeroth component is always very close to -0.1. Turns out imaginary part is also always v. close to 0. Real part of first component is positive for h_peri (i.e. opposite to zeroth component), and negative for h_ap (i.e. opposite to first component). This is consistent with our current picture of zeroth/first components being h1/h2, as h_peri = h_1 - h_2 and h_ap = h_1 + h_2. Overall negative sign above is arbitrary and can be switched by simply changing phase by pi.\n",
    "\n",
    "Now plot complex values of first component only (as zeroth component seems to be almost exactly -0.1+0j by construction)."
   ]
  },
  {
   "cell_type": "code",
   "execution_count": 10,
   "id": "790113a0-3e76-41cf-9878-155add36afc9",
   "metadata": {},
   "outputs": [
    {
     "data": {
      "text/plain": [
       "<matplotlib.colorbar.Colorbar at 0x7f77da0aabc0>"
      ]
     },
     "execution_count": 10,
     "metadata": {},
     "output_type": "execute_result"
    },
    {
     "data": {
      "image/png": "[encoded data removed]",
      "text/plain": [
       "<Figure size 640x480 with 2 Axes>"
      ]
     },
     "metadata": {},
     "output_type": "display_data"
    }
   ],
   "source": [
    "# Plot of complex parts of first direction\n",
    "colors = np.linspace(0,1,100,endpoint=False)\n",
    "plt.scatter(np.real(pcs[1]), np.imag(pcs[1]), c=colors, vmin=0, vmax=1, cmap='hsv')\n",
    "plt.xlabel('Real part of first component')\n",
    "plt.ylabel('Imaginary part of first component')\n",
    "plt.colorbar()"
   ]
  },
  {
   "cell_type": "markdown",
   "id": "e0acaab3-902f-4e16-b986-b4a15f6bf6c1",
   "metadata": {},
   "source": [
    "Can very clearly see that as true anomaly is changed over 2pi, the first component rotates around a complete circle in complex space.\n",
    "\n",
    "Now look at S matrix to check relative importance of each component."
   ]
  },
  {
   "cell_type": "code",
   "execution_count": 11,
   "id": "f71851d5-0970-4202-926d-71d15ba13104",
   "metadata": {},
   "outputs": [
    {
     "name": "stdout",
     "output_type": "stream",
     "text": [
      "Component 0 contains 96.67578% of the total information.\n",
      "Component 1 contains 2.60224% of the total information.\n",
      "Component 2 contains 0.59343% of the total information.\n",
      "Component 3 contains 0.07439% of the total information.\n",
      "Component 4 contains 0.05265% of the total information.\n",
      "Component 5 contains 0.00098% of the total information.\n",
      "Component 6 contains 0.00025% of the total information.\n",
      "Component 7 contains 0.00014% of the total information.\n",
      "Component 8 contains 0.00007% of the total information.\n",
      "Component 9 contains 0.00003% of the total information.\n",
      "\n",
      "\n",
      "Components 0 and 1 combined contain 99.27803% of the total information.\n"
     ]
    }
   ],
   "source": [
    "rel_imports = []\n",
    "for i in range(10):\n",
    "    rel_imports.append(S[i]**2/np.sum(S**2))\n",
    "    print('Component {} contains {:.5f}% of the total information.'.format(i, rel_imports[i]*100))\n",
    "\n",
    "print('\\n')\n",
    "print('Components 0 and 1 combined contain {:.5f}% of the total information.'.format((rel_imports[0]+rel_imports[1])*100))"
   ]
  },
  {
   "cell_type": "markdown",
   "id": "abf975b4-aa82-46ed-9813-77b19781fefc",
   "metadata": {},
   "source": [
    "Can see that for $e_{10} = 0.1$, $\\mathcal{M} = 24 M_\\odot$, $q=2$, the first two components alone contain 99.3% of the total information. The model therefore seems to be quite a good approximation in this region of parameter space. By repeating this for different parameter choices, we could see in which regions this model would break down."
   ]
  },
  {
   "cell_type": "markdown",
   "id": "6e80078b-134e-42af-804a-a2afd621db34",
   "metadata": {},
   "source": [
    "The first two components here are consistent with being h1 and h2 respectively, however this is not proven to be the case. In order to prove these, should plot combinations of h1 and h2 using these coefficients and check against original waveforms."
   ]
  },
  {
   "cell_type": "markdown",
   "id": "70fd4fe8-b014-4782-a222-dc9553bec66c",
   "metadata": {
    "jp-MarkdownHeadingCollapsed": true
   },
   "source": [
    "# h1, h2 comparison"
   ]
  },
  {
   "cell_type": "code",
   "execution_count": 12,
   "id": "d630e21d-eafd-4aa5-ab55-9d5451dd7a3d",
   "metadata": {
    "editable": true,
    "slideshow": {
     "slide_type": ""
    },
    "tags": []
   },
   "outputs": [],
   "source": [
    "# # Plots and compares match between training waveform and combination of h1 and h2 waveforms\n",
    "# def compare_wfs(training_wf, h1_h2_comps, f_low, e, M, q, sample_rate, approximant):\n",
    "\n",
    "#     # Generate h from h1, h2 components\n",
    "#     h, _, _, _, _ = get_h(h1_h2_comps, f_low, e, M, q, sample_rate, approximant=approximant)\n",
    "\n",
    "#     # Calculate match between waveforms\n",
    "#     m = match_wfs(training_wf, h, 10, True)\n",
    "#     print(f'Match of {np.abs(m)}')\n",
    "\n",
    "#     # Plot both real waveforms\n",
    "#     plt.plot(training_wf.sample_times, training_wf.real(), label='Training wf')\n",
    "#     plt.plot(h.sample_times, h.real(), label='From h1, h2 components')\n",
    "#     plt.title('Real')\n",
    "#     plt.xlim(-7,-5)\n",
    "#     plt.legend() \n",
    "#     plt.show()\n",
    "\n",
    "#     # Plot both imaginary waveforms\n",
    "#     plt.plot(training_wf.sample_times, training_wf.imag(), label='Training wf')\n",
    "#     plt.plot(h.sample_times, h.imag(), label='From h1, h2 components')\n",
    "#     plt.title('Imaginary')\n",
    "#     plt.xlim(-7,-5)\n",
    "#     plt.legend()\n",
    "#     plt.show()\n",
    "\n",
    "#     # Plot both waveform envelopes\n",
    "#     plt.plot(training_wf.sample_times, np.sqrt(training_wf.real()**2+training_wf.imag()**2), c='C0', label='Training wf')\n",
    "#     plt.plot(training_wf.sample_times, -np.sqrt(training_wf.real()**2+training_wf.imag()**2), c='C0')\n",
    "#     plt.plot(h.sample_times, np.sqrt(h.real()**2+h.imag()**2), c='C1', label='From h1, h2 components')\n",
    "#     plt.plot(h.sample_times, -np.sqrt(h.real()**2+h.imag()**2), c='C1')\n",
    "#     plt.title('Envelopes')\n",
    "#     plt.xlim(-7,-5)\n",
    "#     plt.legend()\n",
    "#     plt.show()"
   ]
  },
  {
   "cell_type": "markdown",
   "id": "b2781993-7397-4924-b584-199b656387e0",
   "metadata": {},
   "source": [
    "First plot h_ap training waveform (i.e. the first training waveform), and use the h1, h2 components from the pca/svd above. Will multiply these components by (-10,10) first in order to get roughly same scale (and right sign). Can do this as match function does not care about amplitude or phase. Can multiple each component by opposite sign as can choose/postulate that directions from pca/svd actually correspond to e.g. -h1, +h2."
   ]
  },
  {
   "cell_type": "code",
   "execution_count": 13,
   "id": "92f068db-c1c6-4f9c-885f-1db677212ce9",
   "metadata": {},
   "outputs": [
    {
     "name": "stdout",
     "output_type": "stream",
     "text": [
      "[(1.00080888095549-0j), (-0.9934940156332355+0j)]\n",
      "1.9943028965887255\n"
     ]
    },
    {
     "ename": "ValueError",
     "evalue": "PSD delta_f does not match data",
     "output_type": "error",
     "traceback": [
      "\u001b[0;31m---------------------------------------------------------------------------\u001b[0m",
      "\u001b[0;31mAssertionError\u001b[0m                            Traceback (most recent call last)",
      "File \u001b[0;32m~/.conda/envs/teobresums_eccentric/lib/python3.10/site-packages/pycbc/filter/matchedfilter.py:1244\u001b[0m, in \u001b[0;36mmatched_filter_core\u001b[0;34m(template, data, psd, low_frequency_cutoff, high_frequency_cutoff, h_norm, out, corr_out)\u001b[0m\n\u001b[1;32m   1243\u001b[0m \u001b[38;5;28;01mtry\u001b[39;00m:\n\u001b[0;32m-> 1244\u001b[0m     \u001b[43mnumpy\u001b[49m\u001b[38;5;241;43m.\u001b[39;49m\u001b[43mtesting\u001b[49m\u001b[38;5;241;43m.\u001b[39;49m\u001b[43massert_almost_equal\u001b[49m\u001b[43m(\u001b[49m\u001b[43mstilde\u001b[49m\u001b[38;5;241;43m.\u001b[39;49m\u001b[43mdelta_f\u001b[49m\u001b[43m,\u001b[49m\u001b[43m \u001b[49m\u001b[43mpsd\u001b[49m\u001b[38;5;241;43m.\u001b[39;49m\u001b[43mdelta_f\u001b[49m\u001b[43m)\u001b[49m\n\u001b[1;32m   1245\u001b[0m \u001b[38;5;28;01mexcept\u001b[39;00m \u001b[38;5;167;01mAssertionError\u001b[39;00m:\n",
      "File \u001b[0;32m~/.conda/envs/teobresums_eccentric/lib/python3.10/contextlib.py:79\u001b[0m, in \u001b[0;36mContextDecorator.__call__.<locals>.inner\u001b[0;34m(*args, **kwds)\u001b[0m\n\u001b[1;32m     78\u001b[0m \u001b[38;5;28;01mwith\u001b[39;00m \u001b[38;5;28mself\u001b[39m\u001b[38;5;241m.\u001b[39m_recreate_cm():\n\u001b[0;32m---> 79\u001b[0m     \u001b[38;5;28;01mreturn\u001b[39;00m \u001b[43mfunc\u001b[49m\u001b[43m(\u001b[49m\u001b[38;5;241;43m*\u001b[39;49m\u001b[43margs\u001b[49m\u001b[43m,\u001b[49m\u001b[43m \u001b[49m\u001b[38;5;241;43m*\u001b[39;49m\u001b[38;5;241;43m*\u001b[39;49m\u001b[43mkwds\u001b[49m\u001b[43m)\u001b[49m\n",
      "File \u001b[0;32m~/.conda/envs/teobresums_eccentric/lib/python3.10/site-packages/numpy/testing/_private/utils.py:537\u001b[0m, in \u001b[0;36massert_almost_equal\u001b[0;34m(actual, desired, decimal, err_msg, verbose)\u001b[0m\n\u001b[1;32m    536\u001b[0m \u001b[38;5;28;01mif\u001b[39;00m \u001b[38;5;28mabs\u001b[39m(desired \u001b[38;5;241m-\u001b[39m actual) \u001b[38;5;241m>\u001b[39m\u001b[38;5;241m=\u001b[39m np\u001b[38;5;241m.\u001b[39mfloat64(\u001b[38;5;241m1.5\u001b[39m \u001b[38;5;241m*\u001b[39m \u001b[38;5;241m10.0\u001b[39m\u001b[38;5;241m*\u001b[39m\u001b[38;5;241m*\u001b[39m(\u001b[38;5;241m-\u001b[39mdecimal)):\n\u001b[0;32m--> 537\u001b[0m     \u001b[38;5;28;01mraise\u001b[39;00m \u001b[38;5;167;01mAssertionError\u001b[39;00m(_build_err_msg())\n",
      "\u001b[0;31mAssertionError\u001b[0m: \nArrays are not almost equal to 7 decimals\n ACTUAL: 0.125\n DESIRED: 0.0625",
      "\nDuring handling of the above exception, another exception occurred:\n",
      "\u001b[0;31mValueError\u001b[0m                                Traceback (most recent call last)",
      "Cell \u001b[0;32mIn[13], line 4\u001b[0m\n\u001b[1;32m      2\u001b[0m \u001b[38;5;28mprint\u001b[39m(components)\n\u001b[1;32m      3\u001b[0m \u001b[38;5;28mprint\u001b[39m(np\u001b[38;5;241m.\u001b[39msum(np\u001b[38;5;241m.\u001b[39mabs(components)))\n\u001b[0;32m----> 4\u001b[0m \u001b[43mcompare_wfs\u001b[49m\u001b[43m(\u001b[49m\u001b[43mtraining_wfs\u001b[49m\u001b[43m[\u001b[49m\u001b[38;5;241;43m0\u001b[39;49m\u001b[43m]\u001b[49m\u001b[43m,\u001b[49m\u001b[43m \u001b[49m\u001b[43mcomponents\u001b[49m\u001b[43m,\u001b[49m\u001b[43m \u001b[49m\u001b[38;5;241;43m10\u001b[39;49m\u001b[43m,\u001b[49m\u001b[43m \u001b[49m\u001b[38;5;241;43m0.1\u001b[39;49m\u001b[43m,\u001b[49m\u001b[43m \u001b[49m\u001b[43mchirp2total\u001b[49m\u001b[43m(\u001b[49m\u001b[38;5;241;43m24\u001b[39;49m\u001b[43m,\u001b[49m\u001b[43m \u001b[49m\u001b[38;5;241;43m2\u001b[39;49m\u001b[43m)\u001b[49m\u001b[43m,\u001b[49m\u001b[43m \u001b[49m\u001b[38;5;241;43m2\u001b[39;49m\u001b[43m,\u001b[49m\u001b[43m \u001b[49m\u001b[38;5;241;43m4096\u001b[39;49m\u001b[43m,\u001b[49m\u001b[43m \u001b[49m\u001b[38;5;124;43m'\u001b[39;49m\u001b[38;5;124;43mTEOBResumS\u001b[39;49m\u001b[38;5;124;43m'\u001b[39;49m\u001b[43m)\u001b[49m\n",
      "Cell \u001b[0;32mIn[12], line 8\u001b[0m, in \u001b[0;36mcompare_wfs\u001b[0;34m(training_wf, h1_h2_comps, f_low, e, M, q, sample_rate, approximant)\u001b[0m\n\u001b[1;32m      5\u001b[0m h, _, _, _, _ \u001b[38;5;241m=\u001b[39m get_h(h1_h2_comps, f_low, e, M, q, sample_rate, approximant\u001b[38;5;241m=\u001b[39mapproximant)\n\u001b[1;32m      7\u001b[0m \u001b[38;5;66;03m# Calculate match between waveforms\u001b[39;00m\n\u001b[0;32m----> 8\u001b[0m m \u001b[38;5;241m=\u001b[39m \u001b[43mmatch_wfs\u001b[49m\u001b[43m(\u001b[49m\u001b[43mtraining_wf\u001b[49m\u001b[43m,\u001b[49m\u001b[43m \u001b[49m\u001b[43mh\u001b[49m\u001b[43m,\u001b[49m\u001b[43m \u001b[49m\u001b[38;5;241;43m10\u001b[39;49m\u001b[43m,\u001b[49m\u001b[43m \u001b[49m\u001b[38;5;28;43;01mTrue\u001b[39;49;00m\u001b[43m)\u001b[49m\n\u001b[1;32m      9\u001b[0m \u001b[38;5;28mprint\u001b[39m(\u001b[38;5;124mf\u001b[39m\u001b[38;5;124m'\u001b[39m\u001b[38;5;124mMatch of \u001b[39m\u001b[38;5;132;01m{\u001b[39;00mnp\u001b[38;5;241m.\u001b[39mabs(m)\u001b[38;5;132;01m}\u001b[39;00m\u001b[38;5;124m'\u001b[39m)\n\u001b[1;32m     11\u001b[0m \u001b[38;5;66;03m# Plot both real waveforms\u001b[39;00m\n",
      "File \u001b[0;32m/nfshome/store04/users/ben.patterson/EccentricBinaries/notebooks/calcwf.py:581\u001b[0m, in \u001b[0;36mmatch_wfs\u001b[0;34m(wf1, wf2, f_low, subsample_interpolation, return_phase)\u001b[0m\n\u001b[1;32m    578\u001b[0m psd, _ \u001b[38;5;241m=\u001b[39m gen_psd(wf1, f_low)\n\u001b[1;32m    580\u001b[0m \u001b[38;5;66;03m# Perform match\u001b[39;00m\n\u001b[0;32m--> 581\u001b[0m m \u001b[38;5;241m=\u001b[39m \u001b[43mmatch\u001b[49m\u001b[43m(\u001b[49m\u001b[43mwf1\u001b[49m\u001b[38;5;241;43m.\u001b[39;49m\u001b[43mreal\u001b[49m\u001b[43m(\u001b[49m\u001b[43m)\u001b[49m\u001b[43m,\u001b[49m\u001b[43m \u001b[49m\u001b[43mwf2\u001b[49m\u001b[38;5;241;43m.\u001b[39;49m\u001b[43mreal\u001b[49m\u001b[43m(\u001b[49m\u001b[43m)\u001b[49m\u001b[43m,\u001b[49m\u001b[43m \u001b[49m\u001b[43mpsd\u001b[49m\u001b[38;5;241;43m=\u001b[39;49m\u001b[43mpsd\u001b[49m\u001b[43m,\u001b[49m\u001b[43m \u001b[49m\u001b[43mlow_frequency_cutoff\u001b[49m\u001b[38;5;241;43m=\u001b[39;49m\u001b[43mf_low\u001b[49m\u001b[38;5;241;43m+\u001b[39;49m\u001b[38;5;241;43m3\u001b[39;49m\u001b[43m,\u001b[49m\u001b[43m \u001b[49m\u001b[43msubsample_interpolation\u001b[49m\u001b[38;5;241;43m=\u001b[39;49m\u001b[43msubsample_interpolation\u001b[49m\u001b[43m,\u001b[49m\u001b[43m \u001b[49m\u001b[43mreturn_phase\u001b[49m\u001b[38;5;241;43m=\u001b[39;49m\u001b[43mreturn_phase\u001b[49m\u001b[43m)\u001b[49m\n\u001b[1;32m    583\u001b[0m \u001b[38;5;66;03m# Additionally returns phase required to match waveforms up if requested\u001b[39;00m\n\u001b[1;32m    584\u001b[0m \u001b[38;5;28;01mif\u001b[39;00m return_phase:\n",
      "File \u001b[0;32m~/.conda/envs/teobresums_eccentric/lib/python3.10/site-packages/pycbc/filter/matchedfilter.py:1390\u001b[0m, in \u001b[0;36mmatch\u001b[0;34m(vec1, vec2, psd, low_frequency_cutoff, high_frequency_cutoff, v1_norm, v2_norm, subsample_interpolation, return_phase)\u001b[0m\n\u001b[1;32m   1388\u001b[0m \u001b[38;5;28;01mif\u001b[39;00m _snr \u001b[38;5;129;01mis\u001b[39;00m \u001b[38;5;28;01mNone\u001b[39;00m \u001b[38;5;129;01mor\u001b[39;00m _snr\u001b[38;5;241m.\u001b[39mdtype \u001b[38;5;241m!=\u001b[39m htilde\u001b[38;5;241m.\u001b[39mdtype \u001b[38;5;129;01mor\u001b[39;00m \u001b[38;5;28mlen\u001b[39m(_snr) \u001b[38;5;241m!=\u001b[39m N:\n\u001b[1;32m   1389\u001b[0m     _snr \u001b[38;5;241m=\u001b[39m zeros(N, dtype\u001b[38;5;241m=\u001b[39mcomplex_same_precision_as(vec1))\n\u001b[0;32m-> 1390\u001b[0m snr, _, snr_norm \u001b[38;5;241m=\u001b[39m \u001b[43mmatched_filter_core\u001b[49m\u001b[43m(\u001b[49m\n\u001b[1;32m   1391\u001b[0m \u001b[43m    \u001b[49m\u001b[43mhtilde\u001b[49m\u001b[43m,\u001b[49m\n\u001b[1;32m   1392\u001b[0m \u001b[43m    \u001b[49m\u001b[43mstilde\u001b[49m\u001b[43m,\u001b[49m\n\u001b[1;32m   1393\u001b[0m \u001b[43m    \u001b[49m\u001b[43mpsd\u001b[49m\u001b[43m,\u001b[49m\n\u001b[1;32m   1394\u001b[0m \u001b[43m    \u001b[49m\u001b[43mlow_frequency_cutoff\u001b[49m\u001b[43m,\u001b[49m\n\u001b[1;32m   1395\u001b[0m \u001b[43m    \u001b[49m\u001b[43mhigh_frequency_cutoff\u001b[49m\u001b[43m,\u001b[49m\n\u001b[1;32m   1396\u001b[0m \u001b[43m    \u001b[49m\u001b[43mv1_norm\u001b[49m\u001b[43m,\u001b[49m\n\u001b[1;32m   1397\u001b[0m \u001b[43m    \u001b[49m\u001b[43mout\u001b[49m\u001b[38;5;241;43m=\u001b[39;49m\u001b[43m_snr\u001b[49m\u001b[43m,\u001b[49m\n\u001b[1;32m   1398\u001b[0m \u001b[43m\u001b[49m\u001b[43m)\u001b[49m\n\u001b[1;32m   1399\u001b[0m maxsnr, max_id \u001b[38;5;241m=\u001b[39m snr\u001b[38;5;241m.\u001b[39mabs_max_loc()\n\u001b[1;32m   1400\u001b[0m \u001b[38;5;28;01mif\u001b[39;00m v2_norm \u001b[38;5;129;01mis\u001b[39;00m \u001b[38;5;28;01mNone\u001b[39;00m:\n",
      "File \u001b[0;32m~/.conda/envs/teobresums_eccentric/lib/python3.10/site-packages/pycbc/filter/matchedfilter.py:1246\u001b[0m, in \u001b[0;36mmatched_filter_core\u001b[0;34m(template, data, psd, low_frequency_cutoff, high_frequency_cutoff, h_norm, out, corr_out)\u001b[0m\n\u001b[1;32m   1244\u001b[0m         numpy\u001b[38;5;241m.\u001b[39mtesting\u001b[38;5;241m.\u001b[39massert_almost_equal(stilde\u001b[38;5;241m.\u001b[39mdelta_f, psd\u001b[38;5;241m.\u001b[39mdelta_f)\n\u001b[1;32m   1245\u001b[0m     \u001b[38;5;28;01mexcept\u001b[39;00m \u001b[38;5;167;01mAssertionError\u001b[39;00m:\n\u001b[0;32m-> 1246\u001b[0m         \u001b[38;5;28;01mraise\u001b[39;00m \u001b[38;5;167;01mValueError\u001b[39;00m(\u001b[38;5;124m\"\u001b[39m\u001b[38;5;124mPSD delta_f does not match data\u001b[39m\u001b[38;5;124m\"\u001b[39m)\n\u001b[1;32m   1247\u001b[0m     qtilde[kmin:kmax] \u001b[38;5;241m/\u001b[39m\u001b[38;5;241m=\u001b[39m psd[kmin:kmax]\n\u001b[1;32m   1248\u001b[0m \u001b[38;5;28;01melse\u001b[39;00m:\n",
      "\u001b[0;31mValueError\u001b[0m: PSD delta_f does not match data"
     ]
    }
   ],
   "source": [
    "# components = [-10*pcs[0][0], 10*pcs[1][0]]\n",
    "# print(components)\n",
    "# print(np.sum(np.abs(components)))\n",
    "# compare_wfs(training_wfs[0], components, 10, 0.1, chirp2total(24, 2), 2, 4096, 'TEOBResumS')"
   ]
  },
  {
   "cell_type": "markdown",
   "id": "cf245ec3-a849-4f23-a97e-179bda5b1c31",
   "metadata": {},
   "source": [
    "Looks very good! Now try for h_peri (50th training waveform), as well as a few others."
   ]
  },
  {
   "cell_type": "code",
   "execution_count": null,
   "id": "ab60590f-63f5-4dd8-9add-eafcc2374b5b",
   "metadata": {},
   "outputs": [],
   "source": [
    "# components = [-10*pcs[0][50], 10*pcs[1][50]]\n",
    "# print(components)\n",
    "# print(np.sum(np.abs(components)))\n",
    "# compare_wfs(training_wfs[50], components, 10, 0.1, chirp2total(24, 2), 2, 4096, 'TEOBResumS')"
   ]
  },
  {
   "cell_type": "code",
   "execution_count": null,
   "id": "c3bf32a2-cd30-4c23-bc9f-f641a8a28ca3",
   "metadata": {},
   "outputs": [],
   "source": [
    "# components = [-10*pcs[0][25], 10*pcs[1][25]]\n",
    "# print(components)\n",
    "# print(np.sum(np.abs(components)))\n",
    "# compare_wfs(training_wfs[25], components, 10, 0.1, chirp2total(24, 2), 2, 4096, 'TEOBResumS')"
   ]
  },
  {
   "cell_type": "markdown",
   "id": "3443a089-1a69-42d8-b499-58dcb352782a",
   "metadata": {},
   "source": [
    "This is possibly where the 0.7% of information lost by keeping only the first two components comes into play."
   ]
  },
  {
   "cell_type": "markdown",
   "id": "344d65d4-fc8e-46a4-8ab2-86d35c6c7f48",
   "metadata": {
    "jp-MarkdownHeadingCollapsed": true
   },
   "source": [
    "# Proper h1, h2 comparison"
   ]
  },
  {
   "cell_type": "markdown",
   "id": "d157715e-5a47-4897-9e5b-b3c4ff912102",
   "metadata": {},
   "source": [
    "In above section we simply combined our own h1 and h2 waveforms using the outputted components (V matrix) of the SVD. Here we will instead use the (first two) U matrix components to examine the waveforms used by the SVD as its equivalent to out own h1 and h2."
   ]
  },
  {
   "cell_type": "markdown",
   "id": "3226003d-54a9-49d9-bfe5-33afb919474a",
   "metadata": {
    "editable": true,
    "slideshow": {
     "slide_type": ""
    },
    "tags": []
   },
   "source": [
    "First, plot the first two waveforms in U and compare to h1, h2. Will apply (arbitrary) scaling/sign to compare them easier."
   ]
  },
  {
   "cell_type": "code",
   "execution_count": null,
   "id": "b3267dc2-6a7a-44a2-a01d-8552d6eb5f68",
   "metadata": {
    "editable": true,
    "slideshow": {
     "slide_type": ""
    },
    "tags": []
   },
   "outputs": [],
   "source": [
    "# h1, h2 waveforms for comparison\n",
    "_, h1, h2, h_ap, h_peri = get_h([1,1], 10, 0.1, chirp2total(24, 2), 2, 4096)"
   ]
  },
  {
   "cell_type": "code",
   "execution_count": null,
   "id": "89b21ae9-a427-40a5-acb8-a9d428f450f2",
   "metadata": {},
   "outputs": [],
   "source": [
    "# Plot first two waveforms in U to see shape\n",
    "plt.plot(np.arange(len(U.T[0])), U.T[0])\n",
    "plt.show()\n",
    "plt.plot(np.arange(len(U.T[1])), U.T[1])\n",
    "plt.show()\n",
    "plt.plot(np.arange(len(U.T[2])), U.T[2])"
   ]
  },
  {
   "cell_type": "markdown",
   "id": "cdc885df-2adc-4fa5-8537-357f2820745d",
   "metadata": {
    "editable": true,
    "slideshow": {
     "slide_type": ""
    },
    "tags": []
   },
   "source": [
    "See very similar patterns here to our h1 and h2 waveforms. The first looks like a non-eccentric waveform with the second containing the (dominant) eccentric correction. Will now overplot our h1, h2 waveforms."
   ]
  },
  {
   "cell_type": "code",
   "execution_count": null,
   "id": "c780c197-7a93-4488-90a4-927e17e951fe",
   "metadata": {},
   "outputs": [],
   "source": [
    "scale_1 = -4.2*10**16\n",
    "scale_2 = 2*10**17\n",
    "\n",
    "# Compare first two waveforms in U to our h1, h2 waveforms\n",
    "plt.plot(np.arange(len(U.T[0])), U.T[0], label='SVD')\n",
    "plt.plot(np.arange(len(h1)), h1*scale_1, label='(h_ap+h_peri)/2')\n",
    "plt.title('h1')\n",
    "plt.legend()\n",
    "plt.show()\n",
    "plt.plot(np.arange(len(U.T[1])), U.T[1], label='SVD')\n",
    "plt.plot(np.arange(len(h2)), h2*scale_2, label='(h_ap-h_peri)/2')\n",
    "plt.title('h2')\n",
    "plt.legend()\n",
    "plt.show()"
   ]
  },
  {
   "cell_type": "markdown",
   "id": "4f6a58dc-85a0-4353-9842-781ed09a5313",
   "metadata": {},
   "source": [
    "And 'zoomed' versions below focusing on just a few cycles."
   ]
  },
  {
   "cell_type": "code",
   "execution_count": null,
   "id": "17dde66b-6165-440d-a476-031398e89388",
   "metadata": {},
   "outputs": [],
   "source": [
    "# Zoom in to comparison plot\n",
    "plt.plot(np.arange(len(U.T[0])), U.T[0], label='SVD')\n",
    "plt.plot(np.arange(len(h1)), h1*scale_1, label='(h_ap+h_peri)/2')\n",
    "plt.title('h1')\n",
    "plt.xlim(0,5000)\n",
    "plt.legend()\n",
    "plt.show()\n",
    "plt.plot(np.arange(len(U.T[1])), U.T[1], label='SVD')\n",
    "plt.plot(np.arange(len(h2)), h2*scale_2, label='(h_ap-h_peri)/2')\n",
    "plt.title('h2')\n",
    "plt.xlim(0,5000)\n",
    "plt.legend()\n",
    "plt.show()"
   ]
  },
  {
   "cell_type": "markdown",
   "id": "c6bb22e7-dbdd-4f29-aa39-ff63ae2ef7ba",
   "metadata": {
    "editable": true,
    "slideshow": {
     "slide_type": ""
    },
    "tags": []
   },
   "source": [
    "h1 from the SVD looks very similar to our own, with the only visible difference being that ours still seems to contain a (slight) trace of eccentricity. h2 differs much more, with the eccentricity variations being much larger in our version compared to that from the S"
   ]
  },
  {
   "cell_type": "code",
   "execution_count": null,
   "id": "16db6172-5890-4984-9cd8-3cfe42255cf6",
   "metadata": {
    "editable": true,
    "slideshow": {
     "slide_type": ""
    },
    "tags": []
   },
   "outputs": [],
   "source": [
    "plt.plot(np.arange(len(U.T[0])), U.T[0])\n",
    "plt.plot(np.arange(len(U.T[0])), np.sqrt(np.real(U.T[0])**2+np.imag(U.T[0])**2))\n",
    "plt.plot(np.arange(len(U.T[0])), -np.sqrt(np.real(U.T[0])**2+np.imag(U.T[0])**2))\n",
    "plt.xlim(0,20000)"
   ]
  },
  {
   "cell_type": "code",
   "execution_count": null,
   "id": "19fac9f1-7f0c-4a15-bc45-1d78b69b3f13",
   "metadata": {
    "editable": true,
    "slideshow": {
     "slide_type": ""
    },
    "tags": []
   },
   "outputs": [],
   "source": [
    "plt.plot(np.arange(len(U.T[1])), U.T[1])\n",
    "plt.plot(np.arange(len(U.T[1])), np.sqrt(np.real(U.T[1])**2+np.imag(U.T[1])**2))\n",
    "plt.plot(np.arange(len(U.T[1])), -np.sqrt(np.real(U.T[1])**2+np.imag(U.T[1])**2))\n",
    "plt.xlim(0,20000)"
   ]
  },
  {
   "cell_type": "code",
   "execution_count": null,
   "id": "2dafa1ee-77b9-492b-ba8c-577c37270273",
   "metadata": {},
   "outputs": [],
   "source": [
    "a = U.T[0]+0.1*U.T[1]\n",
    "plt.plot(np.arange(len(a)), a)\n",
    "plt.plot(np.arange(len(a)), np.sqrt(np.real(a)**2+np.imag(a)**2))\n",
    "plt.plot(np.arange(len(a)), -np.sqrt(np.real(a)**2+np.imag(a)**2))\n",
    "plt.xlim(0,20000)"
   ]
  },
  {
   "cell_type": "markdown",
   "id": "7e44f802-1438-466d-9c77-a93f31051d85",
   "metadata": {
    "editable": true,
    "slideshow": {
     "slide_type": ""
    },
    "tags": []
   },
   "source": [
    "Envelope of the second SVD waveform shows modulations which are not symmetric oscillations. When added to the first waveform (which has increasing enevelope with no oscillations) however, these oscillations become 'symmetric' as one expects from a physical system, and the resulting waveform looks very similar to a TEOBResumS waveform (see e.g. below for h_ap)."
   ]
  },
  {
   "cell_type": "code",
   "execution_count": null,
   "id": "3d137e8c-e3b9-4b30-8b95-5a19774b5e65",
   "metadata": {},
   "outputs": [],
   "source": [
    "a = np.array(h_ap)\n",
    "plt.plot(np.arange(len(a)), a)\n",
    "plt.plot(np.arange(len(a)), np.sqrt(np.real(a)**2+np.imag(a)**2))\n",
    "plt.plot(np.arange(len(a)), -np.sqrt(np.real(a)**2+np.imag(a)**2))\n",
    "plt.xlim(0,20000)"
   ]
  },
  {
   "cell_type": "markdown",
   "id": "1621763b-2520-4a56-94eb-d2ea7593ea8a",
   "metadata": {
    "jp-MarkdownHeadingCollapsed": true
   },
   "source": [
    "# Reconstructing training waveforms"
   ]
  },
  {
   "cell_type": "markdown",
   "id": "eb945d81-226b-4a2f-8958-5f38dc300591",
   "metadata": {},
   "source": [
    "Here we will multiply the SVD waveforms through S and V* to reconstruct the training waveforms using only the two most important waveform components."
   ]
  },
  {
   "cell_type": "code",
   "execution_count": null,
   "id": "1426075f-a369-428b-b4ef-56aff530154c",
   "metadata": {},
   "outputs": [],
   "source": [
    "# Reconstruct training waveforms from first two SVD waveforms and corresponding coefficients\n",
    "trunc_U = np.array([U.T[0], U.T[1]]).T\n",
    "trunc_S = np.diag(S[:2])\n",
    "trunc_Vh = np.array([pcs[0], pcs[1]])\n",
    "reconstructed_wfs = (np.matmul(trunc_U, np.matmul(trunc_S, trunc_Vh))*stds).T\n",
    "pad_zeros = ceiltwo(len(reconstructed_wfs[0]))- len(reconstructed_wfs[0])\n",
    "re_wfs = np.pad(reconstructed_wfs, ((0,0),(0,pad_zeros)))"
   ]
  },
  {
   "cell_type": "code",
   "execution_count": null,
   "id": "2b18cbf0-7920-45ee-a5b8-0d7f408b357e",
   "metadata": {},
   "outputs": [],
   "source": [
    "# Compare reconstructed to original waveform\n",
    "plt.plot(training_wfs[0].sample_times, training_wfs[0], c='C0', label='Training waveform')\n",
    "plt.plot(training_wfs[0].sample_times, np.sqrt(training_wfs[0].real()**2+training_wfs[0].imag()**2), c='C0', ls='dashed', alpha=0.5)\n",
    "plt.plot(training_wfs[0].sample_times, -np.sqrt(training_wfs[0].real()**2+training_wfs[0].imag()**2), c='C0', ls='dashed', alpha=0.5)\n",
    "plt.plot(training_wfs[0].sample_times, re_wfs[0], c='C1', label='Reconstructed waveform')\n",
    "plt.plot(training_wfs[0].sample_times, np.sqrt(np.real(re_wfs[0])**2+np.imag(re_wfs[0])**2), c='C1', ls='dashed', alpha=0.5)\n",
    "plt.plot(training_wfs[0].sample_times, -np.sqrt(np.real(re_wfs[0])**2+np.imag(re_wfs[0])**2), c='C1', ls='dashed', alpha=0.5)\n",
    "plt.legend()\n",
    "plt.title('Zeroth waveform')\n",
    "plt.xlim(-6,-4)"
   ]
  },
  {
   "cell_type": "code",
   "execution_count": null,
   "id": "02bd8711-7dd8-4daf-8208-02c608bc8350",
   "metadata": {},
   "outputs": [],
   "source": [
    "# Compare reconstructed to original waveform\n",
    "plt.plot(training_wfs[50].sample_times, training_wfs[50], c='C0', label='Training waveform')\n",
    "plt.plot(training_wfs[50].sample_times, np.sqrt(training_wfs[50].real()**2+training_wfs[50].imag()**2), c='C0', ls='dashed', alpha=0.5)\n",
    "plt.plot(training_wfs[50].sample_times, -np.sqrt(training_wfs[50].real()**2+training_wfs[50].imag()**2), c='C0', ls='dashed', alpha=0.5)\n",
    "plt.plot(training_wfs[50].sample_times, re_wfs[50], c='C1', label='Reconstructed waveform')\n",
    "plt.plot(training_wfs[50].sample_times, np.sqrt(np.real(re_wfs[50])**2+np.imag(re_wfs[50])**2), c='C1', ls='dashed', alpha=0.5)\n",
    "plt.plot(training_wfs[50].sample_times, -np.sqrt(np.real(re_wfs[50])**2+np.imag(re_wfs[50])**2), c='C1', ls='dashed', alpha=0.5)\n",
    "plt.legend()\n",
    "plt.title('Fiftieth waveform')\n",
    "plt.xlim(-6,-4)"
   ]
  },
  {
   "cell_type": "code",
   "execution_count": null,
   "id": "d51a599d-779b-4e85-b08f-c4e85c377a69",
   "metadata": {},
   "outputs": [],
   "source": [
    "# Compare reconstructed to original waveform\n",
    "plt.plot(training_wfs[25].sample_times, training_wfs[25], c='C0', label='Training waveform')\n",
    "plt.plot(training_wfs[25].sample_times, np.sqrt(training_wfs[25].real()**2+training_wfs[25].imag()**2), c='C0', ls='dashed', alpha=0.5)\n",
    "plt.plot(training_wfs[25].sample_times, -np.sqrt(training_wfs[25].real()**2+training_wfs[25].imag()**2), c='C0', ls='dashed', alpha=0.5)\n",
    "plt.plot(training_wfs[25].sample_times, re_wfs[25], c='C1', label='Reconstructed waveform')\n",
    "plt.plot(training_wfs[25].sample_times, np.sqrt(np.real(re_wfs[25])**2+np.imag(re_wfs[25])**2), c='C1', ls='dashed', alpha=0.5)\n",
    "plt.plot(training_wfs[25].sample_times, -np.sqrt(np.real(re_wfs[25])**2+np.imag(re_wfs[25])**2), c='C1', ls='dashed', alpha=0.5)\n",
    "plt.legend()\n",
    "plt.title('Twenty-fifth waveform')\n",
    "plt.xlim(-6,-4)"
   ]
  },
  {
   "cell_type": "code",
   "execution_count": null,
   "id": "e5c1db3f-e0a6-4a16-a0a4-699b4123b117",
   "metadata": {},
   "outputs": [],
   "source": [
    "# Compare reconstructed to original waveform\n",
    "plt.plot(training_wfs[10].sample_times, training_wfs[10], c='C0', label='Training waveform')\n",
    "plt.plot(training_wfs[10].sample_times, np.sqrt(training_wfs[10].real()**2+training_wfs[10].imag()**2), c='C0', ls='dashed', alpha=0.5)\n",
    "plt.plot(training_wfs[10].sample_times, -np.sqrt(training_wfs[10].real()**2+training_wfs[10].imag()**2), c='C0', ls='dashed', alpha=0.5)\n",
    "plt.plot(training_wfs[10].sample_times, re_wfs[10], c='C1', label='Reconstructed waveform')\n",
    "plt.plot(training_wfs[10].sample_times, np.sqrt(np.real(re_wfs[10])**2+np.imag(re_wfs[10])**2), c='C1', ls='dashed', alpha=0.5)\n",
    "plt.plot(training_wfs[10].sample_times, -np.sqrt(np.real(re_wfs[10])**2+np.imag(re_wfs[10])**2), c='C1', ls='dashed', alpha=0.5)\n",
    "plt.legend()\n",
    "plt.title('Tenth waveform')\n",
    "plt.xlim(-6,-4)"
   ]
  },
  {
   "cell_type": "markdown",
   "id": "ae429884-df0e-49b0-9f35-0be9b43c1a4c",
   "metadata": {
    "editable": true,
    "jp-MarkdownHeadingCollapsed": true,
    "slideshow": {
     "slide_type": ""
    },
    "tags": []
   },
   "source": [
    "# Save SVD waveforms"
   ]
  },
  {
   "cell_type": "code",
   "execution_count": null,
   "id": "d99d2f3f-4068-4dfc-b828-b10a1720c95a",
   "metadata": {},
   "outputs": [],
   "source": [
    "# Save U matrix containing SVD waveforms to use elsewhere\n",
    "def save_SVD_wfs(name, U_matrix):\n",
    "    with open(os.path.join('SVD_waveforms', name), 'wb') as fp:\n",
    "        pickle.dump(U_matrix, fp)"
   ]
  },
  {
   "cell_type": "code",
   "execution_count": null,
   "id": "b5cc4f26-831a-44e0-93bb-3ea34242469d",
   "metadata": {},
   "outputs": [],
   "source": [
    "#save_SVD_wfs('U_matrix_2svd_100t.pkl', [U.T[0], U.T[1]])"
   ]
  },
  {
   "cell_type": "markdown",
   "id": "be527927-c580-40fc-8207-8be2e6491aee",
   "metadata": {},
   "source": [
    "# Solving for U"
   ]
  },
  {
   "cell_type": "markdown",
   "id": "60c0a123-125b-4ccc-b54c-5000a15c04b5",
   "metadata": {},
   "source": [
    "Want to solve $T=USV^*$ for U such that we can find the svd waveforms in terms of coefficients of the training waveforms.\n",
    "\n",
    "\\begin{equation}\n",
    "T = USV^*\n",
    "\\end{equation}\n",
    "\n",
    "\\begin{equation}\n",
    "U = T(V^*)^{-1}S^{-1}\n",
    "\\end{equation}\n",
    "\n",
    "\\begin{equation}\n",
    "U = TVS^{-1}\n",
    "\\end{equation}\n",
    "\n",
    "Where we have used that V is a complex unitary matrix, so $V^* = V^{-1}$. Additionally, S is simply a (rectangular) diagonal matrix, so its inverse is trivial to calculate."
   ]
  },
  {
   "cell_type": "markdown",
   "id": "80a42d13-6576-440d-90f1-a619b8d2cca2",
   "metadata": {},
   "source": [
    "Both the U and T matrices can be considered as a row vectors with each element being the appropriate waveform. Therefore the coefficients of the training waveforms which compose each svd waveform are simply the columns of $VS^{-1}$. We also do not need the full rectangular part of $S^{-1}$ as the non-square part is all zeros, and simply describes the coefficients for the 101st SVD waveform onwards, which we are not interested in."
   ]
  },
  {
   "cell_type": "code",
   "execution_count": null,
   "id": "c8c859ac-709b-437b-9280-9728e58a2229",
   "metadata": {},
   "outputs": [],
   "source": [
    "# Inverse of Vh (i.e. hermitian matrix)\n",
    "V = Vh.T.conj()\n",
    "\n",
    "# Inverse of S\n",
    "inv_S = 1/S\n",
    "\n",
    "# Multiply together\n",
    "Vinv_S = np.matmul(V, np.diag(inv_S))"
   ]
  },
  {
   "cell_type": "markdown",
   "id": "312d9d87-292d-48be-a629-0a79db3b4bdf",
   "metadata": {},
   "source": [
    "Test that the columns do indeed describe the svd waveforms in terms of the training waveforms:"
   ]
  },
  {
   "cell_type": "code",
   "execution_count": null,
   "id": "ec5a4d17-d484-44be-a3f8-ba188e90b0bd",
   "metadata": {},
   "outputs": [],
   "source": [
    "a = np.matmul(np.array(training_wfs).T, Vinv_S.T[0])\n",
    "b = np.matmul(np.array(training_wfs).T, Vinv_S.T[1])\n",
    "plt.plot(np.arange(len(a)), a)\n",
    "plt.plot(np.arange(len(b)), b)"
   ]
  },
  {
   "cell_type": "markdown",
   "id": "d03be2ce-ec0a-423f-93de-3a24ad1e85c6",
   "metadata": {},
   "source": [
    "These are indeed the first two svd waveforms, as desired!"
   ]
  },
  {
   "cell_type": "code",
   "execution_count": null,
   "id": "945698f0-917a-4729-93bb-1e20b324ba8d",
   "metadata": {},
   "outputs": [],
   "source": [
    "plt.plot(np.arange(len(Vinv_S.T[0])), np.real(Vinv_S.T[0]), label='Real')\n",
    "plt.plot(np.arange(len(Vinv_S.T[0])), np.imag(Vinv_S.T[0]), label='Imaginary')\n",
    "plt.title('First SVD waveform')\n",
    "plt.xlabel('Training waveform')\n",
    "plt.ylabel('Coefficient')\n",
    "plt.legend()"
   ]
  },
  {
   "cell_type": "markdown",
   "id": "f32354a6-17cc-44b4-83c3-787285d19858",
   "metadata": {},
   "source": [
    "It seems that the first SVD waveform is simply made up of a simple average of all the training waveforms, shown by the coefficient above being approximately constant across all training waveforms. This matches the natural expansion of our h1 to higher number of waveform components. Now repeat for the second SVD waveform."
   ]
  },
  {
   "cell_type": "code",
   "execution_count": null,
   "id": "18c83110-9c29-437b-9046-7e92359c726e",
   "metadata": {},
   "outputs": [],
   "source": [
    "plt.plot(np.arange(len(Vinv_S.T[1])), np.real(Vinv_S.T[1]), label='Real')\n",
    "plt.plot(np.arange(len(Vinv_S.T[1])), np.imag(Vinv_S.T[1]), label='Imaginary')\n",
    "plt.title('Second SVD waveform')\n",
    "plt.xlabel('Training waveform')\n",
    "plt.ylabel('Coefficient')\n",
    "plt.legend()"
   ]
  },
  {
   "cell_type": "markdown",
   "id": "7815669b-36d0-4465-930f-e2476eb063c5",
   "metadata": {},
   "source": [
    "This also perhaps matches what we would expect, and certainly just looking at the first and fifty-first training waveforms (corresponding to h_ap and h_peri), we see that this would indeed give our expression of $h_2 = (h_{ap} - h_{peri})/2$. Both the real and imaginary coefficients of training waveforms here follow a clear sinusoidal pattern, allowing simple extrapolation to higher numbers of component waveforms. \n",
    "\n",
    "Explicitly, for $n$ waveform components labelled $s_1, \\ldots, s_n$ this means that $h_2$ should be defined as $h_2 = z_1 s_1 + \\ldots + z_n s_n$, where $\\{z_1, \\ldots, z_n\\}$ are the solutions to $z^n = 1$, i.e. the $n$th roots of unity."
   ]
  },
  {
   "cell_type": "markdown",
   "id": "36d6dc43-f638-478a-b3e9-92686e76838d",
   "metadata": {},
   "source": [
    "For completeness, the training waveforms coefficients of higher SVD waveforms are also shown below:"
   ]
  },
  {
   "cell_type": "code",
   "execution_count": null,
   "id": "841367a6-12ab-4853-8274-da04160dcf28",
   "metadata": {},
   "outputs": [],
   "source": [
    "names = ['Third', 'Fourth', 'Fifth', 'Sixth', 'Seventh', 'Eighth']\n",
    "\n",
    "for i, name in enumerate(names):\n",
    "    plt.plot(np.arange(len(Vinv_S.T[i+2])), np.real(Vinv_S.T[i+2]), label='Real')\n",
    "    plt.plot(np.arange(len(Vinv_S.T[i+2])), np.imag(Vinv_S.T[i+2]), label='Imaginary')\n",
    "    plt.title(f'{name} SVD waveform')\n",
    "    plt.xlabel('Training waveform')\n",
    "    plt.ylabel('Coefficient')\n",
    "    plt.legend()\n",
    "    plt.show()"
   ]
  },
  {
   "cell_type": "markdown",
   "id": "eb464834-c451-420d-9bc6-8f43c48d9148",
   "metadata": {},
   "source": [
    "The pattern in the fifth and higher SVD waveforms appear to break down (with the exception of the sixth). This should not be too surprising as the $S$ matrix suggests that the first four SVD waveforms alone account for 99.98% of the total information."
   ]
  },
  {
   "cell_type": "markdown",
   "id": "68da28d7-3373-4ee0-96f1-400fc1c10246",
   "metadata": {
    "jp-MarkdownHeadingCollapsed": true
   },
   "source": [
    "# SVD on smaller training sets"
   ]
  },
  {
   "cell_type": "markdown",
   "id": "7ecd31ca-7910-4ff2-a72d-f8888d1630d3",
   "metadata": {},
   "source": [
    "Will now perform SVD on training sets of two, three, and four waveforms to check that the predicitons made above for how h1 and h2 should be calculated do indeed scale down from 100 to (more realistic for our case) small numbers."
   ]
  },
  {
   "cell_type": "code",
   "execution_count": null,
   "id": "0d1a19ac-179a-47e3-afa1-68a84810262c",
   "metadata": {},
   "outputs": [],
   "source": [
    "# Generate training waveform sets\n",
    "training_wfs_2 = gen_training_wfs(10, 0.1, chirp2total(24, 2), 2, 2, 4096, 'TEOBResumS')\n",
    "training_wfs_3 = gen_training_wfs(10, 0.1, chirp2total(24, 2), 2, 3, 4096, 'TEOBResumS')\n",
    "training_wfs_4 = gen_training_wfs(10, 0.1, chirp2total(24, 2), 2, 4, 4096, 'TEOBResumS')"
   ]
  },
  {
   "cell_type": "code",
   "execution_count": null,
   "id": "63dc1c6c-90d9-42ab-b15e-298678f6af79",
   "metadata": {},
   "outputs": [],
   "source": [
    "# Perform SVD on two training waveforms\n",
    "start = time.time()\n",
    "X = np.array(training_wfs_2).T\n",
    "means = X.mean(axis=0) \n",
    "stds = X.std(axis=0) \n",
    "U_2, S_2, Vh_2 = np.linalg.svd((X-means)/stds)\n",
    "end = time.time()\n",
    "print(f'Time taken: {end-start} seconds')\n",
    "\n",
    "# Perform SVD on three training waveforms\n",
    "start = time.time()\n",
    "X = np.array(training_wfs_3).T\n",
    "means = X.mean(axis=0) \n",
    "stds = X.std(axis=0) \n",
    "U_3, S_3, Vh_3 = np.linalg.svd((X-means)/stds)\n",
    "end = time.time()\n",
    "print(f'Time taken: {end-start} seconds')\n",
    "\n",
    "# Perform SVD on four training waveforms\n",
    "start = time.time()\n",
    "X = np.array(training_wfs_4).T\n",
    "means = X.mean(axis=0) \n",
    "stds = X.std(axis=0) \n",
    "U_4, S_4, Vh_4 = np.linalg.svd((X-means)/stds)\n",
    "end = time.time()\n",
    "print(f'Time taken: {end-start} seconds')"
   ]
  },
  {
   "cell_type": "code",
   "execution_count": null,
   "id": "e695b12e-fac5-4e7f-886c-d8715a496892",
   "metadata": {},
   "outputs": [],
   "source": [
    "plt.plot(np.arange(len(U_2.T[0])), np.sqrt(np.real(U_4.T[0])**2+np.imag(U_4.T[0])**2)+0.0015, label='SVD4')\n",
    "plt.plot(np.arange(len(U_2.T[0])), np.sqrt(np.real(U_3.T[0])**2+np.imag(U_3.T[0])**2)+0.001, label='SVD3')\n",
    "plt.plot(np.arange(len(U_2.T[0])), np.sqrt(np.real(U_2.T[0])**2+np.imag(U_2.T[0])**2)+0.0005, label='SVD2')\n",
    "plt.plot(np.arange(len(U_2.T[0])), np.sqrt(h1.real()**2+h1.imag()**2)*-scale_1, label='h1')\n",
    "plt.legend()\n",
    "plt.title('First waveform')\n",
    "plt.xlim(200,20000)\n",
    "plt.ylim(0.0035,0.008)"
   ]
  },
  {
   "cell_type": "markdown",
   "id": "34fe4f06-b5bd-47b8-b0dd-b92a988939b6",
   "metadata": {},
   "source": [
    "Can see for these 'h1-like' waveforms that the envelopes plotted here have less wiggles the more training waveforms are used (as expected). Additionally, the magnitude of the wiggles is consistent between the SVD with 2 training waveforms and our h1, which also uses two component waveforms. Note have shifted lines up away from each other here to differentiate them - ignore y axis scale."
   ]
  },
  {
   "cell_type": "markdown",
   "id": "791503dc-cb1c-4af2-b2c4-dd340b7409f0",
   "metadata": {},
   "source": [
    "Now repeat for second waveform to see improvements with more waveform components"
   ]
  },
  {
   "cell_type": "code",
   "execution_count": null,
   "id": "130ce294-3858-4068-b198-c6e8bbeb67f3",
   "metadata": {},
   "outputs": [],
   "source": [
    "plt.plot(np.arange(len(U_2.T[1])), U_2.T[1], label='SVD2')\n",
    "plt.plot(np.arange(len(U_2.T[1])), h2*-scale_2, label='h2')\n",
    "plt.legend()\n",
    "plt.title('Second waveform')\n",
    "plt.xlim(0,5000)"
   ]
  },
  {
   "cell_type": "markdown",
   "id": "daadb49d-0eb2-4cac-afb1-877ee3ba4b06",
   "metadata": {},
   "source": [
    "Can see that again h2 and SVD2 are near-identical (remember scaling in y direction is arbitrary)."
   ]
  },
  {
   "cell_type": "code",
   "execution_count": null,
   "id": "ac591577-bf27-496d-aded-bf1f6325439c",
   "metadata": {},
   "outputs": [],
   "source": [
    "plt.plot(np.arange(len(U_2.T[1])), U_2.T[1], label='SVD2')\n",
    "plt.plot(np.arange(len(U_2.T[1])), U_3.T[1], label='SVD3')\n",
    "plt.plot(np.arange(len(U_2.T[1])), U_4.T[1], label='SVD4')\n",
    "plt.plot(np.arange(len(U_2.T[1])), -U.T[1], label='SVD100')\n",
    "plt.legend()\n",
    "plt.title('Second waveform')\n",
    "plt.xlim(0,5000)"
   ]
  },
  {
   "cell_type": "markdown",
   "id": "a9312fa8-5e75-4a73-8d5d-a9d10397fa3e",
   "metadata": {},
   "source": [
    "All agree very well, apart from SVD2. Clearly the third waveform component is important to describe h2 well."
   ]
  },
  {
   "cell_type": "code",
   "execution_count": null,
   "id": "2e2f17fc-6733-4af7-9e16-f5c98e33bd25",
   "metadata": {},
   "outputs": [],
   "source": [
    "plt.plot(np.arange(len(U_3.T[2])), -U_3.T[2], label='SVD3')\n",
    "plt.plot(np.arange(len(U_3.T[2])), U_4.T[2], label='SVD4')\n",
    "plt.plot(np.arange(len(U_3.T[2])), U.T[2], label='SVD100')\n",
    "plt.legend()\n",
    "plt.title('Third waveform')\n",
    "plt.xlim(0,5000)"
   ]
  },
  {
   "cell_type": "markdown",
   "id": "bc2a99c2-9025-4731-91e9-58e4fd9f45a7",
   "metadata": {},
   "source": [
    "Again here SVD3 struggles to describe 'h3' well without a fourth waveform component. It appears that n+1 waveform components are required to accurately describe $h_n$. If this is true, should see that SVD4 struggles to describe $h_4$ well compared to SVD100."
   ]
  },
  {
   "cell_type": "code",
   "execution_count": null,
   "id": "1007b78a-cc24-42ef-b5e4-b0eca184c69d",
   "metadata": {},
   "outputs": [],
   "source": [
    "# Zoomed in\n",
    "plt.plot(np.arange(len(U_4.T[3])), U_4.T[3], label='SVD4')\n",
    "plt.plot(np.arange(len(U_4.T[3])), -U.T[3], label='SVD100')\n",
    "plt.legend()\n",
    "plt.title('Fourth waveform')\n",
    "plt.xlim(0,5000)\n",
    "plt.show()\n",
    "\n",
    "# Zoomed out\n",
    "plt.plot(np.arange(len(U_4.T[3])), U_4.T[3], label='SVD4')\n",
    "plt.plot(np.arange(len(U_4.T[3])), -U.T[3], label='SVD100')\n",
    "plt.legend()\n",
    "plt.title('Fourth waveform')\n",
    "plt.show()"
   ]
  },
  {
   "cell_type": "markdown",
   "id": "1e1346bc-7d63-42dc-bc30-0539e14a1ae6",
   "metadata": {},
   "source": [
    "Seems initially here that h4 might be described well by just four waveform components, however zooming back out reveals that this breaks down at the merger, with a much larger spike in SVD4 which is not present in SVD100."
   ]
  },
  {
   "cell_type": "markdown",
   "id": "8de8436b-a93a-4a08-9efa-d0670e58354c",
   "metadata": {},
   "source": [
    "We would now like to solve for U to test our predictions for what the coefficients of the training waveforms should be for each set. On plots of coefficients, will multiply coefficients by number of waveform components in order to normalise."
   ]
  },
  {
   "cell_type": "code",
   "execution_count": null,
   "id": "b7afdccc-48ae-47cd-8542-7b556e6642c0",
   "metadata": {},
   "outputs": [],
   "source": [
    "# Solve for U\n",
    "Vinv_S_2 = np.matmul(Vh_2.T.conj(), np.diag(1/S_2))\n",
    "Vinv_S_3 = np.matmul(Vh_3.T.conj(), np.diag(1/S_3))\n",
    "Vinv_S_4 = np.matmul(Vh_4.T.conj(), np.diag(1/S_4))"
   ]
  },
  {
   "cell_type": "code",
   "execution_count": null,
   "id": "16d63f69-3d88-4944-849f-ebaa153852a5",
   "metadata": {},
   "outputs": [],
   "source": [
    "plt.scatter(np.linspace(0, 1, len(Vinv_S_4.T[0]), endpoint=False), np.real(Vinv_S_4.T[0])*len(Vinv_S_4.T[0]), marker='+', c='C2', label='SVD4 real')\n",
    "plt.scatter(np.linspace(0, 1, len(Vinv_S_4.T[0]), endpoint=False), np.imag(Vinv_S_4.T[0])*len(Vinv_S_4.T[0]), marker='x', c='C2', label='SVD4 imag')\n",
    "plt.scatter(np.linspace(0, 1, len(Vinv_S_3.T[0]), endpoint=False), np.real(Vinv_S_3.T[0])*len(Vinv_S_3.T[0]), marker='+', c='C1', label='SVD3 real')\n",
    "plt.scatter(np.linspace(0, 1, len(Vinv_S_3.T[0]), endpoint=False), np.imag(Vinv_S_3.T[0])*len(Vinv_S_3.T[0]), marker='x', c='C1', label='SVD3 imag')\n",
    "plt.scatter(np.linspace(0, 1, len(Vinv_S_2.T[0]), endpoint=False), np.real(Vinv_S_2.T[0])*len(Vinv_S_2.T[0]), marker='+', c='C0', label='SVD2 real')\n",
    "plt.scatter(np.linspace(0, 1, len(Vinv_S_2.T[0]), endpoint=False), np.imag(Vinv_S_2.T[0])*len(Vinv_S_2.T[0]), marker='x', c='C0', label='SVD2 imag')\n",
    "plt.plot(np.linspace(0, 1, len(Vinv_S.T[0]), endpoint=False), np.real(Vinv_S.T[0])*len(Vinv_S.T[0]), c='k', ls='dashed', label='SVD100 real', zorder=-1)\n",
    "plt.plot(np.linspace(0, 1, len(Vinv_S.T[0]), endpoint=False), np.imag(Vinv_S.T[0])*len(Vinv_S.T[0]), c='k', ls='dotted', label='SVD100 imag', zorder=-1)\n",
    "plt.title('First SVD waveform')\n",
    "plt.xlabel('Training waveform')\n",
    "plt.ylabel('Coefficient')\n",
    "plt.legend()"
   ]
  },
  {
   "cell_type": "markdown",
   "id": "46b51d8b-0f63-4505-8ae1-ad849eaebe2c",
   "metadata": {},
   "source": [
    "As expected, simple averages are taken here just like for SVD100. Note that the first and third green SVD4 markers are hidden behind the blue SVD2 markers."
   ]
  },
  {
   "cell_type": "code",
   "execution_count": null,
   "id": "b8f83c5e-99dd-4da3-8082-5934eb32e3f1",
   "metadata": {},
   "outputs": [],
   "source": [
    "scaling = 1/Vinv_S_3.T[1][0]\n",
    "print(Vinv_S_3.T[1]*scaling)\n",
    "print(np.roots([1,0,0,-1]))"
   ]
  },
  {
   "cell_type": "code",
   "execution_count": null,
   "id": "87ce5ca9-2982-43d3-9a09-29bcc4612500",
   "metadata": {},
   "outputs": [],
   "source": [
    "plt.scatter(np.linspace(0, 1, len(Vinv_S_4.T[1]), endpoint=False), np.real(Vinv_S_4.T[1])*len(Vinv_S_4.T[1]), marker='+', c='C2', label='SVD4 real')\n",
    "plt.scatter(np.linspace(0, 1, len(Vinv_S_4.T[1]), endpoint=False), np.imag(Vinv_S_4.T[1])*len(Vinv_S_4.T[1]), marker='x', c='C2', label='SVD4 imag')\n",
    "plt.scatter(np.linspace(0, 1, len(Vinv_S_3.T[1]), endpoint=False), np.real(Vinv_S_3.T[1])*len(Vinv_S_3.T[1]), marker='+', c='C1', label='SVD3 real')\n",
    "plt.scatter(np.linspace(0, 1, len(Vinv_S_3.T[1]), endpoint=False), np.imag(Vinv_S_3.T[1])*len(Vinv_S_3.T[1]), marker='x', c='C1', label='SVD3 imag')\n",
    "plt.scatter(np.linspace(0, 1, len(Vinv_S_2.T[1]), endpoint=False), np.real(Vinv_S_2.T[1])*len(Vinv_S_2.T[1]), marker='+', c='C0', label='SVD2 real')\n",
    "plt.scatter(np.linspace(0, 1, len(Vinv_S_2.T[1]), endpoint=False), np.imag(Vinv_S_2.T[1])*len(Vinv_S_2.T[1]), marker='x', c='C0', label='SVD2 imag')\n",
    "plt.plot(np.linspace(0, 1, len(Vinv_S.T[1]), endpoint=False), -np.real(Vinv_S.T[1])*len(Vinv_S.T[1]), c='k', ls='dashed', label='SVD100 real', zorder=-1)\n",
    "plt.plot(np.linspace(0, 1, len(Vinv_S.T[1]), endpoint=False), -np.imag(Vinv_S.T[1])*len(Vinv_S.T[1]), c='k', ls='dotted', label='SVD100 imag', zorder=-1)\n",
    "plt.title('Second SVD waveform')\n",
    "plt.xlabel('Training waveform')\n",
    "plt.ylabel('Coefficient')\n",
    "plt.legend()"
   ]
  },
  {
   "cell_type": "markdown",
   "id": "b44dfa41-0bab-48cb-881a-cd2157447410",
   "metadata": {},
   "source": [
    "Again matches here! Note had to multiply SVD100 by -1 here, but again this is arbitrary and does not matter."
   ]
  },
  {
   "cell_type": "markdown",
   "id": "21bc41e0-7ea6-4693-85a4-a436084d8728",
   "metadata": {},
   "source": [
    "Will now test for completeness the third and fourth waveforms."
   ]
  },
  {
   "cell_type": "code",
   "execution_count": null,
   "id": "b88f3488-34d9-4f8e-969d-130bf70874d0",
   "metadata": {},
   "outputs": [],
   "source": [
    "# Third\n",
    "plt.scatter(np.linspace(0, 1, len(Vinv_S_4.T[2]), endpoint=False), np.real(Vinv_S_4.T[2])*len(Vinv_S_4.T[2]), marker='+', c='C2', label='SVD4 real')\n",
    "plt.scatter(np.linspace(0, 1, len(Vinv_S_4.T[2]), endpoint=False), np.imag(Vinv_S_4.T[2])*len(Vinv_S_4.T[2]), marker='x', c='C2', label='SVD4 imag')\n",
    "plt.scatter(np.linspace(0, 1, len(Vinv_S_3.T[2]), endpoint=False), -np.real(Vinv_S_3.T[2])*len(Vinv_S_3.T[2]), marker='+', c='C1', label='SVD3 real')\n",
    "plt.scatter(np.linspace(0, 1, len(Vinv_S_3.T[2]), endpoint=False), -np.imag(Vinv_S_3.T[2])*len(Vinv_S_3.T[2]), marker='x', c='C1', label='SVD3 imag')\n",
    "plt.plot(np.linspace(0, 1, len(Vinv_S.T[2]), endpoint=False), np.real(Vinv_S.T[2])*len(Vinv_S.T[2]), c='k', ls='dashed', label='SVD100 real', zorder=-1)\n",
    "plt.plot(np.linspace(0, 1, len(Vinv_S.T[2]), endpoint=False), np.imag(Vinv_S.T[2])*len(Vinv_S.T[2]), c='k', ls='dotted', label='SVD100 imag', zorder=-1)\n",
    "plt.title('Third SVD waveform')\n",
    "plt.xlabel('Training waveform')\n",
    "plt.ylabel('Coefficient')\n",
    "plt.legend()\n",
    "plt.show()\n",
    "\n",
    "# Fourth\n",
    "plt.scatter(np.linspace(0, 1, len(Vinv_S_4.T[3]), endpoint=False), np.real(Vinv_S_4.T[3])*len(Vinv_S_4.T[3]), marker='+', c='C2', label='SVD4 real')\n",
    "plt.scatter(np.linspace(0, 1, len(Vinv_S_4.T[3]), endpoint=False), np.imag(Vinv_S_4.T[3])*len(Vinv_S_4.T[3]), marker='x', c='C2', label='SVD4 imag')\n",
    "plt.plot(np.linspace(0, 1, len(Vinv_S.T[3]), endpoint=False), -np.real(Vinv_S.T[3])*len(Vinv_S.T[3]), c='k', ls='dashed', label='SVD100 real', zorder=-1)\n",
    "plt.plot(np.linspace(0, 1, len(Vinv_S.T[3]), endpoint=False), -np.imag(Vinv_S.T[3])*len(Vinv_S.T[3]), c='k', ls='dotted', label='SVD100 imag', zorder=-1)\n",
    "plt.title('Fourth SVD waveform')\n",
    "plt.xlabel('Training waveform')\n",
    "plt.ylabel('Coefficient')\n",
    "plt.legend()\n",
    "plt.show()"
   ]
  },
  {
   "cell_type": "markdown",
   "id": "0476d730-d26d-4bc2-865f-0d96aba85792",
   "metadata": {},
   "source": [
    "Again here the coefficients  appear in a predictable fashion."
   ]
  },
  {
   "cell_type": "markdown",
   "id": "27e05703-0b7b-4d5a-810d-893a5cbcadba",
   "metadata": {},
   "source": [
    "Will examine the relative importances given by the S matrices."
   ]
  },
  {
   "cell_type": "code",
   "execution_count": null,
   "id": "06aa32aa-b55e-4788-a441-a4c7c644bd1d",
   "metadata": {},
   "outputs": [],
   "source": [
    "wf_names = ['First', 'Second', 'Third', 'Fourth', 'Fifth']\n",
    "\n",
    "# SVD2\n",
    "rel_imports_2 = []\n",
    "for i in range(2):\n",
    "    rel_imports_2.append(S_2[i]**2/np.sum(S_2**2))\n",
    "    print('{} SVD2 waveform contains {:.2f}% of the total information.'.format(wf_names[i], rel_imports_2[i]*100))\n",
    "print('\\n')\n",
    "\n",
    "# SVD3\n",
    "rel_imports_3 = []\n",
    "for i in range(3):\n",
    "    rel_imports_3.append(S_3[i]**2/np.sum(S_3**2))\n",
    "    print('{} SVD3 waveform contains {:.2f}% of the total information.'.format(wf_names[i], rel_imports_3[i]*100))\n",
    "print('\\n')\n",
    "\n",
    "# SVD4\n",
    "rel_imports_4 = []\n",
    "for i in range(4):\n",
    "    rel_imports_4.append(S_4[i]**2/np.sum(S_4**2))\n",
    "    print('{} SVD4 waveform contains {:.2f}% of the total information.'.format(wf_names[i], rel_imports_4[i]*100))\n",
    "print('\\n')\n",
    "\n",
    "# SVD100\n",
    "rel_imports_100 = []\n",
    "for i in range(5):\n",
    "    rel_imports_100.append(S[i]**2/np.sum(S**2))\n",
    "    print('{} SVD100 waveform contains {:.2f}% of the total information.'.format(wf_names[i], rel_imports_100[i]*100))"
   ]
  },
  {
   "cell_type": "markdown",
   "id": "815995e9-6bd2-4784-b3c0-90510a5af782",
   "metadata": {},
   "source": [
    "This is consistent with expectations."
   ]
  },
  {
   "cell_type": "markdown",
   "id": "a1f9747e-944b-44a9-84a3-eacb489bbe3e",
   "metadata": {},
   "source": [
    "Finally will match against SVD100 waveforms to quantify how good of an approximation each training waveform set is."
   ]
  },
  {
   "cell_type": "code",
   "execution_count": null,
   "id": "d0582101-b446-40a7-9235-ce2a4f73422f",
   "metadata": {},
   "outputs": [],
   "source": [
    "# Convert SVD100 to timeseries objects\n",
    "h_fids = []\n",
    "for i in range(4):\n",
    "    h_fids.append(timeseries.TimeSeries(U.T[i], 1/4096, epoch=0))\n",
    "\n",
    "# Convert SVD2 to timeseries objects\n",
    "h_2s = []\n",
    "for i in range(2):\n",
    "    h_2s.append(timeseries.TimeSeries(U_2.T[i], 1/4096, epoch=0))\n",
    "\n",
    "# Convert SVD3 to timeseries objects\n",
    "h_3s = []\n",
    "for i in range(3):\n",
    "    h_3s.append(timeseries.TimeSeries(U_3.T[i], 1/4096, epoch=0))\n",
    "\n",
    "# Convert SVD4 to timeseries objects\n",
    "h_4s = []\n",
    "for i in range(4):\n",
    "    h_4s.append(timeseries.TimeSeries(U_4.T[i], 1/4096, epoch=0))"
   ]
  },
  {
   "cell_type": "code",
   "execution_count": null,
   "id": "5a77d722-95b9-44b1-aeff-cca0ab32e137",
   "metadata": {},
   "outputs": [],
   "source": [
    "# SVD2\n",
    "matches_2 = []\n",
    "for i in range(2):\n",
    "    matches_2.append(match_wfs(h_fids[i], h_2s[i], 10, True))\n",
    "    print('{} SVD2 waveform match with SVD100: {:.4f}'.format(wf_names[i], matches_2[i]))\n",
    "print('\\n')\n",
    "\n",
    "# SVD3\n",
    "matches_3 = []\n",
    "for i in range(3):\n",
    "    matches_3.append(match_wfs(h_fids[i], h_3s[i], 10, True))\n",
    "    print('{} SVD3 waveform match with SVD100: {:.4f}'.format(wf_names[i], matches_3[i]))\n",
    "print('\\n')\n",
    "\n",
    "# SVD4\n",
    "matches_4 = []\n",
    "for i in range(4):\n",
    "    matches_4.append(match_wfs(h_fids[i], h_4s[i], 10, True))\n",
    "    print('{} SVD4 waveform match with SVD100: {:.4f}'.format(wf_names[i], matches_4[i]))"
   ]
  },
  {
   "cell_type": "markdown",
   "id": "471ef650-7b6a-478c-a5b3-236438009e97",
   "metadata": {},
   "source": [
    "Just like with earlier plots, we see that the n+1th waveform component is crucial to being able to accurately describe $h_n$."
   ]
  },
  {
   "cell_type": "markdown",
   "id": "542d877b-96be-44e3-afcd-e5d5971e2216",
   "metadata": {
    "jp-MarkdownHeadingCollapsed": true
   },
   "source": [
    "# Eigenvector order prediction"
   ]
  },
  {
   "cell_type": "markdown",
   "id": "df8a3734-d32a-4fdf-829d-531f0033af59",
   "metadata": {},
   "source": [
    "Predict that coefficients of n waveform components are eigenvectors of circulant matrices: $(1, \\omega^j, \\ldots, \\omega^{(n-1)j})$ for $j=0,\\ldots,n-1$. Also predict that the order in which these eigennvectors are used to create $h_1,...,h_n$ is ascending, with the exception of $n-j$, which always immediately follows $j$. \n",
    "\n",
    "The following table shows the previous SVDs, which follow this pattern, as well as the predicted order of eigenvectors for SVD5 and SVD6, which we calculate and check in this section.\n",
    "\n",
    "| n | j           | SVD       |\r\n",
    "|---|-------------|-----------|\r\n",
    "| 2 | 0,1         | Confirmed |\r\n",
    "| 3 | 0,1,2       | Confirmed |\r\n",
    "| 4 | 0,1,3,2     | Confirmed |\r\n",
    "| 5 | 0,1,4,2,3   | Predicted |\r\n",
    "| 6 | 0,1,5,2,4,3 | Predicted |,4,3 |"
   ]
  },
  {
   "cell_type": "code",
   "execution_count": null,
   "id": "43d8dd06-93a1-419b-9f50-c32e89ffec75",
   "metadata": {},
   "outputs": [],
   "source": [
    "# Generate training waveform sets\n",
    "training_wfs_5 = gen_training_wfs(10, 0.1, chirp2total(24, 2), 2, 5, 4096, 'TEOBResumS')\n",
    "training_wfs_6 = gen_training_wfs(10, 0.1, chirp2total(24, 2), 2, 6, 4096, 'TEOBResumS')"
   ]
  },
  {
   "cell_type": "code",
   "execution_count": null,
   "id": "7ca26c8e-a06d-492c-ba3c-25043dcd8c43",
   "metadata": {},
   "outputs": [],
   "source": [
    "# Perform SVD on five training waveforms\n",
    "start = time.time()\n",
    "X = np.array(training_wfs_5).T\n",
    "means = X.mean(axis=0) \n",
    "stds = X.std(axis=0) \n",
    "U_5, S_5, Vh_5 = np.linalg.svd((X-means)/stds)\n",
    "end = time.time()\n",
    "print(f'Time taken: {end-start} seconds')\n",
    "\n",
    "# Perform SVD on six training waveforms\n",
    "start = time.time()\n",
    "X = np.array(training_wfs_6).T\n",
    "means = X.mean(axis=0) \n",
    "stds = X.std(axis=0) \n",
    "U_6, S_6, Vh_6 = np.linalg.svd((X-means)/stds)\n",
    "end = time.time()\n",
    "print(f'Time taken: {end-start} seconds')"
   ]
  },
  {
   "cell_type": "code",
   "execution_count": null,
   "id": "3ca8e032-2cf2-4dcb-b5b4-474091dab927",
   "metadata": {},
   "outputs": [],
   "source": [
    "# Solve for U\n",
    "Vinv_S_5 = np.matmul(Vh_5.T.conj(), np.diag(1/S_5))\n",
    "Vinv_S_6 = np.matmul(Vh_6.T.conj(), np.diag(1/S_6))"
   ]
  },
  {
   "cell_type": "markdown",
   "id": "599515fe-7356-4736-b77b-9b99c4ef7a4f",
   "metadata": {},
   "source": [
    "Explicit form of predicted eigenvectors for n=5:\n",
    "\n",
    "| $h_i$ | j | eigenvector                                      |\r\n",
    "|-------|---|--------------------------------------------------|\r\n",
    "| $h_1$ | 0 | (1,1,1,1,1)                                      |\r\n",
    "| $h_2$ | 1 | (1,$\\omega$, $\\omega^2$, $\\omega^3$, $\\omega^4$) |\r\n",
    "| $h_3$ | 4 | (1,$\\omega^4$, $\\omega^3$, $\\omega^2$, $\\omega$) |\r\n",
    "| $h_4$ | 2 | (1,$\\omega^2$, $\\omega^4$, $\\omega$, $\\omega^3$) |\r\n",
    "| $h_5$ | 3 | (1,$\\omega^3$, $\\omega$, $\\omega^4$, $\\omega^2$) |ga$) |ega$ |"
   ]
  },
  {
   "cell_type": "markdown",
   "id": "e8786d1e-2cb6-4c6a-a4d8-755b537fcfd5",
   "metadata": {},
   "source": [
    "Note: Some SVD results may differ by a minus sign - this is arbitrary and can be ignored, so a minus sign is hardcoded in to ensure consistency."
   ]
  },
  {
   "cell_type": "code",
   "execution_count": null,
   "id": "1c7e1daa-97dd-4420-8248-fe91fd64fe82",
   "metadata": {},
   "outputs": [],
   "source": [
    "flip_sign = np.array([-1,-1,-1,1,-1])\n",
    "for i in range(5):\n",
    "    for j in range(5):\n",
    "        plt.scatter(np.imag(flip_sign[i]*Vinv_S_5.T[i][j]), np.real(flip_sign[i]*Vinv_S_5.T[i][j]), label=str(j))\n",
    "    plt.axvline(0, ls='dashed', c='k', zorder=-1, alpha=0.7)\n",
    "    plt.axhline(0, ls='dashed', c='k', zorder=-1, alpha=0.7)\n",
    "    plt.legend()\n",
    "    plt.xlabel('Real part')\n",
    "    plt.ylabel('Imaginary part')\n",
    "    plt.title(f'h{i+1}-like')\n",
    "    plt.show()"
   ]
  },
  {
   "cell_type": "markdown",
   "id": "f661ce50-a4b9-4ceb-a1bf-f6457f7794a5",
   "metadata": {},
   "source": [
    "This matches predictions exactly! Let's make similar plots for SVD6 now, keeping the same prediction:\n",
    "\n",
    "| $h_i$ | j | eigenvector                                                  |\r\n",
    "|-------|---|--------------------------------------------------------------|\r\n",
    "| $h_1$ | 0 | (1,1,1,1,1)                                                  |\r\n",
    "| $h_2$ | 1 | (1,$\\omega$, $\\omega^2$, $\\omega^3$, $\\omega^4$, $\\omega^5$) |\r\n",
    "| $h_3$ | 5 | (1,$\\omega^5$, $\\omega^4$, $\\omega^3$, $\\omega^2$, $\\omega$) |\r\n",
    "| $h_4$ | 2 | (1,$\\omega^2$, $\\omega^4$, 1, $\\omega^2$, $\\omega^4$)        |\r\n",
    "| $h_5$ | 4 | (1,$\\omega^4$, $\\omega^2$, 1, $\\omega^4$, $\\omega^2$)        |\r\n",
    "| $h_6$ | 3 | (1,$\\omega^3$, 1, $\\omega^3$, 1, $\\omega^3$)                 |"
   ]
  },
  {
   "cell_type": "markdown",
   "id": "92ba57a3-1a45-4ecd-a57c-15ec56b47b6e",
   "metadata": {},
   "source": [
    "Note that $\\omega^3$ here is equal to -1."
   ]
  },
  {
   "cell_type": "code",
   "execution_count": null,
   "id": "15da2fba-399f-40d7-9a50-54cc811e7cff",
   "metadata": {},
   "outputs": [],
   "source": [
    "flip_sign = np.array([-1,-1,1,1,1,-1])\n",
    "for i in range(6):\n",
    "    for j in range(6):\n",
    "        plt.scatter(np.imag(flip_sign[i]*Vinv_S_6.T[i][j]), np.real(flip_sign[i]*Vinv_S_6.T[i][j]), label=str(j))\n",
    "    plt.axvline(0, ls='dashed', c='k', zorder=-1, alpha=0.7)\n",
    "    plt.axhline(0, ls='dashed', c='k', zorder=-1, alpha=0.7)\n",
    "    plt.legend()\n",
    "    plt.xlabel('Real part')\n",
    "    plt.ylabel('Imaginary part')\n",
    "    plt.title(f'h{i+1}-like')\n",
    "    plt.show()"
   ]
  },
  {
   "cell_type": "markdown",
   "id": "b56257ab-4f39-4e60-99ae-3f3685e078c4",
   "metadata": {},
   "source": [
    "Appears SVD has failed to recover these eigenvectors for h5 and h6, which is perhaps not too surprising as the information content of these waveforms is extremely low, and this is also where the SVD100 starts to break down. The pattern is confirmed here however up to h4, so I am pretty confident in saying this is now well understood."
   ]
  },
  {
   "cell_type": "markdown",
   "id": "acd1f1cf-6c71-44b0-902c-5e4f7e545515",
   "metadata": {},
   "source": [
    "# Varying phase"
   ]
  },
  {
   "cell_type": "markdown",
   "id": "885c044a-432b-4567-9770-96a90e6f5c78",
   "metadata": {},
   "source": [
    "Will create 200 training waveforms at 20 different true anomalies, and 10 different phases."
   ]
  },
  {
   "cell_type": "code",
   "execution_count": null,
   "id": "95142511-9138-4df5-b504-ad0f61df9c46",
   "metadata": {
    "editable": true,
    "slideshow": {
     "slide_type": ""
    },
    "tags": []
   },
   "outputs": [],
   "source": [
    "# Generates n training waveforms equally spaced in true anomaly\n",
    "def gen_training_wfs_phase(f_low, e, M, q, n, m, sample_rate, approximant):\n",
    "\n",
    "    # Generate shifted frequency, eccentricity, phase values\n",
    "    max_s_f = shifted_f(f_low, e, M, q)\n",
    "    s_f_vals = np.linspace(f_low, max_s_f, n, endpoint=False)\n",
    "    s_e_vals = shifted_e(s_f_vals, f_low, e)\n",
    "\n",
    "    training_wfs = []\n",
    "    # Generate all training waveforms\n",
    "    for i, (s_f, s_e) in enumerate(zip(s_f_vals, s_e_vals)):\n",
    "\n",
    "        # Create waveform\n",
    "        h = gen_wf(s_f, s_e, M, q, sample_rate, approximant, phase=0)\n",
    "\n",
    "        # Trim waveform to same size as first (shortest), and corrects phase\n",
    "        if i > 0:\n",
    "            h = trim_wf(h, training_wfs[0])\n",
    "            overlap = overlap_cplx_wfs(h, training_wfs[0], f_low)\n",
    "            phase_angle = +np.angle(overlap)/2\n",
    "            for j in range(m):\n",
    "                h = gen_wf(s_f, s_e, M, q, sample_rate, approximant, phase=phase_angle+j*np.pi/m)\n",
    "                h = trim_wf(h, training_wfs[0])\n",
    "                h.resize(ceiltwo(len(h)))   \n",
    "                training_wfs.append(h)\n",
    "                print(f'\\r{len(training_wfs)} done out of {n*m}.', end='') \n",
    "        else:\n",
    "            h.resize(ceiltwo(len(h)))   \n",
    "            training_wfs.append(h)\n",
    "            print(f'\\r{len(training_wfs)} done out of {n*m}.', end='')\n",
    "            for j in range(1,m):\n",
    "                h = gen_wf(s_f, s_e, M, q, sample_rate, approximant, phase=j*np.pi/m)\n",
    "                h = trim_wf(h, training_wfs[0])\n",
    "                h.resize(ceiltwo(len(h)))   \n",
    "                training_wfs.append(h)\n",
    "                print(f'\\r{len(training_wfs)} done out of {n*m}.', end='')\n",
    "                \n",
    "    return training_wfs"
   ]
  },
  {
   "cell_type": "code",
   "execution_count": null,
   "id": "c76cac6e-974d-4d7f-b419-9383c548c368",
   "metadata": {},
   "outputs": [],
   "source": [
    "training_wfs_phase = gen_training_wfs_phase(10, 0.1, chirp2total(24, 2), 2, 20, 10, 4096, 'TEOBResumS')"
   ]
  },
  {
   "cell_type": "code",
   "execution_count": null,
   "id": "854bcea9-a302-4902-8a24-33ad8e178e2d",
   "metadata": {},
   "outputs": [],
   "source": [
    "for wf in training_wfs_phase[:10]:\n",
    "    plt.plot(wf.sample_times, wf)\n",
    "plt.xlim(-6.6,-5.6)\n",
    "plt.ylim(-1.5e-19,1.5e-19)\n",
    "plt.show()\n",
    "\n",
    "for wf in training_wfs_phase[::10]:\n",
    "    plt.plot(wf.sample_times, np.sqrt(wf.real()**2+wf.imag()**2))\n",
    "    plt.plot(wf.sample_times, -np.sqrt(wf.real()**2+wf.imag()**2))\n",
    "plt.xlim(-6.6,-5.6)\n",
    "plt.ylim(-1.5e-19,1.5e-19)\n",
    "plt.show()"
   ]
  },
  {
   "cell_type": "code",
   "execution_count": null,
   "id": "5b0b7c54-0d0d-4d5c-89a0-8e892c037519",
   "metadata": {},
   "outputs": [],
   "source": [
    "# Convert training wf data to np array in right shape/form and calc svd\n",
    "start = time.time()\n",
    "X = np.array(training_wfs_phase).T\n",
    "means = X.mean(axis=0) \n",
    "stds = X.std(axis=0) \n",
    "U_p, S_p, Vh_p = np.linalg.svd((X-means)/stds)\n",
    "end = time.time()\n",
    "print(f'Time taken: {end-start} seconds')"
   ]
  },
  {
   "cell_type": "markdown",
   "id": "b6b5096d-30d8-4aee-93e7-6684e69e3794",
   "metadata": {},
   "source": [
    "Now let's take a look at relative importances:"
   ]
  },
  {
   "cell_type": "code",
   "execution_count": null,
   "id": "4c747c34-9396-4227-b1c0-009cfe7d02ea",
   "metadata": {},
   "outputs": [],
   "source": [
    "rel_imports = []\n",
    "for i in range(10):\n",
    "    rel_imports.append(S_p[i]**2/np.sum(S_p**2))\n",
    "    print('Component {} contains {:.5f}% of the total information.'.format(i, rel_imports[i]*100))\n",
    "\n",
    "print('\\n')\n",
    "print('Components 0 and 1 combined contain {:.5f}% of the total information.'.format((rel_imports[0]+rel_imports[1])*100))"
   ]
  },
  {
   "cell_type": "markdown",
   "id": "09d93995-6f14-4db0-87ca-69814e25de98",
   "metadata": {},
   "source": [
    "We find almost exactly the same amount of informations in each component. We can therefore conclude that we can gain no additional information by using waveforms at differing phases."
   ]
  },
  {
   "cell_type": "code",
   "execution_count": null,
   "id": "1f1c97b8-6b6a-451c-a721-b0dd60ff9467",
   "metadata": {},
   "outputs": [],
   "source": [
    "# Inverse of Vh (i.e. hermitian matrix)\n",
    "V_p = Vh_p.T.conj()\n",
    "\n",
    "# Inverse of S\n",
    "inv_S_p = 1/S_p\n",
    "\n",
    "# Multiply together\n",
    "Vinv_S_p = np.matmul(V_p, np.diag(inv_S_p))"
   ]
  },
  {
   "cell_type": "code",
   "execution_count": null,
   "id": "2bd8a832-1bdf-4744-a229-cc62b30d2165",
   "metadata": {},
   "outputs": [],
   "source": [
    "a = np.matmul(np.array(training_wfs_phase).T, Vinv_S_p.T[0])\n",
    "b = np.matmul(np.array(training_wfs_phase).T, Vinv_S_p.T[1])\n",
    "plt.plot(np.arange(len(a)), a)\n",
    "plt.plot(np.arange(len(a)), np.sqrt(np.real(a)**2+np.imag(a)**2))\n",
    "plt.plot(np.arange(len(a)), -np.sqrt(np.real(a)**2+np.imag(a)**2))\n",
    "plt.plot(np.arange(len(b)), b)\n",
    "plt.plot(np.arange(len(b)), np.sqrt(np.real(b)**2+np.imag(b)**2))\n",
    "plt.plot(np.arange(len(b)), -np.sqrt(np.real(b)**2+np.imag(b)**2))\n",
    "plt.xlim(0,5000)"
   ]
  },
  {
   "cell_type": "code",
   "execution_count": null,
   "id": "d9740283-70ca-482d-b382-b91c2a45b798",
   "metadata": {},
   "outputs": [],
   "source": []
  }
 ],
 "metadata": {
  "kernelspec": {
   "display_name": "teobresums_eccentric",
   "language": "python",
   "name": "teobresums_eccentric"
  },
  "language_info": {
   "codemirror_mode": {
    "name": "ipython",
    "version": 3
   },
   "file_extension": ".py",
   "mimetype": "text/x-python",
   "name": "python",
   "nbconvert_exporter": "python",
   "pygments_lexer": "ipython3",
   "version": "3.10.12"
  }
 },
 "nbformat": 4,
 "nbformat_minor": 5
}
