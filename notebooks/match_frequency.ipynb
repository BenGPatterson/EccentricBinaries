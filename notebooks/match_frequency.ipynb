{
 "cells": [
  {
   "cell_type": "code",
   "execution_count": 1,
   "id": "abbd6cf3-485a-4349-9ee3-84ae40d366ca",
   "metadata": {},
   "outputs": [
    {
     "name": "stderr",
     "output_type": "stream",
     "text": [
      "/home/ben.patterson/.conda/envs/igwn_eccentric/lib/python3.10/site-packages/pycbc/types/array.py:36: UserWarning: Wswiglal-redir-stdio:\n",
      "\n",
      "SWIGLAL standard output/error redirection is enabled in IPython.\n",
      "This may lead to performance penalties. To disable locally, use:\n",
      "\n",
      "with lal.no_swig_redirect_standard_output_error():\n",
      "    ...\n",
      "\n",
      "To disable globally, use:\n",
      "\n",
      "lal.swig_redirect_standard_output_error(False)\n",
      "\n",
      "Note however that this will likely lead to error messages from\n",
      "LAL functions being either misdirected or lost when called from\n",
      "Jupyter notebooks.\n",
      "\n",
      "To suppress this warning, use:\n",
      "\n",
      "import warnings\n",
      "warnings.filterwarnings(\"ignore\", \"Wswiglal-redir-stdio\")\n",
      "import lal\n",
      "\n",
      "  import lal as _lal\n"
     ]
    },
    {
     "name": "stdout",
     "output_type": "stream",
     "text": [
      "lal.MSUN_SI != Msun\n",
      "__name__ = gwsurrogate.new.spline_evaluation\n",
      "__package__= gwsurrogate.new\n"
     ]
    }
   ],
   "source": [
    "import numpy as np\n",
    "import matplotlib.pyplot as plt\n",
    "from pycbc.filter.matchedfilter import sigma\n",
    "from calcwf import *"
   ]
  },
  {
   "cell_type": "markdown",
   "id": "e3570228-b0df-4e31-93e3-910e3c7d7488",
   "metadata": {},
   "source": [
    "So far we have been using a lower frequency in all match functions of f_low+3, so virtually always 13 Hz. The problem is that generating harmonics at 10Hz causes h1 to start at (just under) 15 Hz, and h2 at (just under) 20 Hz. This is therefore not quite correct. In reality current detectors struggle to see anything below 20 Hz and so our current psd of aLIGOZeroDetHighPower is somewhat optimistic in this regard. Nevertheless we will calculate the power loss with this psd of increasing the lower frequency cutoff from 13 to 20 Hz."
   ]
  },
  {
   "cell_type": "markdown",
   "id": "6433369c-4e7c-4443-b123-1550abeade04",
   "metadata": {},
   "source": [
    "We will assume effect when calculating harmonics themselves to be negligible and continue using 13Hz there for now until/if we change it globally."
   ]
  },
  {
   "cell_type": "code",
   "execution_count": 2,
   "id": "596d92bf-816d-4e63-a97f-fd21057a113f",
   "metadata": {},
   "outputs": [
    {
     "name": "stdout",
     "output_type": "stream",
     "text": [
      "1.14% loss in power\n",
      "3.94% loss in power\n",
      "2.21% loss in power\n",
      "1.71% loss in power\n"
     ]
    }
   ],
   "source": [
    "_, h0, h1, hn1, h2, _, _, _, _ = get_h([1,1,1,1], 10, 0.3, chirp2total(24,2), 2, 4096)\n",
    "psd = gen_psd(h0, 10)\n",
    "for harm in [h0, h1, hn1, h2]:\n",
    "    harm_f = harm.real().to_frequencyseries()\n",
    "    remaining_power = sigma(harm_f, psd, low_frequency_cutoff=20, high_frequency_cutoff=psd.sample_frequencies[-1])\n",
    "    total_power = sigma(harm_f, psd, low_frequency_cutoff=13, high_frequency_cutoff=psd.sample_frequencies[-1])\n",
    "    print(f'{(total_power-remaining_power)*100/total_power:.2f}% loss in power')"
   ]
  },
  {
   "cell_type": "markdown",
   "id": "34b1208d-cd5c-455f-8e65-5ae458e5195e",
   "metadata": {},
   "source": [
    "No matter the choice of eccentricity or chirp mass (or mass ratio), there is never more than about a 5% power loss in any harmonic, and usually less than this. This seems acceptable, and will again be more realistic anyway with regards to how far low in frequency we can actually see."
   ]
  },
  {
   "cell_type": "markdown",
   "id": "7177f1b3-3323-4601-8a50-04eeaac5116c",
   "metadata": {},
   "source": [
    "Now changed globally. By default get_h() etc. will use 20Hz however can also override in (almost) all relevant functions with f_match parameter."
   ]
  },
  {
   "cell_type": "code",
   "execution_count": null,
   "id": "abb52126-39b0-4e2b-af62-5a763f1c4250",
   "metadata": {},
   "outputs": [],
   "source": []
  }
 ],
 "metadata": {
  "kernelspec": {
   "display_name": "igwn_eccentric",
   "language": "python",
   "name": "igwn_eccentric"
  },
  "language_info": {
   "codemirror_mode": {
    "name": "ipython",
    "version": 3
   },
   "file_extension": ".py",
   "mimetype": "text/x-python",
   "name": "python",
   "nbconvert_exporter": "python",
   "pygments_lexer": "ipython3",
   "version": "3.10.14"
  }
 },
 "nbformat": 4,
 "nbformat_minor": 5
}
