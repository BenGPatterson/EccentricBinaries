{
 "cells": [
  {
   "cell_type": "code",
   "execution_count": 54,
   "id": "92d399b3-a090-4c94-a8e9-3cfd4376b16f",
   "metadata": {},
   "outputs": [],
   "source": [
    "import time\n",
    "import numpy as np\n",
    "import matplotlib.pyplot as plt\n",
    "from scipy.optimize import minimize\n",
    "from pycbc.filter import sigmasq\n",
    "from pycbc.psd import aLIGOZeroDetHighPower\n",
    "from simple_pe.waveforms import make_waveform, shifted_e\n",
    "\n",
    "import logging\n",
    "_logger = logging.getLogger('PESummary')\n",
    "_logger.setLevel(logging.CRITICAL + 10)\n",
    "import matplotlib as mpl\n",
    "mpl.rcParams.update(mpl.rcParamsDefault)"
   ]
  },
  {
   "cell_type": "code",
   "execution_count": 68,
   "id": "a1f675db-8b57-4c60-972d-2021a723726e",
   "metadata": {},
   "outputs": [],
   "source": [
    "def chirp_degeneracy_line(zero_ecc_chirp, other_params, ecc, sample_rate, f_low, psd, approximant):\n",
    "    \n",
    "    # Generate waveform at non-eccentric point to use in sigmasq\n",
    "    if 'ecc10' in other_params:\n",
    "        assert other_params['ecc10'] == 0\n",
    "    else:\n",
    "        other_params['ecc10'] = 0\n",
    "    other_params['chirp_mass'] = zero_ecc_chirp\n",
    "    h = make_waveform(other_params, psd.delta_f, f_low, len(psd), approximant=approximant)\n",
    "\n",
    "    # Handle array of eccentricities as input\n",
    "    array = False\n",
    "    if len(np.shape(ecc)) > 0:\n",
    "        array = True\n",
    "    ecc = np.array(ecc).flatten()\n",
    "\n",
    "    ssfs = np.zeros(len(ecc))\n",
    "    ssffs = np.zeros(len(ecc))\n",
    "    sskfs = np.zeros(len(ecc))\n",
    "    sskffs = np.zeros(len(ecc))\n",
    "    # Loop over each eccentricity\n",
    "    for i, e in enumerate(ecc):\n",
    "        \n",
    "        # Calculate eccentricities and k values\n",
    "        s_es = shifted_e(h.sample_frequencies, f_low, e)\n",
    "        ks_sqrt = np.sqrt(2355*s_es**2/1462)\n",
    "    \n",
    "        # Calculate and normalise integrals\n",
    "        ss = sigmasq(h, psd=psd, low_frequency_cutoff=f_low)\n",
    "        ssf = sigmasq(h*h.sample_frequencies**(-5/6), psd=psd, low_frequency_cutoff=f_low)\n",
    "        ssff = sigmasq(h*h.sample_frequencies**(-5/3), psd=psd, low_frequency_cutoff=f_low)\n",
    "        sskf = -sigmasq(h*ks_sqrt*h.sample_frequencies**(-5/6), psd=psd, low_frequency_cutoff=f_low)\n",
    "        sskff = -sigmasq(h*ks_sqrt*h.sample_frequencies**(-5/3), psd=psd, low_frequency_cutoff=f_low)\n",
    "        ssfs[i], ssffs[i], sskfs[i], sskffs[i] = np.array([ssf, ssff, sskf, sskff])/ss\n",
    "\n",
    "    # Calculate chirp mass\n",
    "    delta_m = - (sskffs - ssfs*sskfs)/(ssffs - ssfs**2)\n",
    "    chirp = zero_ecc_chirp*(1+delta_m)**(-3/5)\n",
    "\n",
    "    # If array not passed then turn back into float\n",
    "    if not array:\n",
    "        chirp = chirp[0]\n",
    "    return chirp    "
   ]
  },
  {
   "cell_type": "code",
   "execution_count": 80,
   "id": "76203b56-b553-4fb9-8707-c7d7de5094ed",
   "metadata": {},
   "outputs": [],
   "source": [
    "def find_zero_ecc_chirp(params, sample_rate, f_low, psd, approximant):\n",
    "\n",
    "    init_guess = params['chirp_mass']\n",
    "    zero_ecc_params = params.copy()\n",
    "    ecc = shifted_e(f_low, 10, zero_ecc_params.pop('ecc10'))\n",
    "    ecc_chirp = zero_ecc_params.pop('chirp_mass')\n",
    "    min_func = lambda x: abs(chirp_degeneracy_line(x, zero_ecc_params, ecc, sample_rate, f_low, psd, approximant) - ecc_chirp)\n",
    "    result = minimize(min_func, init_guess, bounds=[(0.5*init_guess, 1.5*init_guess)], method='Nelder-Mead', options={'fatol': 0.01, 'xatol': 0.01})\n",
    "    zero_ecc_params['ecc10'] = 0\n",
    "    zero_ecc_params['chirp_mass'] = result['x']\n",
    "    return zero_ecc_params"
   ]
  },
  {
   "cell_type": "markdown",
   "id": "e8b24657-3237-459e-ad96-2a1e26bd3b19",
   "metadata": {},
   "source": [
    "The equations of this degeneracy line rely upon knowledge of the chirp mass at zero eccentricity (i.e. circular chirp mass). Calculating an eccentric point based on the circular point is therefore very easy:"
   ]
  },
  {
   "cell_type": "code",
   "execution_count": 81,
   "id": "283b82ee-0820-4aa3-8486-3d639db63a3d",
   "metadata": {},
   "outputs": [
    {
     "name": "stdout",
     "output_type": "stream",
     "text": [
      "22.16087952281798\n"
     ]
    }
   ],
   "source": [
    "psd = aLIGOZeroDetHighPower((32*4096)//2 + 1, 1/32, 10)\n",
    "chirp = chirp_degeneracy_line(24, {'symmetric_mass_ratio': 2/9, 'chi_eff': 0.5}, 0.4, 4096, 10, psd, 'TEOBResumS-Dali')\n",
    "print(chirp)"
   ]
  },
  {
   "cell_type": "markdown",
   "id": "9a7f689d-38ff-44cf-82b9-1c8659c9fbe6",
   "metadata": {},
   "source": [
    "Instead we wish to do the reverse, i.e. to calculate the circular point given an eccentric point. Here we turn to `scipy.optimize.minimize` to reverse the function at the cost of increased computation time as a circular waveform must be generated for each function evaluation."
   ]
  },
  {
   "cell_type": "code",
   "execution_count": 82,
   "id": "0a64c812-8b28-4815-933f-c818ee23c336",
   "metadata": {},
   "outputs": [
    {
     "name": "stdout",
     "output_type": "stream",
     "text": [
      "{'symmetric_mass_ratio': Array([0.22222222]), 'chi_eff': Array([0.5]), 'ecc10': 0, 'chirp_mass': array([23.99607736])}\n",
      "Calculated in 11.090 seconds\n"
     ]
    }
   ],
   "source": [
    "params = {'ecc10': 0.4, 'chirp_mass': 22.16087952281798, 'symmetric_mass_ratio': 2/9, 'chi_eff': 0.5}\n",
    "start = time.time()\n",
    "zero_ecc_params = find_zero_ecc_chirp(params, 4096, 10, psd, approximant='TEOBResumS-Dali')\n",
    "print(zero_ecc_params)\n",
    "end = time.time()\n",
    "print(f'Calculated in {end-start:.3f} seconds')"
   ]
  },
  {
   "cell_type": "markdown",
   "id": "3dbe6d46-58db-4376-bb8f-9623b2c50046",
   "metadata": {},
   "source": [
    "As we are generating a circular waveform only, we could use a faster circular approximant such as `IMRPhenomXPHM`."
   ]
  },
  {
   "cell_type": "code",
   "execution_count": 84,
   "id": "ecbad0ac-37ac-4cab-9854-4ccbaebe574b",
   "metadata": {},
   "outputs": [
    {
     "name": "stdout",
     "output_type": "stream",
     "text": [
      "{'symmetric_mass_ratio': Array([0.22222222]), 'chi_eff': Array([0.5]), 'ecc10': 0, 'chirp_mass': array([24.02204714])}\n",
      "Calculated in 3.302 seconds\n"
     ]
    }
   ],
   "source": [
    "params = {'ecc10': 0.4, 'chirp_mass': 22.16087952281798, 'symmetric_mass_ratio': 2/9, 'chi_eff': 0.5}\n",
    "start = time.time()\n",
    "zero_ecc_params = find_zero_ecc_chirp(params, 4096, 10, psd, approximant='IMRPhenomXPHM')\n",
    "print(zero_ecc_params)\n",
    "end = time.time()\n",
    "print(f'Calculated in {end-start:.3f} seconds')"
   ]
  },
  {
   "cell_type": "markdown",
   "id": "03f2230d-96d3-4381-9d9c-19861ba1a691",
   "metadata": {},
   "source": []
  }
 ],
 "metadata": {
  "kernelspec": {
   "display_name": "igwn_eccentric_new",
   "language": "python",
   "name": "igwn_eccentric_new"
  },
  "language_info": {
   "codemirror_mode": {
    "name": "ipython",
    "version": 3
   },
   "file_extension": ".py",
   "mimetype": "text/x-python",
   "name": "python",
   "nbconvert_exporter": "python",
   "pygments_lexer": "ipython3",
   "version": "3.10.18"
  }
 },
 "nbformat": 4,
 "nbformat_minor": 5
}
