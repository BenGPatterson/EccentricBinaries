{
 "cells": [
  {
   "cell_type": "code",
   "execution_count": null,
   "id": "edb37f32-a436-4a03-9321-6d7695bf488b",
   "metadata": {},
   "outputs": [],
   "source": [
    "import numpy as np\n",
    "import matplotlib.pyplot as plt\n",
    "import time\n",
    "import pickle\n",
    "import os\n",
    "from pycbc.types import timeseries\n",
    "from calcwf import gen_wf, chirp2total, total2chirp, match_h1_h2, match_hn, get_h, match_s_f_max, match_true_anomaly"
   ]
  },
  {
   "cell_type": "code",
   "execution_count": null,
   "id": "fc7d4838-adf6-46b3-bdb4-61373fef83e3",
   "metadata": {},
   "outputs": [],
   "source": [
    "sample_rate = 4096"
   ]
  },
  {
   "cell_type": "markdown",
   "id": "28759027-44bb-4d53-95ca-eb0bc4b82e00",
   "metadata": {},
   "source": [
    "# Plot functions"
   ]
  },
  {
   "cell_type": "code",
   "execution_count": null,
   "id": "c6f3afd0-2b5f-41de-a0ff-f26d1ef2451b",
   "metadata": {},
   "outputs": [],
   "source": [
    "def chirp_match_data(e, chirp_vals, n, fiducials, f_low, approximant='TEOBResumS'):\n",
    "\n",
    "     # Setup match dict and calculate conversion from chirp to total mass\n",
    "    matches = {'diff_phase':[], 'quad':[]}\n",
    "    for i in range(n):\n",
    "            matches[f'h{i+1}'] = []\n",
    "            matches[f'h{i+1}_phase'] = []\n",
    "    q_factor = (fiducials[2]/(1+fiducials[2])**2)**(-3/5)\n",
    "\n",
    "    # Generate fiducial waveform\n",
    "    all_wfs = list(get_h([1]*n, f_low, fiducials[0], q_factor*fiducials[1], fiducials[2], sample_rate, approximant=approximant))\n",
    "    wf_hjs = all_wfs[1:n+1]\n",
    "\n",
    "    # Progress bar setup\n",
    "    progress = 0\n",
    "    gridsize = len(chirp_vals)\n",
    "    \n",
    "    # Loop over chirp mass values\n",
    "    for chirp in chirp_vals:\n",
    "        s = gen_wf(f_low, e, q_factor*chirp, fiducials[2], sample_rate, approximant=approximant)\n",
    "        match_cplx = match_hn(wf_hjs, s, f_low)\n",
    "\n",
    "        # Save matches\n",
    "        match_quad_sqrd = 0\n",
    "        for i in range(n):\n",
    "            matches[f'h{i+1}'].append(abs(match_cplx[i]))\n",
    "            matches[f'h{i+1}_phase'].append(np.angle(match_cplx[i]))\n",
    "            match_quad_sqrd += abs(match_cplx[i])**2\n",
    "        matches['diff_phase'].append(np.angle(match_cplx[0]) - np.angle(match_cplx[1]))\n",
    "        matches['quad'].append(np.sqrt(match_quad_sqrd))\n",
    "\n",
    "        # Progress bar\n",
    "        progress += 1\n",
    "        print('\\r' + f'{progress} done out of {gridsize}', end='')\n",
    "\n",
    "    return matches"
   ]
  },
  {
   "cell_type": "code",
   "execution_count": null,
   "id": "e4cc6f3e-c2cd-440c-80f4-083e0a315d7d",
   "metadata": {},
   "outputs": [],
   "source": [
    "# Plots match contours on eccentricity/chirp mass plot\n",
    "def chirp_match_plot(e, chirp_vals, n, fiducials, matches):\n",
    "\n",
    "    # Make contour plot for  each match\n",
    "    keys = [f'h{i+1}' for i in range(n)]\n",
    "    keys.append('quad')\n",
    "    for i, key in enumerate(keys):\n",
    "\n",
    "        # Plotting amplitude of matches against chirp mass\n",
    "        plt.plot(chirp_vals, matches[key])\n",
    "        plt.axvline(fiducials[1], c='k', ls='dashed', zorder=5, alpha=0.7)\n",
    "        ylim = plt.gca().get_ylim()\n",
    "        plt.axhline(1, c='k', ls='dashed', zorder=5, alpha=0.7)\n",
    "        plt.ylim(ylim)\n",
    "        plt.xlabel('$\\mathcal{M}~/~M_\\odot$')\n",
    "        plt.ylabel('match')\n",
    "        plt.title(f'{key}, q={fiducials[2]}')\n",
    "        plt.xlim(chirp_vals[0], chirp_vals[-1])\n",
    "        plt.show()\n",
    "\n",
    "    # Plot h2/h1 ratio contours\n",
    "    plt.plot(chirp_vals, np.array(matches['h2'])/np.array(matches['h1']))\n",
    "    plt.axvline(fiducials[1], c='k', ls='dashed', zorder=5, alpha=0.7)\n",
    "    ylim = plt.gca().get_ylim()\n",
    "    plt.axhline(1, c='k', ls='dashed', zorder=5, alpha=0.7)\n",
    "    plt.ylim(ylim)\n",
    "    plt.xlabel('$\\mathcal{M}~/~M_\\odot$')\n",
    "    plt.ylabel('match')\n",
    "    plt.title(f'h2/h1, q={fiducials[2]}')\n",
    "    plt.xlim(chirp_vals[0], chirp_vals[-1])\n",
    "    plt.show()"
   ]
  },
  {
   "cell_type": "code",
   "execution_count": null,
   "id": "0908ac28-d6b8-42ad-a915-e1a3f88d9d7d",
   "metadata": {},
   "outputs": [],
   "source": [
    "dataslot_0 = chirp_match_data(0.1, np.linspace(23,25,101), 2, [0.1, 24, 2], 10)"
   ]
  },
  {
   "cell_type": "code",
   "execution_count": null,
   "id": "1c9e1244-5d2b-4bfd-ac6f-319282e9038b",
   "metadata": {},
   "outputs": [],
   "source": [
    "chirp_match_plot(0.1, np.linspace(23,25,101), 2, [0.1, 24, 2], dataslot_0)"
   ]
  },
  {
   "cell_type": "code",
   "execution_count": null,
   "id": "aa6379a4-129f-471a-ba4a-f2a7163f5add",
   "metadata": {},
   "outputs": [],
   "source": []
  }
 ],
 "metadata": {
  "kernelspec": {
   "display_name": "teobresums_eccentric",
   "language": "python",
   "name": "teobresums_eccentric"
  },
  "language_info": {
   "codemirror_mode": {
    "name": "ipython",
    "version": 3
   },
   "file_extension": ".py",
   "mimetype": "text/x-python",
   "name": "python",
   "nbconvert_exporter": "python",
   "pygments_lexer": "ipython3",
   "version": "3.10.12"
  }
 },
 "nbformat": 4,
 "nbformat_minor": 5
}
